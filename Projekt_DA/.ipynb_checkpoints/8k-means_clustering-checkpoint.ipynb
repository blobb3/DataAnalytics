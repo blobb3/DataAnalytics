{
 "cells": [
  {
   "cell_type": "markdown",
   "id": "fa7cbc2e",
   "metadata": {},
   "source": [
    "# k-means Clustering"
   ]
  },
  {
   "cell_type": "markdown",
   "id": "9548d6c4",
   "metadata": {},
   "source": [
    "## Table of contents (Inhaltsverzeichnis erstellen)\n",
    "\n",
    "[1.) Simple k-means clustering example](#section_1)<br>\n",
    "[2.) Image segmentation](#section_2)<br>\n",
    "[3.) 3D point cloud segmentation](#section_3)<br>\n",
    "[4.) Finding clusters in the apartment data](#section_4)"
   ]
  },
  {
   "cell_type": "markdown",
   "id": "ae7f0b10",
   "metadata": {},
   "source": [
    "## Libraries and settings"
   ]
  },
  {
   "cell_type": "code",
   "execution_count": 22,
   "id": "3827b856",
   "metadata": {
    "scrolled": false
   },
   "outputs": [
    {
     "name": "stdout",
     "output_type": "stream",
     "text": [
      "Requirement already satisfied: opencv-python in c:\\users\\janin\\anaconda3\\lib\\site-packages (4.6.0.66)\n",
      "Requirement already satisfied: numpy>=1.19.3 in c:\\users\\janin\\anaconda3\\lib\\site-packages (from opencv-python) (1.20.3)\n",
      "Requirement already satisfied: plyfile in c:\\users\\janin\\anaconda3\\lib\\site-packages (0.7.4)\n",
      "Requirement already satisfied: numpy>=1.8 in c:\\users\\janin\\anaconda3\\lib\\site-packages (from plyfile) (1.20.3)\n",
      "Current activated conda environment: Der Befehl \"grep\" ist entweder falsch geschrieben oder\n",
      "\n",
      "Current working directory: C:\\Workspacezhaw\\data_analytics\\Projekt_DA\n"
     ]
    }
   ],
   "source": [
    "# Required:\n",
    "!pip install opencv-python\n",
    "!pip install plyfile \n",
    "\n",
    "# Libraries\n",
    "import os\n",
    "import cv2\n",
    "import string\n",
    "import numpy as np\n",
    "import pandas as pd\n",
    "import matplotlib.pyplot as plt\n",
    "from sklearn.cluster import KMeans\n",
    "from sklearn.datasets import make_blobs\n",
    "from sklearn.metrics import silhouette_score\n",
    "from sklearn.preprocessing import StandardScaler\n",
    "import os\n",
    "import scipy.stats as stats\n",
    "import statsmodels.api as sm\n",
    "import matplotlib.pyplot as plt\n",
    "from sklearn import linear_model\n",
    "from sklearn.model_selection import train_test_split\n",
    "import re\n",
    "import time\n",
    "import fnmatch\n",
    "import numpy as np\n",
    "from pandas import json_normalize\n",
    "import pandas as pd\n",
    "import requests\n",
    "import json\n",
    "import overpy\n",
    "import matplotlib.pyplot as plt\n",
    "import folium\n",
    "import seaborn as sns\n",
    "import numpy as np\n",
    "import scipy.stats as stats\n",
    "from sklearn import tree\n",
    "import matplotlib.pyplot as plt\n",
    "from sklearn.metrics import r2_score\n",
    "from sklearn.datasets import make_regression\n",
    "from sklearn.tree import DecisionTreeRegressor\n",
    "from sklearn.ensemble import RandomForestRegressor\n",
    "from sklearn.model_selection import train_test_split\n",
    "from sklearn import datasets\n",
    "from sklearn import metrics\n",
    "from sklearn.tree import DecisionTreeClassifier\n",
    "from sklearn.tree import DecisionTreeRegressor\n",
    "from sklearn.model_selection import train_test_split\n",
    "import matplotlib.pyplot as plt\n",
    "import seaborn as sns\n",
    "import numpy as np\n",
    "import pandas as pd\n",
    "import matplotlib.pyplot as plt\n",
    "from scipy.stats import chi2\n",
    "from scipy.stats import chi2_contingency\n",
    "import numpy as np\n",
    "import pandas as pd\n",
    "import seaborn as sns\n",
    "import matplotlib.pyplot as plt\n",
    "from IPython.display import Image\n",
    "from sklearn import tree\n",
    "from sklearn.metrics import RocCurveDisplay\n",
    "from sklearn.tree import DecisionTreeClassifier\n",
    "from sklearn.ensemble import RandomForestClassifier\n",
    "from sklearn.model_selection import train_test_split\n",
    "from sklearn.metrics import classification_report, confusion_matrix\n",
    "\n",
    "# Settings for seaborn\n",
    "sns.set_theme(style=\"ticks\", palette=\"pastel\")\n",
    "\n",
    "# Ignore warnings\n",
    "import warnings\n",
    "warnings.filterwarnings(\"ignore\")\n",
    "#Current activated conda environment (aktuelles Envirement, dass man implementiert hat)\n",
    "env = !conda info | grep 'active env'\n",
    "print('Current activated conda environment:', str(env[0]).strip())\n",
    "\n",
    "#Current working directory\n",
    "print('\\nCurrent working directory:', os.getcwd())"
   ]
  },
  {
   "cell_type": "markdown",
   "id": "4f48237c",
   "metadata": {},
   "source": [
    "## Finding clusters in the webscraped data\n",
    "<a id='section_4'></a>"
   ]
  },
  {
   "cell_type": "markdown",
   "id": "dc8a9f13",
   "metadata": {},
   "source": [
    "### Import the apartment data"
   ]
  },
  {
   "cell_type": "code",
   "execution_count": 5,
   "id": "0f76fa14",
   "metadata": {
    "scrolled": false
   },
   "outputs": [
    {
     "name": "stdout",
     "output_type": "stream",
     "text": [
      "number missing for column price: 35\n",
      "number missing for column size: 35\n",
      "(61, 10)\n"
     ]
    },
    {
     "data": {
      "text/html": [
       "<div>\n",
       "<style scoped>\n",
       "    .dataframe tbody tr th:only-of-type {\n",
       "        vertical-align: middle;\n",
       "    }\n",
       "\n",
       "    .dataframe tbody tr th {\n",
       "        vertical-align: top;\n",
       "    }\n",
       "\n",
       "    .dataframe thead th {\n",
       "        text-align: right;\n",
       "    }\n",
       "</style>\n",
       "<table border=\"1\" class=\"dataframe\">\n",
       "  <thead>\n",
       "    <tr style=\"text-align: right;\">\n",
       "      <th></th>\n",
       "      <th>title</th>\n",
       "      <th>price</th>\n",
       "      <th>descr_raw</th>\n",
       "      <th>brand</th>\n",
       "      <th>dimensions</th>\n",
       "      <th>colour</th>\n",
       "      <th>size</th>\n",
       "      <th>bestsellerranking</th>\n",
       "      <th>ranking</th>\n",
       "      <th>raw</th>\n",
       "    </tr>\n",
       "  </thead>\n",
       "  <tbody>\n",
       "    <tr>\n",
       "      <th>0</th>\n",
       "      <td>Lenovo IdeaPad 3 Slim Laptop | 15,6\" Full HD W...</td>\n",
       "      <td>659.0</td>\n",
       "      <td>Info zu diesem Artikel             \\n     Dies...</td>\n",
       "      <td>‎Lenovo</td>\n",
       "      <td>‎32.42 x 21.57 x 1.99 cm; 1.41 Kilogramm</td>\n",
       "      <td>‎Grau</td>\n",
       "      <td>15.0</td>\n",
       "      <td>Nr. 30,482 in Computer &amp; Zubehör (Siehe Top 10...</td>\n",
       "      <td>5,0 von 5 Sternen     \\n\\n                    ...</td>\n",
       "      <td>Auf Lager.</td>\n",
       "    </tr>\n",
       "    <tr>\n",
       "      <th>1</th>\n",
       "      <td>Microsoft Surface Laptop 5, 13,5 Zoll Laptop (...</td>\n",
       "      <td>1.0</td>\n",
       "      <td>Info zu diesem Artikel             \\n     Dies...</td>\n",
       "      <td>‎Microsoft</td>\n",
       "      <td>‎30.8 x 22.3 x 1.45 cm; 1.27 Kilogramm</td>\n",
       "      <td>‎Platin</td>\n",
       "      <td>13.0</td>\n",
       "      <td>Nr. 62,716 in Computer &amp; Zubehör (Siehe Top 10...</td>\n",
       "      <td>4,6 von 5 Sternen     \\n\\n                    ...</td>\n",
       "      <td>Auf Lager.</td>\n",
       "    </tr>\n",
       "    <tr>\n",
       "      <th>2</th>\n",
       "      <td>Lenovo IdeaPad Flex 5i Laptop 40,6 cm (16 Zoll...</td>\n",
       "      <td>1.0</td>\n",
       "      <td>Info zu diesem Artikel             \\n     Dies...</td>\n",
       "      <td>‎Lenovo</td>\n",
       "      <td>‎25.39 x 35.78 x 1.87 cm; 2.1 Kilogramm</td>\n",
       "      <td>‎Grau</td>\n",
       "      <td>16.0</td>\n",
       "      <td>Nr. 12,759 in Computer &amp; Zubehör (Siehe Top 10...</td>\n",
       "      <td>4,7 von 5 Sternen     \\n\\n                    ...</td>\n",
       "      <td>Nur noch 19 auf Lager</td>\n",
       "    </tr>\n",
       "    <tr>\n",
       "      <th>3</th>\n",
       "      <td>BIGMAC Computer Laptop Mini 10,1 Zoll 32 GB Wi...</td>\n",
       "      <td>187.0</td>\n",
       "      <td>Info zu diesem Artikel             \\n     Dies...</td>\n",
       "      <td>‎Bigmachine</td>\n",
       "      <td>‎28.5 x 19.5 x 1.95 cm; 1.2 Kilogramm</td>\n",
       "      <td>‎Schwarz</td>\n",
       "      <td>10.0</td>\n",
       "      <td>Nr. 56,381 in Computer &amp; Zubehör (Siehe Top 10...</td>\n",
       "      <td>3,5 von 5 Sternen     \\n\\n                    ...</td>\n",
       "      <td>Auf Lager.</td>\n",
       "    </tr>\n",
       "    <tr>\n",
       "      <th>4</th>\n",
       "      <td>Asus TUF A15 Gaming Laptop | 15,6\" Full-HD 144...</td>\n",
       "      <td>965.0</td>\n",
       "      <td>Info zu diesem Artikel             \\n     Dies...</td>\n",
       "      <td>‎ASUS</td>\n",
       "      <td>‎35.4 x 25.1 x 2.24 cm; 2.2 Kilogramm</td>\n",
       "      <td>‎Grau</td>\n",
       "      <td>15.0</td>\n",
       "      <td>Nr. 26,123 in Computer &amp; Zubehör (Siehe Top 10...</td>\n",
       "      <td>2,6 von 5 Sternen     \\n\\n                    ...</td>\n",
       "      <td>Auf Lager.</td>\n",
       "    </tr>\n",
       "    <tr>\n",
       "      <th>5</th>\n",
       "      <td>HP 15 - Silber - 15,6\" FHD - Core i3 1125G4 - ...</td>\n",
       "      <td>599.0</td>\n",
       "      <td>Info zu diesem Artikel             \\n     Dies...</td>\n",
       "      <td>‎HP</td>\n",
       "      <td>‎36 x 23.4 x 1.8 cm; 1.75 Kilogramm</td>\n",
       "      <td>‎Natural Silver</td>\n",
       "      <td>15.0</td>\n",
       "      <td>Nr. 129,089 in Computer &amp; Zubehör (Siehe Top 1...</td>\n",
       "      <td>5,0 von 5 Sternen     \\n\\n                    ...</td>\n",
       "      <td>Nur noch 10 auf Lager</td>\n",
       "    </tr>\n",
       "    <tr>\n",
       "      <th>7</th>\n",
       "      <td>Lenovo Yoga Slim 7 Pro Laptop | 14\" 2.8K OLED ...</td>\n",
       "      <td>1.0</td>\n",
       "      <td>Info zu diesem Artikel             \\n     Dies...</td>\n",
       "      <td>‎Lenovo</td>\n",
       "      <td>‎31.24 x 22.14 x 1.79 cm; 1.38 Kilogramm</td>\n",
       "      <td>‎Grau</td>\n",
       "      <td>17.0</td>\n",
       "      <td>Nr. 8,994 in Computer &amp; Zubehör (Siehe Top 100...</td>\n",
       "      <td>4,2 von 5 Sternen     \\n\\n                    ...</td>\n",
       "      <td>Auf Lager.</td>\n",
       "    </tr>\n",
       "    <tr>\n",
       "      <th>10</th>\n",
       "      <td>HP 17 - schwarz - 17,3\" FHD - Core i5 1135G7 -...</td>\n",
       "      <td>433.0</td>\n",
       "      <td>Info zu diesem Artikel             \\n     Dies...</td>\n",
       "      <td>‎HP</td>\n",
       "      <td>‎32.4 x 22.5 x 1.8 cm; 2.17 Kilogramm</td>\n",
       "      <td>‎64GB RAM</td>\n",
       "      <td>15.0</td>\n",
       "      <td>Nr. 48,122 in Computer &amp; Zubehör (Siehe Top 10...</td>\n",
       "      <td>4,5 von 5 Sternen     \\n\\n                    ...</td>\n",
       "      <td>Nur noch 7 auf Lager</td>\n",
       "    </tr>\n",
       "    <tr>\n",
       "      <th>13</th>\n",
       "      <td>HP Laptop 17,3 Zoll HD+ Display, Intel Celeron...</td>\n",
       "      <td>433.0</td>\n",
       "      <td>Info zu diesem Artikel             \\n     Dies...</td>\n",
       "      <td>‎HP</td>\n",
       "      <td>‎25.78 x 40.07 x 2.06 cm; 2.05 Kilogramm</td>\n",
       "      <td>‎Schwarz</td>\n",
       "      <td>15.0</td>\n",
       "      <td>Nr. 12,313 in Computer &amp; Zubehör (Siehe Top 10...</td>\n",
       "      <td>4,3 von 5 Sternen     \\n\\n                    ...</td>\n",
       "      <td>Auf Lager.</td>\n",
       "    </tr>\n",
       "    <tr>\n",
       "      <th>14</th>\n",
       "      <td>HP 15 - Silber - 15,6\" FHD - Core i3 1125G4 - ...</td>\n",
       "      <td>168.0</td>\n",
       "      <td>Info zu diesem Artikel             \\n     Dies...</td>\n",
       "      <td>‎HP</td>\n",
       "      <td>‎36 x 23.4 x 1.8 cm; 1.75 Kilogramm</td>\n",
       "      <td>‎Natural Silver</td>\n",
       "      <td>14.0</td>\n",
       "      <td>Nr. 171,894 in Computer &amp; Zubehör (Siehe Top 1...</td>\n",
       "      <td>5,0 von 5 Sternen     \\n\\n                    ...</td>\n",
       "      <td>Nur noch 10 auf Lager</td>\n",
       "    </tr>\n",
       "  </tbody>\n",
       "</table>\n",
       "</div>"
      ],
      "text/plain": [
       "                                                title  price  \\\n",
       "0   Lenovo IdeaPad 3 Slim Laptop | 15,6\" Full HD W...  659.0   \n",
       "1   Microsoft Surface Laptop 5, 13,5 Zoll Laptop (...    1.0   \n",
       "2   Lenovo IdeaPad Flex 5i Laptop 40,6 cm (16 Zoll...    1.0   \n",
       "3   BIGMAC Computer Laptop Mini 10,1 Zoll 32 GB Wi...  187.0   \n",
       "4   Asus TUF A15 Gaming Laptop | 15,6\" Full-HD 144...  965.0   \n",
       "5   HP 15 - Silber - 15,6\" FHD - Core i3 1125G4 - ...  599.0   \n",
       "7   Lenovo Yoga Slim 7 Pro Laptop | 14\" 2.8K OLED ...    1.0   \n",
       "10  HP 17 - schwarz - 17,3\" FHD - Core i5 1135G7 -...  433.0   \n",
       "13  HP Laptop 17,3 Zoll HD+ Display, Intel Celeron...  433.0   \n",
       "14  HP 15 - Silber - 15,6\" FHD - Core i3 1125G4 - ...  168.0   \n",
       "\n",
       "                                            descr_raw        brand  \\\n",
       "0   Info zu diesem Artikel             \\n     Dies...      ‎Lenovo   \n",
       "1   Info zu diesem Artikel             \\n     Dies...   ‎Microsoft   \n",
       "2   Info zu diesem Artikel             \\n     Dies...      ‎Lenovo   \n",
       "3   Info zu diesem Artikel             \\n     Dies...  ‎Bigmachine   \n",
       "4   Info zu diesem Artikel             \\n     Dies...        ‎ASUS   \n",
       "5   Info zu diesem Artikel             \\n     Dies...          ‎HP   \n",
       "7   Info zu diesem Artikel             \\n     Dies...      ‎Lenovo   \n",
       "10  Info zu diesem Artikel             \\n     Dies...          ‎HP   \n",
       "13  Info zu diesem Artikel             \\n     Dies...          ‎HP   \n",
       "14  Info zu diesem Artikel             \\n     Dies...          ‎HP   \n",
       "\n",
       "                                  dimensions           colour  size  \\\n",
       "0   ‎32.42 x 21.57 x 1.99 cm; 1.41 Kilogramm            ‎Grau  15.0   \n",
       "1     ‎30.8 x 22.3 x 1.45 cm; 1.27 Kilogramm          ‎Platin  13.0   \n",
       "2    ‎25.39 x 35.78 x 1.87 cm; 2.1 Kilogramm            ‎Grau  16.0   \n",
       "3      ‎28.5 x 19.5 x 1.95 cm; 1.2 Kilogramm         ‎Schwarz  10.0   \n",
       "4      ‎35.4 x 25.1 x 2.24 cm; 2.2 Kilogramm            ‎Grau  15.0   \n",
       "5        ‎36 x 23.4 x 1.8 cm; 1.75 Kilogramm  ‎Natural Silver  15.0   \n",
       "7   ‎31.24 x 22.14 x 1.79 cm; 1.38 Kilogramm            ‎Grau  17.0   \n",
       "10     ‎32.4 x 22.5 x 1.8 cm; 2.17 Kilogramm        ‎64GB RAM  15.0   \n",
       "13  ‎25.78 x 40.07 x 2.06 cm; 2.05 Kilogramm         ‎Schwarz  15.0   \n",
       "14       ‎36 x 23.4 x 1.8 cm; 1.75 Kilogramm  ‎Natural Silver  14.0   \n",
       "\n",
       "                                    bestsellerranking  \\\n",
       "0   Nr. 30,482 in Computer & Zubehör (Siehe Top 10...   \n",
       "1   Nr. 62,716 in Computer & Zubehör (Siehe Top 10...   \n",
       "2   Nr. 12,759 in Computer & Zubehör (Siehe Top 10...   \n",
       "3   Nr. 56,381 in Computer & Zubehör (Siehe Top 10...   \n",
       "4   Nr. 26,123 in Computer & Zubehör (Siehe Top 10...   \n",
       "5   Nr. 129,089 in Computer & Zubehör (Siehe Top 1...   \n",
       "7   Nr. 8,994 in Computer & Zubehör (Siehe Top 100...   \n",
       "10  Nr. 48,122 in Computer & Zubehör (Siehe Top 10...   \n",
       "13  Nr. 12,313 in Computer & Zubehör (Siehe Top 10...   \n",
       "14  Nr. 171,894 in Computer & Zubehör (Siehe Top 1...   \n",
       "\n",
       "                                              ranking                    raw  \n",
       "0   5,0 von 5 Sternen     \\n\\n                    ...             Auf Lager.  \n",
       "1   4,6 von 5 Sternen     \\n\\n                    ...             Auf Lager.  \n",
       "2   4,7 von 5 Sternen     \\n\\n                    ...  Nur noch 19 auf Lager  \n",
       "3   3,5 von 5 Sternen     \\n\\n                    ...             Auf Lager.  \n",
       "4   2,6 von 5 Sternen     \\n\\n                    ...             Auf Lager.  \n",
       "5   5,0 von 5 Sternen     \\n\\n                    ...  Nur noch 10 auf Lager  \n",
       "7   4,2 von 5 Sternen     \\n\\n                    ...             Auf Lager.  \n",
       "10  4,5 von 5 Sternen     \\n\\n                    ...   Nur noch 7 auf Lager  \n",
       "13  4,3 von 5 Sternen     \\n\\n                    ...             Auf Lager.  \n",
       "14  5,0 von 5 Sternen     \\n\\n                    ...  Nur noch 10 auf Lager  "
      ]
     },
     "execution_count": 5,
     "metadata": {},
     "output_type": "execute_result"
    }
   ],
   "source": [
    "# Define columns for import\n",
    "# Alle daten der vergangenen Übungen sind jetzt in diesem Datensatz vereint und angewendet\n",
    "columns = ['title_raw',\n",
    "           'price_raw',\n",
    "           'descr_raw',\n",
    "           'brand_raw',\n",
    "           'dimensions_raw',\n",
    "           'colour_raw',\n",
    "           'dissize_raw',\n",
    "           'bestsellerranking_raw',\n",
    "           'ranking_raw',\n",
    "           'instock_raw']\n",
    "\n",
    "# Read and select variables\n",
    "df_orig = pd.read_csv(\"amazon_laptopslist_prepared.csv\", sep=\",\", encoding='utf-8')[columns]\n",
    "\n",
    "# Rename variables\n",
    "df_orig = df_orig.rename(columns={'title_raw': 'title'})\n",
    "df_orig = df_orig.rename(columns={'brand_raw': 'brand'})\n",
    "df_orig = df_orig.rename(columns={'ranking_raw': 'ranking'})\n",
    "df_orig = df_orig.rename(columns={'dissize_raw': 'size'})\n",
    "df_orig = df_orig.rename(columns={'dimensions_raw': 'dimensions'})\n",
    "df_orig = df_orig.rename(columns={'price_raw': 'price'})\n",
    "df_orig = df_orig.rename(columns={'colour_raw': 'colour'})\n",
    "df_orig = df_orig.rename(columns={'bestsellerranking_raw': 'bestsellerranking'})\n",
    "df_orig = df_orig.rename(columns={'instock_raw': 'raw'})\n",
    "\n",
    "# Remove missing values\n",
    "df = df_orig.dropna()\n",
    "df.head(5)\n",
    "\n",
    "# Remove duplicates\n",
    "df = df.drop_duplicates()\n",
    "\n",
    "\n",
    "# change object \"price\" in numeric values \n",
    "price = []\n",
    "for x in df['price']:\n",
    "    d1 = re.findall('[0-9]+', str(x))\n",
    "    try:\n",
    "        d2 = d1[0].strip()\n",
    "    except:\n",
    "        d2 = None\n",
    "    price.append(d2)\n",
    "df['price'] = pd.Series(price, dtype=\"float\")\n",
    "\n",
    "# change object \"size\" in numeric value\n",
    "size = []\n",
    "for x in df['size']:\n",
    "    d1 = re.findall('[0-9]+', str(x))\n",
    "    try:\n",
    "        d2 = d1[0].strip()\n",
    "    except:\n",
    "        d2 = None\n",
    "    size.append(d2)\n",
    "df['size'] = pd.Series(size, dtype=\"float\")\n",
    "\n",
    "#leere zeilen entfernen\n",
    "df.dropna(how='all', axis=1).shape\n",
    "\n",
    "\n",
    "#leere zeilen entfernen\n",
    "df.dropna(how='all', axis=1).shape\n",
    "\n",
    "#spalten finden, in denen alle Daten vorhanden sind\n",
    "complete_columns = list(df.columns)\n",
    "complete_columns\n",
    "\n",
    "# Spalten mit fehlenden Daten finden\n",
    "incomplete_columns = list(df.columns[df.isnull().any()])\n",
    "\n",
    "# Anzahl fehlende Werte ausgeben \n",
    "for col in incomplete_columns:\n",
    "    num_missing = df[df[col].isnull() == True].shape[0]\n",
    "    print('number missing for column {}: {}'.format(col,\n",
    "                                                    num_missing))\n",
    "\n",
    "# fehlende Werte durch 0 ersetzen\n",
    "df.value_counts()\n",
    "df = df.fillna(0)\n",
    "\n",
    "print(df.shape) # ausgefilterte Daten anzeigen lassen\n",
    "df.head(10)"
   ]
  },
  {
   "cell_type": "markdown",
   "id": "a77bfb8b",
   "metadata": {},
   "source": [
    "### Subset of the apartment data frame for k-means clustering"
   ]
  },
  {
   "cell_type": "code",
   "execution_count": 11,
   "id": "e7824168",
   "metadata": {
    "scrolled": false
   },
   "outputs": [
    {
     "data": {
      "text/html": [
       "<div>\n",
       "<style scoped>\n",
       "    .dataframe tbody tr th:only-of-type {\n",
       "        vertical-align: middle;\n",
       "    }\n",
       "\n",
       "    .dataframe tbody tr th {\n",
       "        vertical-align: top;\n",
       "    }\n",
       "\n",
       "    .dataframe thead th {\n",
       "        text-align: right;\n",
       "    }\n",
       "</style>\n",
       "<table border=\"1\" class=\"dataframe\">\n",
       "  <thead>\n",
       "    <tr style=\"text-align: right;\">\n",
       "      <th></th>\n",
       "      <th>size</th>\n",
       "      <th>price</th>\n",
       "    </tr>\n",
       "  </thead>\n",
       "  <tbody>\n",
       "    <tr>\n",
       "      <th>0</th>\n",
       "      <td>15.0</td>\n",
       "      <td>659.0</td>\n",
       "    </tr>\n",
       "    <tr>\n",
       "      <th>1</th>\n",
       "      <td>13.0</td>\n",
       "      <td>1.0</td>\n",
       "    </tr>\n",
       "    <tr>\n",
       "      <th>2</th>\n",
       "      <td>16.0</td>\n",
       "      <td>1.0</td>\n",
       "    </tr>\n",
       "    <tr>\n",
       "      <th>3</th>\n",
       "      <td>10.0</td>\n",
       "      <td>187.0</td>\n",
       "    </tr>\n",
       "    <tr>\n",
       "      <th>4</th>\n",
       "      <td>15.0</td>\n",
       "      <td>965.0</td>\n",
       "    </tr>\n",
       "    <tr>\n",
       "      <th>...</th>\n",
       "      <td>...</td>\n",
       "      <td>...</td>\n",
       "    </tr>\n",
       "    <tr>\n",
       "      <th>115</th>\n",
       "      <td>0.0</td>\n",
       "      <td>0.0</td>\n",
       "    </tr>\n",
       "    <tr>\n",
       "      <th>116</th>\n",
       "      <td>0.0</td>\n",
       "      <td>0.0</td>\n",
       "    </tr>\n",
       "    <tr>\n",
       "      <th>117</th>\n",
       "      <td>0.0</td>\n",
       "      <td>0.0</td>\n",
       "    </tr>\n",
       "    <tr>\n",
       "      <th>118</th>\n",
       "      <td>0.0</td>\n",
       "      <td>0.0</td>\n",
       "    </tr>\n",
       "    <tr>\n",
       "      <th>119</th>\n",
       "      <td>0.0</td>\n",
       "      <td>0.0</td>\n",
       "    </tr>\n",
       "  </tbody>\n",
       "</table>\n",
       "<p>61 rows × 2 columns</p>\n",
       "</div>"
      ],
      "text/plain": [
       "     size  price\n",
       "0    15.0  659.0\n",
       "1    13.0    1.0\n",
       "2    16.0    1.0\n",
       "3    10.0  187.0\n",
       "4    15.0  965.0\n",
       "..    ...    ...\n",
       "115   0.0    0.0\n",
       "116   0.0    0.0\n",
       "117   0.0    0.0\n",
       "118   0.0    0.0\n",
       "119   0.0    0.0\n",
       "\n",
       "[61 rows x 2 columns]"
      ]
     },
     "execution_count": 11,
     "metadata": {},
     "output_type": "execute_result"
    }
   ],
   "source": [
    "# Define a subset of the data frame for k-means clustering (auf Basis von Räumen, Fläche und m2 als Parameter)\n",
    "X3 = df[['size',\n",
    "        'price']]\n",
    "#das ist alles in x3:\n",
    "X3"
   ]
  },
  {
   "cell_type": "markdown",
   "id": "1bf1bce5",
   "metadata": {},
   "source": [
    "### Elbow method showing the optimal k"
   ]
  },
  {
   "cell_type": "code",
   "execution_count": 12,
   "id": "3b306657",
   "metadata": {
    "scrolled": false
   },
   "outputs": [
    {
     "data": {
      "image/png": "[encoded data removed]",
      "text/plain": [
       "<Figure size 360x216 with 1 Axes>"
      ]
     },
     "metadata": {
      "needs_background": "light"
     },
     "output_type": "display_data"
    }
   ],
   "source": [
    "# Sum of squared distances of samples to their closest cluster center\n",
    "distortions = []\n",
    "\n",
    "# Range of k's\n",
    "K = range(1,15)\n",
    "\n",
    "# Loop to find the optimal k\n",
    "for k in K:\n",
    "    kmeanModel = KMeans(n_clusters=k)\n",
    "    kmeanModel.fit(X3)\n",
    "    distortions.append(kmeanModel.inertia_)\n",
    "    \n",
    "# Elbow plot\n",
    "plt.figure(figsize=(5,3))\n",
    "plt.plot(K, distortions, 'bx-')\n",
    "plt.xlabel('k')\n",
    "plt.ylabel('Distortion')\n",
    "plt.title('The Elbow Method showing the optimal k')\n",
    "\n",
    "plt.show()\n",
    "#Elbow-method ab 5-7 sinnvoll"
   ]
  },
  {
   "cell_type": "markdown",
   "id": "3f8a2cd2",
   "metadata": {},
   "source": [
    "### Perform k-means clustering on the apartment data"
   ]
  },
  {
   "cell_type": "code",
   "execution_count": 38,
   "id": "e92617d5",
   "metadata": {
    "scrolled": false
   },
   "outputs": [
    {
     "ename": "IndexError",
     "evalue": "only integers, slices (`:`), ellipsis (`...`), numpy.newaxis (`None`) and integer or boolean arrays are valid indices",
     "output_type": "error",
     "traceback": [
      "\u001b[1;31m---------------------------------------------------------------------------\u001b[0m",
      "\u001b[1;31mIndexError\u001b[0m                                Traceback (most recent call last)",
      "\u001b[1;32m~\\AppData\\Local\\Temp/ipykernel_5260/959563900.py\u001b[0m in \u001b[0;36m<module>\u001b[1;34m\u001b[0m\n\u001b[0;32m      6\u001b[0m \u001b[1;33m\u001b[0m\u001b[0m\n\u001b[0;32m      7\u001b[0m \u001b[1;31m# Add the clusters to data frame\u001b[0m\u001b[1;33m\u001b[0m\u001b[1;33m\u001b[0m\u001b[0m\n\u001b[1;32m----> 8\u001b[1;33m \u001b[0mX3\u001b[0m\u001b[1;33m[\u001b[0m\u001b[1;34m'cluster'\u001b[0m\u001b[1;33m]\u001b[0m \u001b[1;33m=\u001b[0m \u001b[0mkmeans_price\u001b[0m\u001b[1;33m.\u001b[0m\u001b[0mpredict\u001b[0m\u001b[1;33m(\u001b[0m\u001b[0mX3\u001b[0m\u001b[1;33m)\u001b[0m\u001b[1;33m\u001b[0m\u001b[1;33m\u001b[0m\u001b[0m\n\u001b[0m\u001b[0;32m      9\u001b[0m \u001b[1;33m\u001b[0m\u001b[0m\n\u001b[0;32m     10\u001b[0m \u001b[1;31m# Show number of apartments per cluster\u001b[0m\u001b[1;33m\u001b[0m\u001b[1;33m\u001b[0m\u001b[0m\n",
      "\u001b[1;31mIndexError\u001b[0m: only integers, slices (`:`), ellipsis (`...`), numpy.newaxis (`None`) and integer or boolean arrays are valid indices"
     ]
    }
   ],
   "source": [
    "# Number of cluters\n",
    "k = 2\n",
    "\n",
    "# Perform k-means clustering\n",
    "kmeans_price = KMeans(n_clusters=k, random_state=42).fit(X3)\n",
    "\n",
    "# Add the clusters to data frame\n",
    "X3['cluster'] = kmeans_price.predict(X3)\n",
    "\n",
    "# Show number of apartments per cluster\n",
    "X3['cluster'].value_counts().sort_values(ascending=False)\n",
    "\n",
    "\n",
    "kmeans_price.inertia_\n",
    "#Wert basisert auf allen Daten "
   ]
  },
  {
   "cell_type": "markdown",
   "id": "594f4a54",
   "metadata": {},
   "source": [
    "### Plot the apartment clusters"
   ]
  },
  {
   "cell_type": "code",
   "execution_count": 18,
   "id": "29a0fc2e",
   "metadata": {
    "scrolled": false
   },
   "outputs": [
    {
     "ename": "ValueError",
     "evalue": "could not convert string to float: 'Auf Lager.'",
     "output_type": "error",
     "traceback": [
      "\u001b[1;31m---------------------------------------------------------------------------\u001b[0m",
      "\u001b[1;31mValueError\u001b[0m                                Traceback (most recent call last)",
      "\u001b[1;32m~\\AppData\\Local\\Temp/ipykernel_5260/2969309180.py\u001b[0m in \u001b[0;36m<module>\u001b[1;34m\u001b[0m\n\u001b[0;32m      1\u001b[0m \u001b[0mfig\u001b[0m \u001b[1;33m=\u001b[0m \u001b[0mplt\u001b[0m\u001b[1;33m.\u001b[0m\u001b[0mfigure\u001b[0m\u001b[1;33m(\u001b[0m\u001b[0mfigsize\u001b[0m\u001b[1;33m=\u001b[0m\u001b[1;33m(\u001b[0m\u001b[1;36m6\u001b[0m\u001b[1;33m,\u001b[0m\u001b[1;36m5\u001b[0m\u001b[1;33m)\u001b[0m\u001b[1;33m)\u001b[0m\u001b[1;33m\u001b[0m\u001b[1;33m\u001b[0m\u001b[0m\n\u001b[0;32m      2\u001b[0m \u001b[0max\u001b[0m \u001b[1;33m=\u001b[0m \u001b[0mfig\u001b[0m\u001b[1;33m.\u001b[0m\u001b[0madd_subplot\u001b[0m\u001b[1;33m(\u001b[0m\u001b[1;36m111\u001b[0m\u001b[1;33m,\u001b[0m \u001b[0mprojection\u001b[0m\u001b[1;33m=\u001b[0m\u001b[1;34m'3d'\u001b[0m\u001b[1;33m)\u001b[0m\u001b[1;33m\u001b[0m\u001b[1;33m\u001b[0m\u001b[0m\n\u001b[1;32m----> 3\u001b[1;33m \u001b[0max\u001b[0m\u001b[1;33m.\u001b[0m\u001b[0mscatter\u001b[0m\u001b[1;33m(\u001b[0m\u001b[0mdf\u001b[0m\u001b[1;33m[\u001b[0m\u001b[1;34m'size'\u001b[0m\u001b[1;33m]\u001b[0m\u001b[1;33m,\u001b[0m \u001b[0mdf\u001b[0m\u001b[1;33m[\u001b[0m\u001b[1;34m'raw'\u001b[0m\u001b[1;33m]\u001b[0m\u001b[1;33m,\u001b[0m \u001b[0mdf\u001b[0m\u001b[1;33m[\u001b[0m\u001b[1;34m'price'\u001b[0m\u001b[1;33m]\u001b[0m\u001b[1;33m,\u001b[0m \u001b[0mc\u001b[0m\u001b[1;33m=\u001b[0m\u001b[0mkmeans_apmts\u001b[0m\u001b[1;33m.\u001b[0m\u001b[0mlabels_\u001b[0m\u001b[1;33m,\u001b[0m \u001b[0ms\u001b[0m\u001b[1;33m=\u001b[0m\u001b[1;36m4\u001b[0m\u001b[1;33m)\u001b[0m\u001b[1;33m\u001b[0m\u001b[1;33m\u001b[0m\u001b[0m\n\u001b[0m\u001b[0;32m      4\u001b[0m \u001b[1;33m\u001b[0m\u001b[0m\n\u001b[0;32m      5\u001b[0m \u001b[1;31m# Set title and axes labels\u001b[0m\u001b[1;33m\u001b[0m\u001b[1;33m\u001b[0m\u001b[0m\n",
      "\u001b[1;32m~\\anaconda3\\lib\\site-packages\\matplotlib\\__init__.py\u001b[0m in \u001b[0;36minner\u001b[1;34m(ax, data, *args, **kwargs)\u001b[0m\n\u001b[0;32m   1421\u001b[0m     \u001b[1;32mdef\u001b[0m \u001b[0minner\u001b[0m\u001b[1;33m(\u001b[0m\u001b[0max\u001b[0m\u001b[1;33m,\u001b[0m \u001b[1;33m*\u001b[0m\u001b[0margs\u001b[0m\u001b[1;33m,\u001b[0m \u001b[0mdata\u001b[0m\u001b[1;33m=\u001b[0m\u001b[1;32mNone\u001b[0m\u001b[1;33m,\u001b[0m \u001b[1;33m**\u001b[0m\u001b[0mkwargs\u001b[0m\u001b[1;33m)\u001b[0m\u001b[1;33m:\u001b[0m\u001b[1;33m\u001b[0m\u001b[1;33m\u001b[0m\u001b[0m\n\u001b[0;32m   1422\u001b[0m         \u001b[1;32mif\u001b[0m \u001b[0mdata\u001b[0m \u001b[1;32mis\u001b[0m \u001b[1;32mNone\u001b[0m\u001b[1;33m:\u001b[0m\u001b[1;33m\u001b[0m\u001b[1;33m\u001b[0m\u001b[0m\n\u001b[1;32m-> 1423\u001b[1;33m             \u001b[1;32mreturn\u001b[0m \u001b[0mfunc\u001b[0m\u001b[1;33m(\u001b[0m\u001b[0max\u001b[0m\u001b[1;33m,\u001b[0m \u001b[1;33m*\u001b[0m\u001b[0mmap\u001b[0m\u001b[1;33m(\u001b[0m\u001b[0msanitize_sequence\u001b[0m\u001b[1;33m,\u001b[0m \u001b[0margs\u001b[0m\u001b[1;33m)\u001b[0m\u001b[1;33m,\u001b[0m \u001b[1;33m**\u001b[0m\u001b[0mkwargs\u001b[0m\u001b[1;33m)\u001b[0m\u001b[1;33m\u001b[0m\u001b[1;33m\u001b[0m\u001b[0m\n\u001b[0m\u001b[0;32m   1424\u001b[0m \u001b[1;33m\u001b[0m\u001b[0m\n\u001b[0;32m   1425\u001b[0m         \u001b[0mbound\u001b[0m \u001b[1;33m=\u001b[0m \u001b[0mnew_sig\u001b[0m\u001b[1;33m.\u001b[0m\u001b[0mbind\u001b[0m\u001b[1;33m(\u001b[0m\u001b[0max\u001b[0m\u001b[1;33m,\u001b[0m \u001b[1;33m*\u001b[0m\u001b[0margs\u001b[0m\u001b[1;33m,\u001b[0m \u001b[1;33m**\u001b[0m\u001b[0mkwargs\u001b[0m\u001b[1;33m)\u001b[0m\u001b[1;33m\u001b[0m\u001b[1;33m\u001b[0m\u001b[0m\n",
      "\u001b[1;32m~\\anaconda3\\lib\\site-packages\\mpl_toolkits\\mplot3d\\axes3d.py\u001b[0m in \u001b[0;36mscatter\u001b[1;34m(self, xs, ys, zs, zdir, s, c, depthshade, *args, **kwargs)\u001b[0m\n\u001b[0;32m   2184\u001b[0m             \u001b[0mself\u001b[0m\u001b[1;33m.\u001b[0m\u001b[0mset_zmargin\u001b[0m\u001b[1;33m(\u001b[0m\u001b[1;36m0.05\u001b[0m\u001b[1;33m)\u001b[0m\u001b[1;33m\u001b[0m\u001b[1;33m\u001b[0m\u001b[0m\n\u001b[0;32m   2185\u001b[0m \u001b[1;33m\u001b[0m\u001b[0m\n\u001b[1;32m-> 2186\u001b[1;33m         \u001b[0mself\u001b[0m\u001b[1;33m.\u001b[0m\u001b[0mauto_scale_xyz\u001b[0m\u001b[1;33m(\u001b[0m\u001b[0mxs\u001b[0m\u001b[1;33m,\u001b[0m \u001b[0mys\u001b[0m\u001b[1;33m,\u001b[0m \u001b[0mzs\u001b[0m\u001b[1;33m,\u001b[0m \u001b[0mhad_data\u001b[0m\u001b[1;33m)\u001b[0m\u001b[1;33m\u001b[0m\u001b[1;33m\u001b[0m\u001b[0m\n\u001b[0m\u001b[0;32m   2187\u001b[0m \u001b[1;33m\u001b[0m\u001b[0m\n\u001b[0;32m   2188\u001b[0m         \u001b[1;32mreturn\u001b[0m \u001b[0mpatches\u001b[0m\u001b[1;33m\u001b[0m\u001b[1;33m\u001b[0m\u001b[0m\n",
      "\u001b[1;32m~\\anaconda3\\lib\\site-packages\\mpl_toolkits\\mplot3d\\axes3d.py\u001b[0m in \u001b[0;36mauto_scale_xyz\u001b[1;34m(self, X, Y, Z, had_data)\u001b[0m\n\u001b[0;32m    573\u001b[0m         \u001b[1;31m# minimum sized rectangular volume holds the data.\u001b[0m\u001b[1;33m\u001b[0m\u001b[1;33m\u001b[0m\u001b[0m\n\u001b[0;32m    574\u001b[0m         \u001b[1;32mif\u001b[0m \u001b[0mnp\u001b[0m\u001b[1;33m.\u001b[0m\u001b[0mshape\u001b[0m\u001b[1;33m(\u001b[0m\u001b[0mX\u001b[0m\u001b[1;33m)\u001b[0m \u001b[1;33m==\u001b[0m \u001b[0mnp\u001b[0m\u001b[1;33m.\u001b[0m\u001b[0mshape\u001b[0m\u001b[1;33m(\u001b[0m\u001b[0mY\u001b[0m\u001b[1;33m)\u001b[0m\u001b[1;33m:\u001b[0m\u001b[1;33m\u001b[0m\u001b[1;33m\u001b[0m\u001b[0m\n\u001b[1;32m--> 575\u001b[1;33m             self.xy_dataLim.update_from_data_xy(\n\u001b[0m\u001b[0;32m    576\u001b[0m                 np.column_stack([np.ravel(X), np.ravel(Y)]), not had_data)\n\u001b[0;32m    577\u001b[0m         \u001b[1;32melse\u001b[0m\u001b[1;33m:\u001b[0m\u001b[1;33m\u001b[0m\u001b[1;33m\u001b[0m\u001b[0m\n",
      "\u001b[1;32m~\\anaconda3\\lib\\site-packages\\matplotlib\\transforms.py\u001b[0m in \u001b[0;36mupdate_from_data_xy\u001b[1;34m(self, xy, ignore, updatex, updatey)\u001b[0m\n\u001b[0;32m    952\u001b[0m             \u001b[1;32mreturn\u001b[0m\u001b[1;33m\u001b[0m\u001b[1;33m\u001b[0m\u001b[0m\n\u001b[0;32m    953\u001b[0m \u001b[1;33m\u001b[0m\u001b[0m\n\u001b[1;32m--> 954\u001b[1;33m         \u001b[0mpath\u001b[0m \u001b[1;33m=\u001b[0m \u001b[0mPath\u001b[0m\u001b[1;33m(\u001b[0m\u001b[0mxy\u001b[0m\u001b[1;33m)\u001b[0m\u001b[1;33m\u001b[0m\u001b[1;33m\u001b[0m\u001b[0m\n\u001b[0m\u001b[0;32m    955\u001b[0m         self.update_from_path(path, ignore=ignore,\n\u001b[0;32m    956\u001b[0m                               updatex=updatex, updatey=updatey)\n",
      "\u001b[1;32m~\\anaconda3\\lib\\site-packages\\matplotlib\\path.py\u001b[0m in \u001b[0;36m__init__\u001b[1;34m(self, vertices, codes, _interpolation_steps, closed, readonly)\u001b[0m\n\u001b[0;32m    127\u001b[0m             \u001b[1;32mand\u001b[0m \u001b[0mcodes\u001b[0m \u001b[1;32mas\u001b[0m \u001b[0mread\u001b[0m\u001b[1;33m-\u001b[0m\u001b[0monly\u001b[0m \u001b[0marrays\u001b[0m\u001b[1;33m.\u001b[0m\u001b[1;33m\u001b[0m\u001b[1;33m\u001b[0m\u001b[0m\n\u001b[0;32m    128\u001b[0m         \"\"\"\n\u001b[1;32m--> 129\u001b[1;33m         \u001b[0mvertices\u001b[0m \u001b[1;33m=\u001b[0m \u001b[0m_to_unmasked_float_array\u001b[0m\u001b[1;33m(\u001b[0m\u001b[0mvertices\u001b[0m\u001b[1;33m)\u001b[0m\u001b[1;33m\u001b[0m\u001b[1;33m\u001b[0m\u001b[0m\n\u001b[0m\u001b[0;32m    130\u001b[0m         \u001b[0m_api\u001b[0m\u001b[1;33m.\u001b[0m\u001b[0mcheck_shape\u001b[0m\u001b[1;33m(\u001b[0m\u001b[1;33m(\u001b[0m\u001b[1;32mNone\u001b[0m\u001b[1;33m,\u001b[0m \u001b[1;36m2\u001b[0m\u001b[1;33m)\u001b[0m\u001b[1;33m,\u001b[0m \u001b[0mvertices\u001b[0m\u001b[1;33m=\u001b[0m\u001b[0mvertices\u001b[0m\u001b[1;33m)\u001b[0m\u001b[1;33m\u001b[0m\u001b[1;33m\u001b[0m\u001b[0m\n\u001b[0;32m    131\u001b[0m \u001b[1;33m\u001b[0m\u001b[0m\n",
      "\u001b[1;32m~\\anaconda3\\lib\\site-packages\\matplotlib\\cbook\\__init__.py\u001b[0m in \u001b[0;36m_to_unmasked_float_array\u001b[1;34m(x)\u001b[0m\n\u001b[0;32m   1367\u001b[0m         \u001b[1;32mreturn\u001b[0m \u001b[0mnp\u001b[0m\u001b[1;33m.\u001b[0m\u001b[0mma\u001b[0m\u001b[1;33m.\u001b[0m\u001b[0masarray\u001b[0m\u001b[1;33m(\u001b[0m\u001b[0mx\u001b[0m\u001b[1;33m,\u001b[0m \u001b[0mfloat\u001b[0m\u001b[1;33m)\u001b[0m\u001b[1;33m.\u001b[0m\u001b[0mfilled\u001b[0m\u001b[1;33m(\u001b[0m\u001b[0mnp\u001b[0m\u001b[1;33m.\u001b[0m\u001b[0mnan\u001b[0m\u001b[1;33m)\u001b[0m\u001b[1;33m\u001b[0m\u001b[1;33m\u001b[0m\u001b[0m\n\u001b[0;32m   1368\u001b[0m     \u001b[1;32melse\u001b[0m\u001b[1;33m:\u001b[0m\u001b[1;33m\u001b[0m\u001b[1;33m\u001b[0m\u001b[0m\n\u001b[1;32m-> 1369\u001b[1;33m         \u001b[1;32mreturn\u001b[0m \u001b[0mnp\u001b[0m\u001b[1;33m.\u001b[0m\u001b[0masarray\u001b[0m\u001b[1;33m(\u001b[0m\u001b[0mx\u001b[0m\u001b[1;33m,\u001b[0m \u001b[0mfloat\u001b[0m\u001b[1;33m)\u001b[0m\u001b[1;33m\u001b[0m\u001b[1;33m\u001b[0m\u001b[0m\n\u001b[0m\u001b[0;32m   1370\u001b[0m \u001b[1;33m\u001b[0m\u001b[0m\n\u001b[0;32m   1371\u001b[0m \u001b[1;33m\u001b[0m\u001b[0m\n",
      "\u001b[1;32m~\\anaconda3\\lib\\site-packages\\numpy\\core\\_asarray.py\u001b[0m in \u001b[0;36masarray\u001b[1;34m(a, dtype, order, like)\u001b[0m\n\u001b[0;32m    100\u001b[0m         \u001b[1;32mreturn\u001b[0m \u001b[0m_asarray_with_like\u001b[0m\u001b[1;33m(\u001b[0m\u001b[0ma\u001b[0m\u001b[1;33m,\u001b[0m \u001b[0mdtype\u001b[0m\u001b[1;33m=\u001b[0m\u001b[0mdtype\u001b[0m\u001b[1;33m,\u001b[0m \u001b[0morder\u001b[0m\u001b[1;33m=\u001b[0m\u001b[0morder\u001b[0m\u001b[1;33m,\u001b[0m \u001b[0mlike\u001b[0m\u001b[1;33m=\u001b[0m\u001b[0mlike\u001b[0m\u001b[1;33m)\u001b[0m\u001b[1;33m\u001b[0m\u001b[1;33m\u001b[0m\u001b[0m\n\u001b[0;32m    101\u001b[0m \u001b[1;33m\u001b[0m\u001b[0m\n\u001b[1;32m--> 102\u001b[1;33m     \u001b[1;32mreturn\u001b[0m \u001b[0marray\u001b[0m\u001b[1;33m(\u001b[0m\u001b[0ma\u001b[0m\u001b[1;33m,\u001b[0m \u001b[0mdtype\u001b[0m\u001b[1;33m,\u001b[0m \u001b[0mcopy\u001b[0m\u001b[1;33m=\u001b[0m\u001b[1;32mFalse\u001b[0m\u001b[1;33m,\u001b[0m \u001b[0morder\u001b[0m\u001b[1;33m=\u001b[0m\u001b[0morder\u001b[0m\u001b[1;33m)\u001b[0m\u001b[1;33m\u001b[0m\u001b[1;33m\u001b[0m\u001b[0m\n\u001b[0m\u001b[0;32m    103\u001b[0m \u001b[1;33m\u001b[0m\u001b[0m\n\u001b[0;32m    104\u001b[0m \u001b[1;33m\u001b[0m\u001b[0m\n",
      "\u001b[1;31mValueError\u001b[0m: could not convert string to float: 'Auf Lager.'"
     ]
    },
    {
     "data": {
      "image/png": "[encoded data removed]",
      "text/plain": [
       "<Figure size 432x360 with 1 Axes>"
      ]
     },
     "metadata": {
      "needs_background": "light"
     },
     "output_type": "display_data"
    }
   ],
   "source": [
    "fig = plt.figure(figsize=(6,5))\n",
    "ax = fig.add_subplot(111, projection='3d')\n",
    "ax.scatter(df['size'], df['raw'], df['price'], c=kmeans_apmts.labels_, s=4)\n",
    "\n",
    "# Set title and axes labels\n",
    "ax.set_title('Apartment data clusters', fontsize=12)\n",
    "ax.set_xlabel('size', fontsize=10)\n",
    "ax.set_ylabel('raw', fontsize=10)\n",
    "ax.set_zlabel('price', fontsize=10)\n",
    "\n",
    "# Set axes range\n",
    "ax.set_xlim([0,9])\n",
    "ax.set_ylim([0,150])\n",
    "ax.set_zlim([20,100])\n",
    "\n",
    "plt.show()\n",
    "#weil es nur drei Variablen sind, kann man es in einem 3d-Modell darstellen : rooms, area and price_per_m2\n",
    "#Farben sind die Cluster (aus dem k=5 (fünf Cluster))\n",
    "# Man erkennt, eine klare Abgrenzung der Daten 80-100m2 , gelb: 2-4 Zimmer etc.\n",
    "# Cluster funktionieren bei allen Daten , Cluster könnte man im Nachhinein genauer untersuchen\n",
    "# hellgrün => ganz grosse wohnungen (in Ecke bei price_per_m2)\n",
    "# nur nummerische werte aus Daten nehmen (Projekt) und dann anwenden!"
   ]
  },
  {
   "cell_type": "markdown",
   "id": "107fac6e",
   "metadata": {},
   "source": [
    "### Calculate the Silhouette Score"
   ]
  },
  {
   "cell_type": "code",
   "execution_count": 19,
   "id": "b0a8c461",
   "metadata": {
    "scrolled": false
   },
   "outputs": [
    {
     "name": "stdout",
     "output_type": "stream",
     "text": [
      "Silhouette Score: 0.8750\n"
     ]
    }
   ],
   "source": [
    "print(f'Silhouette Score: {silhouette_score(X3, kmeans_apmts.labels_):.4f}')"
   ]
  },
  {
   "cell_type": "markdown",
   "id": "22566678",
   "metadata": {},
   "source": [
    "### Perform k-means clustering"
   ]
  },
  {
   "cell_type": "code",
   "execution_count": 31,
   "id": "efd1220b",
   "metadata": {},
   "outputs": [
    {
     "data": {
      "image/png": "[encoded data removed]",
      "text/plain": [
       "<Figure size 432x288 with 1 Axes>"
      ]
     },
     "metadata": {},
     "output_type": "display_data"
    },
    {
     "data": {
      "text/plain": [
       "array([1, 1, 0, 0, 1, 0, 0, 0, 0, 0, 0, 0, 0, 0, 1, 0, 1, 0, 0, 0, 0, 0,\n",
       "       0, 1, 0, 1, 1, 0, 0, 0, 0, 0, 1, 0, 1, 0, 1, 0, 1, 0, 0, 0, 1, 0,\n",
       "       0, 0, 1, 0, 1, 0, 0, 1, 1, 0, 1, 0, 1, 0, 0, 0, 1, 0, 0, 1, 1, 0,\n",
       "       0, 1, 1, 0, 0, 1, 1, 0, 0, 1, 1, 0, 0, 0, 0, 0, 1, 0, 0, 1, 1, 0,\n",
       "       0, 0, 1, 0, 1, 0, 0, 1, 1, 0, 1, 1, 0, 0, 0, 0, 0, 0, 0, 0, 0, 1,\n",
       "       0, 0, 0, 0, 0, 0, 1, 0, 1, 0, 0, 0, 0, 1, 1, 1, 1, 0, 1, 1, 0, 0,\n",
       "       0, 0, 0, 0, 0, 1, 0, 1, 0, 0, 1, 0, 0, 0, 0, 0, 0, 0, 0, 1, 0, 1,\n",
       "       0, 0, 0, 1, 1, 0, 0, 1, 1, 1, 0, 1, 0, 0, 0, 0, 0, 0, 0, 0, 0, 0,\n",
       "       0, 0, 0, 0, 1, 0, 1, 0, 0, 1, 0, 0, 0, 0, 1, 1, 0, 1, 0, 0, 0, 0,\n",
       "       0, 1, 0, 0, 0, 0, 0, 0, 1, 1, 0, 0, 0, 1, 0, 0, 1, 1, 1, 1, 0, 1,\n",
       "       1, 0, 1, 1, 0, 0, 1, 1, 0, 0, 0, 1, 0, 1, 0, 0, 1, 0, 1, 1, 1, 0,\n",
       "       0, 0, 1, 0, 0, 0, 1, 0, 1, 0, 1, 0, 0, 1, 0, 0, 1, 0, 0, 0, 1, 0,\n",
       "       0, 0, 1, 0, 0, 0, 0, 0, 0, 0, 1, 1, 1, 0, 0, 0, 0, 0, 0, 0, 1, 0,\n",
       "       1, 0, 0, 1, 0, 0, 0, 0, 1, 0, 0, 0, 1, 1])"
      ]
     },
     "execution_count": 31,
     "metadata": {},
     "output_type": "execute_result"
    }
   ],
   "source": [
    "# Number of clusters\n",
    "k = 2\n",
    "\n",
    "# k-means clustering \n",
    "kmeans = KMeans(n_clusters=k, random_state=42).fit(X3) #kmeans => Name des Modells\n",
    "\n",
    "# Predict the values\n",
    "y2 = kmeans.predict(X3)\n",
    "\n",
    "# Plot the clusters\n",
    "plt.figure(figsize=(6,4))\n",
    "plt.scatter(X3[:, 0], X3[:, 1], c=y2, s=10)\n",
    "plt.show()\n",
    "\n",
    "#Durchnummerierung der einzelnen Cluster (Pyhton fängt immer bei 0 an...) - aus dieser Matrix werden die Info/Vektoren genommen und als Farbe definnert\n",
    "y2\n"
   ]
  },
  {
   "cell_type": "code",
   "execution_count": 35,
   "id": "5b5df6bc",
   "metadata": {},
   "outputs": [
    {
     "name": "stdout",
     "output_type": "stream",
     "text": [
      "Cluster centroids:\n",
      "[[ 0.54505898  0.63106213]\n",
      " [-1.09011796 -1.26212427]] \n",
      "\n"
     ]
    },
    {
     "ename": "ValueError",
     "evalue": "Item wrong length 300 instead of 61.",
     "output_type": "error",
     "traceback": [
      "\u001b[1;31m---------------------------------------------------------------------------\u001b[0m",
      "\u001b[1;31mValueError\u001b[0m                                Traceback (most recent call last)",
      "\u001b[1;32m~\\AppData\\Local\\Temp/ipykernel_5260/4067578647.py\u001b[0m in \u001b[0;36m<module>\u001b[1;34m\u001b[0m\n\u001b[0;32m      5\u001b[0m \u001b[1;33m\u001b[0m\u001b[0m\n\u001b[0;32m      6\u001b[0m \u001b[1;31m# Check the 1st cluster's centroid 'by hand' (Nachrechnen, siehe unten array)\u001b[0m\u001b[1;33m\u001b[0m\u001b[1;33m\u001b[0m\u001b[0m\n\u001b[1;32m----> 7\u001b[1;33m \u001b[0mclust_00\u001b[0m \u001b[1;33m=\u001b[0m \u001b[0mdf\u001b[0m\u001b[1;33m[\u001b[0m\u001b[0my2\u001b[0m \u001b[1;33m==\u001b[0m \u001b[1;36m0\u001b[0m\u001b[1;33m]\u001b[0m\u001b[1;33m\u001b[0m\u001b[1;33m\u001b[0m\u001b[0m\n\u001b[0m\u001b[0;32m      8\u001b[0m \u001b[0mprint\u001b[0m\u001b[1;33m(\u001b[0m\u001b[1;34m'The 1st cluster\\'s centroid:'\u001b[0m\u001b[1;33m)\u001b[0m\u001b[1;33m\u001b[0m\u001b[1;33m\u001b[0m\u001b[0m\n\u001b[0;32m      9\u001b[0m \u001b[0mprint\u001b[0m\u001b[1;33m(\u001b[0m\u001b[1;34mf'x = {sum(clust_00[:,0]/len(clust_00[:,0])):.8f}'\u001b[0m\u001b[1;33m)\u001b[0m\u001b[1;33m\u001b[0m\u001b[1;33m\u001b[0m\u001b[0m\n",
      "\u001b[1;32m~\\anaconda3\\lib\\site-packages\\pandas\\core\\frame.py\u001b[0m in \u001b[0;36m__getitem__\u001b[1;34m(self, key)\u001b[0m\n\u001b[0;32m   3794\u001b[0m         \u001b[1;31m# Do we have a (boolean) 1d indexer?\u001b[0m\u001b[1;33m\u001b[0m\u001b[1;33m\u001b[0m\u001b[0m\n\u001b[0;32m   3795\u001b[0m         \u001b[1;32mif\u001b[0m \u001b[0mcom\u001b[0m\u001b[1;33m.\u001b[0m\u001b[0mis_bool_indexer\u001b[0m\u001b[1;33m(\u001b[0m\u001b[0mkey\u001b[0m\u001b[1;33m)\u001b[0m\u001b[1;33m:\u001b[0m\u001b[1;33m\u001b[0m\u001b[1;33m\u001b[0m\u001b[0m\n\u001b[1;32m-> 3796\u001b[1;33m             \u001b[1;32mreturn\u001b[0m \u001b[0mself\u001b[0m\u001b[1;33m.\u001b[0m\u001b[0m_getitem_bool_array\u001b[0m\u001b[1;33m(\u001b[0m\u001b[0mkey\u001b[0m\u001b[1;33m)\u001b[0m\u001b[1;33m\u001b[0m\u001b[1;33m\u001b[0m\u001b[0m\n\u001b[0m\u001b[0;32m   3797\u001b[0m \u001b[1;33m\u001b[0m\u001b[0m\n\u001b[0;32m   3798\u001b[0m         \u001b[1;31m# We are left with two options: a single key, and a collection of keys,\u001b[0m\u001b[1;33m\u001b[0m\u001b[1;33m\u001b[0m\u001b[0m\n",
      "\u001b[1;32m~\\anaconda3\\lib\\site-packages\\pandas\\core\\frame.py\u001b[0m in \u001b[0;36m_getitem_bool_array\u001b[1;34m(self, key)\u001b[0m\n\u001b[0;32m   3841\u001b[0m             )\n\u001b[0;32m   3842\u001b[0m         \u001b[1;32melif\u001b[0m \u001b[0mlen\u001b[0m\u001b[1;33m(\u001b[0m\u001b[0mkey\u001b[0m\u001b[1;33m)\u001b[0m \u001b[1;33m!=\u001b[0m \u001b[0mlen\u001b[0m\u001b[1;33m(\u001b[0m\u001b[0mself\u001b[0m\u001b[1;33m.\u001b[0m\u001b[0mindex\u001b[0m\u001b[1;33m)\u001b[0m\u001b[1;33m:\u001b[0m\u001b[1;33m\u001b[0m\u001b[1;33m\u001b[0m\u001b[0m\n\u001b[1;32m-> 3843\u001b[1;33m             raise ValueError(\n\u001b[0m\u001b[0;32m   3844\u001b[0m                 \u001b[1;34mf\"Item wrong length {len(key)} instead of {len(self.index)}.\"\u001b[0m\u001b[1;33m\u001b[0m\u001b[1;33m\u001b[0m\u001b[0m\n\u001b[0;32m   3845\u001b[0m             )\n",
      "\u001b[1;31mValueError\u001b[0m: Item wrong length 300 instead of 61."
     ]
    }
   ],
   "source": [
    "# Print centroids\n",
    "centroids = kmeans.cluster_centers_ #kmeans = Name des Models , cluster_centers = zentrierte Cluster\n",
    "print('Cluster centroids:')\n",
    "print(centroids, '\\n')\n",
    "\n",
    "# Check the 1st cluster's centroid 'by hand' (Nachrechnen, siehe unten array)\n",
    "clust_00 = df[y2 == 0]\n",
    "print('The 1st cluster\\'s centroid:')\n",
    "print(f'x = {sum(clust_00[:,0]/len(clust_00[:,0])):.8f}')\n",
    "print(f'y = {sum(clust_00[:,1]/len(clust_00[:,1])):.8f}')\n",
    "\n",
    "# array mit allen Punkten mit den entsprechenden Daten => hier kann man den die Summe ausrechnen und geteilt durch Zeilenazahl als Überprüfung des Zentroids\n",
    "clust_00"
   ]
  },
  {
   "cell_type": "markdown",
   "id": "917746d3",
   "metadata": {},
   "source": [
    "### Get and check the converged cluster centroids"
   ]
  },
  {
   "cell_type": "code",
   "execution_count": 33,
   "id": "9b04f45b",
   "metadata": {
    "scrolled": false
   },
   "outputs": [
    {
     "name": "stdout",
     "output_type": "stream",
     "text": [
      "k=2, Silhouette Score: 0.7039\n"
     ]
    },
    {
     "ename": "NameError",
     "evalue": "name 'show_silhouette' is not defined",
     "output_type": "error",
     "traceback": [
      "\u001b[1;31m---------------------------------------------------------------------------\u001b[0m",
      "\u001b[1;31mNameError\u001b[0m                                 Traceback (most recent call last)",
      "\u001b[1;32m~\\AppData\\Local\\Temp/ipykernel_5260/1686082116.py\u001b[0m in \u001b[0;36m<module>\u001b[1;34m\u001b[0m\n\u001b[0;32m      8\u001b[0m     \u001b[0mprint\u001b[0m\u001b[1;33m(\u001b[0m\u001b[1;34mf'k={i}, Silhouette Score: {silhouette_score(X3, model.labels_):.4f}'\u001b[0m\u001b[1;33m)\u001b[0m\u001b[1;33m\u001b[0m\u001b[1;33m\u001b[0m\u001b[0m\n\u001b[0;32m      9\u001b[0m     \u001b[0mplt\u001b[0m\u001b[1;33m.\u001b[0m\u001b[0mfigure\u001b[0m\u001b[1;33m(\u001b[0m\u001b[0mfigsize\u001b[0m\u001b[1;33m=\u001b[0m\u001b[1;33m(\u001b[0m\u001b[1;36m6\u001b[0m\u001b[1;33m,\u001b[0m\u001b[1;36m3\u001b[0m\u001b[1;33m)\u001b[0m\u001b[1;33m)\u001b[0m\u001b[1;33m\u001b[0m\u001b[1;33m\u001b[0m\u001b[0m\n\u001b[1;32m---> 10\u001b[1;33m     \u001b[0mshow_silhouette\u001b[0m\u001b[1;33m(\u001b[0m\u001b[0mX3\u001b[0m\u001b[1;33m=\u001b[0m\u001b[0mX3\u001b[0m\u001b[1;33m,\u001b[0m \u001b[0mfitted_model\u001b[0m\u001b[1;33m=\u001b[0m\u001b[0mmodel\u001b[0m\u001b[1;33m)\u001b[0m\u001b[1;33m\u001b[0m\u001b[1;33m\u001b[0m\u001b[0m\n\u001b[0m\u001b[0;32m     11\u001b[0m \u001b[1;33m\u001b[0m\u001b[0m\n\u001b[0;32m     12\u001b[0m \u001b[1;31m#für jeden Punkt ein Silhoutten-Score möglich (Verhältnis aus dem eigenen Cluster zu den näcshten Cluster-Punkten) - man kann für jeden Datenpunkt ein Strich zeichnen\u001b[0m\u001b[1;33m\u001b[0m\u001b[1;33m\u001b[0m\u001b[0m\n",
      "\u001b[1;31mNameError\u001b[0m: name 'show_silhouette' is not defined"
     ]
    },
    {
     "data": {
      "text/plain": [
       "<Figure size 432x216 with 0 Axes>"
      ]
     },
     "metadata": {},
     "output_type": "display_data"
    }
   ],
   "source": [
    "# Create Silhouette plots for different k's\n",
    "# Note: range(2,12,1) provides: [2, 3, 4, 5, 6, 7, 8, 9, 10, 11]\n",
    "for i in[2,3,4,5,6,7,8,9,10,11]: # for i in range(2,12,1):von 2-12 in 1er-schritten \n",
    "    model = KMeans(n_clusters=i, \n",
    "                   random_state=42, \n",
    "                   init='random')\n",
    "    model.fit(X3)\n",
    "    print(f'k={i}, Silhouette Score: {silhouette_score(X3, model.labels_):.4f}')\n",
    "    \n",
    "    \n",
    "    plt.figure(figsize=(6,3))\n",
    "    show_silhouette(X3=X3, fitted_model=model)\n",
    "    \n",
    "#für jeden Punkt ein Silhoutten-Score möglich (Verhältnis aus dem eigenen Cluster zu den näcshten Cluster-Punkten) - man kann für jeden Datenpunkt ein Strich zeichnen \n",
    "# Je grösser der Wert, der zur roten Linie passt, (Silhouette Score), desto besser genauer (k = 5 , man will nahe bei 5 landen)"
   ]
  },
  {
   "cell_type": "markdown",
   "id": "81a2fe5d",
   "metadata": {},
   "source": [
    "### Get the inertia or 'within-cluster sum-of-squares (WCSS)' of the k-means model"
   ]
  },
  {
   "cell_type": "code",
   "execution_count": 36,
   "id": "5085b0ed",
   "metadata": {},
   "outputs": [
    {
     "name": "stdout",
     "output_type": "stream",
     "text": [
      "Within-cluster sum-of-squares: 182.8028\n"
     ]
    }
   ],
   "source": [
    "print(f'Within-cluster sum-of-squares: {kmeans.inertia_:.4f}')"
   ]
  },
  {
   "cell_type": "markdown",
   "id": "5280d042",
   "metadata": {},
   "source": [
    "### Jupyter notebook --footer info-- (please always provide this at the end of each submitted notebook)"
   ]
  },
  {
   "cell_type": "code",
   "execution_count": 43,
   "id": "9c0f813a",
   "metadata": {
    "scrolled": false
   },
   "outputs": [
    {
     "name": "stdout",
     "output_type": "stream",
     "text": [
      "-----------------------------------\n",
      "NT\n",
      "Windows | 10\n",
      "Datetime: 2022-12-04 15:02:02\n",
      "Python Version: 3.9.7\n",
      "-----------------------------------\n"
     ]
    }
   ],
   "source": [
    "import os\n",
    "import platform\n",
    "import socket\n",
    "from platform import python_version\n",
    "from datetime import datetime\n",
    "\n",
    "print('-----------------------------------')\n",
    "print(os.name.upper())\n",
    "print(platform.system(), '|', platform.release())\n",
    "print('Datetime:', datetime.now().strftime(\"%Y-%m-%d %H:%M:%S\"))\n",
    "print('Python Version:', python_version())\n",
    "print('-----------------------------------')"
   ]
  }
 ],
 "metadata": {
  "kernelspec": {
   "display_name": "Python 3 (ipykernel)",
   "language": "python",
   "name": "python3"
  },
  "language_info": {
   "codemirror_mode": {
    "name": "ipython",
    "version": 3
   },
   "file_extension": ".py",
   "mimetype": "text/x-python",
   "name": "python",
   "nbconvert_exporter": "python",
   "pygments_lexer": "ipython3",
   "version": "3.9.7"
  }
 },
 "nbformat": 4,
 "nbformat_minor": 5
}
