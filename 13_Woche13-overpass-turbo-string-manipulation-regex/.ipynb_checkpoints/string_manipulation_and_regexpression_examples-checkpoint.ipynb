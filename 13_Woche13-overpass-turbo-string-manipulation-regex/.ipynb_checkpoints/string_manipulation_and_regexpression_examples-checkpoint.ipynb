{
 "cells": [
  {
   "cell_type": "markdown",
   "id": "b6da9c33",
   "metadata": {},
   "source": [
    "# Additional string manipulation and regexpression examples"
   ]
  },
  {
   "cell_type": "markdown",
   "id": "e0008ef8",
   "metadata": {},
   "source": [
    "## Libraries and settings"
   ]
  },
  {
   "cell_type": "code",
   "execution_count": 1,
   "id": "87dc80d9",
   "metadata": {},
   "outputs": [
    {
     "name": "stdout",
     "output_type": "stream",
     "text": [
      "U:\\Lektionen\\DA_HS2022\\KK\\Week_13\n"
     ]
    }
   ],
   "source": [
    "# Libraries\n",
    "import os\n",
    "import re\n",
    "import string\n",
    "import pandas as pd\n",
    "\n",
    "# Ignore warnings\n",
    "import warnings\n",
    "warnings.filterwarnings('ignore')\n",
    "\n",
    "# Show current working directory\n",
    "print(os.getcwd())"
   ]
  },
  {
   "cell_type": "markdown",
   "id": "291549da",
   "metadata": {},
   "source": [
    "## Create dataframe"
   ]
  },
  {
   "cell_type": "code",
   "execution_count": 2,
   "id": "0cd68509",
   "metadata": {},
   "outputs": [
    {
     "data": {
      "text/html": [
       "<div>\n",
       "<style scoped>\n",
       "    .dataframe tbody tr th:only-of-type {\n",
       "        vertical-align: middle;\n",
       "    }\n",
       "\n",
       "    .dataframe tbody tr th {\n",
       "        vertical-align: top;\n",
       "    }\n",
       "\n",
       "    .dataframe thead th {\n",
       "        text-align: right;\n",
       "    }\n",
       "</style>\n",
       "<table border=\"1\" class=\"dataframe\">\n",
       "  <thead>\n",
       "    <tr style=\"text-align: right;\">\n",
       "      <th></th>\n",
       "      <th>price_raw</th>\n",
       "      <th>kilometer_raw</th>\n",
       "      <th>description_raw</th>\n",
       "    </tr>\n",
       "  </thead>\n",
       "  <tbody>\n",
       "    <tr>\n",
       "      <th>0</th>\n",
       "      <td>CHF 12000</td>\n",
       "      <td>xfz 120'000 km</td>\n",
       "      <td>BMW i3</td>\n",
       "    </tr>\n",
       "    <tr>\n",
       "      <th>1</th>\n",
       "      <td>CHF 24000</td>\n",
       "      <td>PLZ 8430, 85'000 km</td>\n",
       "      <td>VW Caddy 1.4</td>\n",
       "    </tr>\n",
       "    <tr>\n",
       "      <th>2</th>\n",
       "      <td>CHF 54000</td>\n",
       "      <td>45'000 km xyz</td>\n",
       "      <td>FIAT Punto 1.2</td>\n",
       "    </tr>\n",
       "  </tbody>\n",
       "</table>\n",
       "</div>"
      ],
      "text/plain": [
       "   price_raw        kilometer_raw description_raw\n",
       "0  CHF 12000       xfz 120'000 km          BMW i3\n",
       "1  CHF 24000  PLZ 8430, 85'000 km    VW Caddy 1.4\n",
       "2  CHF 54000        45'000 km xyz  FIAT Punto 1.2"
      ]
     },
     "execution_count": 2,
     "metadata": {},
     "output_type": "execute_result"
    }
   ],
   "source": [
    "# Create data frame 'df'\n",
    "df = pd.DataFrame(data={'price_raw': ['CHF 12000', 'CHF 24000', 'CHF 54000'],\n",
    "                        'kilometer_raw': ['xfz 120\\'000 km', 'PLZ 8430, 85\\'000 km', '45\\'000 km xyz'], \n",
    "                        'description_raw': ['BMW i3', 'VW Caddy 1.4', 'FIAT Punto 1.2']})\n",
    "df"
   ]
  },
  {
   "cell_type": "markdown",
   "id": "14d3ad03",
   "metadata": {},
   "source": [
    "## String manipulation & regular expression examples\n",
    "If you use regexpressions, always test it using webpages like: https://regex101.com"
   ]
  },
  {
   "cell_type": "markdown",
   "id": "6eece5be",
   "metadata": {},
   "source": [
    "### Variable Price"
   ]
  },
  {
   "cell_type": "code",
   "execution_count": 3,
   "id": "b16f1cc2",
   "metadata": {},
   "outputs": [
    {
     "name": "stdout",
     "output_type": "stream",
     "text": [
      "[12000]\n",
      "[24000]\n",
      "[54000]\n"
     ]
    }
   ],
   "source": [
    "# Extract single values\n",
    "for i in df['price_raw']:\n",
    "    str01 = re.findall('[0-9]+', i)\n",
    "    print(list(map(int, str01)))"
   ]
  },
  {
   "cell_type": "code",
   "execution_count": 4,
   "id": "430d2e30",
   "metadata": {},
   "outputs": [
    {
     "name": "stdout",
     "output_type": "stream",
     "text": [
      "0    CHF 12000\n",
      "1    CHF 24000\n",
      "2    CHF 54000\n",
      "Name: price_raw, dtype: object \n",
      "\n",
      "0    12000\n",
      "1    24000\n",
      "2    54000\n",
      "Name: price, dtype: int64\n"
     ]
    }
   ],
   "source": [
    "# Extract all values and write to new variable\n",
    "price = []\n",
    "for i in df['price_raw']:\n",
    "    d1 = re.findall('[0-9]+', i)\n",
    "    try:\n",
    "        d2 = d1[0].strip()\n",
    "    except:\n",
    "        d2 = None\n",
    "    price.append(d2)\n",
    "\n",
    "# Save as new variable in the pandas data frame\n",
    "df['price'] = list(map(int, price))\n",
    "\n",
    "# Print first 5 values\n",
    "print(df['price_raw'].head(), '\\n')\n",
    "print(df['price'].head())"
   ]
  },
  {
   "cell_type": "markdown",
   "id": "0a95bb41",
   "metadata": {},
   "source": [
    "### Variable Kilometer"
   ]
  },
  {
   "cell_type": "code",
   "execution_count": 5,
   "id": "280156e7",
   "metadata": {},
   "outputs": [
    {
     "name": "stdout",
     "output_type": "stream",
     "text": [
      "['120000']\n",
      "['8430', '85000']\n",
      "['45000']\n"
     ]
    }
   ],
   "source": [
    "# Extract single values (here in one row, two values occur)\n",
    "for i in df['kilometer_raw']:\n",
    "    str01 = i.replace('\\'', '')\n",
    "    str02 = re.findall('[0-9]+', str01)\n",
    "    print(str02)"
   ]
  },
  {
   "cell_type": "code",
   "execution_count": 6,
   "id": "71d69bd9",
   "metadata": {},
   "outputs": [
    {
     "data": {
      "text/html": [
       "<div>\n",
       "<style scoped>\n",
       "    .dataframe tbody tr th:only-of-type {\n",
       "        vertical-align: middle;\n",
       "    }\n",
       "\n",
       "    .dataframe tbody tr th {\n",
       "        vertical-align: top;\n",
       "    }\n",
       "\n",
       "    .dataframe thead th {\n",
       "        text-align: right;\n",
       "    }\n",
       "</style>\n",
       "<table border=\"1\" class=\"dataframe\">\n",
       "  <thead>\n",
       "    <tr style=\"text-align: right;\">\n",
       "      <th></th>\n",
       "      <th>price_raw</th>\n",
       "      <th>kilometer_raw</th>\n",
       "      <th>description_raw</th>\n",
       "      <th>price</th>\n",
       "      <th>kilometer</th>\n",
       "    </tr>\n",
       "  </thead>\n",
       "  <tbody>\n",
       "    <tr>\n",
       "      <th>0</th>\n",
       "      <td>CHF 12000</td>\n",
       "      <td>xfz 120'000 km</td>\n",
       "      <td>BMW i3</td>\n",
       "      <td>12000</td>\n",
       "      <td>120000</td>\n",
       "    </tr>\n",
       "    <tr>\n",
       "      <th>1</th>\n",
       "      <td>CHF 24000</td>\n",
       "      <td>PLZ 8430, 85'000 km</td>\n",
       "      <td>VW Caddy 1.4</td>\n",
       "      <td>24000</td>\n",
       "      <td>85000</td>\n",
       "    </tr>\n",
       "    <tr>\n",
       "      <th>2</th>\n",
       "      <td>CHF 54000</td>\n",
       "      <td>45'000 km xyz</td>\n",
       "      <td>FIAT Punto 1.2</td>\n",
       "      <td>54000</td>\n",
       "      <td>45000</td>\n",
       "    </tr>\n",
       "  </tbody>\n",
       "</table>\n",
       "</div>"
      ],
      "text/plain": [
       "   price_raw        kilometer_raw description_raw  price  kilometer\n",
       "0  CHF 12000       xfz 120'000 km          BMW i3  12000     120000\n",
       "1  CHF 24000  PLZ 8430, 85'000 km    VW Caddy 1.4  24000      85000\n",
       "2  CHF 54000        45'000 km xyz  FIAT Punto 1.2  54000      45000"
      ]
     },
     "execution_count": 6,
     "metadata": {},
     "output_type": "execute_result"
    }
   ],
   "source": [
    "# If two values occur, extract only first\n",
    "kilometer = []\n",
    "for i in df['kilometer_raw']:\n",
    "    str01 = i.replace('\\'', '')\n",
    "    str02 = re.findall('[0-9]+', str01)\n",
    "    kilometer.append(str02[len(str02)-1])\n",
    "\n",
    "# Write to data frame\n",
    "df['kilometer'] = list(map(int, kilometer))\n",
    "df"
   ]
  },
  {
   "cell_type": "markdown",
   "id": "4b194526",
   "metadata": {},
   "source": [
    "### Variable Description"
   ]
  },
  {
   "cell_type": "code",
   "execution_count": 7,
   "id": "8c143917",
   "metadata": {},
   "outputs": [
    {
     "name": "stdout",
     "output_type": "stream",
     "text": [
      "The first empty space occurs at position: 3\n",
      "The first empty space occurs at position: 2\n",
      "The first empty space occurs at position: 4\n"
     ]
    }
   ],
   "source": [
    "# Find empty spaces in strings\n",
    "for i in df['description_raw']:\n",
    "    pos = i.find(\" \", 1)\n",
    "    print(f'The first empty space occurs at position: {pos:.0f}')"
   ]
  },
  {
   "cell_type": "code",
   "execution_count": 8,
   "id": "f16e224f",
   "metadata": {},
   "outputs": [
    {
     "name": "stdout",
     "output_type": "stream",
     "text": [
      "BMW\n",
      "VW\n",
      "FIAT\n"
     ]
    }
   ],
   "source": [
    "# Now, use the information to extract the brand\n",
    "for i in df['description_raw']:\n",
    "    # Position of 1st empty space\n",
    "    pos = i.find(\" \", 1)\n",
    "    # Substring [from:to]\n",
    "    substr = i[0:pos]\n",
    "    print(substr)"
   ]
  }
 ],
 "metadata": {
  "kernelspec": {
   "display_name": "Python 3 (ipykernel)",
   "language": "python",
   "name": "python3"
  },
  "language_info": {
   "codemirror_mode": {
    "name": "ipython",
    "version": 3
   },
   "file_extension": ".py",
   "mimetype": "text/x-python",
   "name": "python",
   "nbconvert_exporter": "python",
   "pygments_lexer": "ipython3",
   "version": "3.9.7"
  }
 },
 "nbformat": 4,
 "nbformat_minor": 5
}
