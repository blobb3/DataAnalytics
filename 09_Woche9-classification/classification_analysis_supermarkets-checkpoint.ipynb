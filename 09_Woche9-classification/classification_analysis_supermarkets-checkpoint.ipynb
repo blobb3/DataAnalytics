{
 "cells": [
  {
   "cell_type": "markdown",
   "id": "a59b1799",
   "metadata": {},
   "source": [
    "# Classification analysis (titanic data)"
   ]
  },
  {
   "cell_type": "markdown",
   "id": "8ca19f50",
   "metadata": {},
   "source": [
    "## Libraries and settings"
   ]
  },
  {
   "cell_type": "code",
   "execution_count": 1,
   "id": "2406c857",
   "metadata": {},
   "outputs": [
    {
     "name": "stdout",
     "output_type": "stream",
     "text": [
      "C:\\Workspacezhaw\\data analytics\\Woche 9\n"
     ]
    }
   ],
   "source": [
    "# Libraries\n",
    "import os\n",
    "import numpy as np\n",
    "import pandas as pd\n",
    "import seaborn as sns\n",
    "import matplotlib.pyplot as plt\n",
    "from IPython.display import Image\n",
    "import os\n",
    "import numpy as np\n",
    "import pandas as pd\n",
    "import scipy.stats as stats\n",
    "import statsmodels.api as sm\n",
    "import matplotlib.pyplot as plt\n",
    "from sklearn import linear_model\n",
    "from sklearn.model_selection import train_test_split\n",
    "\n",
    "from sklearn import tree\n",
    "from sklearn.metrics import RocCurveDisplay\n",
    "from sklearn.tree import DecisionTreeClassifier\n",
    "from sklearn.ensemble import RandomForestClassifier\n",
    "from sklearn.model_selection import train_test_split\n",
    "from sklearn.metrics import classification_report, confusion_matrix\n",
    "# SCIKIT-LEARN (Wenn sklearn nicht funktioniert)\n",
    "from sklearn import linear_model\n",
    "from sklearn.model_selection import train_test_split\n",
    "\n",
    "# Ignore warnings\n",
    "import warnings\n",
    "warnings.filterwarnings('ignore')\n",
    "\n",
    "# Show current working directory\n",
    "print(os.getcwd())"
   ]
  },
  {
   "cell_type": "markdown",
   "id": "fcce958a",
   "metadata": {},
   "source": [
    "##### Notizen\n",
    "Confusion Matrix => die vier wichtigsten (foliensatz) sollte man kennen. Man benutzt sie, um Datenstätze besser einzuschätzen. Es geht immer darum, dass man am Ende auf Basis der Feature/erklärenden Variablen versucht eine Klasse vorherzusagen (Methode spielt hierbei keine Rolle).\n",
    "\n",
    "\n",
    "Warum gibt es ein Recall/Precision? wenn man eine extrem unabalacierte Anzahl von Beobachtungen hatten, dann könnte man die occurincy nicht mehr richtig interpretieren. Und dafür gibt es die Precision.\n",
    "\n",
    "Logistische-Regession => klassifizerungs Regression\n",
    "Die Predictions liegen dann in der Kurve (nicht wenn Gerade). Beobachtungen findet man alle unten (weil 0,1), aber die Predictions sind in der Kurve. Man nimmt typischerweise 0.5 als Standardschwellenwert. Alles was unterhalb von 0.5 ist, weisst man bspw. der Klasse 0 zu, alles was oberhalb ist, der 1.\n",
    "Die Prediction-Occurency hat eine Auswirkung auf die Modelgüter. Man varriert dann alle Schwellenwerte (Rock-curve? ist dafür).\n",
    "Modell kann entsprechend also auch in den Predictions varrieren.\n",
    "\n",
    "\n"
   ]
  },
  {
   "cell_type": "markdown",
   "id": "3874c706",
   "metadata": {},
   "source": [
    "## Import supermarket data"
   ]
  },
  {
   "cell_type": "code",
   "execution_count": 23,
   "id": "c3f0d448",
   "metadata": {},
   "outputs": [
    {
     "name": "stdout",
     "output_type": "stream",
     "text": [
      "(972, 13)\n",
      "C:\\Workspacezhaw\\data analytics\\Woche 9\n"
     ]
    }
   ],
   "source": [
    "columns = [ 'addr:city',\n",
    "            'rooms',\n",
    "            'area',\n",
    "            'lat',\n",
    "            'lon',\n",
    "            'bfs_number', #\n",
    "            'bfs_name',\n",
    "            'pop',  #bevölkerung\n",
    "            'pop_dens', #bevölkerungsdidche pro quadratmeter\n",
    "            'frg_pct', #foreign percent\n",
    "            'emp',\n",
    "            'shop',\n",
    "            'addr:postcode']\n",
    "\n",
    "# Read and select variables\n",
    "df_orig = pd.read_csv('supermarkets_data_enriched.csv', \n",
    "                  sep=',', \n",
    "                  encoding='utf-8') [['brand', 'id','bfs_name','bfs_number','lat','pop','pop_dens','lon','shop','frg_pct', 'addr:city', 'emp', 'addr:postcode']]\n",
    "\n",
    "# Remove missing values\n",
    "df = df_orig.dropna()\n",
    "df.head(5)\n",
    "# Remove duplicates\n",
    "df = df.drop_duplicates()\n",
    "print(df.shape) \n",
    "# Show current working directory\n",
    "print(os.getcwd())\n",
    "# df.head(5)"
   ]
  },
  {
   "cell_type": "code",
   "execution_count": 62,
   "id": "cda78e47",
   "metadata": {},
   "outputs": [
    {
     "name": "stdout",
     "output_type": "stream",
     "text": [
      "(3242, 18)\n"
     ]
    },
    {
     "data": {
      "text/html": [
       "<div>\n",
       "<style scoped>\n",
       "    .dataframe tbody tr th:only-of-type {\n",
       "        vertical-align: middle;\n",
       "    }\n",
       "\n",
       "    .dataframe tbody tr th {\n",
       "        vertical-align: top;\n",
       "    }\n",
       "\n",
       "    .dataframe thead th {\n",
       "        text-align: right;\n",
       "    }\n",
       "</style>\n",
       "<table border=\"1\" class=\"dataframe\">\n",
       "  <thead>\n",
       "    <tr style=\"text-align: right;\">\n",
       "      <th></th>\n",
       "      <th>Unnamed: 0</th>\n",
       "      <th>type</th>\n",
       "      <th>id</th>\n",
       "      <th>lat</th>\n",
       "      <th>lon</th>\n",
       "      <th>brand</th>\n",
       "      <th>shop</th>\n",
       "      <th>addr:city</th>\n",
       "      <th>addr:housenumber</th>\n",
       "      <th>addr:postcode</th>\n",
       "      <th>geometry</th>\n",
       "      <th>index_right</th>\n",
       "      <th>bfs_name</th>\n",
       "      <th>bfs_number</th>\n",
       "      <th>pop</th>\n",
       "      <th>pop_dens</th>\n",
       "      <th>frg_pct</th>\n",
       "      <th>emp</th>\n",
       "    </tr>\n",
       "  </thead>\n",
       "  <tbody>\n",
       "    <tr>\n",
       "      <th>0</th>\n",
       "      <td>0</td>\n",
       "      <td>node</td>\n",
       "      <td>33126515</td>\n",
       "      <td>47.155616</td>\n",
       "      <td>9.037915</td>\n",
       "      <td>SPAR</td>\n",
       "      <td>supermarket</td>\n",
       "      <td>NaN</td>\n",
       "      <td>NaN</td>\n",
       "      <td>NaN</td>\n",
       "      <td>POINT (9.0379152 47.1556157)</td>\n",
       "      <td>227</td>\n",
       "      <td>Schänis</td>\n",
       "      <td>3315</td>\n",
       "      <td>3876</td>\n",
       "      <td>97.142857</td>\n",
       "      <td>13.054696</td>\n",
       "      <td>1408.0</td>\n",
       "    </tr>\n",
       "    <tr>\n",
       "      <th>1</th>\n",
       "      <td>1</td>\n",
       "      <td>node</td>\n",
       "      <td>280130028</td>\n",
       "      <td>47.155492</td>\n",
       "      <td>9.039666</td>\n",
       "      <td>ALDI</td>\n",
       "      <td>supermarket</td>\n",
       "      <td>Schänis</td>\n",
       "      <td>3</td>\n",
       "      <td>8718.0</td>\n",
       "      <td>POINT (9.0396663 47.1554921)</td>\n",
       "      <td>227</td>\n",
       "      <td>Schänis</td>\n",
       "      <td>3315</td>\n",
       "      <td>3876</td>\n",
       "      <td>97.142857</td>\n",
       "      <td>13.054696</td>\n",
       "      <td>1408.0</td>\n",
       "    </tr>\n",
       "    <tr>\n",
       "      <th>2</th>\n",
       "      <td>2</td>\n",
       "      <td>node</td>\n",
       "      <td>6122906632</td>\n",
       "      <td>47.158959</td>\n",
       "      <td>9.044477</td>\n",
       "      <td>DENNER</td>\n",
       "      <td>supermarket</td>\n",
       "      <td>Schänis</td>\n",
       "      <td>14</td>\n",
       "      <td>8718.0</td>\n",
       "      <td>POINT (9.0444769 47.1589589)</td>\n",
       "      <td>227</td>\n",
       "      <td>Schänis</td>\n",
       "      <td>3315</td>\n",
       "      <td>3876</td>\n",
       "      <td>97.142857</td>\n",
       "      <td>13.054696</td>\n",
       "      <td>1408.0</td>\n",
       "    </tr>\n",
       "    <tr>\n",
       "      <th>3</th>\n",
       "      <td>3</td>\n",
       "      <td>node</td>\n",
       "      <td>9019298862</td>\n",
       "      <td>47.155185</td>\n",
       "      <td>9.038472</td>\n",
       "      <td>LIDL</td>\n",
       "      <td>supermarket</td>\n",
       "      <td>NaN</td>\n",
       "      <td>NaN</td>\n",
       "      <td>NaN</td>\n",
       "      <td>POINT (9.0384722 47.1551854)</td>\n",
       "      <td>227</td>\n",
       "      <td>Schänis</td>\n",
       "      <td>3315</td>\n",
       "      <td>3876</td>\n",
       "      <td>97.142857</td>\n",
       "      <td>13.054696</td>\n",
       "      <td>1408.0</td>\n",
       "    </tr>\n",
       "    <tr>\n",
       "      <th>4</th>\n",
       "      <td>4</td>\n",
       "      <td>node</td>\n",
       "      <td>36726161</td>\n",
       "      <td>47.226191</td>\n",
       "      <td>8.980329</td>\n",
       "      <td>MIGROS</td>\n",
       "      <td>supermarket</td>\n",
       "      <td>Uznach</td>\n",
       "      <td>25</td>\n",
       "      <td>8730.0</td>\n",
       "      <td>POINT (8.9803292 47.2261912)</td>\n",
       "      <td>1217</td>\n",
       "      <td>Uznach</td>\n",
       "      <td>3339</td>\n",
       "      <td>6489</td>\n",
       "      <td>860.610080</td>\n",
       "      <td>27.862537</td>\n",
       "      <td>3500.0</td>\n",
       "    </tr>\n",
       "  </tbody>\n",
       "</table>\n",
       "</div>"
      ],
      "text/plain": [
       "   Unnamed: 0  type          id        lat       lon   brand         shop  \\\n",
       "0           0  node    33126515  47.155616  9.037915    SPAR  supermarket   \n",
       "1           1  node   280130028  47.155492  9.039666    ALDI  supermarket   \n",
       "2           2  node  6122906632  47.158959  9.044477  DENNER  supermarket   \n",
       "3           3  node  9019298862  47.155185  9.038472    LIDL  supermarket   \n",
       "4           4  node    36726161  47.226191  8.980329  MIGROS  supermarket   \n",
       "\n",
       "  addr:city addr:housenumber  addr:postcode                      geometry  \\\n",
       "0       NaN              NaN            NaN  POINT (9.0379152 47.1556157)   \n",
       "1   Schänis                3         8718.0  POINT (9.0396663 47.1554921)   \n",
       "2   Schänis               14         8718.0  POINT (9.0444769 47.1589589)   \n",
       "3       NaN              NaN            NaN  POINT (9.0384722 47.1551854)   \n",
       "4    Uznach               25         8730.0  POINT (8.9803292 47.2261912)   \n",
       "\n",
       "   index_right bfs_name  bfs_number   pop    pop_dens    frg_pct     emp  \n",
       "0          227  Schänis        3315  3876   97.142857  13.054696  1408.0  \n",
       "1          227  Schänis        3315  3876   97.142857  13.054696  1408.0  \n",
       "2          227  Schänis        3315  3876   97.142857  13.054696  1408.0  \n",
       "3          227  Schänis        3315  3876   97.142857  13.054696  1408.0  \n",
       "4         1217   Uznach        3339  6489  860.610080  27.862537  3500.0  "
      ]
     },
     "execution_count": 62,
     "metadata": {},
     "output_type": "execute_result"
    }
   ],
   "source": [
    "# Read and select variables\n",
    "columns = ['id',\n",
    "           'bfs_name',\n",
    "           'bfs_number',\n",
    "           'lat',\n",
    "           'lon',\n",
    "           'brand',\n",
    "           'pop',\n",
    "           'pop_dens',\n",
    "           'frg_pct',\n",
    "           'emp',\n",
    "          ]\n",
    "df_supermarkets_orig = pd.read_csv(\"supermarkets_data_enriched.csv\", sep=\",\", encoding=\"utf-8\")\n",
    "\n",
    "# Number of rows and columns\n",
    "print(df_supermarkets_orig.shape)\n",
    "\n",
    "#Brands\n",
    "df_supermarkets_orig['brand'] = df_supermarkets_orig['brand'].str.upper()\n",
    "\n",
    "# First records\n",
    "df_supermarkets_orig.head(5)"
   ]
  },
  {
   "cell_type": "markdown",
   "id": "f457381e",
   "metadata": {},
   "source": [
    "## Count and remove missing values"
   ]
  },
  {
   "cell_type": "code",
   "execution_count": 64,
   "id": "2dda83ac",
   "metadata": {},
   "outputs": [
    {
     "name": "stdout",
     "output_type": "stream",
     "text": [
      "Unnamed: 0             0\n",
      "type                   0\n",
      "id                     0\n",
      "lat                    0\n",
      "lon                    0\n",
      "brand               1233\n",
      "shop                   0\n",
      "addr:city           1795\n",
      "addr:housenumber    1690\n",
      "addr:postcode       1721\n",
      "geometry               0\n",
      "index_right            0\n",
      "bfs_name               0\n",
      "bfs_number             0\n",
      "pop                    0\n",
      "pop_dens               0\n",
      "frg_pct                0\n",
      "emp                   45\n",
      "dtype: int64\n"
     ]
    }
   ],
   "source": [
    "# Count missing values\n",
    "print(df_supermarkets_orig.isna().sum())\n",
    "\n",
    "# Remove missing values\n",
    "df_supermarkets = df_supermarkets_orig.dropna()"
   ]
  },
  {
   "cell_type": "markdown",
   "id": "3a030693",
   "metadata": {},
   "source": [
    "## Subset with selected brand"
   ]
  },
  {
   "cell_type": "code",
   "execution_count": 66,
   "id": "5ca4c49e",
   "metadata": {},
   "outputs": [
    {
     "name": "stdout",
     "output_type": "stream",
     "text": [
      "(403, 18)\n"
     ]
    },
    {
     "data": {
      "text/html": [
       "<div>\n",
       "<style scoped>\n",
       "    .dataframe tbody tr th:only-of-type {\n",
       "        vertical-align: middle;\n",
       "    }\n",
       "\n",
       "    .dataframe tbody tr th {\n",
       "        vertical-align: top;\n",
       "    }\n",
       "\n",
       "    .dataframe thead th {\n",
       "        text-align: right;\n",
       "    }\n",
       "</style>\n",
       "<table border=\"1\" class=\"dataframe\">\n",
       "  <thead>\n",
       "    <tr style=\"text-align: right;\">\n",
       "      <th></th>\n",
       "      <th>Unnamed: 0</th>\n",
       "      <th>type</th>\n",
       "      <th>id</th>\n",
       "      <th>lat</th>\n",
       "      <th>lon</th>\n",
       "      <th>brand</th>\n",
       "      <th>shop</th>\n",
       "      <th>addr:city</th>\n",
       "      <th>addr:housenumber</th>\n",
       "      <th>addr:postcode</th>\n",
       "      <th>geometry</th>\n",
       "      <th>index_right</th>\n",
       "      <th>bfs_name</th>\n",
       "      <th>bfs_number</th>\n",
       "      <th>pop</th>\n",
       "      <th>pop_dens</th>\n",
       "      <th>frg_pct</th>\n",
       "      <th>emp</th>\n",
       "    </tr>\n",
       "  </thead>\n",
       "  <tbody>\n",
       "    <tr>\n",
       "      <th>4</th>\n",
       "      <td>4</td>\n",
       "      <td>node</td>\n",
       "      <td>36726161</td>\n",
       "      <td>47.226191</td>\n",
       "      <td>8.980329</td>\n",
       "      <td>MIGROS</td>\n",
       "      <td>supermarket</td>\n",
       "      <td>Uznach</td>\n",
       "      <td>25</td>\n",
       "      <td>8730.0</td>\n",
       "      <td>POINT (8.9803292 47.2261912)</td>\n",
       "      <td>1217</td>\n",
       "      <td>Uznach</td>\n",
       "      <td>3339</td>\n",
       "      <td>6489</td>\n",
       "      <td>860.610080</td>\n",
       "      <td>27.862537</td>\n",
       "      <td>3500.0</td>\n",
       "    </tr>\n",
       "    <tr>\n",
       "      <th>8</th>\n",
       "      <td>8</td>\n",
       "      <td>node</td>\n",
       "      <td>48932835</td>\n",
       "      <td>47.375020</td>\n",
       "      <td>8.522895</td>\n",
       "      <td>MIGROS</td>\n",
       "      <td>supermarket</td>\n",
       "      <td>Zürich</td>\n",
       "      <td>7</td>\n",
       "      <td>8004.0</td>\n",
       "      <td>POINT (8.522895 47.37502)</td>\n",
       "      <td>77</td>\n",
       "      <td>Zürich</td>\n",
       "      <td>261</td>\n",
       "      <td>420217</td>\n",
       "      <td>4778.994655</td>\n",
       "      <td>32.458468</td>\n",
       "      <td>491193.0</td>\n",
       "    </tr>\n",
       "    <tr>\n",
       "      <th>11</th>\n",
       "      <td>11</td>\n",
       "      <td>node</td>\n",
       "      <td>83330862</td>\n",
       "      <td>47.344749</td>\n",
       "      <td>8.529981</td>\n",
       "      <td>MIGROS</td>\n",
       "      <td>supermarket</td>\n",
       "      <td>Zürich</td>\n",
       "      <td>3</td>\n",
       "      <td>8038.0</td>\n",
       "      <td>POINT (8.5299814 47.3447487)</td>\n",
       "      <td>77</td>\n",
       "      <td>Zürich</td>\n",
       "      <td>261</td>\n",
       "      <td>420217</td>\n",
       "      <td>4778.994655</td>\n",
       "      <td>32.458468</td>\n",
       "      <td>491193.0</td>\n",
       "    </tr>\n",
       "    <tr>\n",
       "      <th>12</th>\n",
       "      <td>12</td>\n",
       "      <td>node</td>\n",
       "      <td>119249170</td>\n",
       "      <td>47.375255</td>\n",
       "      <td>8.536107</td>\n",
       "      <td>MIGROS</td>\n",
       "      <td>supermarket</td>\n",
       "      <td>Zürich</td>\n",
       "      <td>31-35</td>\n",
       "      <td>8001.0</td>\n",
       "      <td>POINT (8.5361073 47.3752549)</td>\n",
       "      <td>77</td>\n",
       "      <td>Zürich</td>\n",
       "      <td>261</td>\n",
       "      <td>420217</td>\n",
       "      <td>4778.994655</td>\n",
       "      <td>32.458468</td>\n",
       "      <td>491193.0</td>\n",
       "    </tr>\n",
       "    <tr>\n",
       "      <th>15</th>\n",
       "      <td>15</td>\n",
       "      <td>node</td>\n",
       "      <td>262400822</td>\n",
       "      <td>47.364072</td>\n",
       "      <td>8.530945</td>\n",
       "      <td>MIGROS</td>\n",
       "      <td>supermarket</td>\n",
       "      <td>Zürich</td>\n",
       "      <td>10</td>\n",
       "      <td>8002.0</td>\n",
       "      <td>POINT (8.5309446 47.3640724)</td>\n",
       "      <td>77</td>\n",
       "      <td>Zürich</td>\n",
       "      <td>261</td>\n",
       "      <td>420217</td>\n",
       "      <td>4778.994655</td>\n",
       "      <td>32.458468</td>\n",
       "      <td>491193.0</td>\n",
       "    </tr>\n",
       "  </tbody>\n",
       "</table>\n",
       "</div>"
      ],
      "text/plain": [
       "    Unnamed: 0  type         id        lat       lon   brand         shop  \\\n",
       "4            4  node   36726161  47.226191  8.980329  MIGROS  supermarket   \n",
       "8            8  node   48932835  47.375020  8.522895  MIGROS  supermarket   \n",
       "11          11  node   83330862  47.344749  8.529981  MIGROS  supermarket   \n",
       "12          12  node  119249170  47.375255  8.536107  MIGROS  supermarket   \n",
       "15          15  node  262400822  47.364072  8.530945  MIGROS  supermarket   \n",
       "\n",
       "   addr:city addr:housenumber  addr:postcode                      geometry  \\\n",
       "4     Uznach               25         8730.0  POINT (8.9803292 47.2261912)   \n",
       "8     Zürich                7         8004.0     POINT (8.522895 47.37502)   \n",
       "11    Zürich                3         8038.0  POINT (8.5299814 47.3447487)   \n",
       "12    Zürich            31-35         8001.0  POINT (8.5361073 47.3752549)   \n",
       "15    Zürich               10         8002.0  POINT (8.5309446 47.3640724)   \n",
       "\n",
       "    index_right bfs_name  bfs_number     pop     pop_dens    frg_pct       emp  \n",
       "4          1217   Uznach        3339    6489   860.610080  27.862537    3500.0  \n",
       "8            77   Zürich         261  420217  4778.994655  32.458468  491193.0  \n",
       "11           77   Zürich         261  420217  4778.994655  32.458468  491193.0  \n",
       "12           77   Zürich         261  420217  4778.994655  32.458468  491193.0  \n",
       "15           77   Zürich         261  420217  4778.994655  32.458468  491193.0  "
      ]
     },
     "execution_count": 66,
     "metadata": {},
     "output_type": "execute_result"
    }
   ],
   "source": [
    "df_sub = df_supermarkets.loc[df_supermarkets['brand'].isin(['MIGROS', 'VOLG'])] \n",
    "print(df_sub.shape)\n",
    "df_sub.head()"
   ]
  },
  {
   "cell_type": "markdown",
   "id": "8454077a",
   "metadata": {},
   "source": [
    "## Classification Tree\n",
    "For details see: https://scikit-learn.org/stable/modules/generated/sklearn.tree.DecisionTreeClassifier.html"
   ]
  },
  {
   "cell_type": "markdown",
   "id": "33fdc652",
   "metadata": {},
   "source": [
    "### Create train and test samples (train = 80%, test = 20% of the data)"
   ]
  },
  {
   "cell_type": "code",
   "execution_count": 67,
   "id": "9ede480d",
   "metadata": {
    "scrolled": false
   },
   "outputs": [
    {
     "name": "stdout",
     "output_type": "stream",
     "text": [
      "X_train:\n",
      "       brand   bfs_name  bfs_number        lat     pop       lon    frg_pct  \\\n",
      "2744  MIGROS      Faido        5072  46.477959    2889  8.800118  20.318449   \n",
      "1783  MIGROS      Olten        2581  47.346669   18399  7.909449  29.278765   \n",
      "12    MIGROS     Zürich         261  47.375255  420217  8.536107  32.458468   \n",
      "65    MIGROS     Zürich         261  47.403796  420217  8.573042  32.458468   \n",
      "920   MIGROS  Fällanden         193  47.373810    8689  8.641065  24.214524   \n",
      "\n",
      "           emp  \n",
      "2744    1132.0  \n",
      "1783   22016.0  \n",
      "12    491193.0  \n",
      "65    491193.0  \n",
      "920     2946.0   \n",
      "\n",
      "y_train:\n",
      "2744      21.787330\n",
      "1783    1601.305483\n",
      "12      4778.994655\n",
      "65      4778.994655\n",
      "920     1361.912226\n",
      "Name: pop_dens, dtype: float64\n"
     ]
    }
   ],
   "source": [
    "# Create train and test samples\n",
    "X_train, X_test, y_train, y_test = train_test_split(df_sub[['brand', \n",
    "                                                            'bfs_name',\n",
    "                                                            'bfs_number',\n",
    "                                                            'lat',\n",
    "                                                            'pop',                                                         \n",
    "                                                            'lon',\n",
    "                                                            'frg_pct', \n",
    "                                                            'emp']], \n",
    "                                                            df_sub['pop_dens'], \n",
    "                                                            test_size=0.20, \n",
    "                                                            random_state=42)\n",
    "\n",
    "# Show X_train\n",
    "print('X_train:')\n",
    "print(X_train.head(), '\\n')\n",
    "\n",
    "# Show y_train\n",
    "print('y_train:')\n",
    "print(y_train.head())\n",
    "\n",
    "#X Matrix mit erklärenden variablen , y mit Vektoren"
   ]
  },
  {
   "cell_type": "code",
   "execution_count": 68,
   "id": "9785b39f",
   "metadata": {},
   "outputs": [
    {
     "name": "stdout",
     "output_type": "stream",
     "text": [
      "X_train:\n",
      "            lat       lon     pop     pop_dens    frg_pct       emp\n",
      "2744  46.477959  8.800118    2889    21.787330  20.318449    1132.0\n",
      "1783  47.346669  7.909449   18399  1601.305483  29.278765   22016.0\n",
      "12    47.375255  8.536107  420217  4778.994655  32.458468  491193.0\n",
      "65    47.403796  8.573042  420217  4778.994655  32.458468  491193.0\n",
      "920   47.373810  8.641065    8689  1361.912226  24.214524    2946.0 \n",
      "\n",
      "y_train:\n",
      "2744    MIGROS\n",
      "1783    MIGROS\n",
      "12      MIGROS\n",
      "65      MIGROS\n",
      "920     MIGROS\n",
      "Name: brand, dtype: object\n"
     ]
    }
   ],
   "source": [
    "X_train, X_test, y_train, y_test = train_test_split(df_sub[['lat',\n",
    "                                                            'lon',\n",
    "                                                            'pop', \n",
    "                                                            'pop_dens', \n",
    "                                                            'frg_pct', \n",
    "                                                            'emp']],\n",
    "                                                    df_sub['brand'], \n",
    "                                                    test_size=0.20, \n",
    "                                                    random_state=42)\n",
    "\n",
    "# Show X_train\n",
    "print('X_train:')\n",
    "print(X_train.head(), '\\n')\n",
    "\n",
    "# Show y_train\n",
    "print('y_train:')\n",
    "print(y_train.head())\n",
    "\n",
    "#X Matrix mit erklärenden variablen , y mit Vektoren"
   ]
  },
  {
   "cell_type": "markdown",
   "id": "d6cff87c",
   "metadata": {},
   "source": [
    "### Fit the classification tree model and make predictions"
   ]
  },
  {
   "cell_type": "code",
   "execution_count": 69,
   "id": "7ba77da5",
   "metadata": {},
   "outputs": [
    {
     "name": "stdout",
     "output_type": "stream",
     "text": [
      "[0 0 0 0 0 0 1 0 0 0 1 0 0 0 0 0 0 0 0 0 0 1 0 0 0 0 0 0 0 0 1 0 1 0 0 1 0\n",
      " 0 0 0 0 1 1 0 0 0 0 0 0 0 0 0 1 1 0 0 0 0 0 0 0 0 0 0 1 0 0 0 0 0 0 0 0 0\n",
      " 0 0 0 0 1 0 0 0 0 0 0 0 1 1 0 1 0 0 0 0 1 0 0 0 0 0 0 0 0 0 0 0 1 0 0 1 0\n",
      " 0 0 0 0 1 1 0 0 0 0 0 0 0 1 1 0 0 0 0 1 1 0 1 0 0 0 0 0 0 0 1 1 0 0 0 0 1\n",
      " 1 0 1 0 0 0 0 0 0 0 0 0 0 1 0 0 0 0 1 0 0 0 0 0 0 0 0 0 0 0 0 0 0 0 0 0 0\n",
      " 0 0 0 0 0 0 0 0 0 1 0 0 0 0 1 0 0 0 0 0 0 1 1 1 0 1 0 0 0 0 1 0 0 0 0 1 0\n",
      " 0 0 0 0 0 0 0 0 0 0 1 0 1 0 0 0 1 0 0 0 1 0 0 0 1 0 0 0 0 0 0 0 0 0 0 0 0\n",
      " 0 1 0 0 1 0 1 0 0 1 0 0 1 0 0 0 0 0 0 0 0 0 0 0 0 0 0 0 1 0 0 0 0 0 0 0 0\n",
      " 0 0 0 0 0 0 0 1 0 0 0 0 0 1 0 0 1 0 1 0 0 0 0 0 0 0]\n"
     ]
    },
    {
     "data": {
      "text/plain": [
       "array([0, 0, 0, 0, 0, 0, 1, 0, 0, 0, 0, 0, 0, 1, 0, 0, 0, 0, 0, 0, 0, 1,\n",
       "       1, 0, 0, 1, 0, 0, 0, 0, 0, 0, 0, 0, 0, 0, 0, 0, 0, 0, 0, 0, 0, 0,\n",
       "       0, 0, 0, 0, 0, 1, 0, 0, 0, 0, 0, 0, 1, 0, 0, 0, 0, 0, 0, 0, 1, 1,\n",
       "       0, 0, 0, 0, 1, 0, 0, 0, 0, 0, 1, 0, 0, 0, 1])"
      ]
     },
     "execution_count": 69,
     "metadata": {},
     "output_type": "execute_result"
    }
   ],
   "source": [
    "from sklearn import preprocessing\n",
    "from sklearn import utils\n",
    "# Initialize the classification tree model \n",
    "# DectionTreeClassifier => macht prediction auf Basis der x-Tests\n",
    "clf = DecisionTreeClassifier(random_state=20, \n",
    "                             max_depth=4)\n",
    "\n",
    "\n",
    "#convert y values to categorical values\n",
    "lab = preprocessing.LabelEncoder()\n",
    "y_transformed = lab.fit_transform(y_train)\n",
    "\n",
    "#view transformed values\n",
    "print(y_transformed)\n",
    "\n",
    "# Train the classification tree model \n",
    "clf = clf.fit(X_train, y_transformed)\n",
    "\n",
    "# Make model predictions\n",
    "y_pred = clf.predict(X_test)\n",
    "y_pred"
   ]
  },
  {
   "cell_type": "code",
   "execution_count": 70,
   "id": "fcccadc9",
   "metadata": {},
   "outputs": [
    {
     "data": {
      "text/plain": [
       "array(['MIGROS', 'MIGROS', 'MIGROS', 'MIGROS', 'MIGROS', 'MIGROS', 'VOLG',\n",
       "       'MIGROS', 'MIGROS', 'MIGROS', 'MIGROS', 'MIGROS', 'MIGROS', 'VOLG',\n",
       "       'MIGROS', 'MIGROS', 'MIGROS', 'MIGROS', 'MIGROS', 'MIGROS',\n",
       "       'MIGROS', 'VOLG', 'VOLG', 'MIGROS', 'MIGROS', 'VOLG', 'MIGROS',\n",
       "       'MIGROS', 'MIGROS', 'MIGROS', 'MIGROS', 'MIGROS', 'MIGROS',\n",
       "       'MIGROS', 'MIGROS', 'MIGROS', 'MIGROS', 'MIGROS', 'MIGROS',\n",
       "       'MIGROS', 'MIGROS', 'MIGROS', 'MIGROS', 'MIGROS', 'MIGROS',\n",
       "       'MIGROS', 'MIGROS', 'MIGROS', 'MIGROS', 'VOLG', 'MIGROS', 'MIGROS',\n",
       "       'MIGROS', 'MIGROS', 'MIGROS', 'MIGROS', 'VOLG', 'MIGROS', 'MIGROS',\n",
       "       'MIGROS', 'MIGROS', 'MIGROS', 'MIGROS', 'MIGROS', 'VOLG', 'VOLG',\n",
       "       'MIGROS', 'MIGROS', 'MIGROS', 'MIGROS', 'VOLG', 'MIGROS', 'MIGROS',\n",
       "       'MIGROS', 'MIGROS', 'MIGROS', 'VOLG', 'MIGROS', 'MIGROS', 'MIGROS',\n",
       "       'VOLG'], dtype=object)"
      ]
     },
     "execution_count": 70,
     "metadata": {},
     "output_type": "execute_result"
    }
   ],
   "source": [
    "# Initialize the classification tree model \n",
    "clf = DecisionTreeClassifier(random_state=20, \n",
    "                             max_depth=4)\n",
    "\n",
    "# Train the classification tree model \n",
    "clf = clf.fit(X_train, y_train)\n",
    "\n",
    "# Make model predictions\n",
    "y_pred = clf.predict(X_test)\n",
    "y_pred"
   ]
  },
  {
   "cell_type": "markdown",
   "id": "cb6fcfc1",
   "metadata": {},
   "source": [
    "### Print text representation of the classification tree"
   ]
  },
  {
   "cell_type": "code",
   "execution_count": 71,
   "id": "822f9fba",
   "metadata": {},
   "outputs": [
    {
     "name": "stdout",
     "output_type": "stream",
     "text": [
      "|--- pop <= 3661.00\n",
      "|   |--- emp <= 741.50\n",
      "|   |   |--- lat <= 46.16\n",
      "|   |   |   |--- class: MIGROS\n",
      "|   |   |--- lat >  46.16\n",
      "|   |   |   |--- lon <= 7.09\n",
      "|   |   |   |   |--- class: MIGROS\n",
      "|   |   |   |--- lon >  7.09\n",
      "|   |   |   |   |--- class: VOLG\n",
      "|   |--- emp >  741.50\n",
      "|   |   |--- lon <= 8.96\n",
      "|   |   |   |--- frg_pct <= 19.37\n",
      "|   |   |   |   |--- class: VOLG\n",
      "|   |   |   |--- frg_pct >  19.37\n",
      "|   |   |   |   |--- class: MIGROS\n",
      "|   |   |--- lon >  8.96\n",
      "|   |   |   |--- class: VOLG\n",
      "|--- pop >  3661.00\n",
      "|   |--- frg_pct <= 23.22\n",
      "|   |   |--- lat <= 47.51\n",
      "|   |   |   |--- lon <= 7.30\n",
      "|   |   |   |   |--- class: VOLG\n",
      "|   |   |   |--- lon >  7.30\n",
      "|   |   |   |   |--- class: MIGROS\n",
      "|   |   |--- lat >  47.51\n",
      "|   |   |   |--- class: VOLG\n",
      "|   |--- frg_pct >  23.22\n",
      "|   |   |--- pop_dens <= 793.58\n",
      "|   |   |   |--- pop_dens <= 736.08\n",
      "|   |   |   |   |--- class: MIGROS\n",
      "|   |   |   |--- pop_dens >  736.08\n",
      "|   |   |   |   |--- class: MIGROS\n",
      "|   |   |--- pop_dens >  793.58\n",
      "|   |   |   |--- class: MIGROS\n",
      "\n"
     ]
    }
   ],
   "source": [
    "# Text representation of the classification tree\n",
    "text_rep = tree.export_text(clf, \n",
    "                            feature_names=list(X_train.columns))\n",
    "\n",
    "# Print text_representation\n",
    "print(text_rep)"
   ]
  },
  {
   "cell_type": "markdown",
   "id": "4daa2e6d",
   "metadata": {},
   "source": [
    "## Visualize the classification tree"
   ]
  },
  {
   "cell_type": "code",
   "execution_count": 72,
   "id": "42fbd512",
   "metadata": {},
   "outputs": [
    {
     "data": {
      "image/png": "[encoded data removed]",
      "text/plain": [
       "<Figure size 1008x432 with 1 Axes>"
      ]
     },
     "metadata": {
      "needs_background": "light"
     },
     "output_type": "display_data"
    }
   ],
   "source": [
    "# For the meaning of numbers in boxes see root node\n",
    "fig = plt.figure(figsize=(14,6))\n",
    "tree_plot = tree.plot_tree(clf, \n",
    "                   feature_names=list(X_train.columns),  \n",
    "                   class_names=['MIGROS', 'VOLG'],\n",
    "                   filled=True,\n",
    "                   fontsize=7,\n",
    "                   label='root')"
   ]
  },
  {
   "cell_type": "markdown",
   "id": "a28a20dd",
   "metadata": {},
   "source": [
    "### Show confusion matrix and classification report"
   ]
  },
  {
   "cell_type": "code",
   "execution_count": 56,
   "id": "de5355f0",
   "metadata": {},
   "outputs": [
    {
     "name": "stdout",
     "output_type": "stream",
     "text": [
      "Confusion matrix\n",
      "[[64  0  6]\n",
      " [ 3  0  1]\n",
      " [ 7  0  9]] \n",
      "\n",
      "Classification report\n",
      "              precision    recall  f1-score   support\n",
      "\n",
      "      Migros       0.86      0.91      0.89        70\n",
      "        Spar       0.00      0.00      0.00         4\n",
      "        Volg       0.56      0.56      0.56        16\n",
      "\n",
      "    accuracy                           0.81        90\n",
      "   macro avg       0.48      0.49      0.48        90\n",
      "weighted avg       0.77      0.81      0.79        90\n",
      "\n"
     ]
    }
   ],
   "source": [
    "# Confusion matrix\n",
    "print('Confusion matrix')\n",
    "print(confusion_matrix(y_test, y_pred), '\\n')\n",
    "\n",
    "# Classification report\n",
    "print('Classification report')\n",
    "print(classification_report(y_test, y_pred))\n",
    "\n",
    "#Confusion-Matrix (oben observed 0,1, auf der Seite predicted 0,1) ist sehr klein, da man nur zwei Klassen hat\n",
    "# für 0 = yes\n",
    "# abgeleitet aus der matrix gibt es ein Classification report\n",
    "# classenimbalance = accuracy - 0.75 (zuerst anschauen)"
   ]
  },
  {
   "cell_type": "markdown",
   "id": "c34ff8a0",
   "metadata": {},
   "source": [
    "### ROC curve and AUC"
   ]
  },
  {
   "cell_type": "code",
   "execution_count": 74,
   "id": "749452c6",
   "metadata": {},
   "outputs": [
    {
     "data": {
      "image/png": "[encoded data removed]",
      "text/plain": [
       "<Figure size 432x288 with 1 Axes>"
      ]
     },
     "metadata": {
      "needs_background": "light"
     },
     "output_type": "display_data"
    }
   ],
   "source": [
    "# Plot ROC curve and calculate AUC\n",
    "plt.figure(figsize=(6,4))\n",
    "ax = plt.gca()\n",
    "rfc_disp = RocCurveDisplay.from_estimator(clf, \n",
    "                                          X_test, \n",
    "                                          y_test, \n",
    "                                          ax=ax,\n",
    "                                          alpha=0.8,\n",
    "                                          c=\"darkred\")\n",
    "plt.show()"
   ]
  },
  {
   "cell_type": "markdown",
   "id": "55281fec",
   "metadata": {},
   "source": [
    "## Random Forest Classifier\n",
    "For details see: https://scikit-learn.org/stable/modules/generated/sklearn.ensemble.RandomForestClassifier.html"
   ]
  },
  {
   "cell_type": "markdown",
   "id": "5123f45e",
   "metadata": {},
   "source": [
    "### Create train and test samples (train = 80%, test = 20% of the data)"
   ]
  },
  {
   "cell_type": "code",
   "execution_count": 75,
   "id": "7141b2d8",
   "metadata": {},
   "outputs": [
    {
     "name": "stdout",
     "output_type": "stream",
     "text": [
      "X2_train:\n",
      "            lat       lon     pop     pop_dens    frg_pct       emp\n",
      "2744  46.477959  8.800118    2889    21.787330  20.318449    1132.0\n",
      "1783  47.346669  7.909449   18399  1601.305483  29.278765   22016.0\n",
      "12    47.375255  8.536107  420217  4778.994655  32.458468  491193.0\n",
      "65    47.403796  8.573042  420217  4778.994655  32.458468  491193.0\n",
      "920   47.373810  8.641065    8689  1361.912226  24.214524    2946.0 \n",
      "\n",
      "y2_train:\n",
      "2744    MIGROS\n",
      "1783    MIGROS\n",
      "12      MIGROS\n",
      "65      MIGROS\n",
      "920     MIGROS\n",
      "Name: brand, dtype: object\n"
     ]
    }
   ],
   "source": [
    "# Create train and test samples\n",
    "X2_train, X2_test, y2_train, y2_test = train_test_split(df_sub[['lat',\n",
    "                                                                'lon',\n",
    "                                                                'pop', \n",
    "                                                                'pop_dens', \n",
    "                                                                'frg_pct', \n",
    "                                                                'emp']],\n",
    "                                                        df_sub['brand'], \n",
    "                                                        test_size=0.20, \n",
    "                                                        random_state=42)\n",
    "\n",
    "# Show X2_train\n",
    "print('X2_train:')\n",
    "print(X2_train.head(), '\\n')\n",
    "\n",
    "# Show y2_train\n",
    "print('y2_train:')\n",
    "print(y2_train.head())"
   ]
  },
  {
   "cell_type": "markdown",
   "id": "db15ac37",
   "metadata": {},
   "source": [
    "### Fit the Random Forest Classifier"
   ]
  },
  {
   "cell_type": "code",
   "execution_count": 76,
   "id": "3bd21de8",
   "metadata": {},
   "outputs": [
    {
     "name": "stdout",
     "output_type": "stream",
     "text": [
      "Brand versus predicted brand: \n",
      "\n"
     ]
    },
    {
     "data": {
      "text/html": [
       "<div>\n",
       "<style scoped>\n",
       "    .dataframe tbody tr th:only-of-type {\n",
       "        vertical-align: middle;\n",
       "    }\n",
       "\n",
       "    .dataframe tbody tr th {\n",
       "        vertical-align: top;\n",
       "    }\n",
       "\n",
       "    .dataframe thead th {\n",
       "        text-align: right;\n",
       "    }\n",
       "</style>\n",
       "<table border=\"1\" class=\"dataframe\">\n",
       "  <thead>\n",
       "    <tr style=\"text-align: right;\">\n",
       "      <th></th>\n",
       "      <th>brand</th>\n",
       "      <th>brand_predicted</th>\n",
       "    </tr>\n",
       "  </thead>\n",
       "  <tbody>\n",
       "    <tr>\n",
       "      <th>0</th>\n",
       "      <td>MIGROS</td>\n",
       "      <td>MIGROS</td>\n",
       "    </tr>\n",
       "    <tr>\n",
       "      <th>1</th>\n",
       "      <td>MIGROS</td>\n",
       "      <td>MIGROS</td>\n",
       "    </tr>\n",
       "    <tr>\n",
       "      <th>2</th>\n",
       "      <td>MIGROS</td>\n",
       "      <td>MIGROS</td>\n",
       "    </tr>\n",
       "    <tr>\n",
       "      <th>3</th>\n",
       "      <td>MIGROS</td>\n",
       "      <td>MIGROS</td>\n",
       "    </tr>\n",
       "    <tr>\n",
       "      <th>4</th>\n",
       "      <td>MIGROS</td>\n",
       "      <td>MIGROS</td>\n",
       "    </tr>\n",
       "    <tr>\n",
       "      <th>...</th>\n",
       "      <td>...</td>\n",
       "      <td>...</td>\n",
       "    </tr>\n",
       "    <tr>\n",
       "      <th>76</th>\n",
       "      <td>MIGROS</td>\n",
       "      <td>MIGROS</td>\n",
       "    </tr>\n",
       "    <tr>\n",
       "      <th>77</th>\n",
       "      <td>MIGROS</td>\n",
       "      <td>MIGROS</td>\n",
       "    </tr>\n",
       "    <tr>\n",
       "      <th>78</th>\n",
       "      <td>MIGROS</td>\n",
       "      <td>MIGROS</td>\n",
       "    </tr>\n",
       "    <tr>\n",
       "      <th>79</th>\n",
       "      <td>MIGROS</td>\n",
       "      <td>MIGROS</td>\n",
       "    </tr>\n",
       "    <tr>\n",
       "      <th>80</th>\n",
       "      <td>VOLG</td>\n",
       "      <td>VOLG</td>\n",
       "    </tr>\n",
       "  </tbody>\n",
       "</table>\n",
       "<p>81 rows × 2 columns</p>\n",
       "</div>"
      ],
      "text/plain": [
       "     brand brand_predicted\n",
       "0   MIGROS          MIGROS\n",
       "1   MIGROS          MIGROS\n",
       "2   MIGROS          MIGROS\n",
       "3   MIGROS          MIGROS\n",
       "4   MIGROS          MIGROS\n",
       "..     ...             ...\n",
       "76  MIGROS          MIGROS\n",
       "77  MIGROS          MIGROS\n",
       "78  MIGROS          MIGROS\n",
       "79  MIGROS          MIGROS\n",
       "80    VOLG            VOLG\n",
       "\n",
       "[81 rows x 2 columns]"
      ]
     },
     "execution_count": 76,
     "metadata": {},
     "output_type": "execute_result"
    }
   ],
   "source": [
    "# Initialize the random forest classifier\n",
    "rfc = RandomForestClassifier(random_state=20, max_depth=10)\n",
    "\n",
    "# Train the classification tree model\n",
    "rfc = rfc.fit(X2_train, y2_train)\n",
    "\n",
    "# Predict the target variable \n",
    "y_pred_rf = rfc.predict(X2_test)\n",
    "\n",
    "# Crosstab\n",
    "print('Brand versus predicted brand:', '\\n')\n",
    "df_pred = pd.DataFrame(data={'brand': y2_test, \n",
    "                             'brand_predicted': y_pred_rf}).reset_index(drop=True)\n",
    "df_pred"
   ]
  },
  {
   "cell_type": "markdown",
   "id": "81eefb08",
   "metadata": {},
   "source": [
    "### Show confusion matrix and classification report"
   ]
  },
  {
   "cell_type": "code",
   "execution_count": 77,
   "id": "f8f171ff",
   "metadata": {},
   "outputs": [
    {
     "name": "stdout",
     "output_type": "stream",
     "text": [
      "Confusion matrix\n",
      "[[65  3]\n",
      " [ 7  6]] \n",
      "\n",
      "Classification report\n",
      "              precision    recall  f1-score   support\n",
      "\n",
      "      MIGROS       0.90      0.96      0.93        68\n",
      "        VOLG       0.67      0.46      0.55        13\n",
      "\n",
      "    accuracy                           0.88        81\n",
      "   macro avg       0.78      0.71      0.74        81\n",
      "weighted avg       0.86      0.88      0.87        81\n",
      "\n"
     ]
    }
   ],
   "source": [
    "# Confusion matrix\n",
    "print('Confusion matrix')\n",
    "print(confusion_matrix(y2_test, y_pred_rf), '\\n')\n",
    "\n",
    "# Classification report\n",
    "print('Classification report')\n",
    "print(classification_report(y2_test, y_pred_rf))"
   ]
  },
  {
   "cell_type": "markdown",
   "id": "dcba715c",
   "metadata": {},
   "source": [
    "### Show feature importance"
   ]
  },
  {
   "cell_type": "code",
   "execution_count": 79,
   "id": "a566ca03",
   "metadata": {},
   "outputs": [
    {
     "name": "stdout",
     "output_type": "stream",
     "text": [
      "Index(['pop', 'emp', 'pop_dens', 'frg_pct', 'lat', 'lon'], dtype='object')\n",
      "[0.35636663 0.20295084 0.15575958 0.12214365 0.0860743  0.07670501]\n"
     ]
    },
    {
     "data": {
      "text/plain": [
       "<AxesSubplot: ylabel='features'>"
      ]
     },
     "execution_count": 79,
     "metadata": {},
     "output_type": "execute_result"
    },
    {
     "data": {
      "image/png": "[encoded data removed]",
      "text/plain": [
       "<Figure size 432x216 with 1 Axes>"
      ]
     },
     "metadata": {
      "needs_background": "light"
     },
     "output_type": "display_data"
    }
   ],
   "source": [
    "cols = X2_train.columns\n",
    "\n",
    "# Derive feature importance from the random forest classifier\n",
    "importances = rfc.feature_importances_\n",
    "std = np.std([tree.feature_importances_ for tree in rfc.estimators_], axis=0)\n",
    "indices = np.argsort(importances)[::-1]\n",
    "\n",
    "# Print col-names and importances-values\n",
    "print( cols[indices] )\n",
    "print( importances[indices] )\n",
    "\n",
    "# Barplot with feature importance\n",
    "df_fi = pd.DataFrame({'features':cols,'importances': importances})\n",
    "df_fi.sort_values('importances', inplace=True)\n",
    "df_fi.plot(kind='barh', \n",
    "           y='importances', \n",
    "           x='features', \n",
    "           color='green', \n",
    "           figsize=(6,3))\n",
    "\n",
    "# hier sieht man z.B.- älterer Mann => geringe Chance\n",
    "# Frau in guter Klasse => höchste chance zu überleben"
   ]
  },
  {
   "cell_type": "markdown",
   "id": "f0039738",
   "metadata": {},
   "source": [
    "### ROC curve and AUC"
   ]
  },
  {
   "cell_type": "code",
   "execution_count": 80,
   "id": "410b176f",
   "metadata": {},
   "outputs": [
    {
     "data": {
      "image/png": "[encoded data removed]",
      "text/plain": [
       "<Figure size 432x288 with 1 Axes>"
      ]
     },
     "metadata": {
      "needs_background": "light"
     },
     "output_type": "display_data"
    }
   ],
   "source": [
    "# Plot ROC curve and calculate AUC\n",
    "plt.figure(figsize=(6,4))\n",
    "ax = plt.gca()\n",
    "rfc_disp = RocCurveDisplay.from_estimator(rfc, \n",
    "                                          X2_test, \n",
    "                                          y2_test, \n",
    "                                          ax=ax,\n",
    "                                          alpha=0.8,\n",
    "                                          c=\"green\")\n",
    "plt.show()\n"
   ]
  },
  {
   "cell_type": "markdown",
   "id": "387bd5b3",
   "metadata": {},
   "source": [
    "### Jupyter notebook --footer info-- (please always provide this at the end of each submitted notebook)"
   ]
  },
  {
   "cell_type": "code",
   "execution_count": null,
   "id": "c933c713",
   "metadata": {},
   "outputs": [],
   "source": [
    "import os\n",
    "import platform\n",
    "import socket\n",
    "from platform import python_version\n",
    "from datetime import datetime\n",
    "\n",
    "print('-----------------------------------')\n",
    "print(os.name.upper())\n",
    "print(platform.system(), '|', platform.release())\n",
    "print('Datetime:', datetime.now().strftime(\"%Y-%m-%d %H:%M:%S\"))\n",
    "print('Python Version:', python_version())\n",
    "print('-----------------------------------')"
   ]
  }
 ],
 "metadata": {
  "kernelspec": {
   "display_name": "Python 3 (ipykernel)",
   "language": "python",
   "name": "python3"
  },
  "language_info": {
   "codemirror_mode": {
    "name": "ipython",
    "version": 3
   },
   "file_extension": ".py",
   "mimetype": "text/x-python",
   "name": "python",
   "nbconvert_exporter": "python",
   "pygments_lexer": "ipython3",
   "version": "3.9.7"
  }
 },
 "nbformat": 4,
 "nbformat_minor": 5
}
