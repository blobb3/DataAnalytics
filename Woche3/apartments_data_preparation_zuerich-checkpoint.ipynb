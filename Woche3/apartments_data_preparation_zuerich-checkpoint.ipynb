{
 "cells": [
  {
   "cell_type": "markdown",
   "id": "3272230e",
   "metadata": {},
   "source": [
    "# Importing and preparing rental apartments data"
   ]
  },
  {
   "cell_type": "markdown",
   "id": "15c02c40",
   "metadata": {},
   "source": [
    "## Repetition:"
   ]
  },
  {
   "cell_type": "code",
   "execution_count": 1,
   "id": "6536dddb",
   "metadata": {},
   "outputs": [
    {
     "data": {
      "text/plain": [
       "[]"
      ]
     },
     "execution_count": 1,
     "metadata": {},
     "output_type": "execute_result"
    }
   ],
   "source": [
    "#An emtpy list is a container\n",
    "rooms = []\n",
    "rooms"
   ]
  },
  {
   "cell_type": "code",
   "execution_count": 2,
   "id": "24f1e2b8",
   "metadata": {},
   "outputs": [
    {
     "name": "stdout",
     "output_type": "stream",
     "text": [
      "1\n",
      "2\n",
      "3\n",
      "4\n",
      "5\n",
      "6\n",
      "7\n",
      "8\n",
      "9\n"
     ]
    }
   ],
   "source": [
    "#filled list \n",
    "rooms = [1,2,3,4,5,6,7,8,9]\n",
    "rooms\n",
    "\n",
    "for i in rooms:\n",
    "    print(i) \n"
   ]
  },
  {
   "cell_type": "markdown",
   "id": "ae491b4b",
   "metadata": {},
   "source": [
    "## Libraries and settings"
   ]
  },
  {
   "cell_type": "code",
   "execution_count": 3,
   "id": "504899c9",
   "metadata": {},
   "outputs": [],
   "source": [
    "# Libraries\n",
    "import os\n",
    "import re\n",
    "import fnmatch\n",
    "import datetime\n",
    "import numpy as np\n",
    "import pandas as pd\n",
    "\n",
    "# Ignore warnings\n",
    "import warnings\n",
    "warnings.filterwarnings(\"ignore\")"
   ]
  },
  {
   "cell_type": "markdown",
   "id": "2a7bff4a",
   "metadata": {},
   "source": [
    "## Importing data"
   ]
  },
  {
   "cell_type": "code",
   "execution_count": 4,
   "id": "aa8f37dd",
   "metadata": {
    "scrolled": true
   },
   "outputs": [
    {
     "name": "stdout",
     "output_type": "stream",
     "text": [
      "C:\\Workspacezhaw\\data analytics\\Woche 3\\Materials for exercises-20221005\n",
      "apartments_data_enriched.csv\n",
      "apartments_data_geocoded.csv\n",
      "apartments_data_prepared.csv\n",
      "apartments_data_zuerich.csv\n"
     ]
    },
    {
     "data": {
      "text/plain": [
       "(1008, 7)"
      ]
     },
     "execution_count": 4,
     "metadata": {},
     "output_type": "execute_result"
    }
   ],
   "source": [
    "# Get current working directory\n",
    "print(os.getcwd())\n",
    "\n",
    "# Show all files in the directory\n",
    "flist = fnmatch.filter(os.listdir('.'), '*.csv')\n",
    "for i in flist:\n",
    "    print(i)\n",
    "\n",
    "# Read the data to a pandas data frame\n",
    "df = pd.read_csv('apartments_data_zuerich.csv', sep=',', encoding='utf-8')\n",
    "\n",
    "# Get number of rows and columns\n",
    "df.shape"
   ]
  },
  {
   "cell_type": "markdown",
   "id": "b95e9f0e",
   "metadata": {},
   "source": [
    "## Count number of rows and columns in the data frame"
   ]
  },
  {
   "cell_type": "code",
   "execution_count": 5,
   "id": "ec7391ad",
   "metadata": {},
   "outputs": [
    {
     "name": "stdout",
     "output_type": "stream",
     "text": [
      "Dimension: (1008, 7)\n",
      "Number of rows: 1008\n",
      "Number of columns: 7\n"
     ]
    }
   ],
   "source": [
    "# Dimension (rows, columns)\n",
    "print('Dimension:', df.shape)\n",
    "\n",
    "# Number of rows\n",
    "print('Number of rows:', df.shape[0])\n",
    "\n",
    "# Number of columns\n",
    "print('Number of columns:', df.shape[1])"
   ]
  },
  {
   "cell_type": "markdown",
   "id": "ace6d22c",
   "metadata": {},
   "source": [
    "## Get data types (raw-format from web scraping)"
   ]
  },
  {
   "cell_type": "code",
   "execution_count": 6,
   "id": "dd9244a5",
   "metadata": {
    "scrolled": true
   },
   "outputs": [
    {
     "data": {
      "text/plain": [
       "web-scraper-order        object\n",
       "web-scraper-start-url    object\n",
       "rooms_area_price_raw     object\n",
       "address_raw              object\n",
       "price_raw                object\n",
       "description_raw          object\n",
       "text_raw                 object\n",
       "dtype: object"
      ]
     },
     "execution_count": 6,
     "metadata": {},
     "output_type": "execute_result"
    }
   ],
   "source": [
    "# Get data types (note that in pandas, a string is referred to as 'object')\n",
    "df.dtypes"
   ]
  },
  {
   "cell_type": "markdown",
   "id": "9ea951fd",
   "metadata": {},
   "source": [
    "## Extract and save relevant information from raw data using regular expressions (regex)"
   ]
  },
  {
   "cell_type": "markdown",
   "id": "7c3be629",
   "metadata": {},
   "source": [
    "### Extract number of rooms"
   ]
  },
  {
   "cell_type": "code",
   "execution_count": 7,
   "id": "1c543c59",
   "metadata": {},
   "outputs": [
    {
     "name": "stdout",
     "output_type": "stream",
     "text": [
      "0    3,5 Zimmer, 122 m², CHF 3180.—\n",
      "1     2,5 Zimmer, 78 m², CHF 3760.—\n",
      "2    5,5 Zimmer, 115 m², CHF 2860.—\n",
      "3     3,5 Zimmer, 74 m², CHF 2165.—\n",
      "4    5,5 Zimmer, 195 m², CHF 6900.—\n",
      "Name: rooms_area_price_raw, dtype: object \n",
      "\n",
      "0    3.5\n",
      "1    2.5\n",
      "2    5.5\n",
      "3    3.5\n",
      "4    5.5\n",
      "Name: rooms, dtype: float64 \n",
      "\n"
     ]
    }
   ],
   "source": [
    "# Extract values from 'rooms_area_price_raw' strings\n",
    "rooms = []\n",
    "for i in df['rooms_area_price_raw']:\n",
    "    d1 = re.findall('(.*)Zimmer', i)\n",
    "    try:\n",
    "        d2 = d1[0].strip().replace(',', '.')\n",
    "    except:\n",
    "        d2 = None\n",
    "    rooms.append(d2)\n",
    "\n",
    "# Save as new variable in the pandas data frame\n",
    "df['rooms'] = pd.Series(rooms, dtype=\"float64\")\n",
    "    \n",
    "# Print first 5 values\n",
    "print(df['rooms_area_price_raw'].head(5), '\\n')\n",
    "print(df['rooms'].head(5), '\\n')"
   ]
  },
  {
   "cell_type": "markdown",
   "id": "d7f049dc",
   "metadata": {},
   "source": [
    "### Extract living area"
   ]
  },
  {
   "cell_type": "code",
   "execution_count": 8,
   "id": "85bc7408",
   "metadata": {},
   "outputs": [
    {
     "name": "stdout",
     "output_type": "stream",
     "text": [
      "0    3,5 Zimmer, 122 m², CHF 3180.—\n",
      "1     2,5 Zimmer, 78 m², CHF 3760.—\n",
      "2    5,5 Zimmer, 115 m², CHF 2860.—\n",
      "3     3,5 Zimmer, 74 m², CHF 2165.—\n",
      "4    5,5 Zimmer, 195 m², CHF 6900.—\n",
      "Name: rooms_area_price_raw, dtype: object \n",
      "\n",
      "0    122\n",
      "1     78\n",
      "2    115\n",
      "3     74\n",
      "4    195\n",
      "Name: area, dtype: Int64 \n",
      "\n"
     ]
    }
   ],
   "source": [
    "# Extract values from 'rooms_area_price_raw' strings\n",
    "area = []\n",
    "for i in df['rooms_area_price_raw']:\n",
    "    d1 = re.findall('Zimmer, (.*)m²', i)\n",
    "    try:\n",
    "        d2 = d1[0].strip()\n",
    "    except:\n",
    "        d2 = None\n",
    "    area.append(d2)\n",
    "\n",
    "# Save as new variable in the pandas data frame\n",
    "df['area'] = pd.Series(area, dtype=\"Int64\")\n",
    "\n",
    "# Print first 5 values\n",
    "print(df['rooms_area_price_raw'].head(5), '\\n')\n",
    "print(df['area'].head(5), '\\n')"
   ]
  },
  {
   "cell_type": "markdown",
   "id": "319ca1bd",
   "metadata": {},
   "source": [
    "### Extract rental price"
   ]
  },
  {
   "cell_type": "code",
   "execution_count": 9,
   "id": "97bba5d3",
   "metadata": {},
   "outputs": [
    {
     "name": "stdout",
     "output_type": "stream",
     "text": [
      "0    CHF 3180.—\n",
      "1    CHF 3760.—\n",
      "2    CHF 2860.—\n",
      "3    CHF 2165.—\n",
      "4    CHF 6900.—\n",
      "Name: price_raw, dtype: object \n",
      "\n",
      "0    3180\n",
      "1    3760\n",
      "2    2860\n",
      "3    2165\n",
      "4    6900\n",
      "Name: price, dtype: Int64\n"
     ]
    }
   ],
   "source": [
    "# Extract values from 'price_raw' strings\n",
    "price = []\n",
    "for i in df['price_raw']:\n",
    "    d1 = re.findall('[0-9]+', i)\n",
    "    try:\n",
    "        d2 = d1[0].strip()\n",
    "    except:\n",
    "        d2 = None\n",
    "    price.append(d2)\n",
    "\n",
    "# Save as new variable in the pandas data frame\n",
    "df['price'] = pd.Series(price, dtype=\"Int64\")\n",
    "\n",
    "# Print first 5 values\n",
    "print(df['price_raw'].head(), '\\n')\n",
    "print(df['price'].head())"
   ]
  },
  {
   "cell_type": "markdown",
   "id": "35ff8127",
   "metadata": {},
   "source": [
    "## Create additional variables from the apartment's descriptions"
   ]
  },
  {
   "cell_type": "markdown",
   "id": "3e913110",
   "metadata": {},
   "source": [
    "### Change strings in 'description_raw' ad 'text_raw' to uppercase "
   ]
  },
  {
   "cell_type": "code",
   "execution_count": null,
   "id": "4800c2c7",
   "metadata": {},
   "outputs": [],
   "source": []
  },
  {
   "cell_type": "code",
   "execution_count": 10,
   "id": "6b751209",
   "metadata": {},
   "outputs": [
    {
     "name": "stdout",
     "output_type": "stream",
     "text": [
      "0    «GROSSE GALERIE, TERRASSE MIT PERGOLA, BERG- U...\n",
      "1              «WUNDERSCHÖNE WOHNUNG IM ENGE-QUARTIER»\n",
      "2                         «WOHNMOMENTE ZUM FESTHALTEN»\n",
      "3                                  «3,5 PIÈCES, 74 M²»\n",
      "4    «WOHNANLAGE IM PARKRING - EXKLUSIVE WOHNUNG ZU...\n",
      "5     «OHNE MIETKAUTION - SUPER RUHIGE LÄNDLICHE LAGE»\n",
      "6    «ERSTVERMIETUNG AM ZÜRICHBERG: CHARMANTE 2.5-Z...\n",
      "7    «ERSTVERMIETUNG NACH TOTAL-SANIERUNG: 3-ZIMMER...\n",
      "8              «NEUES ZUHAUSE FÜR SIE UND IHRE KINDER»\n",
      "9       «MODERN, HELL MIT PANORAMASICHT ÜBERS GLATTAL»\n",
      "Name: description_raw, dtype: object \n",
      "\n",
      "0    3,5 ZIMMER, 122 M², CHF 3180.—SUNNENBERGSTRASS...\n",
      "1    2,5 ZIMMER, 78 M², CHF 3760.—LAVATERSTR. 63, 8...\n",
      "2    5,5 ZIMMER, 115 M², CHF 2860.—LANGFURRENSTRASS...\n",
      "3    TOP3,5 ZIMMER, 74 M², CHF 2165.—SANDBUCKWEG 5A...\n",
      "4    5,5 ZIMMER, 195 M², CHF 6900.—PARKRING 59, 800...\n",
      "5    2 ZIMMER, 47 M², CHF 1400.—IFANGWEG 1, 8610 US...\n",
      "6    2,5 ZIMMER, 59 M², CHF 2920.—FLOBOTSTRASSE 2, ...\n",
      "7    3 ZIMMER, 75 M², CHF 3003.—HINTERBERGSTRASSE 5...\n",
      "8    4,5 ZIMMER, 97 M², CHF 1770.—FROHBERGSTR. 7, 8...\n",
      "9    4,5 ZIMMER, 124 M², CHF 4460.—8306 BRÜTTISELLE...\n",
      "Name: text_raw, dtype: object\n"
     ]
    }
   ],
   "source": [
    "# Change strings to uppercase \n",
    "df['description_raw'] = df['description_raw'].str.upper() #str.upper() == changes all letters of the strings in the df in uppercase letters\n",
    "print(df['description_raw'].head(10), '\\n')\n",
    "\n",
    "df['text_raw'] = df['text_raw'].str.upper()\n",
    "print(df['text_raw'].head(10))"
   ]
  },
  {
   "cell_type": "markdown",
   "id": "0aad2c21",
   "metadata": {},
   "source": [
    "### Calculate lenght of strings in 'description_raw' and 'text_raw'"
   ]
  },
  {
   "cell_type": "code",
   "execution_count": 11,
   "id": "1fb82d72",
   "metadata": {},
   "outputs": [
    {
     "name": "stdout",
     "output_type": "stream",
     "text": [
      "«GROSSE GALERIE, TERRASSE MIT PERGOLA, BERG- UND SEESICHT»\n",
      "0       58\n",
      "1       39\n",
      "2       28\n",
      "3       19\n",
      "4       57\n",
      "        ..\n",
      "1003    33\n",
      "1004    33\n",
      "1005    51\n",
      "1006    41\n",
      "1007    58\n",
      "Name: description_raw_len, Length: 1008, dtype: int64 \n",
      "\n",
      "3,5 ZIMMER, 122 M², CHF 3180.—SUNNENBERGSTRASSE 15, 8633 WOLFHAUSEN, ZH«GROSSE GALERIE, TERRASSE MIT PERGOLA, BERG- UND SEESICHT»IN WOLFHAUSEN, EINGEBETTET IN DIE SANFTEN HÜGEL ÜBER DEM ZÜRICHSEE VERMIETEN WIR PER 1. OKTOBER 2022 DIESE MAISONETTE-DACHWOHNUNG, WELCHE MIT FOLGENDER AUSSTATTUNG ÜBERZEUGT:GROSSE TERRASSE MIT PERGOLA, SEE-/WEITSICHT UND VIEL SONNENSCHEIN GARANTIERTLICHTDURCHFLUTETE GALERIESCHLAFZIMMER MIT ZUGANG INS BAD MIT DUSCHE UND WCEIN WEITERES SCHLAFZIMMER MIT EINEM EINBAUSCHRANKSEPARATE NASSZELLE MIT ECKBADEWANNE UND WCTOPMODERNE KÜCHE MIT SÄMTLICHEN KOMFORTOFFENES WOHN- UND ESSZIMMERDIE NASSZELLEN UND DIE KÜCHE SIND MIT FEINSTEINZEUGPLATTEN UND DER RE\n",
      "0       679\n",
      "1       661\n",
      "2       650\n",
      "3       635\n",
      "4       665\n",
      "       ... \n",
      "1003    645\n",
      "1004    681\n",
      "1005    663\n",
      "1006    688\n",
      "1007    712\n",
      "Name: text_raw_len, Length: 1008, dtype: int64\n"
     ]
    }
   ],
   "source": [
    "# Show first item of variable 'description_raw'\n",
    "print(df['description_raw'][0])\n",
    "\n",
    "# Lenght of the strings in 'description_raw'\n",
    "df['description_raw_len'] = df['description_raw'].str.len()\n",
    "print(df['description_raw_len'], '\\n')\n",
    "\n",
    "# Show first item of variable 'text_raw'\n",
    "print(df['text_raw'][0])\n",
    "\n",
    "# Lenght of the strings in 'text_raw'\n",
    "df['text_raw_len'] = df['text_raw'].str.len()\n",
    "print(df['text_raw_len'])"
   ]
  },
  {
   "cell_type": "markdown",
   "id": "d33d3fd9",
   "metadata": {},
   "source": [
    "### Create new binary (0/1) variable 'luxurious'"
   ]
  },
  {
   "cell_type": "code",
   "execution_count": 12,
   "id": "8e0d2ff8",
   "metadata": {},
   "outputs": [
    {
     "name": "stdout",
     "output_type": "stream",
     "text": [
      "71\n",
      "71\n",
      "71\n",
      "71\n",
      "71\n",
      "71\n"
     ]
    },
    {
     "data": {
      "text/html": [
       "<div>\n",
       "<style scoped>\n",
       "    .dataframe tbody tr th:only-of-type {\n",
       "        vertical-align: middle;\n",
       "    }\n",
       "\n",
       "    .dataframe tbody tr th {\n",
       "        vertical-align: top;\n",
       "    }\n",
       "\n",
       "    .dataframe thead th {\n",
       "        text-align: right;\n",
       "    }\n",
       "</style>\n",
       "<table border=\"1\" class=\"dataframe\">\n",
       "  <thead>\n",
       "    <tr style=\"text-align: right;\">\n",
       "      <th></th>\n",
       "      <th>description_raw</th>\n",
       "      <th>rooms</th>\n",
       "      <th>area</th>\n",
       "      <th>price</th>\n",
       "      <th>luxurious</th>\n",
       "      <th>furnished</th>\n",
       "      <th>balcony</th>\n",
       "      <th>garden</th>\n",
       "      <th>quiet</th>\n",
       "      <th>central</th>\n",
       "    </tr>\n",
       "  </thead>\n",
       "  <tbody>\n",
       "    <tr>\n",
       "      <th>0</th>\n",
       "      <td>«GROSSE GALERIE, TERRASSE MIT PERGOLA, BERG- U...</td>\n",
       "      <td>3.5</td>\n",
       "      <td>122</td>\n",
       "      <td>3180</td>\n",
       "      <td>1</td>\n",
       "      <td>1</td>\n",
       "      <td>1</td>\n",
       "      <td>1</td>\n",
       "      <td>1</td>\n",
       "      <td>1</td>\n",
       "    </tr>\n",
       "    <tr>\n",
       "      <th>1</th>\n",
       "      <td>«WUNDERSCHÖNE WOHNUNG IM ENGE-QUARTIER»</td>\n",
       "      <td>2.5</td>\n",
       "      <td>78</td>\n",
       "      <td>3760</td>\n",
       "      <td>0</td>\n",
       "      <td>0</td>\n",
       "      <td>0</td>\n",
       "      <td>0</td>\n",
       "      <td>0</td>\n",
       "      <td>0</td>\n",
       "    </tr>\n",
       "    <tr>\n",
       "      <th>2</th>\n",
       "      <td>«WOHNMOMENTE ZUM FESTHALTEN»</td>\n",
       "      <td>5.5</td>\n",
       "      <td>115</td>\n",
       "      <td>2860</td>\n",
       "      <td>0</td>\n",
       "      <td>0</td>\n",
       "      <td>0</td>\n",
       "      <td>0</td>\n",
       "      <td>0</td>\n",
       "      <td>0</td>\n",
       "    </tr>\n",
       "    <tr>\n",
       "      <th>3</th>\n",
       "      <td>«3,5 PIÈCES, 74 M²»</td>\n",
       "      <td>3.5</td>\n",
       "      <td>74</td>\n",
       "      <td>2165</td>\n",
       "      <td>0</td>\n",
       "      <td>0</td>\n",
       "      <td>0</td>\n",
       "      <td>0</td>\n",
       "      <td>0</td>\n",
       "      <td>0</td>\n",
       "    </tr>\n",
       "    <tr>\n",
       "      <th>4</th>\n",
       "      <td>«WOHNANLAGE IM PARKRING - EXKLUSIVE WOHNUNG ZU...</td>\n",
       "      <td>5.5</td>\n",
       "      <td>195</td>\n",
       "      <td>6900</td>\n",
       "      <td>1</td>\n",
       "      <td>1</td>\n",
       "      <td>1</td>\n",
       "      <td>1</td>\n",
       "      <td>1</td>\n",
       "      <td>1</td>\n",
       "    </tr>\n",
       "    <tr>\n",
       "      <th>...</th>\n",
       "      <td>...</td>\n",
       "      <td>...</td>\n",
       "      <td>...</td>\n",
       "      <td>...</td>\n",
       "      <td>...</td>\n",
       "      <td>...</td>\n",
       "      <td>...</td>\n",
       "      <td>...</td>\n",
       "      <td>...</td>\n",
       "      <td>...</td>\n",
       "    </tr>\n",
       "    <tr>\n",
       "      <th>1003</th>\n",
       "      <td>«TRAUMHAFTE LOFTWOHNUNG GESUCHT?»</td>\n",
       "      <td>1.5</td>\n",
       "      <td>65</td>\n",
       "      <td>2470</td>\n",
       "      <td>1</td>\n",
       "      <td>1</td>\n",
       "      <td>1</td>\n",
       "      <td>1</td>\n",
       "      <td>1</td>\n",
       "      <td>1</td>\n",
       "    </tr>\n",
       "    <tr>\n",
       "      <th>1004</th>\n",
       "      <td>«AN SONNIGER LAGE, RICHTUNG WALD»</td>\n",
       "      <td>3.5</td>\n",
       "      <td>70</td>\n",
       "      <td>1465</td>\n",
       "      <td>0</td>\n",
       "      <td>0</td>\n",
       "      <td>0</td>\n",
       "      <td>0</td>\n",
       "      <td>0</td>\n",
       "      <td>0</td>\n",
       "    </tr>\n",
       "    <tr>\n",
       "      <th>1005</th>\n",
       "      <td>«IHRE WOHNUNG AN RUHIGER LAGE - BEFRISTETES WO...</td>\n",
       "      <td>2.5</td>\n",
       "      <td>56</td>\n",
       "      <td>1870</td>\n",
       "      <td>0</td>\n",
       "      <td>0</td>\n",
       "      <td>0</td>\n",
       "      <td>0</td>\n",
       "      <td>0</td>\n",
       "      <td>0</td>\n",
       "    </tr>\n",
       "    <tr>\n",
       "      <th>1006</th>\n",
       "      <td>«MODERNE 3.5-ZIMMERWOHNUNG IN ALTSTETTEN»</td>\n",
       "      <td>3.5</td>\n",
       "      <td>70</td>\n",
       "      <td>2190</td>\n",
       "      <td>0</td>\n",
       "      <td>0</td>\n",
       "      <td>0</td>\n",
       "      <td>0</td>\n",
       "      <td>0</td>\n",
       "      <td>0</td>\n",
       "    </tr>\n",
       "    <tr>\n",
       "      <th>1007</th>\n",
       "      <td>«SCHÖNE 3.5-ZIMMER-MAISONETTE-WOHNUNG MIT SONN...</td>\n",
       "      <td>3.5</td>\n",
       "      <td>96</td>\n",
       "      <td>2260</td>\n",
       "      <td>0</td>\n",
       "      <td>0</td>\n",
       "      <td>0</td>\n",
       "      <td>0</td>\n",
       "      <td>0</td>\n",
       "      <td>0</td>\n",
       "    </tr>\n",
       "  </tbody>\n",
       "</table>\n",
       "<p>1008 rows × 10 columns</p>\n",
       "</div>"
      ],
      "text/plain": [
       "                                        description_raw  rooms  area  price  \\\n",
       "0     «GROSSE GALERIE, TERRASSE MIT PERGOLA, BERG- U...    3.5   122   3180   \n",
       "1               «WUNDERSCHÖNE WOHNUNG IM ENGE-QUARTIER»    2.5    78   3760   \n",
       "2                          «WOHNMOMENTE ZUM FESTHALTEN»    5.5   115   2860   \n",
       "3                                   «3,5 PIÈCES, 74 M²»    3.5    74   2165   \n",
       "4     «WOHNANLAGE IM PARKRING - EXKLUSIVE WOHNUNG ZU...    5.5   195   6900   \n",
       "...                                                 ...    ...   ...    ...   \n",
       "1003                  «TRAUMHAFTE LOFTWOHNUNG GESUCHT?»    1.5    65   2470   \n",
       "1004                  «AN SONNIGER LAGE, RICHTUNG WALD»    3.5    70   1465   \n",
       "1005  «IHRE WOHNUNG AN RUHIGER LAGE - BEFRISTETES WO...    2.5    56   1870   \n",
       "1006          «MODERNE 3.5-ZIMMERWOHNUNG IN ALTSTETTEN»    3.5    70   2190   \n",
       "1007  «SCHÖNE 3.5-ZIMMER-MAISONETTE-WOHNUNG MIT SONN...    3.5    96   2260   \n",
       "\n",
       "      luxurious  furnished  balcony  garden  quiet  central  \n",
       "0             1          1        1       1      1        1  \n",
       "1             0          0        0       0      0        0  \n",
       "2             0          0        0       0      0        0  \n",
       "3             0          0        0       0      0        0  \n",
       "4             1          1        1       1      1        1  \n",
       "...         ...        ...      ...     ...    ...      ...  \n",
       "1003          1          1        1       1      1        1  \n",
       "1004          0          0        0       0      0        0  \n",
       "1005          0          0        0       0      0        0  \n",
       "1006          0          0        0       0      0        0  \n",
       "1007          0          0        0       0      0        0  \n",
       "\n",
       "[1008 rows x 10 columns]"
      ]
     },
     "execution_count": 12,
     "metadata": {},
     "output_type": "execute_result"
    }
   ],
   "source": [
    "# Create a pattern which can be used to search the variable 'description_raw'\n",
    "pattern = '(LOFT)|(SEESICHT)|(ATTIKA)|(LUXURIÖS)|(POOL)|(EXKLUSIV)'\n",
    "\n",
    "# Create new variable 'luxurious' as binary dummy (0/1) variable\n",
    "df['luxurious'] = df['description_raw'].str.contains(pat = pattern).astype(int)\n",
    "print(df['luxurious'].sum())\n",
    "\n",
    "# Create new variable 'furnished' as binary dummy (0/1) variable\n",
    "df['furnished'] = df['description_raw'].str.contains(pat = pattern).astype(int)\n",
    "print(df['furnished'].sum())\n",
    "\n",
    "# Create new variable 'balcony' as binary dummy (0/1) variable\n",
    "df['balcony'] = df['description_raw'].str.contains(pat = pattern).astype(int)\n",
    "print(df['balcony'].sum())\n",
    "\n",
    "# Create new variable 'garden' as binary dummy (0/1) variable\n",
    "df['garden'] = df['description_raw'].str.contains(pat = pattern).astype(int)\n",
    "print(df['garden'].sum())\n",
    "\n",
    "# Create new variable 'quiet' as binary dummy (0/1) variable\n",
    "df['quiet'] = df['description_raw'].str.contains(pat = pattern).astype(int)\n",
    "print(df['quiet'].sum())\n",
    "\n",
    "# Create new variable 'central' as binary dummy (0/1) variable\n",
    "df['central'] = df['description_raw'].str.contains(pat = pattern).astype(int)\n",
    "print(df['central'].sum())\n",
    "\n",
    "# Show values\n",
    "df[['description_raw','rooms','area','price','luxurious','furnished','balcony','garden','quiet','central']]"
   ]
  },
  {
   "cell_type": "markdown",
   "id": "f90ec0e3",
   "metadata": {},
   "source": [
    "### Create new categorical variable based on apartment area"
   ]
  },
  {
   "cell_type": "markdown",
   "id": "54968d57",
   "metadata": {},
   "source": [
    "#test1\n",
    "numberLevel = {0 - 49: \"low\", 50-99: \"medium\", 100-500: \"high\"}\n",
    "\n",
    " def getNumberAsLevel(number):\n",
    "    if number == 0-49:\n",
    "        return \"low\"\n",
    "    elif number == 50-99:\n",
    "        return \"medium\"\n",
    "    elif number == 100-500:\n",
    "        return \"high\"\n",
    "    \n",
    "for i in range(1,500):\n",
    "    print(getNumberAsLevel(i))"
   ]
  },
  {
   "cell_type": "code",
   "execution_count": 19,
   "id": "7047eb5c",
   "metadata": {},
   "outputs": [
    {
     "data": {
      "text/html": [
       "<div>\n",
       "<style scoped>\n",
       "    .dataframe tbody tr th:only-of-type {\n",
       "        vertical-align: middle;\n",
       "    }\n",
       "\n",
       "    .dataframe tbody tr th {\n",
       "        vertical-align: top;\n",
       "    }\n",
       "\n",
       "    .dataframe thead th {\n",
       "        text-align: right;\n",
       "    }\n",
       "</style>\n",
       "<table border=\"1\" class=\"dataframe\">\n",
       "  <thead>\n",
       "    <tr style=\"text-align: right;\">\n",
       "      <th></th>\n",
       "      <th>area</th>\n",
       "      <th>area_cat</th>\n",
       "      <th>levels</th>\n",
       "    </tr>\n",
       "  </thead>\n",
       "  <tbody>\n",
       "    <tr>\n",
       "      <th>0</th>\n",
       "      <td>122</td>\n",
       "      <td>100 - 500</td>\n",
       "      <td>high</td>\n",
       "    </tr>\n",
       "    <tr>\n",
       "      <th>1</th>\n",
       "      <td>78</td>\n",
       "      <td>50 - 99</td>\n",
       "      <td>medium</td>\n",
       "    </tr>\n",
       "    <tr>\n",
       "      <th>2</th>\n",
       "      <td>115</td>\n",
       "      <td>100 - 500</td>\n",
       "      <td>high</td>\n",
       "    </tr>\n",
       "    <tr>\n",
       "      <th>3</th>\n",
       "      <td>74</td>\n",
       "      <td>50 - 99</td>\n",
       "      <td>medium</td>\n",
       "    </tr>\n",
       "    <tr>\n",
       "      <th>4</th>\n",
       "      <td>195</td>\n",
       "      <td>100 - 500</td>\n",
       "      <td>high</td>\n",
       "    </tr>\n",
       "    <tr>\n",
       "      <th>5</th>\n",
       "      <td>47</td>\n",
       "      <td>0 - 49</td>\n",
       "      <td>low</td>\n",
       "    </tr>\n",
       "    <tr>\n",
       "      <th>6</th>\n",
       "      <td>59</td>\n",
       "      <td>50 - 99</td>\n",
       "      <td>medium</td>\n",
       "    </tr>\n",
       "    <tr>\n",
       "      <th>7</th>\n",
       "      <td>75</td>\n",
       "      <td>50 - 99</td>\n",
       "      <td>medium</td>\n",
       "    </tr>\n",
       "    <tr>\n",
       "      <th>8</th>\n",
       "      <td>97</td>\n",
       "      <td>50 - 99</td>\n",
       "      <td>medium</td>\n",
       "    </tr>\n",
       "    <tr>\n",
       "      <th>9</th>\n",
       "      <td>124</td>\n",
       "      <td>100 - 500</td>\n",
       "      <td>high</td>\n",
       "    </tr>\n",
       "  </tbody>\n",
       "</table>\n",
       "</div>"
      ],
      "text/plain": [
       "   area   area_cat  levels\n",
       "0   122  100 - 500    high\n",
       "1    78    50 - 99  medium\n",
       "2   115  100 - 500    high\n",
       "3    74    50 - 99  medium\n",
       "4   195  100 - 500    high\n",
       "5    47     0 - 49     low\n",
       "6    59    50 - 99  medium\n",
       "7    75    50 - 99  medium\n",
       "8    97    50 - 99  medium\n",
       "9   124  100 - 500    high"
      ]
     },
     "execution_count": 19,
     "metadata": {},
     "output_type": "execute_result"
    }
   ],
   "source": [
    "labels = ['0 - 49', '50 - 99', '100 - 500']\n",
    "labels1 = ['low','medium','high']\n",
    "\n",
    "df[\"area_cat\"] = pd.cut(df.area, bins=[0, 50, 100, 500], labels=labels) #df.area, bins  == df['area'], bins\n",
    "df[\"levels\"] = pd.cut(df['area'], bins=[0, 50, 100, 500], labels=labels1)\n",
    "df[['area', 'area_cat','levels']].head(10)"
   ]
  },
  {
   "cell_type": "markdown",
   "id": "48bf12b3",
   "metadata": {},
   "source": [
    "### Create new numeric variable 'price_per_m2'"
   ]
  },
  {
   "cell_type": "code",
   "execution_count": null,
   "id": "505c5613",
   "metadata": {},
   "outputs": [],
   "source": [
    "# Create the new variable\n",
    "df['price_per_m2'] = round(df['price'] / df['area'], 2)\n",
    "\n",
    "# Show values\n",
    "df[['description_raw','rooms','area','price','luxurious','price_per_m2']]"
   ]
  },
  {
   "cell_type": "markdown",
   "id": "bcb4fdd6",
   "metadata": {},
   "source": [
    "### Create new numeric variable based on  'price_per_m2' & 'apartment area'"
   ]
  },
  {
   "cell_type": "code",
   "execution_count": null,
   "id": "f8bfb825",
   "metadata": {},
   "outputs": [],
   "source": [
    "# price per m2 & price categorie (Unterricht - Task1 - Price per m2)\n",
    "\n",
    "df['price_per_m2'] = df['price'] / df['area']\n",
    "df['price_per_m2'] #just for printing\n",
    "\n",
    "labels = ['0 - 14', '15 - 19','20 - 29', '30 - 39', '40 - 49', '50 - 59', '60 - 69', '70 - 79', '80 - 89', '90 - 1000']\n",
    "df[\"price_cat\"] = pd.cut(df['price_per_m2'], bins = [0,15,20,30,40,50,60,70,80,90,100], labels = labels)\n",
    "df[['price_per_m2', 'price_cat','area','price']].head(10)"
   ]
  },
  {
   "cell_type": "markdown",
   "id": "68ea9d52",
   "metadata": {},
   "source": [
    "### Including current datetime"
   ]
  },
  {
   "cell_type": "code",
   "execution_count": null,
   "id": "02a1e025",
   "metadata": {},
   "outputs": [],
   "source": [
    "# Get and format datetime\n",
    "df['datetime'] = datetime.datetime.now().strftime(\"%Y-%m-%d %H:%M:%S\")\n",
    "\n",
    "# Show values\n",
    "df[['description_raw','rooms','area','price','luxurious','price_per_m2', 'datetime']]"
   ]
  },
  {
   "cell_type": "markdown",
   "id": "5167f84f",
   "metadata": {},
   "source": [
    "## Count, identify and remove missing values"
   ]
  },
  {
   "cell_type": "code",
   "execution_count": null,
   "id": "4adb46bf",
   "metadata": {},
   "outputs": [],
   "source": [
    "# Count missing values\n",
    "print('Count missing values per variable')\n",
    "print(pd.isna(df).sum(), '\\n')\n",
    "\n",
    "# Identify rows with missing values\n",
    "print('Identify rows with missing values')\n",
    "print(df.loc[df.isna().any(axis=1)][['rooms', 'area', 'price']], '\\n')\n",
    "\n",
    "# Drop rows where at least one element is missing.\n",
    "df2 = df.dropna()\n",
    "df2.head()"
   ]
  },
  {
   "cell_type": "markdown",
   "id": "a3d65146",
   "metadata": {},
   "source": [
    "## Count, identify & remove duplicated values"
   ]
  },
  {
   "cell_type": "code",
   "execution_count": null,
   "id": "ca18dc05",
   "metadata": {},
   "outputs": [],
   "source": [
    "# Count duplicated values in the whole data set\n",
    "print('Sum of missing values:', df.duplicated().sum(), '\\n')\n",
    "\n",
    "# Identify duplicated values in 'rooms', 'area', 'price'\n",
    "print('Duplicated values')\n",
    "print(df.loc[df.duplicated(keep = 'last')])\n",
    "\n",
    "# Drop the rows with duplicated values\n",
    "df3 = df2.drop_duplicates()"
   ]
  },
  {
   "cell_type": "markdown",
   "id": "165f8f9f",
   "metadata": {},
   "source": [
    "### Save data to file"
   ]
  },
  {
   "cell_type": "code",
   "execution_count": null,
   "id": "3c2773d3",
   "metadata": {},
   "outputs": [],
   "source": [
    "df3.to_csv('apartments_data_prepared.csv', \n",
    "          sep=\",\", \n",
    "          encoding='utf-8',\n",
    "          index=False)"
   ]
  },
  {
   "cell_type": "markdown",
   "id": "86257783",
   "metadata": {},
   "source": [
    "### Jupyter notebook --footer info-- (please always provide this at the end of each submitted notebook)"
   ]
  },
  {
   "cell_type": "code",
   "execution_count": null,
   "id": "7f5bf8aa",
   "metadata": {},
   "outputs": [],
   "source": [
    "import os\n",
    "import platform\n",
    "import socket\n",
    "from platform import python_version\n",
    "from datetime import datetime\n",
    "\n",
    "print('-----------------------------------')\n",
    "print(os.name.upper())\n",
    "print(platform.system(), '|', platform.release())\n",
    "print('Datetime:', datetime.now().strftime(\"%Y-%m-%d %H:%M:%S\"))\n",
    "print('Python Version:', python_version())\n",
    "print('-----------------------------------')"
   ]
  }
 ],
 "metadata": {
  "kernelspec": {
   "display_name": "Python 3 (ipykernel)",
   "language": "python",
   "name": "python3"
  },
  "language_info": {
   "codemirror_mode": {
    "name": "ipython",
    "version": 3
   },
   "file_extension": ".py",
   "mimetype": "text/x-python",
   "name": "python",
   "nbconvert_exporter": "python",
   "pygments_lexer": "ipython3",
   "version": "3.9.7"
  }
 },
 "nbformat": 4,
 "nbformat_minor": 5
}
