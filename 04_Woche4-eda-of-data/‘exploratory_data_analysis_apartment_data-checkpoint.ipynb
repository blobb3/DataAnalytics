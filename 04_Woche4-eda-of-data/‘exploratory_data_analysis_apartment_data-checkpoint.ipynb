{
 "cells": [
  {
   "cell_type": "markdown",
   "metadata": {},
   "source": [
    "# Exploratory data analysis (EDA) of apartments data"
   ]
  },
  {
   "cell_type": "markdown",
   "metadata": {},
   "source": [
    "## Libraries and settings"
   ]
  },
  {
   "cell_type": "code",
   "execution_count": null,
   "metadata": {},
   "outputs": [],
   "source": [
    "# Libraries\n",
    "import pandas as pd\n",
    "import numpy as np\n",
    "import seaborn as sns\n",
    "import matplotlib.pyplot as plt\n",
    "import statsmodels.api as sm\n",
    "import pylab as py\n",
    "\n",
    "# seaborn graphics settings\n",
    "sns.set(color_codes=True)\n",
    "\n",
    "# Ignore warnings\n",
    "import warnings\n",
    "warnings.filterwarnings(\"ignore\")"
   ]
  },
  {
   "cell_type": "markdown",
   "metadata": {},
   "source": [
    "## Univariate non-graphical exploratory data analysis (EDA)"
   ]
  },
  {
   "cell_type": "markdown",
   "metadata": {},
   "source": [
    "### Importing the enriched apartment data"
   ]
  },
  {
   "cell_type": "code",
   "execution_count": null,
   "metadata": {},
   "outputs": [],
   "source": [
    "# Read and select variables\n",
    "df_orig = pd.read_csv(\"apartments_data_enriched.csv\")[['web-scraper-order',\n",
    "                                                 'address_raw',\n",
    "                                                 'bfs_number',\n",
    "                                                 'bfs_name',\n",
    "                                                 'rooms', \n",
    "                                                 'area', \n",
    "                                                 'luxurious', \n",
    "                                                 'price', \n",
    "                                                 'price_per_m2',\n",
    "                                                 'pop_dens',\n",
    "                                                 'frg_pct']]\n",
    "\n",
    "# Remove duplicates\n",
    "df_orig = df_orig.drop_duplicates()\n",
    "df_orig.head(5)\n",
    "\n",
    "# Remove missing values\n",
    "df_orig = df_orig.dropna()\n",
    "df_orig.head(5)"
   ]
  },
  {
   "cell_type": "markdown",
   "metadata": {},
   "source": [
    "### Filter apartments"
   ]
  },
  {
   "cell_type": "code",
   "execution_count": null,
   "metadata": {},
   "outputs": [],
   "source": [
    "# Replace the 5000 below by the 10% quantile or 90% quantile to filter apartments\n",
    "df = df_orig.loc[df_orig['pop_dens'] >= 4778]  # this would be just zürich \n",
    "\n",
    "np.array(pd.Categorical(df['bfs_name']).categories)"
   ]
  },
  {
   "cell_type": "code",
   "execution_count": null,
   "metadata": {},
   "outputs": [],
   "source": [
    "# Replace the 5000 below by the 10% quantile or 90% quantile to filter apartments\n",
    "df = df_orig.loc[df_orig['pop_dens'] <= df_orig['pop_dens'].quantile(.1)]\n",
    "\n",
    "np.array(pd.Categorical(df['bfs_name']).categories)"
   ]
  },
  {
   "cell_type": "markdown",
   "metadata": {},
   "source": [
    "### Shape (number of rows and colums)"
   ]
  },
  {
   "cell_type": "code",
   "execution_count": null,
   "metadata": {},
   "outputs": [],
   "source": [
    "# Number of rows and columns\n",
    "print(df.shape)"
   ]
  },
  {
   "cell_type": "markdown",
   "metadata": {},
   "source": [
    "### Data types"
   ]
  },
  {
   "cell_type": "code",
   "execution_count": null,
   "metadata": {},
   "outputs": [],
   "source": [
    "df.dtypes"
   ]
  },
  {
   "cell_type": "markdown",
   "metadata": {},
   "source": [
    "### Summary statistics of numeric variables"
   ]
  },
  {
   "cell_type": "code",
   "execution_count": null,
   "metadata": {},
   "outputs": [],
   "source": [
    "df.describe() #everything relevant"
   ]
  },
  {
   "cell_type": "markdown",
   "metadata": {},
   "source": [
    "### Statistical measures (min, max, std, mean, median, count) for selected variables"
   ]
  },
  {
   "cell_type": "code",
   "execution_count": null,
   "metadata": {},
   "outputs": [],
   "source": [
    "# Price (manually)\n",
    "print('Price:',\n",
    "      'Count:', round(df.price.count(), 1),\n",
    "      'Min:', round(df.price.min(), 1),\n",
    "      'Max:', round(df.price.max(), 1),\n",
    "      'Mean:', round(df.price.mean(), 1),\n",
    "      'Median:', round(df.price.median(), 1),\n",
    "      'Std:', round(df.price.std(), 1))\n",
    "\n",
    "# Area\n",
    "print('Area:',\n",
    "      'Count:', round(df.area.count(), 1),\n",
    "      'Min:', round(df.area.min(), 1),\n",
    "      'Max:', round(df.area.max(), 1),\n",
    "      'Mean:', round(df.area.mean(), 1),\n",
    "      'Median:', round(df.area.median(), 1),\n",
    "      'Std:', round(df.area.std(), 1))"
   ]
  },
  {
   "cell_type": "markdown",
   "metadata": {},
   "source": [
    "### Quantiles"
   ]
  },
  {
   "cell_type": "code",
   "execution_count": null,
   "metadata": {},
   "outputs": [],
   "source": [
    "df.quantile(q=[0.01,0.05, 0.10, 0.25, 0.50, 0.75, 0.90, 0.95]).round(2) # the pop:dens is a dendity-parameter \n",
    "# we find the larger cities in the 0.75-0.95 parts , and the more rural part 0.01-0.05\n",
    "# we have a 0.10 quantile, which means, that we have  4778.99 people per square meter in zürich"
   ]
  },
  {
   "cell_type": "markdown",
   "metadata": {},
   "source": [
    "### Skewness"
   ]
  },
  {
   "cell_type": "code",
   "execution_count": null,
   "metadata": {},
   "outputs": [],
   "source": [
    "df.skew()"
   ]
  },
  {
   "cell_type": "markdown",
   "metadata": {},
   "source": [
    "### Kurtosis"
   ]
  },
  {
   "cell_type": "code",
   "execution_count": null,
   "metadata": {},
   "outputs": [],
   "source": [
    "#Steilheit der Normalverteilung\n",
    "df.kurtosis()"
   ]
  },
  {
   "cell_type": "markdown",
   "metadata": {},
   "source": [
    "### Extreme values"
   ]
  },
  {
   "cell_type": "code",
   "execution_count": null,
   "metadata": {},
   "outputs": [],
   "source": [
    "# Low costs apartments\n",
    "#perfect for searching for mistakes\n",
    "df[df.price <= 1000].head()"
   ]
  },
  {
   "cell_type": "code",
   "execution_count": null,
   "metadata": {},
   "outputs": [],
   "source": [
    "# Very expansive apartments\n",
    "df[df.price >= 6000].head()"
   ]
  },
  {
   "cell_type": "markdown",
   "metadata": {},
   "source": [
    "### Get a list of categories of categorical variable"
   ]
  },
  {
   "cell_type": "code",
   "execution_count": null,
   "metadata": {},
   "outputs": [],
   "source": [
    "# we can make a list with all bfs_names - categories() returns the single categories of one variable in a data set\n",
    "# we can control, which bfs_names are in it\n",
    "np.array(pd.Categorical(df['bfs_name']).categories)"
   ]
  },
  {
   "cell_type": "markdown",
   "metadata": {},
   "source": [
    "## Multivariate non-graphical exploratory data analysis (EDA)"
   ]
  },
  {
   "cell_type": "markdown",
   "metadata": {},
   "source": [
    "### Cross-tabulation"
   ]
  },
  {
   "cell_type": "code",
   "execution_count": null,
   "metadata": {},
   "outputs": [],
   "source": [
    "pd.crosstab(df['luxurious'], df['rooms'])"
   ]
  },
  {
   "cell_type": "markdown",
   "metadata": {},
   "source": [
    "### Pivot tables"
   ]
  },
  {
   "cell_type": "code",
   "execution_count": null,
   "metadata": {},
   "outputs": [],
   "source": [
    "# Using pivot_table to reshape the data and calculate means \n",
    "pd.pivot_table(df[['rooms', 'price', 'price_per_m2', 'area']],\n",
    "               index=['rooms'],\n",
    "               values=['price', 'price_per_m2', 'area'],\n",
    "               aggfunc=np.mean)"
   ]
  },
  {
   "cell_type": "markdown",
   "metadata": {},
   "source": [
    "### Correlation matrix"
   ]
  },
  {
   "cell_type": "code",
   "execution_count": null,
   "metadata": {},
   "outputs": [],
   "source": [
    "#we should look at the signs - neagtive or positive correlated\n",
    "corr = df.corr()\n",
    "corr"
   ]
  },
  {
   "cell_type": "markdown",
   "metadata": {},
   "source": [
    "### Covariance matrix"
   ]
  },
  {
   "cell_type": "code",
   "execution_count": null,
   "metadata": {},
   "outputs": [],
   "source": [
    "# also negative or positve related ; but we can also see, if we have very high or low values\n",
    "# standardisation: (xi - xquer) / ( sd(x))\n",
    "cov = df.cov()\n",
    "cov"
   ]
  },
  {
   "cell_type": "markdown",
   "metadata": {},
   "source": [
    "## Univariate graphical exploratory data analysis (EDA)"
   ]
  },
  {
   "cell_type": "markdown",
   "metadata": {},
   "source": [
    "### Line chart (matplotlib)"
   ]
  },
  {
   "cell_type": "code",
   "execution_count": null,
   "metadata": {},
   "outputs": [],
   "source": [
    "# Generate some useful values (time series)\n",
    "#example data:\n",
    "x = [1990, 1995, 2000, 2005, 2010, 2015, 2020, 2025]\n",
    "y = [100, 125, 156, 167, 175, 215, 230, 255]\n",
    "\n",
    "# Create figure\n",
    "fig = plt.figure(figsize=(7,4))\n",
    "plt.plot(x, y, color=\"green\")\n",
    "plt.title('Development of rental apartment prices', fontsize=12)\n",
    "plt.xlabel('year', fontsize=10)\n",
    "plt.ylabel('price index (1990 = 100%)', fontsize=10)\n",
    "plt.xticks(fontsize=10)\n",
    "plt.yticks(fontsize=10)\n",
    "\n",
    "plt.show()"
   ]
  },
  {
   "cell_type": "markdown",
   "metadata": {},
   "source": [
    "### Boxplot (seaborn)"
   ]
  },
  {
   "cell_type": "code",
   "execution_count": null,
   "metadata": {},
   "outputs": [],
   "source": [
    "#matplotlib has no boxplot, so we use seaborn\n",
    "plt.figure(figsize=(8,1.2))\n",
    "plt.ticklabel_format(style='plain')\n",
    "sns.boxplot(x=df['price'], color=\"greenyellow\") #the vector is called price # the colour is greenyellow"
   ]
  },
  {
   "cell_type": "markdown",
   "metadata": {},
   "source": [
    "### Histogram  (matplotlib)"
   ]
  },
  {
   "cell_type": "code",
   "execution_count": null,
   "metadata": {},
   "outputs": [],
   "source": [
    "import matplotlib.pyplot as plt\n",
    "import numpy as np\n",
    "\n",
    "# Plot Histogram\n",
    "fig = plt.figure( figsize=(7,4))\n",
    "plt.xticks(fontsize=14, rotation=0)\n",
    "plt.yticks(fontsize=14, rotation=0)\n",
    "n, bins, patches = plt.hist(x=df['price_per_m2'],   #this is a bin-element (breite der balken)\n",
    "                            bins=20, \n",
    "                            color='#42AD12',\n",
    "                            alpha=0.5, \n",
    "                            rwidth=0.95\n",
    "                   )\n",
    "plt.grid(True)\n",
    "plt.ticklabel_format(style='plain')\n",
    "plt.grid(axis='y', alpha=0.75)\n",
    "\n",
    "# Set labels\n",
    "plt.xlabel('price_per_m2', fontsize=10, labelpad=10)\n",
    "plt.ylabel('Frequency', fontsize=10, labelpad=10)\n",
    "plt.title('Histogram of price_per_m2', fontsize=12, pad=10)\n",
    "\n",
    "# Set fontsize of tick labels\n",
    "plt.xticks(fontsize = 10)\n",
    "plt.yticks(fontsize = 10)\n",
    "\n",
    "plt.show()"
   ]
  },
  {
   "cell_type": "markdown",
   "metadata": {},
   "source": [
    "### Density plot  (seaborn)"
   ]
  },
  {
   "cell_type": "code",
   "execution_count": null,
   "metadata": {},
   "outputs": [],
   "source": [
    "#under the green graph we have the area that represents the density\n",
    "plt.figure(figsize=(7,4))\n",
    "sns.distplot(df['price_per_m2'], \n",
    "             hist=True, \n",
    "             kde=True, \n",
    "             bins=20, \n",
    "             color = 'green',\n",
    "             hist_kws={'edgecolor':'black'},\n",
    "             kde_kws={'linewidth': 2},\n",
    "            )\n",
    "plt.title('Density plot price per m2', fontsize=12, pad=10)\n",
    "plt.xlabel('price_per_m2', fontsize=12, labelpad=10)\n",
    "plt.ylabel('Density', fontsize=12, labelpad=10)\n",
    "plt.grid(True)\n",
    "plt.show()"
   ]
  },
  {
   "cell_type": "markdown",
   "metadata": {},
   "source": [
    "### Quantile-Quantile (QQ-) plot"
   ]
  },
  {
   "cell_type": "code",
   "execution_count": null,
   "metadata": {},
   "outputs": [],
   "source": [
    "# Variable (standardized)\n",
    "# its not completely on the line so maybe we have a right/left skewed graph\n",
    "x = 'area'\n",
    "df_qq = df\n",
    "df_qq['var'] = (df[x]-df[x].mean()) / df[x].std()\n",
    "print(df_qq.sort_values('var')[['area', 'var']])\n",
    "    \n",
    "# Plot\n",
    "sm.qqplot(df_qq['var'], line ='45')\n",
    "py.show()"
   ]
  },
  {
   "cell_type": "markdown",
   "metadata": {},
   "source": [
    "### Barchart  (matplotlib)"
   ]
  },
  {
   "cell_type": "code",
   "execution_count": null,
   "metadata": {},
   "outputs": [],
   "source": [
    "# Group data by rooms (only the topmost 15 values are shown)\n",
    "df_bar = df['rooms'].value_counts().nlargest(15).sort_values(ascending=True)\n",
    "\n",
    "# Values for barchart\n",
    "napart = list(df_bar.values)\n",
    "index = list(df_bar.index.values)\n",
    "y_pos = np.arange(len(index))\n",
    "\n",
    "# Figure\n",
    "fig, ax = plt.subplots(figsize=(7,4))\n",
    "ax.barh(y_pos, napart, align='center', color='g', alpha=0.8)\n",
    "ax.set_yticks(y_pos, labels=index)\n",
    "ax.set_xlabel('Number of apartments', fontsize=10)\n",
    "ax.set_ylabel('Rooms', fontsize=10)\n",
    "\n",
    "# Show graph\n",
    "plt.show()"
   ]
  },
  {
   "cell_type": "markdown",
   "metadata": {},
   "source": [
    "### Piechart (matplotlib)"
   ]
  },
  {
   "cell_type": "code",
   "execution_count": null,
   "metadata": {},
   "outputs": [],
   "source": [
    "# Group data by rooms (only the 8 most frequently occurencies by rooms)\n",
    "df_bar = df.rooms.value_counts().nlargest(8).sort_values(ascending=True)\n",
    "\n",
    "# Simple bar chart\n",
    "sizes = list(df_bar.values)\n",
    "labels = list(df_bar.index.values)\n",
    "explode = (0, 0, 0, 0, 0, 0, 0, 0.1) # increases distance of the piece that is apart\n",
    "\n",
    "fig1, ax1 = plt.subplots(figsize=(5,5))\n",
    "ax1.pie(sizes, \n",
    "        labels=labels, \n",
    "        explode=explode,\n",
    "        autopct='%1.1f%%',\n",
    "        shadow=False, \n",
    "        startangle=90)\n",
    "ax1.axis('equal')  # ensures that pie is drawn as a circle.\n",
    "\n",
    "plt.show()"
   ]
  },
  {
   "cell_type": "markdown",
   "metadata": {},
   "source": [
    "## Multivariate graphical exploratory data analysis (EDA)"
   ]
  },
  {
   "cell_type": "markdown",
   "metadata": {},
   "source": [
    "### Scatterplot (matplotlib)"
   ]
  },
  {
   "cell_type": "code",
   "execution_count": null,
   "metadata": {},
   "outputs": [],
   "source": [
    "# we can see if there is a relation\n",
    "plt.figure(figsize=(7,4))\n",
    "plt.scatter(df['area'], \n",
    "           df['price'], \n",
    "           color=\"green\", \n",
    "           alpha=1.0,\n",
    "           s=10)\n",
    "plt.title('Scatterplot', fontsize=12)\n",
    "plt.xlabel('area (m2)')\n",
    "plt.ylabel('price (CHF)')\n",
    "plt.show()"
   ]
  },
  {
   "cell_type": "markdown",
   "metadata": {},
   "source": [
    "### Scatterplot (matplotlib) with regression line"
   ]
  },
  {
   "cell_type": "code",
   "execution_count": null,
   "metadata": {},
   "outputs": [],
   "source": [
    "# Subset\n",
    "df_sub = df.loc[(df.price >= 1000)]\n",
    "print(df_sub.shape)\n",
    "\n",
    "# Scatterplot\n",
    "plt.figure(figsize=(7,4))\n",
    "plt.plot(df_sub.area, \n",
    "         df_sub.price, \n",
    "         'o', \n",
    "         markersize=3.5,\n",
    "         color=\"green\")\n",
    "\n",
    "# Regression line (b = slope, a=intercept)\n",
    "b, a = np.polyfit(df_sub.area, df_sub.price, 1)\n",
    "print(b)\n",
    "print(a)\n",
    "\n",
    "# Plot regression line - so we see the direction and steigung a little bit better\n",
    "plt.plot(df_sub.area, \n",
    "         b*df_sub.area + a, \n",
    "         linewidth=1,\n",
    "         linestyle='dashed',\n",
    "         color='darkred')\n",
    "\n",
    "# Add title and axes labels\n",
    "plt.title('Scatterplot with regression line', fontsize=12)\n",
    "plt.ylabel('price', fontsize=12)\n",
    "plt.xlabel('area', fontsize=12)\n",
    "\n",
    "# Set fontsize of tick labels\n",
    "plt.xticks(fontsize = 10)\n",
    "plt.yticks(fontsize = 10)\n",
    "\n",
    "plt.show()"
   ]
  },
  {
   "cell_type": "markdown",
   "metadata": {},
   "source": [
    "### Scatterplot-matrix (seaborn)"
   ]
  },
  {
   "cell_type": "code",
   "execution_count": null,
   "metadata": {},
   "outputs": [],
   "source": [
    "sns.set(style=\"ticks\", font_scale=0.8)\n",
    "g = sns.PairGrid(df[['rooms', \n",
    "                     'area', \n",
    "                     'price', \n",
    "                     'price_per_m2',\n",
    "                     'pop_dens',\n",
    "                     'frg_pct']], \n",
    "                 height=1.2, \n",
    "                 aspect=1)\n",
    "g.map_upper(sns.scatterplot,color='darkgreen', s=10)\n",
    "g.map_lower(sns.scatterplot, color='darkgreen', s=10)\n",
    "g.map_diag(plt.hist, color='brown')"
   ]
  },
  {
   "cell_type": "markdown",
   "metadata": {},
   "source": [
    "### Hexagonal binning plot  (matplotlib)"
   ]
  },
  {
   "cell_type": "code",
   "execution_count": null,
   "metadata": {},
   "outputs": [],
   "source": [
    "# Subset\n",
    "df_sub = df.loc[(df.price <= 6000) & (df.area <= 200)]\n",
    "print(df_sub.shape)\n",
    "\n",
    "# Plot\n",
    "fig = plt.figure( figsize=(7,4) )\n",
    "plt.hexbin(df_sub.area, df_sub.price, gridsize=30, cmap='Greens')\n",
    "\n",
    "# Set labels\n",
    "plt.xlabel('area', fontsize=12, labelpad=10)\n",
    "plt.ylabel('price', fontsize=12, labelpad=10)\n",
    "plt.title('Two-dimensional histogram of price versus area', fontsize=12, pad=10)\n",
    "\n",
    "cb = plt.colorbar(label='count in bin')\n",
    "cb.set_label('counts in bin')"
   ]
  },
  {
   "cell_type": "markdown",
   "metadata": {},
   "source": [
    "### Correlation heatmap (seaborn)"
   ]
  },
  {
   "cell_type": "code",
   "execution_count": null,
   "metadata": {},
   "outputs": [],
   "source": [
    "# Correlation: the larger the living area, the larger are the rooms\n",
    "# Set font size for plot\n",
    "sns.set(font_scale=0.6)\n",
    "\n",
    "# Create correlation matrix as the basis for the heatmap\n",
    "plt.figure(figsize=(7,4))\n",
    "corr = df.corr().round(2)\n",
    "\n",
    "# Plot heatmap\n",
    "sns.heatmap(corr, \n",
    "            cmap=\"BrBG\", \n",
    "            annot=True)"
   ]
  },
  {
   "cell_type": "markdown",
   "metadata": {},
   "source": [
    "### Bubble plot (seaborn)"
   ]
  },
  {
   "cell_type": "code",
   "execution_count": null,
   "metadata": {},
   "outputs": [],
   "source": [
    "# Subset of df\n",
    "df_sub = df.loc[(df['rooms'] >= 2.5) & (df['rooms'] <= 4.5)]\n",
    "\n",
    "plt.figure(figsize=(7,4))\n",
    "plt.ticklabel_format(style='plain')\n",
    "cmap = sns.cubehelix_palette(dark=.3, light=3, as_cmap=True)\n",
    "\n",
    "ax = sns.scatterplot(x=\"area\", \n",
    "                     y=\"price\",\n",
    "                     size=\"rooms\", # determines bubble size\n",
    "                     hue=\"pop_dens\",  # determines color\n",
    "                     palette=\"Set2\",\n",
    "                     data=df_sub)\n",
    "\n",
    "# Set title and axes\n",
    "ax.set_title('Price vs area', fontsize = 12)\n",
    "ax.set_xlabel('area', fontsize = 10)\n",
    "ax.set_ylabel('price', fontsize = 10)\n",
    "ax.legend([],[], frameon=False) # skip legend"
   ]
  },
  {
   "attachments": {
    "image.png": {
     "image/png": "[encoded data removed]"
    }
   },
   "cell_type": "markdown",
   "metadata": {},
   "source": [
    "![image.png](attachment:image.png)"
   ]
  },
  {
   "cell_type": "markdown",
   "metadata": {},
   "source": [
    "## Task 3 : "
   ]
  },
  {
   "cell_type": "markdown",
   "metadata": {},
   "source": [
    "#### Use the pandas library to import the file ‘supermarkets_data_enriched.csv’ from the materials for exercises folder on Moodle."
   ]
  },
  {
   "cell_type": "code",
   "execution_count": null,
   "metadata": {},
   "outputs": [],
   "source": [
    "df = pd.read_csv(\"supermarkets_data_enriched.csv\")"
   ]
  },
  {
   "cell_type": "markdown",
   "metadata": {},
   "source": [
    "#### Use EDA methods: Count the number of supermarkets per brand "
   ]
  },
  {
   "cell_type": "code",
   "execution_count": null,
   "metadata": {},
   "outputs": [],
   "source": [
    "df['brand'].value_counts()"
   ]
  },
  {
   "cell_type": "markdown",
   "metadata": {},
   "source": [
    "#### Create a summary statistics of the numeric variables lat, lon, pop, pop_dens, frg_pct, emp"
   ]
  },
  {
   "cell_type": "code",
   "execution_count": null,
   "metadata": {},
   "outputs": [],
   "source": [
    "# Read and select variables\n",
    "df_orig = pd.read_csv(\"apartments_data_enriched.csv\")[['lat',\n",
    "                                                 'lon',\n",
    "                                                 'pop',\n",
    "                                                 'pop_dens',\n",
    "                                                 'frg_pct', \n",
    "                                                 'emp']]\n",
    "\n",
    "df.describe()"
   ]
  },
  {
   "cell_type": "markdown",
   "metadata": {},
   "source": [
    "#### Create a histogram of the variable pop_dens\n",
    "\n",
    "The graph is left skewed."
   ]
  },
  {
   "cell_type": "code",
   "execution_count": null,
   "metadata": {},
   "outputs": [],
   "source": [
    "import matplotlib.pyplot as plt\n",
    "import numpy as np\n",
    "\n",
    "# Plot Histogram\n",
    "fig = plt.figure( figsize=(7,4))\n",
    "plt.xticks(fontsize=14, rotation=0)\n",
    "plt.yticks(fontsize=14, rotation=0)\n",
    "n, bins, patches = plt.hist(x=df['pop_dens'],   #this is a bin-element (breite der balken)\n",
    "                            bins=20, \n",
    "                            color='#42AD12',\n",
    "                            alpha=0.5, \n",
    "                            rwidth=0.95\n",
    "                   )\n",
    "plt.grid(True)\n",
    "plt.ticklabel_format(style='plain')\n",
    "plt.grid(axis='y', alpha=0.75)\n",
    "\n",
    "# Set labels\n",
    "plt.xlabel('pop_dens', fontsize=10, labelpad=10)\n",
    "plt.ylabel('Frequency', fontsize=10, labelpad=10)\n",
    "plt.title('Histogram of pop_dens', fontsize=12, pad=10)\n",
    "\n",
    "# Set fontsize of tick labels\n",
    "plt.xticks(fontsize = 10)\n",
    "plt.yticks(fontsize = 10)\n",
    "\n",
    "plt.show()"
   ]
  },
  {
   "cell_type": "markdown",
   "metadata": {},
   "source": [
    "#### Create a plot with the locations of supermarkets in different colors according to their brand."
   ]
  },
  {
   "cell_type": "code",
   "execution_count": null,
   "metadata": {},
   "outputs": [],
   "source": [
    "import pandas as pd\n",
    "import matplotlib.pyplot as plt\n",
    "\n",
    "# Read and select variables\n",
    "df = pd.read_csv(\"supermarkets_data_enriched.csv\")[[ 'id',\n",
    "                                                    'brand',\n",
    "                                                    'lat',\n",
    "                                                    'lon',\n",
    "                                                    'pop',\n",
    "                                                    'pop_dens',\n",
    "                                                    'frg_pct',\n",
    "                                                    'emp']]\n",
    "\n",
    "# Subset\n",
    "df_sub = df.loc[df['brand'].isin(['Coop','Migros', 'Denner', 'Volg', 'Landi'])]\n",
    "df_sub\n",
    "\n",
    "# Colors\n",
    "colors = {'Coop': 'green', 'Migros': 'orange','Denner': 'yellow', 'Volg': 'blue', 'Landi': 'pink'}\n",
    "\n",
    "#Plot\n",
    "plt.scatter(df_sub['lon'],\n",
    "           df_sub['lat'],\n",
    "            c=df_sub['brand'].map(colors))"
   ]
  },
  {
   "cell_type": "markdown",
   "metadata": {},
   "source": [
    "### Jupyter notebook --footer info-- (please always provide this at the end of each submitted notebook)"
   ]
  },
  {
   "cell_type": "code",
   "execution_count": null,
   "metadata": {},
   "outputs": [],
   "source": [
    "import os\n",
    "import platform\n",
    "import socket\n",
    "from platform import python_version\n",
    "from datetime import datetime\n",
    "\n",
    "print('-----------------------------------')\n",
    "print(os.name.upper())\n",
    "print(platform.system(), '|', platform.release())\n",
    "print('Datetime:', datetime.now().strftime(\"%Y-%m-%d %H:%M:%S\"))\n",
    "print('Python Version:', python_version())\n",
    "print('-----------------------------------')"
   ]
  }
 ],
 "metadata": {
  "gist": {
   "data": {
    "description": "histogram.ipynb",
    "public": false
   },
   "id": ""
  },
  "interpreter": {
   "hash": "80dd4b6cd41cca4ee92644ecda36a6b995104716f495f2fe281559cced81c062"
  },
  "kernelspec": {
   "display_name": "Python 3 (ipykernel)",
   "language": "python",
   "name": "python3"
  },
  "language_info": {
   "codemirror_mode": {
    "name": "ipython",
    "version": 3
   },
   "file_extension": ".py",
   "mimetype": "text/x-python",
   "name": "python",
   "nbconvert_exporter": "python",
   "pygments_lexer": "ipython3",
   "version": "3.9.7"
  },
  "toc": {
   "base_numbering": 1,
   "nav_menu": {},
   "number_sections": true,
   "sideBar": true,
   "skip_h1_title": false,
   "title_cell": "Table of Contents",
   "title_sidebar": "Contents",
   "toc_cell": false,
   "toc_position": {
    "height": "calc(100% - 180px)",
    "left": "10px",
    "top": "150px",
    "width": "196.075px"
   },
   "toc_section_display": true,
   "toc_window_display": true
  }
 },
 "nbformat": 4,
 "nbformat_minor": 2
}
