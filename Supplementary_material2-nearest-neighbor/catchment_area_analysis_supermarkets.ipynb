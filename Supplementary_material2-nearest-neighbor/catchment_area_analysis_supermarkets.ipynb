{
 "cells": [
  {
   "cell_type": "markdown",
   "id": "0adc758e",
   "metadata": {},
   "source": [
    "# Catchment area analysis of supermarkets"
   ]
  },
  {
   "cell_type": "markdown",
   "id": "7284142e",
   "metadata": {},
   "source": [
    "## Libraries and settings"
   ]
  },
  {
   "cell_type": "code",
   "execution_count": 1,
   "id": "5963ee1a",
   "metadata": {},
   "outputs": [],
   "source": [
    "# Libraries\n",
    "import os\n",
    "import time\n",
    "import glob\n",
    "import json\n",
    "import folium\n",
    "import requests\n",
    "import numpy as np\n",
    "import pandas as pd\n",
    "import geopandas as gdp\n",
    "import matplotlib.pyplot as plt\n",
    "from openrouteservice import client\n",
    "from IPython.display import clear_output\n",
    "\n",
    "# Ignore warnings\n",
    "import warnings\n",
    "warnings.filterwarnings('ignore')"
   ]
  },
  {
   "cell_type": "markdown",
   "id": "6933340b",
   "metadata": {},
   "source": [
    "## Import supermarket data"
   ]
  },
  {
   "cell_type": "code",
   "execution_count": 2,
   "id": "3fb02fe1",
   "metadata": {},
   "outputs": [
    {
     "ename": "FileNotFoundError",
     "evalue": "[Errno 2] No such file or directory: 'ors_token.txt'",
     "output_type": "error",
     "traceback": [
      "\u001b[1;31m---------------------------------------------------------------------------\u001b[0m",
      "\u001b[1;31mFileNotFoundError\u001b[0m                         Traceback (most recent call last)",
      "\u001b[1;32m~\\AppData\\Local\\Temp/ipykernel_6684/1078055217.py\u001b[0m in \u001b[0;36m<module>\u001b[1;34m\u001b[0m\n\u001b[0;32m      1\u001b[0m \u001b[1;31m# Read OpenRouteService API key\u001b[0m\u001b[1;33m\u001b[0m\u001b[1;33m\u001b[0m\u001b[0m\n\u001b[1;32m----> 2\u001b[1;33m \u001b[1;32mwith\u001b[0m \u001b[0mopen\u001b[0m\u001b[1;33m(\u001b[0m\u001b[0mfile\u001b[0m\u001b[1;33m=\u001b[0m\u001b[1;34m'ors_token.txt'\u001b[0m\u001b[1;33m,\u001b[0m \u001b[0mmode\u001b[0m\u001b[1;33m=\u001b[0m\u001b[1;34m'r'\u001b[0m\u001b[1;33m)\u001b[0m \u001b[1;32mas\u001b[0m \u001b[0mfile\u001b[0m\u001b[1;33m:\u001b[0m\u001b[1;33m\u001b[0m\u001b[1;33m\u001b[0m\u001b[0m\n\u001b[0m\u001b[0;32m      3\u001b[0m     \u001b[0mapi_key\u001b[0m \u001b[1;33m=\u001b[0m \u001b[0mfile\u001b[0m\u001b[1;33m.\u001b[0m\u001b[0mread\u001b[0m\u001b[1;33m(\u001b[0m\u001b[1;33m)\u001b[0m\u001b[1;33m\u001b[0m\u001b[1;33m\u001b[0m\u001b[0m\n\u001b[0;32m      4\u001b[0m \u001b[1;31m# print(api_key)\u001b[0m\u001b[1;33m\u001b[0m\u001b[1;33m\u001b[0m\u001b[0m\n\u001b[0;32m      5\u001b[0m \u001b[1;33m\u001b[0m\u001b[0m\n",
      "\u001b[1;31mFileNotFoundError\u001b[0m: [Errno 2] No such file or directory: 'ors_token.txt'"
     ]
    }
   ],
   "source": [
    "# Read OpenRouteService API key\n",
    "with open(file='ORS_TOKEN_README.txt', mode='r') as file:\n",
    "    api_key = file.read()\n",
    "# print(api_key)\n",
    "\n",
    "# Import supermarket data\n",
    "df_orig = pd.read_csv('supermarkets_data_enriched.csv', \n",
    "                      sep=',',\n",
    "                      encoding='utf-8')[['id',\n",
    "                                         'lat',\n",
    "                                         'lon',\n",
    "                                         'brand',\n",
    "                                         'bfs_number',\n",
    "                                         'bfs_name',\n",
    "                                         'addr:housenumber',\n",
    "                                         'addr:postcode',\n",
    "                                         'geometry']]\n",
    "\n",
    "# Subset, only supermarkets with complete address\n",
    "df = df_orig.dropna()\n",
    "print(df.shape)\n",
    "df.head()"
   ]
  },
  {
   "cell_type": "markdown",
   "id": "9c18779d",
   "metadata": {},
   "source": [
    "## Create isochrone for a single supermarket"
   ]
  },
  {
   "cell_type": "code",
   "execution_count": null,
   "id": "8128146d",
   "metadata": {},
   "outputs": [],
   "source": [
    "# Settings\n",
    "municip = 'Adliswil'\n",
    "transport = 'driving-car' # alternativle 'foot-walking'\n",
    "traveltime = 15\n",
    "\n",
    "# Client settings\n",
    "ors = client.Client(key=api_key)\n",
    "\n",
    "# Set up supermarket dictionary with a single supermarket\n",
    "df_sub = df.loc[df['bfs_name'] == municip].iloc[0]\n",
    "supermarkets = {df_sub['brand']: {'location': [df_sub['lon'], \n",
    "                                               df_sub['lat']]}}\n",
    "print(supermarkets)\n",
    "\n",
    "# Set up folium map\n",
    "map = folium.Map(tiles='Stamen Toner', \n",
    "                 location=([df_sub['lat'], \n",
    "                            df_sub['lon']]), \n",
    "                 zoom_start=11)\n",
    "\n",
    "# Parameters for server-request\n",
    "params_iso = {'profile': transport,\n",
    "              'range': [traveltime*60],\n",
    "              'attributes': ['total_pop']}\n",
    "\n",
    "# Server request\n",
    "for name, apt in supermarkets.items():\n",
    "    \n",
    "    # Add coords to request parameters\n",
    "    params_iso['locations'] = [apt['location']]\n",
    "    \n",
    "    # Perform isochrone request\n",
    "    apt['iso'] = ors.isochrones(**params_iso)\n",
    "    \n",
    "    # Add GeoJson to map\n",
    "    folium.features.GeoJson(apt['iso']).add_to(map)\n",
    "    \n",
    "    # Save GeoJson as file\n",
    "    # with open(f'{name}.json', 'w') as f:\n",
    "        # f.write(json.dumps(apt['iso']))\n",
    "\n",
    "    # Reverse coords due to weird folium lat/lon syntax\n",
    "    folium.map.Marker(list(reversed(apt['location'])),\n",
    "                      icon = folium.Icon(color='green',\n",
    "                                         icon_color='#cc0000',\n",
    "                                         icon='home',\n",
    "                                         prefix=\"fa\"),\n",
    "                      popup = name\n",
    "                      ).add_to(map)\n",
    "\n",
    "# Plot map\n",
    "map"
   ]
  },
  {
   "cell_type": "markdown",
   "id": "29a2359f",
   "metadata": {},
   "source": [
    "## Getting the number of residents in the isochrone area"
   ]
  },
  {
   "cell_type": "code",
   "execution_count": null,
   "id": "6318f539",
   "metadata": {},
   "outputs": [],
   "source": [
    "# Save the data as pandas data frame\n",
    "data = pd.DataFrame(apt['iso'][\"features\"])\n",
    "\n",
    "# Create data frame from column 'properties'\n",
    "df_pop = pd.DataFrame(data.loc[0, 'properties'])\n",
    "val = df_pop['total_pop'][0]\n",
    "print('Number of residents in isochrone area:', f'{val:,.0f}')"
   ]
  },
  {
   "cell_type": "markdown",
   "id": "404507b3",
   "metadata": {},
   "source": [
    "## Estimating the purchasing power in the isochrone area"
   ]
  },
  {
   "cell_type": "code",
   "execution_count": null,
   "id": "b680534b",
   "metadata": {},
   "outputs": [],
   "source": [
    "# Simple assumtions:\n",
    "# 500 CHF per resident and month\n",
    "# Residents / employee ratio = 2:1\n",
    "# 20 CHF per employee and working day\n",
    "\n",
    "# Result\n",
    "val = ((df_pop['total_pop'][0] * 500) + (df_pop['total_pop'][0] * 0.5 * 20 * 20)) / 10**6\n",
    "print('Purchasing power per month:',\n",
    "      f'{val:.1f}',\n",
    "     'Mio. CHF')"
   ]
  },
  {
   "cell_type": "markdown",
   "id": "9f69357d",
   "metadata": {},
   "source": [
    "## Automization of the analysis for multiple of supermarkets"
   ]
  },
  {
   "cell_type": "code",
   "execution_count": null,
   "id": "6d848358",
   "metadata": {},
   "outputs": [],
   "source": [
    "# Client settings\n",
    "ors = client.Client(key=api_key)\n",
    "\n",
    "# Parameters for server-request\n",
    "params_iso = {'profile': 'driving-car',\n",
    "              'range': [15*60],\n",
    "              'attributes': ['total_pop']}\n",
    "\n",
    "# Df to store the data\n",
    "pop_out = []\n",
    "\n",
    "try:\n",
    "    for i in range(0, 10):\n",
    "        \n",
    "        print('Preparing isochrone for supermarkt', df[['id', \n",
    "                                                        'brand', \n",
    "                                                        'bfs_name', \n",
    "                                                        'addr:housenumber',\n",
    "                                                        'addr:postcode']].iloc[i])\n",
    "        \n",
    "        supermarkets = {df['brand'].iloc[i]: {'location': [df['lon'].iloc[i],\n",
    "                                                           df['lat'].iloc[i]]}}\n",
    "        # Server request\n",
    "        for name, apt in supermarkets.items():\n",
    "            \n",
    "            # Add coords to request parameters\n",
    "            params_iso['locations'] = [apt['location']]\n",
    "            \n",
    "            # Perform isochrone request\n",
    "            apt['iso'] = ors.isochrones(**params_iso)\n",
    "            time.sleep(1)\n",
    "            \n",
    "            # Save the data as pandas data frame\n",
    "            data = pd.DataFrame(apt['iso'][\"features\"])\n",
    "            \n",
    "            # Create data frame from column 'properties'\n",
    "            df_pop = pd.DataFrame(data.loc[0, 'properties'])\n",
    "            \n",
    "            # Write values\n",
    "            pop_out.append([df['id'].iloc[i], \n",
    "                            df['brand'].iloc[i],\n",
    "                            df['bfs_number'].iloc[i], \n",
    "                            df['bfs_name'].iloc[i], \n",
    "                            df['addr:housenumber'].iloc[i],\n",
    "                            df['addr:postcode'].iloc[i],\n",
    "                            df_pop['total_pop'][0]])\n",
    "            clear_output(wait=True)\n",
    "            \n",
    "except:\n",
    "    pop_out.append([df['id'].iloc[i], \n",
    "                    df['brand'].iloc[i],\n",
    "                    df['bfs_number'].iloc[i], \n",
    "                    df['bfs_name'].iloc[i], \n",
    "                    df['addr:housenumber'].iloc[i],\n",
    "                    df['addr:postcode'].iloc[i],\n",
    "                    np.NaN])\n",
    "    clear_output(wait=True)\n",
    "\n",
    "# Print list\n",
    "pop_out"
   ]
  },
  {
   "cell_type": "markdown",
   "id": "e62379c8",
   "metadata": {},
   "source": [
    "### Jupyter notebook --footer info-- (please always provide this at the end of each submitted notebook)"
   ]
  },
  {
   "cell_type": "code",
   "execution_count": null,
   "id": "7e10aeab",
   "metadata": {},
   "outputs": [],
   "source": [
    "import os\n",
    "import platform\n",
    "import socket\n",
    "from platform import python_version\n",
    "from datetime import datetime\n",
    "\n",
    "print('-----------------------------------')\n",
    "print(os.name.upper())\n",
    "print(platform.system(), '|', platform.release())\n",
    "print('Datetime:', datetime.now().strftime(\"%Y-%m-%d %H:%M:%S\"))\n",
    "print('Python Version:', python_version())\n",
    "print('-----------------------------------')"
   ]
  }
 ],
 "metadata": {
  "kernelspec": {
   "display_name": "Python 3 (ipykernel)",
   "language": "python",
   "name": "python3"
  },
  "language_info": {
   "codemirror_mode": {
    "name": "ipython",
    "version": 3
   },
   "file_extension": ".py",
   "mimetype": "text/x-python",
   "name": "python",
   "nbconvert_exporter": "python",
   "pygments_lexer": "ipython3",
   "version": "3.9.7"
  }
 },
 "nbformat": 4,
 "nbformat_minor": 5
}
