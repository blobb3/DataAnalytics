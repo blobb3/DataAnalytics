{
 "cells": [
  {
   "cell_type": "markdown",
   "id": "1e84aff8",
   "metadata": {},
   "source": [
    "# Contained requirements:\n",
    "1. (5) Regression and classification as the modelling method\n",
    "2. (6) Model evaluation using suitable measures of fit.\n",
    "3. (7) Interpretation of model results and measures of fit.\n",
    "\n",
    "# Additional points topics:\n",
    "1. (4) Use of a statistical test for the analysis of contingency tables. \n",
    "2. (5) Use of k-means clustering in addition to the regression or classification model."
   ]
  },
  {
   "cell_type": "markdown",
   "id": "a409beda",
   "metadata": {},
   "source": [
    "## Table of contents \n",
    "\n",
    "[1.) First rough data analysis](#section_1)<br>\n",
    "[2.) Simple linear regression](#section_2)<br>\n",
    "[3.) Multiple linear regression](#section_3)<br>\n",
    "[4.) Barchart display size & prozessor status](#section_4)<br>\n",
    "[5.) Classification Tree](#section_5)<br>\n",
    "[6.) Pivot Tables](#section_6)<br>\n",
    "[7.) Unpaired two-sample t-test](#section_7)<br>\n",
    "[8.) Regression Trees & Random Forest Regression](#section_8)<br>\n",
    "[9.) K-means clustering](#section_9)"
   ]
  },
  {
   "cell_type": "markdown",
   "id": "d9ca506b",
   "metadata": {},
   "source": [
    "## Libraries and settings"
   ]
  },
  {
   "cell_type": "code",
   "execution_count": 1,
   "id": "3cc498a3",
   "metadata": {},
   "outputs": [
    {
     "name": "stdout",
     "output_type": "stream",
     "text": [
      "Requirement already satisfied: opencv-python in c:\\users\\janin\\anaconda3\\lib\\site-packages (4.6.0.66)\n",
      "Requirement already satisfied: numpy>=1.17.3 in c:\\users\\janin\\anaconda3\\lib\\site-packages (from opencv-python) (1.20.3)\n",
      "Requirement already satisfied: plyfile in c:\\users\\janin\\anaconda3\\lib\\site-packages (0.7.4)\n",
      "Requirement already satisfied: numpy>=1.8 in c:\\users\\janin\\anaconda3\\lib\\site-packages (from plyfile) (1.20.3)\n",
      "Current activated conda environment: Der Befehl \"grep\" ist entweder falsch geschrieben oder\n",
      "\n",
      "Current working directory: C:\\Workspacezhaw\\data_analytics\\Projekt_DA\n"
     ]
    }
   ],
   "source": [
    "# SCIKIT-LEARN (Wenn sklearn nicht funktioniert)\n",
    "# Libraries\n",
    "import os\n",
    "import scipy.stats as stats\n",
    "import statsmodels.api as sm\n",
    "import matplotlib.pyplot as plt\n",
    "from sklearn import linear_model\n",
    "from sklearn.model_selection import train_test_split\n",
    "import re\n",
    "import time\n",
    "import fnmatch\n",
    "import numpy as np\n",
    "from pandas import json_normalize\n",
    "import pandas as pd\n",
    "import requests\n",
    "import json\n",
    "import overpy\n",
    "import matplotlib.pyplot as plt\n",
    "import folium\n",
    "import seaborn as sns\n",
    "import numpy as np\n",
    "import scipy.stats as stats\n",
    "from sklearn import tree\n",
    "import matplotlib.pyplot as plt\n",
    "from sklearn.metrics import r2_score\n",
    "from sklearn.datasets import make_regression\n",
    "from sklearn.tree import DecisionTreeRegressor\n",
    "from sklearn.ensemble import RandomForestRegressor\n",
    "from sklearn.model_selection import train_test_split\n",
    "from sklearn import datasets\n",
    "from sklearn import metrics\n",
    "from sklearn.tree import DecisionTreeClassifier\n",
    "from sklearn.tree import DecisionTreeRegressor\n",
    "from sklearn.model_selection import train_test_split\n",
    "import matplotlib.pyplot as plt\n",
    "import seaborn as sns\n",
    "import numpy as np\n",
    "import pandas as pd\n",
    "import matplotlib.pyplot as plt\n",
    "from scipy.stats import chi2\n",
    "from scipy.stats import chi2_contingency\n",
    "import numpy as np\n",
    "import pandas as pd\n",
    "import seaborn as sns\n",
    "import matplotlib.pyplot as plt\n",
    "from IPython.display import Image\n",
    "from sklearn import tree\n",
    "from sklearn.metrics import RocCurveDisplay\n",
    "from sklearn.tree import DecisionTreeClassifier\n",
    "from sklearn.ensemble import RandomForestClassifier\n",
    "from sklearn.model_selection import train_test_split\n",
    "from sklearn.metrics import classification_report, confusion_matrix\n",
    "import numpy as np\n",
    "import seaborn as sn\n",
    "import matplotlib.pyplot as plt\n",
    "\n",
    "# Settings for seaborn\n",
    "sns.set_theme(style=\"ticks\", palette=\"pastel\")\n",
    "\n",
    "# Required:\n",
    "!pip install opencv-python\n",
    "!pip install plyfile \n",
    "\n",
    "# Libraries\n",
    "import os\n",
    "import cv2\n",
    "import string\n",
    "import numpy as np\n",
    "import pandas as pd\n",
    "import matplotlib.pyplot as plt\n",
    "\n",
    "\n",
    "from sklearn.cluster import KMeans\n",
    "from sklearn.datasets import make_blobs\n",
    "from sklearn.metrics import silhouette_score\n",
    "from sklearn.preprocessing import StandardScaler\n",
    "\n",
    "# Ignore warnings\n",
    "import warnings\n",
    "warnings.filterwarnings('ignore')\n",
    "\n",
    "#Current activated conda environment (aktuelles Envirement, dass man implementiert hat)\n",
    "env = !conda info | grep 'active env'\n",
    "print('Current activated conda environment:', str(env[0]).strip())\n",
    "\n",
    "#Current working directory\n",
    "print('\\nCurrent working directory:', os.getcwd())"
   ]
  },
  {
   "cell_type": "markdown",
   "id": "514d3419",
   "metadata": {},
   "source": [
    "## Import the Amazon data"
   ]
  },
  {
   "cell_type": "code",
   "execution_count": 2,
   "id": "fc8846ed",
   "metadata": {},
   "outputs": [
    {
     "name": "stdout",
     "output_type": "stream",
     "text": [
      "(1295, 13)\n"
     ]
    },
    {
     "data": {
      "text/html": [
       "<div>\n",
       "<style scoped>\n",
       "    .dataframe tbody tr th:only-of-type {\n",
       "        vertical-align: middle;\n",
       "    }\n",
       "\n",
       "    .dataframe tbody tr th {\n",
       "        vertical-align: top;\n",
       "    }\n",
       "\n",
       "    .dataframe thead th {\n",
       "        text-align: right;\n",
       "    }\n",
       "</style>\n",
       "<table border=\"1\" class=\"dataframe\">\n",
       "  <thead>\n",
       "    <tr style=\"text-align: right;\">\n",
       "      <th></th>\n",
       "      <th>laptop_ID</th>\n",
       "      <th>brand</th>\n",
       "      <th>Product</th>\n",
       "      <th>TypeName</th>\n",
       "      <th>size</th>\n",
       "      <th>ScreenResolution</th>\n",
       "      <th>Cpu</th>\n",
       "      <th>Ram</th>\n",
       "      <th>Memory</th>\n",
       "      <th>Gpu</th>\n",
       "      <th>OpSys</th>\n",
       "      <th>Weight</th>\n",
       "      <th>price</th>\n",
       "    </tr>\n",
       "  </thead>\n",
       "  <tbody>\n",
       "    <tr>\n",
       "      <th>0</th>\n",
       "      <td>1</td>\n",
       "      <td>Apple</td>\n",
       "      <td>MacBook Pro</td>\n",
       "      <td>Ultrabook</td>\n",
       "      <td>13.3</td>\n",
       "      <td>IPS Panel Retina Display 2560x1600</td>\n",
       "      <td>Intel Core i5 2.3GHz</td>\n",
       "      <td>8GB</td>\n",
       "      <td>128GB SSD</td>\n",
       "      <td>Intel Iris Plus Graphics 640</td>\n",
       "      <td>macOS</td>\n",
       "      <td>1.37kg</td>\n",
       "      <td>1339.69</td>\n",
       "    </tr>\n",
       "    <tr>\n",
       "      <th>1</th>\n",
       "      <td>2</td>\n",
       "      <td>Apple</td>\n",
       "      <td>Macbook Air</td>\n",
       "      <td>Ultrabook</td>\n",
       "      <td>13.3</td>\n",
       "      <td>1440x900</td>\n",
       "      <td>Intel Core i5 1.8GHz</td>\n",
       "      <td>8GB</td>\n",
       "      <td>128GB Flash Storage</td>\n",
       "      <td>Intel HD Graphics 6000</td>\n",
       "      <td>macOS</td>\n",
       "      <td>1.34kg</td>\n",
       "      <td>898.94</td>\n",
       "    </tr>\n",
       "    <tr>\n",
       "      <th>2</th>\n",
       "      <td>3</td>\n",
       "      <td>HP</td>\n",
       "      <td>250 G6</td>\n",
       "      <td>Notebook</td>\n",
       "      <td>15.6</td>\n",
       "      <td>Full HD 1920x1080</td>\n",
       "      <td>Intel Core i5 7200U 2.5GHz</td>\n",
       "      <td>8GB</td>\n",
       "      <td>256GB SSD</td>\n",
       "      <td>Intel HD Graphics 620</td>\n",
       "      <td>No OS</td>\n",
       "      <td>1.86kg</td>\n",
       "      <td>575.00</td>\n",
       "    </tr>\n",
       "    <tr>\n",
       "      <th>3</th>\n",
       "      <td>4</td>\n",
       "      <td>Apple</td>\n",
       "      <td>MacBook Pro</td>\n",
       "      <td>Ultrabook</td>\n",
       "      <td>15.4</td>\n",
       "      <td>IPS Panel Retina Display 2880x1800</td>\n",
       "      <td>Intel Core i7 2.7GHz</td>\n",
       "      <td>16GB</td>\n",
       "      <td>512GB SSD</td>\n",
       "      <td>AMD Radeon Pro 455</td>\n",
       "      <td>macOS</td>\n",
       "      <td>1.83kg</td>\n",
       "      <td>2537.45</td>\n",
       "    </tr>\n",
       "    <tr>\n",
       "      <th>4</th>\n",
       "      <td>5</td>\n",
       "      <td>Apple</td>\n",
       "      <td>MacBook Pro</td>\n",
       "      <td>Ultrabook</td>\n",
       "      <td>13.3</td>\n",
       "      <td>IPS Panel Retina Display 2560x1600</td>\n",
       "      <td>Intel Core i5 3.1GHz</td>\n",
       "      <td>8GB</td>\n",
       "      <td>256GB SSD</td>\n",
       "      <td>Intel Iris Plus Graphics 650</td>\n",
       "      <td>macOS</td>\n",
       "      <td>1.37kg</td>\n",
       "      <td>1803.60</td>\n",
       "    </tr>\n",
       "    <tr>\n",
       "      <th>5</th>\n",
       "      <td>6</td>\n",
       "      <td>Acer</td>\n",
       "      <td>Aspire 3</td>\n",
       "      <td>Notebook</td>\n",
       "      <td>15.6</td>\n",
       "      <td>1366x768</td>\n",
       "      <td>AMD A9-Series 9420 3GHz</td>\n",
       "      <td>4GB</td>\n",
       "      <td>500GB HDD</td>\n",
       "      <td>AMD Radeon R5</td>\n",
       "      <td>Windows 10</td>\n",
       "      <td>2.1kg</td>\n",
       "      <td>400.00</td>\n",
       "    </tr>\n",
       "    <tr>\n",
       "      <th>6</th>\n",
       "      <td>7</td>\n",
       "      <td>Apple</td>\n",
       "      <td>MacBook Pro</td>\n",
       "      <td>Ultrabook</td>\n",
       "      <td>15.4</td>\n",
       "      <td>IPS Panel Retina Display 2880x1800</td>\n",
       "      <td>Intel Core i7 2.2GHz</td>\n",
       "      <td>16GB</td>\n",
       "      <td>256GB Flash Storage</td>\n",
       "      <td>Intel Iris Pro Graphics</td>\n",
       "      <td>Mac OS X</td>\n",
       "      <td>2.04kg</td>\n",
       "      <td>2139.97</td>\n",
       "    </tr>\n",
       "    <tr>\n",
       "      <th>7</th>\n",
       "      <td>8</td>\n",
       "      <td>Apple</td>\n",
       "      <td>Macbook Air</td>\n",
       "      <td>Ultrabook</td>\n",
       "      <td>13.3</td>\n",
       "      <td>1440x900</td>\n",
       "      <td>Intel Core i5 1.8GHz</td>\n",
       "      <td>8GB</td>\n",
       "      <td>256GB Flash Storage</td>\n",
       "      <td>Intel HD Graphics 6000</td>\n",
       "      <td>macOS</td>\n",
       "      <td>1.34kg</td>\n",
       "      <td>1158.70</td>\n",
       "    </tr>\n",
       "    <tr>\n",
       "      <th>8</th>\n",
       "      <td>9</td>\n",
       "      <td>Asus</td>\n",
       "      <td>ZenBook UX430UN</td>\n",
       "      <td>Ultrabook</td>\n",
       "      <td>14.0</td>\n",
       "      <td>Full HD 1920x1080</td>\n",
       "      <td>Intel Core i7 8550U 1.8GHz</td>\n",
       "      <td>16GB</td>\n",
       "      <td>512GB SSD</td>\n",
       "      <td>Nvidia GeForce MX150</td>\n",
       "      <td>Windows 10</td>\n",
       "      <td>1.3kg</td>\n",
       "      <td>1495.00</td>\n",
       "    </tr>\n",
       "    <tr>\n",
       "      <th>9</th>\n",
       "      <td>10</td>\n",
       "      <td>Acer</td>\n",
       "      <td>Swift 3</td>\n",
       "      <td>Ultrabook</td>\n",
       "      <td>14.0</td>\n",
       "      <td>IPS Panel Full HD 1920x1080</td>\n",
       "      <td>Intel Core i5 8250U 1.6GHz</td>\n",
       "      <td>8GB</td>\n",
       "      <td>256GB SSD</td>\n",
       "      <td>Intel UHD Graphics 620</td>\n",
       "      <td>Windows 10</td>\n",
       "      <td>1.6kg</td>\n",
       "      <td>770.00</td>\n",
       "    </tr>\n",
       "  </tbody>\n",
       "</table>\n",
       "</div>"
      ],
      "text/plain": [
       "  laptop_ID  brand          Product   TypeName  size  \\\n",
       "0         1  Apple      MacBook Pro  Ultrabook  13.3   \n",
       "1         2  Apple      Macbook Air  Ultrabook  13.3   \n",
       "2         3     HP           250 G6   Notebook  15.6   \n",
       "3         4  Apple      MacBook Pro  Ultrabook  15.4   \n",
       "4         5  Apple      MacBook Pro  Ultrabook  13.3   \n",
       "5         6   Acer         Aspire 3   Notebook  15.6   \n",
       "6         7  Apple      MacBook Pro  Ultrabook  15.4   \n",
       "7         8  Apple      Macbook Air  Ultrabook  13.3   \n",
       "8         9   Asus  ZenBook UX430UN  Ultrabook  14.0   \n",
       "9        10   Acer          Swift 3  Ultrabook  14.0   \n",
       "\n",
       "                     ScreenResolution                         Cpu   Ram  \\\n",
       "0  IPS Panel Retina Display 2560x1600        Intel Core i5 2.3GHz   8GB   \n",
       "1                            1440x900        Intel Core i5 1.8GHz   8GB   \n",
       "2                   Full HD 1920x1080  Intel Core i5 7200U 2.5GHz   8GB   \n",
       "3  IPS Panel Retina Display 2880x1800        Intel Core i7 2.7GHz  16GB   \n",
       "4  IPS Panel Retina Display 2560x1600        Intel Core i5 3.1GHz   8GB   \n",
       "5                            1366x768     AMD A9-Series 9420 3GHz   4GB   \n",
       "6  IPS Panel Retina Display 2880x1800        Intel Core i7 2.2GHz  16GB   \n",
       "7                            1440x900        Intel Core i5 1.8GHz   8GB   \n",
       "8                   Full HD 1920x1080  Intel Core i7 8550U 1.8GHz  16GB   \n",
       "9         IPS Panel Full HD 1920x1080  Intel Core i5 8250U 1.6GHz   8GB   \n",
       "\n",
       "                Memory                           Gpu       OpSys  Weight  \\\n",
       "0            128GB SSD  Intel Iris Plus Graphics 640       macOS  1.37kg   \n",
       "1  128GB Flash Storage        Intel HD Graphics 6000       macOS  1.34kg   \n",
       "2            256GB SSD         Intel HD Graphics 620       No OS  1.86kg   \n",
       "3            512GB SSD            AMD Radeon Pro 455       macOS  1.83kg   \n",
       "4            256GB SSD  Intel Iris Plus Graphics 650       macOS  1.37kg   \n",
       "5            500GB HDD                 AMD Radeon R5  Windows 10   2.1kg   \n",
       "6  256GB Flash Storage       Intel Iris Pro Graphics    Mac OS X  2.04kg   \n",
       "7  256GB Flash Storage        Intel HD Graphics 6000       macOS  1.34kg   \n",
       "8            512GB SSD          Nvidia GeForce MX150  Windows 10   1.3kg   \n",
       "9            256GB SSD        Intel UHD Graphics 620  Windows 10   1.6kg   \n",
       "\n",
       "     price  \n",
       "0  1339.69  \n",
       "1   898.94  \n",
       "2   575.00  \n",
       "3  2537.45  \n",
       "4  1803.60  \n",
       "5   400.00  \n",
       "6  2139.97  \n",
       "7  1158.70  \n",
       "8  1495.00  \n",
       "9   770.00  "
      ]
     },
     "execution_count": 2,
     "metadata": {},
     "output_type": "execute_result"
    }
   ],
   "source": [
    "# Define columns for import\n",
    "# Alle daten der vergangenen Übungen sind jetzt in diesem Datensatz vereint und angewendet\n",
    "columns = ['laptop_ID',\n",
    "           'Company',\n",
    "           'Product',\n",
    "           'TypeName',\n",
    "           'Inches',\n",
    "           'ScreenResolution',\n",
    "           'Cpu',\n",
    "           'Ram',\n",
    "           'Memory',\n",
    "           'Gpu',\n",
    "           'OpSys',\n",
    "           'Weight',\n",
    "           'Price_euros']\n",
    "\n",
    "# Read and select variables\n",
    "df_orig = pd.read_csv(\"laptop_price.csv\", sep=\",\", encoding = \"ISO-8859-1\")[columns]\n",
    "\n",
    "# Rename variables\n",
    "df_orig = df_orig.rename(columns={'Company': 'brand'})\n",
    "df_orig = df_orig.rename(columns={'Inches': 'size'})\n",
    "df_orig = df_orig.rename(columns={'Price_euros': 'price'})\n",
    "\n",
    "# Remove missing values\n",
    "df = df_orig.dropna()\n",
    "df.head(5)\n",
    "\n",
    "# Remove duplicates\n",
    "df.duplicated().sum()\n",
    "df = df.drop_duplicates()\n",
    "\n",
    "\n",
    "#leere zeilen entfernen\n",
    "df.dropna(how='all', axis=1).shape\n",
    "\n",
    "\n",
    "#spalten finden, in denen alle Daten vorhanden sind\n",
    "complete_columns = list(df.columns)\n",
    "complete_columns\n",
    "\n",
    "# Spalten mit fehlenden Daten finden\n",
    "incomplete_columns = list(df.columns[df.isnull().any()])\n",
    "\n",
    "# Anzahl fehlende Werte ausgeben \n",
    "for col in incomplete_columns:\n",
    "    num_missing = df[df[col].isnull() == True].shape[0]\n",
    "    print('number missing for column {}: {}'.format(col,\n",
    "                                                    num_missing))\n",
    "\n",
    "# fehlende Werte durch 0 ersetzen\n",
    "df.value_counts()\n",
    "df = df.fillna(0)\n",
    "\n",
    "print(df.shape) # ausgefilterte Daten anzeigen lassen\n",
    "df.head(10)\n"
   ]
  },
  {
   "cell_type": "markdown",
   "id": "af21b452",
   "metadata": {},
   "source": [
    "### The first objective is to obtain meaningful numerical values..."
   ]
  },
  {
   "cell_type": "code",
   "execution_count": 3,
   "id": "5b1108d2",
   "metadata": {},
   "outputs": [
    {
     "data": {
      "text/plain": [
       "(1295, 13)"
      ]
     },
     "execution_count": 3,
     "metadata": {},
     "output_type": "execute_result"
    }
   ],
   "source": [
    "#Number of laptops recorded => sufficiently large data set for a statistical evaluation ?!\n",
    "df.shape"
   ]
  },
  {
   "cell_type": "code",
   "execution_count": 4,
   "id": "08bf0312",
   "metadata": {},
   "outputs": [
    {
     "name": "stdout",
     "output_type": "stream",
     "text": [
      "<class 'pandas.core.frame.DataFrame'>\n",
      "Int64Index: 1295 entries, 0 to 1302\n",
      "Data columns (total 13 columns):\n",
      " #   Column            Non-Null Count  Dtype  \n",
      "---  ------            --------------  -----  \n",
      " 0   laptop_ID         1295 non-null   object \n",
      " 1   brand             1295 non-null   object \n",
      " 2   Product           1295 non-null   object \n",
      " 3   TypeName          1295 non-null   object \n",
      " 4   size              1295 non-null   float64\n",
      " 5   ScreenResolution  1295 non-null   object \n",
      " 6   Cpu               1295 non-null   object \n",
      " 7   Ram               1295 non-null   object \n",
      " 8   Memory            1295 non-null   object \n",
      " 9   Gpu               1295 non-null   object \n",
      " 10  OpSys             1295 non-null   object \n",
      " 11  Weight            1295 non-null   object \n",
      " 12  price             1295 non-null   float64\n",
      "dtypes: float64(2), object(11)\n",
      "memory usage: 141.6+ KB\n"
     ]
    }
   ],
   "source": [
    "# look for numeric datatypes/nan-values\n",
    "df.info()"
   ]
  },
  {
   "cell_type": "code",
   "execution_count": 5,
   "id": "bafee7ba",
   "metadata": {},
   "outputs": [],
   "source": [
    "#Change usefull datatypes into a numeric value\n",
    "df['Ram'] = df['Ram'].str.replace('GB','')\n",
    "df['Ram'] = df['Ram'].astype('float32')\n",
    "df['Weight'] = df['Weight'].str.replace('kg','')\n",
    "df['Weight'] = df['Weight'].astype('float32')\n",
    "\n",
    "# change object \"Memory\" in numeric values (too many different specifications => therefore we use regex)\n",
    "memory = []\n",
    "for x in df['Memory']:\n",
    "    d1 = re.findall('[0-9]+', str(x))\n",
    "    try:\n",
    "        d2 = d1[0].strip()\n",
    "    except:\n",
    "        d2 = None\n",
    "    memory.append(d2)\n",
    "df['Memory'] = pd.Series(memory, dtype=\"float\")"
   ]
  },
  {
   "cell_type": "code",
   "execution_count": 6,
   "id": "357739f5",
   "metadata": {},
   "outputs": [
    {
     "data": {
      "text/plain": [
       "laptop_ID            object\n",
       "brand                object\n",
       "Product              object\n",
       "TypeName             object\n",
       "size                float64\n",
       "ScreenResolution     object\n",
       "Cpu                  object\n",
       "Ram                 float32\n",
       "Memory              float64\n",
       "Gpu                  object\n",
       "OpSys                object\n",
       "Weight              float32\n",
       "price               float64\n",
       "dtype: object"
      ]
     },
     "execution_count": 6,
     "metadata": {},
     "output_type": "execute_result"
    }
   ],
   "source": [
    "# Check the data again\n",
    "df.dtypes"
   ]
  },
  {
   "cell_type": "markdown",
   "id": "2ccaf915",
   "metadata": {},
   "source": [
    "# 1) First rough data analysis (overview)\n",
    "<a id='section_1'></a>"
   ]
  },
  {
   "cell_type": "markdown",
   "id": "e3ecb63f",
   "metadata": {},
   "source": [
    "### Variation in the data distribution of price/weight (distribution plots)\n",
    "\n",
    "Before we can evaluate the data set, we need to get an overview. Since the prices, weight and display size of the laptops will play an important role later, we first create histograms. They represents the overall distribution of the continuous data variables price, display size and weight. "
   ]
  },
  {
   "cell_type": "code",
   "execution_count": 7,
   "id": "cc22d89f",
   "metadata": {},
   "outputs": [
    {
     "data": {
      "image/png": "[encoded data removed]",
      "text/plain": [
       "<Figure size 504x288 with 1 Axes>"
      ]
     },
     "metadata": {
      "needs_background": "light"
     },
     "output_type": "display_data"
    }
   ],
   "source": [
    "# Plot Histogram\n",
    "fig = plt.figure( figsize=(7,4))\n",
    "plt.xticks(fontsize=14, rotation=0)\n",
    "plt.yticks(fontsize=14, rotation=0)\n",
    "n, bins, patches = plt.hist(x=df['price'], \n",
    "                            bins=20, \n",
    "                            color='#42AD12',\n",
    "                            alpha=0.5, \n",
    "                            rwidth=0.95)\n",
    "plt.grid(True)\n",
    "plt.ticklabel_format(style='plain')\n",
    "plt.grid(axis='y', alpha=0.75)\n",
    "\n",
    "# Set labels\n",
    "plt.xlabel('price', fontsize=10, labelpad=10)\n",
    "plt.ylabel('Frequency', fontsize=10, labelpad=10)\n",
    "plt.title('Histogram of price', fontsize=12, pad=10)\n",
    "\n",
    "# Set fontsize of tick labels\n",
    "plt.xticks(fontsize = 10)\n",
    "plt.yticks(fontsize = 10)\n",
    "\n",
    "plt.show()"
   ]
  },
  {
   "cell_type": "code",
   "execution_count": 8,
   "id": "2e781b1e",
   "metadata": {},
   "outputs": [
    {
     "data": {
      "text/plain": [
       "<AxesSubplot: xlabel='size', ylabel='Density'>"
      ]
     },
     "execution_count": 8,
     "metadata": {},
     "output_type": "execute_result"
    },
    {
     "data": {
      "image/png": "[encoded data removed]",
      "text/plain": [
       "<Figure size 432x288 with 1 Axes>"
      ]
     },
     "metadata": {
      "needs_background": "light"
     },
     "output_type": "display_data"
    }
   ],
   "source": [
    "# Size distribution of the laptops \n",
    "sns.distplot(df['size'])"
   ]
  },
  {
   "cell_type": "code",
   "execution_count": 9,
   "id": "bcd92b36",
   "metadata": {},
   "outputs": [
    {
     "data": {
      "image/png": "[encoded data removed]",
      "text/plain": [
       "<Figure size 432x288 with 1 Axes>"
      ]
     },
     "metadata": {
      "needs_background": "light"
     },
     "output_type": "display_data"
    }
   ],
   "source": [
    "# Weight distribution of the laptops\n",
    "res = pd.Series(df['Weight'],name=\"Weight\")\n",
    "plot = sn.distplot(res,kde=True, color='purple')\n",
    "plt.show()"
   ]
  },
  {
   "cell_type": "markdown",
   "id": "2388c355",
   "metadata": {},
   "source": [
    "### Data shares of laptop brands\n",
    "In order to be able to keep track of the data later on, you should have examined your data set more closely beforehand. That's why we first got an overview of all the laptop brands included."
   ]
  },
  {
   "cell_type": "code",
   "execution_count": 10,
   "id": "3b81e519",
   "metadata": {},
   "outputs": [
    {
     "data": {
      "image/png": "[encoded data removed]",
      "text/plain": [
       "<Figure size 432x288 with 1 Axes>"
      ]
     },
     "metadata": {
      "needs_background": "light"
     },
     "output_type": "display_data"
    }
   ],
   "source": [
    "sns.barplot(x=df['brand'],y=df['price'])\n",
    "plt.xticks(rotation='vertical')\n",
    "plt.show()"
   ]
  },
  {
   "cell_type": "code",
   "execution_count": 11,
   "id": "e1156c3c",
   "metadata": {},
   "outputs": [
    {
     "data": {
      "text/plain": [
       "<AxesSubplot: ylabel='brand'>"
      ]
     },
     "execution_count": 11,
     "metadata": {},
     "output_type": "execute_result"
    },
    {
     "data": {
      "image/png": "[encoded data removed]",
      "text/plain": [
       "<Figure size 360x1440 with 1 Axes>"
      ]
     },
     "metadata": {},
     "output_type": "display_data"
    }
   ],
   "source": [
    "# Which brands are most included in the data set?\n",
    "df['brand'].value_counts().plot(kind = 'pie',figsize = (5,20))"
   ]
  },
  {
   "cell_type": "code",
   "execution_count": 12,
   "id": "c6158c92",
   "metadata": {},
   "outputs": [
    {
     "data": {
      "text/plain": [
       "<AxesSubplot: >"
      ]
     },
     "execution_count": 12,
     "metadata": {},
     "output_type": "execute_result"
    },
    {
     "data": {
      "image/png": "[encoded data removed]",
      "text/plain": [
       "<Figure size 432x288 with 1 Axes>"
      ]
     },
     "metadata": {
      "needs_background": "light"
     },
     "output_type": "display_data"
    }
   ],
   "source": [
    "# Since the pie chart was too confusing, we created a bar chart to see all the brand shares in the data set\n",
    "df['brand'].value_counts().plot(kind='bar')"
   ]
  },
  {
   "cell_type": "markdown",
   "id": "2cd4b8f3",
   "metadata": {},
   "source": [
    "### Laptop types"
   ]
  },
  {
   "cell_type": "code",
   "execution_count": 13,
   "id": "977b5978",
   "metadata": {},
   "outputs": [
    {
     "data": {
      "text/plain": [
       "(array([ 0,  1,  2,  3,  4,  5,  6,  7,  8,  9, 10, 11, 12, 13, 14, 15, 16,\n",
       "        17, 18]),\n",
       " [Text(0, 0, 'Apple'),\n",
       "  Text(1, 0, 'HP'),\n",
       "  Text(2, 0, 'Acer'),\n",
       "  Text(3, 0, 'Asus'),\n",
       "  Text(4, 0, 'Dell'),\n",
       "  Text(5, 0, 'Lenovo'),\n",
       "  Text(6, 0, 'MSI'),\n",
       "  Text(7, 0, 'Microsoft'),\n",
       "  Text(8, 0, 'Toshiba'),\n",
       "  Text(9, 0, 'Huawei'),\n",
       "  Text(10, 0, 'Xiaomi'),\n",
       "  Text(11, 0, 'Vero'),\n",
       "  Text(12, 0, 'Razer'),\n",
       "  Text(13, 0, 'Chuwi'),\n",
       "  Text(14, 0, 'Mediacom'),\n",
       "  Text(15, 0, 'Samsung'),\n",
       "  Text(16, 0, 'Google'),\n",
       "  Text(17, 0, 'Fujitsu'),\n",
       "  Text(18, 0, 'LG')])"
      ]
     },
     "execution_count": 13,
     "metadata": {},
     "output_type": "execute_result"
    },
    {
     "data": {
      "image/png": "[encoded data removed]",
      "text/plain": [
       "<Figure size 432x288 with 1 Axes>"
      ]
     },
     "metadata": {
      "needs_background": "light"
     },
     "output_type": "display_data"
    }
   ],
   "source": [
    "# What is the most expensive brand amonng the laptops in the dataset?\n",
    "sns.barplot(x = df[\"brand\"],y = df[\"price\"])\n",
    "plt.xticks(rotation = 'vertical')"
   ]
  },
  {
   "cell_type": "code",
   "execution_count": 14,
   "id": "b2d85171",
   "metadata": {},
   "outputs": [
    {
     "data": {
      "image/png": "[encoded data removed]",
      "text/plain": [
       "<Figure size 432x288 with 1 Axes>"
      ]
     },
     "metadata": {
      "needs_background": "light"
     },
     "output_type": "display_data"
    }
   ],
   "source": [
    "# What types of laptops can be found in the data set?\n",
    "sns.barplot(x=df['TypeName'],y=df['price'])\n",
    "plt.xticks(rotation='vertical')\n",
    "plt.show()"
   ]
  },
  {
   "cell_type": "code",
   "execution_count": 15,
   "id": "8f7c0a22",
   "metadata": {},
   "outputs": [
    {
     "data": {
      "text/plain": [
       "<AxesSubplot: >"
      ]
     },
     "execution_count": 15,
     "metadata": {},
     "output_type": "execute_result"
    },
    {
     "data": {
      "image/png": "[encoded data removed]",
      "text/plain": [
       "<Figure size 432x288 with 1 Axes>"
      ]
     },
     "metadata": {
      "needs_background": "light"
     },
     "output_type": "display_data"
    }
   ],
   "source": [
    "# How many of each laptop types are present in the data set?\n",
    "df['TypeName'].value_counts().plot(kind='bar')"
   ]
  },
  {
   "cell_type": "markdown",
   "id": "339ce567",
   "metadata": {},
   "source": [
    "### Specifications\n",
    "Since the dataset also contained data from laptop components, we also examined these. Here it was important for us to group values and compare them with the prices.\n"
   ]
  },
  {
   "cell_type": "code",
   "execution_count": 16,
   "id": "e027e443",
   "metadata": {},
   "outputs": [
    {
     "data": {
      "text/plain": [
       "Intel Core i5 7200U 2.5GHz               190\n",
       "Intel Core i7 7700HQ 2.8GHz              146\n",
       "Intel Core i7 7500U 2.7GHz               134\n",
       "Intel Core i7 8550U 1.8GHz                73\n",
       "Intel Core i5 8250U 1.6GHz                72\n",
       "                                        ... \n",
       "Intel Core i7 2.2GHz                       1\n",
       "Intel Core M M3-6Y30 0.9GHz                1\n",
       "AMD A9-Series 9420 2.9GHz                  1\n",
       "Intel Celeron Dual Core N3060 1.60GHz      1\n",
       "AMD A6-Series 7310 2GHz                    1\n",
       "Name: Cpu, Length: 113, dtype: int64"
      ]
     },
     "execution_count": 16,
     "metadata": {},
     "output_type": "execute_result"
    }
   ],
   "source": [
    "# What is the most used cpu in the data set?\n",
    "df['Cpu'].value_counts()"
   ]
  },
  {
   "cell_type": "code",
   "execution_count": 17,
   "id": "64c9660b",
   "metadata": {},
   "outputs": [
    {
     "name": "stdout",
     "output_type": "stream",
     "text": [
      "256.0    503\n",
      "1.0      248\n",
      "128.0    175\n",
      "512.0    136\n",
      "500.0    131\n",
      "32.0      45\n",
      "2.0       16\n",
      "64.0      15\n",
      "16.0      10\n",
      "180.0      5\n",
      "240.0      1\n",
      "8.0        1\n",
      "508.0      1\n",
      "Name: Memory, dtype: int64\n"
     ]
    },
    {
     "data": {
      "image/png": "[encoded data removed]",
      "text/plain": [
       "<Figure size 432x288 with 1 Axes>"
      ]
     },
     "metadata": {
      "needs_background": "light"
     },
     "output_type": "display_data"
    }
   ],
   "source": [
    "# What is the most used memory in the data set?\n",
    "print(df['Memory'].value_counts())\n",
    "# representing it on the bar graph\n",
    "sns.barplot(x=df['Memory'],y=df['price'])\n",
    "plt.xticks(rotation='vertical')\n",
    "plt.show()"
   ]
  },
  {
   "cell_type": "code",
   "execution_count": 18,
   "id": "df746ac3",
   "metadata": {},
   "outputs": [
    {
     "name": "stdout",
     "output_type": "stream",
     "text": [
      "8.0     613\n",
      "4.0     373\n",
      "16.0    200\n",
      "6.0      41\n",
      "12.0     25\n",
      "2.0      22\n",
      "32.0     17\n",
      "24.0      3\n",
      "64.0      1\n",
      "Name: Ram, dtype: int64\n"
     ]
    },
    {
     "data": {
      "image/png": "[encoded data removed]",
      "text/plain": [
       "<Figure size 432x288 with 1 Axes>"
      ]
     },
     "metadata": {
      "needs_background": "light"
     },
     "output_type": "display_data"
    }
   ],
   "source": [
    "# What is the most common Ram memory in the data set?\n",
    "print(df['Ram'].value_counts())\n",
    "# representing it on the bar graph\n",
    "sns.barplot(x=df['Ram'],y=df['price'])\n",
    "plt.xticks(rotation='horizontal')\n",
    "plt.show()"
   ]
  },
  {
   "cell_type": "code",
   "execution_count": 19,
   "id": "24c8c208",
   "metadata": {},
   "outputs": [
    {
     "data": {
      "text/plain": [
       "brand            Xiaomi\n",
       "TypeName    Workstation\n",
       "Ram                64.0\n",
       "price            6099.0\n",
       "dtype: object"
      ]
     },
     "execution_count": 19,
     "metadata": {},
     "output_type": "execute_result"
    }
   ],
   "source": [
    "# there are some expensive ram memories in the data set, but which one is the most expensive?\n",
    "df[[\"brand\",\"TypeName\",'Ram','price']].max()"
   ]
  },
  {
   "cell_type": "code",
   "execution_count": 20,
   "id": "8b519e65",
   "metadata": {},
   "outputs": [
    {
     "data": {
      "text/plain": [
       "Intel HD Graphics 620      281\n",
       "Intel HD Graphics 520      185\n",
       "Intel UHD Graphics 620      68\n",
       "Nvidia GeForce GTX 1050     66\n",
       "Nvidia GeForce GTX 1060     48\n",
       "                          ... \n",
       "Intel Graphics 620           1\n",
       "AMD Radeon R5 520            1\n",
       "AMD Radeon R7                1\n",
       "Intel HD Graphics 540        1\n",
       "ARM Mali T860 MP4            1\n",
       "Name: Gpu, Length: 109, dtype: int64"
      ]
     },
     "execution_count": 20,
     "metadata": {},
     "output_type": "execute_result"
    }
   ],
   "source": [
    "# What is the most common gpu in the data set?\n",
    "df['Gpu'].value_counts()"
   ]
  },
  {
   "cell_type": "code",
   "execution_count": 21,
   "id": "4371635f",
   "metadata": {},
   "outputs": [
    {
     "data": {
      "image/png": "[encoded data removed]",
      "text/plain": [
       "<Figure size 432x288 with 1 Axes>"
      ]
     },
     "metadata": {
      "needs_background": "light"
     },
     "output_type": "display_data"
    }
   ],
   "source": [
    "# What is the most common screen size in the data set?\n",
    "df['size'].value_counts()\n",
    "# representing it on the bar graph\n",
    "sns.barplot(x=df['size'],y=df['price'])\n",
    "plt.xticks(rotation='vertical')\n",
    "plt.show()"
   ]
  },
  {
   "cell_type": "markdown",
   "id": "4ffcac2b",
   "metadata": {},
   "source": [
    "### Scatterplot \n",
    "We can also plot the laptops in a scatterplot. This way you can see a distribution of prices and weights at a glance."
   ]
  },
  {
   "cell_type": "code",
   "execution_count": 22,
   "id": "1ac88ca0",
   "metadata": {},
   "outputs": [
    {
     "data": {
      "text/plain": [
       "<AxesSubplot: xlabel='Weight', ylabel='price'>"
      ]
     },
     "execution_count": 22,
     "metadata": {},
     "output_type": "execute_result"
    },
    {
     "data": {
      "image/png": "[encoded data removed]",
      "text/plain": [
       "<Figure size 432x288 with 1 Axes>"
      ]
     },
     "metadata": {
      "needs_background": "light"
     },
     "output_type": "display_data"
    }
   ],
   "source": [
    "#All laptops - weigth and price in a scatterplot\n",
    "sns.scatterplot(x=df['Weight'],y=df['price'])\n",
    "# but we cant differ the brands yet..."
   ]
  },
  {
   "cell_type": "code",
   "execution_count": 23,
   "id": "ad269cdf",
   "metadata": {},
   "outputs": [
    {
     "data": {
      "image/png": "[encoded data removed]",
      "text/plain": [
       "<Figure size 432x288 with 1 Axes>"
      ]
     },
     "metadata": {
      "needs_background": "light"
     },
     "output_type": "display_data"
    }
   ],
   "source": [
    "# We can also directly compare laptop brands one by one...\n",
    "# blue = Lenovo\n",
    "plt.scatter(df['size'][df['brand']== 'Lenovo'],df['price'][df['brand']=='Lenovo']);\n",
    "# orange == Apple\n",
    "plt.scatter(df['size'][df['brand']=='Apple'],df['price'][df['brand']=='Apple']);\n",
    "\n",
    "# labels\n",
    "plt.xlabel(\"size (inches)\")\n",
    "plt.ylabel(\"price (euros)\");"
   ]
  },
  {
   "cell_type": "markdown",
   "id": "d6c88dd7",
   "metadata": {},
   "source": [
    "### Correlation of price\n",
    "We use df.corr() to find the pairwise correlation of all columns with price in our Dataframe. Because any NaN values are automatically excluded and non-numeric data columns are ignored, it only calculates the correlation with four columns."
   ]
  },
  {
   "cell_type": "code",
   "execution_count": 24,
   "id": "ad86e72c",
   "metadata": {},
   "outputs": [
    {
     "data": {
      "text/plain": [
       "size      0.072012\n",
       "Ram       0.742888\n",
       "Memory    0.036241\n",
       "Weight    0.213367\n",
       "price     1.000000\n",
       "Name: price, dtype: float64"
      ]
     },
     "execution_count": 24,
     "metadata": {},
     "output_type": "execute_result"
    }
   ],
   "source": [
    "# price correlation\n",
    "df.corr()['price']"
   ]
  },
  {
   "cell_type": "markdown",
   "id": "61794b6c",
   "metadata": {},
   "source": [
    "### Heatmap\n",
    "We can also create a heat map for the correlation. The darker the colour, the more the two values correlate. "
   ]
  },
  {
   "cell_type": "code",
   "execution_count": 25,
   "id": "a891a672",
   "metadata": {},
   "outputs": [
    {
     "data": {
      "text/plain": [
       "<AxesSubplot: >"
      ]
     },
     "execution_count": 25,
     "metadata": {},
     "output_type": "execute_result"
    },
    {
     "data": {
      "image/png": "[encoded data removed]",
      "text/plain": [
       "<Figure size 432x288 with 2 Axes>"
      ]
     },
     "metadata": {
      "needs_background": "light"
     },
     "output_type": "display_data"
    }
   ],
   "source": [
    "sns.heatmap(df.corr())"
   ]
  },
  {
   "cell_type": "markdown",
   "id": "270181b8",
   "metadata": {},
   "source": [
    "### Rough boxplot shows a first representation of important robust location and dispersion measures of laptop prices\n",
    "\n",
    "An approximate minimum, the lower quartile, the median, the upper quartile and the maximum can be mapped with a boxplot."
   ]
  },
  {
   "cell_type": "code",
   "execution_count": 26,
   "id": "f2663a59",
   "metadata": {},
   "outputs": [
    {
     "data": {
      "text/plain": [
       "{'whiskers': [<matplotlib.lines.Line2D at 0x2af795222b0>,\n",
       "  <matplotlib.lines.Line2D at 0x2af79522490>],\n",
       " 'caps': [<matplotlib.lines.Line2D at 0x2af79522730>,\n",
       "  <matplotlib.lines.Line2D at 0x2af795229a0>],\n",
       " 'boxes': [<matplotlib.lines.Line2D at 0x2af79510fa0>],\n",
       " 'medians': [<matplotlib.lines.Line2D at 0x2af79522c40>],\n",
       " 'fliers': [<matplotlib.lines.Line2D at 0x2af7952f1c0>],\n",
       " 'means': [<matplotlib.lines.Line2D at 0x2af79522ee0>]}"
      ]
     },
     "execution_count": 26,
     "metadata": {},
     "output_type": "execute_result"
    },
    {
     "data": {
      "image/png": "[encoded data removed]",
      "text/plain": [
       "<Figure size 432x288 with 1 Axes>"
      ]
     },
     "metadata": {
      "needs_background": "light"
     },
     "output_type": "display_data"
    }
   ],
   "source": [
    "# showmeans shows the mean of the memories (green triangle) => wee see that mean(green)> median(orange)\n",
    "plt.boxplot(df['Memory'], showmeans = True, vert=False)"
   ]
  },
  {
   "cell_type": "code",
   "execution_count": 27,
   "id": "f6adc3c6",
   "metadata": {},
   "outputs": [
    {
     "data": {
      "text/plain": [
       "{'whiskers': [<matplotlib.lines.Line2D at 0x2af79500100>,\n",
       "  <matplotlib.lines.Line2D at 0x2af794cb220>],\n",
       " 'caps': [<matplotlib.lines.Line2D at 0x2af795879d0>,\n",
       "  <matplotlib.lines.Line2D at 0x2af79587bb0>],\n",
       " 'boxes': [<matplotlib.lines.Line2D at 0x2af79587a30>],\n",
       " 'medians': [<matplotlib.lines.Line2D at 0x2af79587e50>],\n",
       " 'fliers': [<matplotlib.lines.Line2D at 0x2af7959f3d0>],\n",
       " 'means': [<matplotlib.lines.Line2D at 0x2af7959f130>]}"
      ]
     },
     "execution_count": 27,
     "metadata": {},
     "output_type": "execute_result"
    },
    {
     "data": {
      "image/png": "[encoded data removed]",
      "text/plain": [
       "<Figure size 432x288 with 1 Axes>"
      ]
     },
     "metadata": {
      "needs_background": "light"
     },
     "output_type": "display_data"
    }
   ],
   "source": [
    "# 1 => shows the confidence interval-separation \n",
    "# sym='r+' => shows outliers \n",
    "plt.boxplot(df.price, 1, showmeans =True, sym='r+') "
   ]
  },
  {
   "cell_type": "markdown",
   "id": "fb64fa06",
   "metadata": {},
   "source": [
    "### Show quantiles of prices"
   ]
  },
  {
   "cell_type": "code",
   "execution_count": 28,
   "id": "71592d3a",
   "metadata": {},
   "outputs": [
    {
     "data": {
      "text/plain": [
       "0.10     394.3\n",
       "0.25     599.0\n",
       "0.50     977.0\n",
       "0.75    1489.5\n",
       "0.90    2044.0\n",
       "Name: price, dtype: float64"
      ]
     },
     "execution_count": 28,
     "metadata": {},
     "output_type": "execute_result"
    }
   ],
   "source": [
    "# We saw a boxplot but could not yet derive exact quartile values from it....\n",
    "qt_area = df['price'].quantile(q=[0.10, 0.25, 0.50, 0.75, 0.90]).round(1)\n",
    "qt_area"
   ]
  },
  {
   "cell_type": "markdown",
   "id": "e97f7c49",
   "metadata": {},
   "source": [
    "### Create grouped boxplot (groups = brands, values = sizes)"
   ]
  },
  {
   "cell_type": "code",
   "execution_count": 29,
   "id": "ee950c19",
   "metadata": {},
   "outputs": [
    {
     "data": {
      "image/png": "[encoded data removed]",
      "text/plain": [
       "<Figure size 576x288 with 1 Axes>"
      ]
     },
     "metadata": {
      "needs_background": "light"
     },
     "output_type": "display_data"
    }
   ],
   "source": [
    "# Plot boxplot with groups\n",
    "plt.figure(figsize=(8,4))\n",
    "ax = sns.boxplot(x=\"size\",\n",
    "                 y=\"brand\",\n",
    "                 data=df,\n",
    "                 orient='h')\n",
    "plt.grid()\n",
    "plt.show()"
   ]
  },
  {
   "cell_type": "markdown",
   "id": "755844a8",
   "metadata": {},
   "source": [
    "### Create grouped boxplot (groups = brands, values = prices)"
   ]
  },
  {
   "cell_type": "code",
   "execution_count": 30,
   "id": "dad5eced",
   "metadata": {},
   "outputs": [
    {
     "data": {
      "image/png": "[encoded data removed]",
      "text/plain": [
       "<Figure size 576x288 with 1 Axes>"
      ]
     },
     "metadata": {
      "needs_background": "light"
     },
     "output_type": "display_data"
    }
   ],
   "source": [
    "# Plot boxplot with groups\n",
    "plt.figure(figsize=(8,4))\n",
    "ax = sns.boxplot(x=\"price\",\n",
    "                 y=\"brand\",\n",
    "                 data=df,\n",
    "                 orient='h')\n",
    "plt.grid()\n",
    "plt.show()"
   ]
  },
  {
   "cell_type": "markdown",
   "id": "2bd83bb0",
   "metadata": {},
   "source": [
    "### Create a new categorical variable 'price_categorie'\n",
    "By creating a new variable, we can create price and size categories, which are then used for creating contingency tables."
   ]
  },
  {
   "cell_type": "code",
   "execution_count": 31,
   "id": "fd30d711",
   "metadata": {},
   "outputs": [
    {
     "data": {
      "text/html": [
       "<div>\n",
       "<style scoped>\n",
       "    .dataframe tbody tr th:only-of-type {\n",
       "        vertical-align: middle;\n",
       "    }\n",
       "\n",
       "    .dataframe tbody tr th {\n",
       "        vertical-align: top;\n",
       "    }\n",
       "\n",
       "    .dataframe thead th {\n",
       "        text-align: right;\n",
       "    }\n",
       "</style>\n",
       "<table border=\"1\" class=\"dataframe\">\n",
       "  <thead>\n",
       "    <tr style=\"text-align: right;\">\n",
       "      <th></th>\n",
       "      <th>price</th>\n",
       "      <th>price_categorie</th>\n",
       "    </tr>\n",
       "  </thead>\n",
       "  <tbody>\n",
       "    <tr>\n",
       "      <th>0</th>\n",
       "      <td>1339.69</td>\n",
       "      <td>1001-2000</td>\n",
       "    </tr>\n",
       "    <tr>\n",
       "      <th>1</th>\n",
       "      <td>898.94</td>\n",
       "      <td>801-900</td>\n",
       "    </tr>\n",
       "    <tr>\n",
       "      <th>2</th>\n",
       "      <td>575.00</td>\n",
       "      <td>501-600</td>\n",
       "    </tr>\n",
       "    <tr>\n",
       "      <th>3</th>\n",
       "      <td>2537.45</td>\n",
       "      <td>&gt; 2001</td>\n",
       "    </tr>\n",
       "    <tr>\n",
       "      <th>4</th>\n",
       "      <td>1803.60</td>\n",
       "      <td>1001-2000</td>\n",
       "    </tr>\n",
       "    <tr>\n",
       "      <th>5</th>\n",
       "      <td>400.00</td>\n",
       "      <td>301 - 400</td>\n",
       "    </tr>\n",
       "    <tr>\n",
       "      <th>6</th>\n",
       "      <td>2139.97</td>\n",
       "      <td>&gt; 2001</td>\n",
       "    </tr>\n",
       "    <tr>\n",
       "      <th>7</th>\n",
       "      <td>1158.70</td>\n",
       "      <td>1001-2000</td>\n",
       "    </tr>\n",
       "    <tr>\n",
       "      <th>8</th>\n",
       "      <td>1495.00</td>\n",
       "      <td>1001-2000</td>\n",
       "    </tr>\n",
       "    <tr>\n",
       "      <th>9</th>\n",
       "      <td>770.00</td>\n",
       "      <td>701-800</td>\n",
       "    </tr>\n",
       "  </tbody>\n",
       "</table>\n",
       "</div>"
      ],
      "text/plain": [
       "     price price_categorie\n",
       "0  1339.69       1001-2000\n",
       "1   898.94         801-900\n",
       "2   575.00         501-600\n",
       "3  2537.45          > 2001\n",
       "4  1803.60       1001-2000\n",
       "5   400.00       301 - 400\n",
       "6  2139.97          > 2001\n",
       "7  1158.70       1001-2000\n",
       "8  1495.00       1001-2000\n",
       "9   770.00         701-800"
      ]
     },
     "execution_count": 31,
     "metadata": {},
     "output_type": "execute_result"
    }
   ],
   "source": [
    "# Create labels\n",
    "labels = ['0 - 100', '101 - 200', '201 - 300', '301 - 400', '401 - 500','501-600','601-700','701-800','801-900','901-1000','1001-2000', '> 2001']\n",
    "\n",
    "# Create new categorical variable (with bins-parameter-settings - 6 categories)\n",
    "df[\"price_categorie\"] = pd.cut(df['price'], bins=[0, 100,200,300,400,500,600,700,800,900,1000,2000,3000], labels=labels)\n",
    "\n",
    "# Check values\n",
    "df[['price', 'price_categorie']].head(10)"
   ]
  },
  {
   "cell_type": "markdown",
   "id": "08e03019",
   "metadata": {},
   "source": [
    "### Create a new categorical variable 'size_categorie'"
   ]
  },
  {
   "cell_type": "code",
   "execution_count": 32,
   "id": "91d6bf04",
   "metadata": {},
   "outputs": [
    {
     "data": {
      "text/html": [
       "<div>\n",
       "<style scoped>\n",
       "    .dataframe tbody tr th:only-of-type {\n",
       "        vertical-align: middle;\n",
       "    }\n",
       "\n",
       "    .dataframe tbody tr th {\n",
       "        vertical-align: top;\n",
       "    }\n",
       "\n",
       "    .dataframe thead th {\n",
       "        text-align: right;\n",
       "    }\n",
       "</style>\n",
       "<table border=\"1\" class=\"dataframe\">\n",
       "  <thead>\n",
       "    <tr style=\"text-align: right;\">\n",
       "      <th></th>\n",
       "      <th>size</th>\n",
       "      <th>size_categorie</th>\n",
       "    </tr>\n",
       "  </thead>\n",
       "  <tbody>\n",
       "    <tr>\n",
       "      <th>0</th>\n",
       "      <td>13.3</td>\n",
       "      <td>11 - 12</td>\n",
       "    </tr>\n",
       "    <tr>\n",
       "      <th>1</th>\n",
       "      <td>13.3</td>\n",
       "      <td>11 - 12</td>\n",
       "    </tr>\n",
       "    <tr>\n",
       "      <th>2</th>\n",
       "      <td>15.6</td>\n",
       "      <td>13 - 15</td>\n",
       "    </tr>\n",
       "    <tr>\n",
       "      <th>3</th>\n",
       "      <td>15.4</td>\n",
       "      <td>13 - 15</td>\n",
       "    </tr>\n",
       "    <tr>\n",
       "      <th>4</th>\n",
       "      <td>13.3</td>\n",
       "      <td>11 - 12</td>\n",
       "    </tr>\n",
       "    <tr>\n",
       "      <th>5</th>\n",
       "      <td>15.6</td>\n",
       "      <td>13 - 15</td>\n",
       "    </tr>\n",
       "    <tr>\n",
       "      <th>6</th>\n",
       "      <td>15.4</td>\n",
       "      <td>13 - 15</td>\n",
       "    </tr>\n",
       "    <tr>\n",
       "      <th>7</th>\n",
       "      <td>13.3</td>\n",
       "      <td>11 - 12</td>\n",
       "    </tr>\n",
       "    <tr>\n",
       "      <th>8</th>\n",
       "      <td>14.0</td>\n",
       "      <td>11 - 12</td>\n",
       "    </tr>\n",
       "    <tr>\n",
       "      <th>9</th>\n",
       "      <td>14.0</td>\n",
       "      <td>11 - 12</td>\n",
       "    </tr>\n",
       "  </tbody>\n",
       "</table>\n",
       "</div>"
      ],
      "text/plain": [
       "   size size_categorie\n",
       "0  13.3        11 - 12\n",
       "1  13.3        11 - 12\n",
       "2  15.6        13 - 15\n",
       "3  15.4        13 - 15\n",
       "4  13.3        11 - 12\n",
       "5  15.6        13 - 15\n",
       "6  15.4        13 - 15\n",
       "7  13.3        11 - 12\n",
       "8  14.0        11 - 12\n",
       "9  14.0        11 - 12"
      ]
     },
     "execution_count": 32,
     "metadata": {},
     "output_type": "execute_result"
    }
   ],
   "source": [
    "# Create labels\n",
    "labels = ['0 - 5', '6 - 10', '11 - 12', '13 - 15', '16 - 20', '> 20']\n",
    "\n",
    "# Create new categorical variable (with bins-parameter-settings - 6 categories)\n",
    "df[\"size_categorie\"] = pd.cut(df['size'], bins=[0, 5, 10, 15, 20, 25, 30], labels=labels)\n",
    "\n",
    "# Check values\n",
    "df[['size', 'size_categorie']].head(10)"
   ]
  },
  {
   "cell_type": "markdown",
   "id": "b527e4f6",
   "metadata": {},
   "source": [
    "### Create contingency table with number of apartments for 'size_categorie' versus 'price_categorie'"
   ]
  },
  {
   "cell_type": "code",
   "execution_count": 33,
   "id": "efb4acef",
   "metadata": {},
   "outputs": [
    {
     "data": {
      "text/html": [
       "<div>\n",
       "<style scoped>\n",
       "    .dataframe tbody tr th:only-of-type {\n",
       "        vertical-align: middle;\n",
       "    }\n",
       "\n",
       "    .dataframe tbody tr th {\n",
       "        vertical-align: top;\n",
       "    }\n",
       "\n",
       "    .dataframe thead tr th {\n",
       "        text-align: left;\n",
       "    }\n",
       "\n",
       "    .dataframe thead tr:last-of-type th {\n",
       "        text-align: right;\n",
       "    }\n",
       "</style>\n",
       "<table border=\"1\" class=\"dataframe\">\n",
       "  <thead>\n",
       "    <tr>\n",
       "      <th></th>\n",
       "      <th colspan=\"12\" halign=\"left\">brand</th>\n",
       "    </tr>\n",
       "    <tr>\n",
       "      <th>price_categorie</th>\n",
       "      <th>0 - 100</th>\n",
       "      <th>101 - 200</th>\n",
       "      <th>201 - 300</th>\n",
       "      <th>301 - 400</th>\n",
       "      <th>401 - 500</th>\n",
       "      <th>501-600</th>\n",
       "      <th>601-700</th>\n",
       "      <th>701-800</th>\n",
       "      <th>801-900</th>\n",
       "      <th>901-1000</th>\n",
       "      <th>1001-2000</th>\n",
       "      <th>&gt; 2001</th>\n",
       "    </tr>\n",
       "    <tr>\n",
       "      <th>size_categorie</th>\n",
       "      <th></th>\n",
       "      <th></th>\n",
       "      <th></th>\n",
       "      <th></th>\n",
       "      <th></th>\n",
       "      <th></th>\n",
       "      <th></th>\n",
       "      <th></th>\n",
       "      <th></th>\n",
       "      <th></th>\n",
       "      <th></th>\n",
       "      <th></th>\n",
       "    </tr>\n",
       "  </thead>\n",
       "  <tbody>\n",
       "    <tr>\n",
       "      <th>0 - 5</th>\n",
       "      <td>0</td>\n",
       "      <td>0</td>\n",
       "      <td>0</td>\n",
       "      <td>0</td>\n",
       "      <td>0</td>\n",
       "      <td>0</td>\n",
       "      <td>0</td>\n",
       "      <td>0</td>\n",
       "      <td>0</td>\n",
       "      <td>0</td>\n",
       "      <td>0</td>\n",
       "      <td>0</td>\n",
       "    </tr>\n",
       "    <tr>\n",
       "      <th>6 - 10</th>\n",
       "      <td>0</td>\n",
       "      <td>0</td>\n",
       "      <td>0</td>\n",
       "      <td>0</td>\n",
       "      <td>0</td>\n",
       "      <td>0</td>\n",
       "      <td>0</td>\n",
       "      <td>0</td>\n",
       "      <td>0</td>\n",
       "      <td>0</td>\n",
       "      <td>0</td>\n",
       "      <td>0</td>\n",
       "    </tr>\n",
       "    <tr>\n",
       "      <th>11 - 12</th>\n",
       "      <td>0</td>\n",
       "      <td>4</td>\n",
       "      <td>35</td>\n",
       "      <td>20</td>\n",
       "      <td>9</td>\n",
       "      <td>8</td>\n",
       "      <td>25</td>\n",
       "      <td>21</td>\n",
       "      <td>21</td>\n",
       "      <td>31</td>\n",
       "      <td>244</td>\n",
       "      <td>42</td>\n",
       "    </tr>\n",
       "    <tr>\n",
       "      <th>13 - 15</th>\n",
       "      <td>0</td>\n",
       "      <td>1</td>\n",
       "      <td>18</td>\n",
       "      <td>65</td>\n",
       "      <td>92</td>\n",
       "      <td>76</td>\n",
       "      <td>66</td>\n",
       "      <td>69</td>\n",
       "      <td>69</td>\n",
       "      <td>51</td>\n",
       "      <td>233</td>\n",
       "      <td>76</td>\n",
       "    </tr>\n",
       "    <tr>\n",
       "      <th>16 - 20</th>\n",
       "      <td>0</td>\n",
       "      <td>0</td>\n",
       "      <td>0</td>\n",
       "      <td>0</td>\n",
       "      <td>0</td>\n",
       "      <td>0</td>\n",
       "      <td>0</td>\n",
       "      <td>0</td>\n",
       "      <td>0</td>\n",
       "      <td>0</td>\n",
       "      <td>0</td>\n",
       "      <td>0</td>\n",
       "    </tr>\n",
       "    <tr>\n",
       "      <th>&gt; 20</th>\n",
       "      <td>0</td>\n",
       "      <td>0</td>\n",
       "      <td>0</td>\n",
       "      <td>0</td>\n",
       "      <td>0</td>\n",
       "      <td>0</td>\n",
       "      <td>0</td>\n",
       "      <td>0</td>\n",
       "      <td>0</td>\n",
       "      <td>0</td>\n",
       "      <td>0</td>\n",
       "      <td>0</td>\n",
       "    </tr>\n",
       "  </tbody>\n",
       "</table>\n",
       "</div>"
      ],
      "text/plain": [
       "                  brand                                                  \\\n",
       "price_categorie 0 - 100 101 - 200 201 - 300 301 - 400 401 - 500 501-600   \n",
       "size_categorie                                                            \n",
       "0 - 5                 0         0         0         0         0       0   \n",
       "6 - 10                0         0         0         0         0       0   \n",
       "11 - 12               0         4        35        20         9       8   \n",
       "13 - 15               0         1        18        65        92      76   \n",
       "16 - 20               0         0         0         0         0       0   \n",
       "> 20                  0         0         0         0         0       0   \n",
       "\n",
       "                                                                   \n",
       "price_categorie 601-700 701-800 801-900 901-1000 1001-2000 > 2001  \n",
       "size_categorie                                                     \n",
       "0 - 5                 0       0       0        0         0      0  \n",
       "6 - 10                0       0       0        0         0      0  \n",
       "11 - 12              25      21      21       31       244     42  \n",
       "13 - 15              66      69      69       51       233     76  \n",
       "16 - 20               0       0       0        0         0      0  \n",
       "> 20                  0       0       0        0         0      0  "
      ]
     },
     "execution_count": 33,
     "metadata": {},
     "output_type": "execute_result"
    }
   ],
   "source": [
    "# Contingency table (numbers in the table are laptops)  \n",
    "tab = pd.pivot_table(df[['brand', 'size_categorie', 'price_categorie']],\n",
    "                     index=['size_categorie'],\n",
    "                     columns=['price_categorie'], \n",
    "                     aggfunc='count')\n",
    "tab"
   ]
  },
  {
   "cell_type": "markdown",
   "id": "495b9001",
   "metadata": {},
   "source": [
    "### Select part of the contingency table"
   ]
  },
  {
   "cell_type": "code",
   "execution_count": 34,
   "id": "7a508676",
   "metadata": {},
   "outputs": [
    {
     "data": {
      "text/html": [
       "<div>\n",
       "<style scoped>\n",
       "    .dataframe tbody tr th:only-of-type {\n",
       "        vertical-align: middle;\n",
       "    }\n",
       "\n",
       "    .dataframe tbody tr th {\n",
       "        vertical-align: top;\n",
       "    }\n",
       "\n",
       "    .dataframe thead tr th {\n",
       "        text-align: left;\n",
       "    }\n",
       "\n",
       "    .dataframe thead tr:last-of-type th {\n",
       "        text-align: right;\n",
       "    }\n",
       "</style>\n",
       "<table border=\"1\" class=\"dataframe\">\n",
       "  <thead>\n",
       "    <tr>\n",
       "      <th></th>\n",
       "      <th colspan=\"11\" halign=\"left\">brand</th>\n",
       "    </tr>\n",
       "    <tr>\n",
       "      <th>price_categorie</th>\n",
       "      <th>101 - 200</th>\n",
       "      <th>201 - 300</th>\n",
       "      <th>301 - 400</th>\n",
       "      <th>401 - 500</th>\n",
       "      <th>501-600</th>\n",
       "      <th>601-700</th>\n",
       "      <th>701-800</th>\n",
       "      <th>801-900</th>\n",
       "      <th>901-1000</th>\n",
       "      <th>1001-2000</th>\n",
       "      <th>&gt; 2001</th>\n",
       "    </tr>\n",
       "    <tr>\n",
       "      <th>size_categorie</th>\n",
       "      <th></th>\n",
       "      <th></th>\n",
       "      <th></th>\n",
       "      <th></th>\n",
       "      <th></th>\n",
       "      <th></th>\n",
       "      <th></th>\n",
       "      <th></th>\n",
       "      <th></th>\n",
       "      <th></th>\n",
       "      <th></th>\n",
       "    </tr>\n",
       "  </thead>\n",
       "  <tbody>\n",
       "    <tr>\n",
       "      <th>11 - 12</th>\n",
       "      <td>4</td>\n",
       "      <td>35</td>\n",
       "      <td>20</td>\n",
       "      <td>9</td>\n",
       "      <td>8</td>\n",
       "      <td>25</td>\n",
       "      <td>21</td>\n",
       "      <td>21</td>\n",
       "      <td>31</td>\n",
       "      <td>244</td>\n",
       "      <td>42</td>\n",
       "    </tr>\n",
       "    <tr>\n",
       "      <th>13 - 15</th>\n",
       "      <td>1</td>\n",
       "      <td>18</td>\n",
       "      <td>65</td>\n",
       "      <td>92</td>\n",
       "      <td>76</td>\n",
       "      <td>66</td>\n",
       "      <td>69</td>\n",
       "      <td>69</td>\n",
       "      <td>51</td>\n",
       "      <td>233</td>\n",
       "      <td>76</td>\n",
       "    </tr>\n",
       "  </tbody>\n",
       "</table>\n",
       "</div>"
      ],
      "text/plain": [
       "                    brand                                                \\\n",
       "price_categorie 101 - 200 201 - 300 301 - 400 401 - 500 501-600 601-700   \n",
       "size_categorie                                                            \n",
       "11 - 12                 4        35        20         9       8      25   \n",
       "13 - 15                 1        18        65        92      76      66   \n",
       "\n",
       "                                                           \n",
       "price_categorie 701-800 801-900 901-1000 1001-2000 > 2001  \n",
       "size_categorie                                             \n",
       "11 - 12              21      21       31       244     42  \n",
       "13 - 15              69      69       51       233     76  "
      ]
     },
     "execution_count": 34,
     "metadata": {},
     "output_type": "execute_result"
    }
   ],
   "source": [
    "# Select part of the contigency table => # .iloc[from row:to row, from column:to column])  \n",
    "# (allows selecting rows and colums using an index)\n",
    "tab_sub = tab.iloc[2:4,1:13]\n",
    "tab_sub"
   ]
  },
  {
   "cell_type": "markdown",
   "id": "b36e28db",
   "metadata": {},
   "source": [
    "### Perform Chi-square test\n",
    "\n",
    "The chi-square test checks whether the frequencies occurring in the sample differ significantly from those frequencies that would be expected. The observed frequencies are thus compared with the expected frequencies and their deviations are examined. \n",
    "\n",
    "- It generally applies that, if the value of the test statistic is higher than the critical value, the difference is significant. Therefore, it can be assumed that the expected and observed frequencies differ significantly.\n",
    "- Our p-value simply tells us the strength of evidence in support of a null hyptohesis. If the p-value is less than the significance level (in our case: 5%), we reject the null hypothesis =>  it is not statistcly relevant\n",
    "- The degrees of freedom are calculated in our example as follows: df = (number of variable levels *price*- 1) x (number of variable levels *size* - 1)\n",
    "\n",
    "To check whether the deviation between observed and expected frequencies is significant, the test statistic is compared with the critical value of the chi-square distribution determined by the degrees of freedom (df). The critical value is 18.3070 in our case. Also we got a p-value of 0.000, which means, that we would reject hte null hyptothesis in every case of a significance level (0.1, 0.05, and 0.01 etc.).\n"
   ]
  },
  {
   "cell_type": "code",
   "execution_count": 35,
   "id": "d92a7b25",
   "metadata": {},
   "outputs": [
    {
     "name": "stdout",
     "output_type": "stream",
     "text": [
      "Expected frequencies: \n",
      " [[  1.80250784  19.10658307  30.64263323  36.41065831  30.28213166\n",
      "   32.80564263  32.44514107  32.44514107  29.56112853 171.95924765\n",
      "   42.53918495]\n",
      " [  3.19749216  33.89341693  54.35736677  64.58934169  53.71786834\n",
      "   58.19435737  57.55485893  57.55485893  52.43887147 305.04075235\n",
      "   75.46081505]] \n",
      "\n",
      "Critical value: 18.307038053275146 \n",
      "\n",
      "Test statistic: 151.39428861328992 \n",
      "\n",
      "Degrees of freedom: 10 \n",
      "\n",
      "p-value: 0.0000\n"
     ]
    }
   ],
   "source": [
    "# 1-alpha\n",
    "prob = 0.95\n",
    "\n",
    "# Chi-squared test\n",
    "stat, p, dof, expected = chi2_contingency(tab_sub)\n",
    "\n",
    "# Critical value\n",
    "critical = chi2.ppf(prob, dof)\n",
    "\n",
    "# Print results of the Chi-square test\n",
    "print('Expected frequencies:', '\\n', expected, '\\n')\n",
    "print('Critical value:', critical, '\\n')\n",
    "print('Test statistic:', stat, '\\n')\n",
    "print('Degrees of freedom:', dof, '\\n')\n",
    "print(f'p-value: {p:.4f}')"
   ]
  },
  {
   "cell_type": "markdown",
   "id": "e43dabac",
   "metadata": {},
   "source": [
    "# 2) Simple linear regression (only one explanatory variable in the model)\n",
    "<a id='section_2'></a>\n",
    "##### Theorie\n",
    "Linear Regression is one of the most commonly used mathematical modeling techniques. It models a linear relationship between two variables. This technique helps determine correlations between two variables — or determines the value-dependent variable based on a particular value of the independent variable. It often applies to prediction and forecasting applications. \n",
    "The goal of the linear regression is to choose weights and biases so that any prediction for a new data point — based on the existing dataset — yields the lowest error rate. In simpler terms, linear regression is finding the best possible curve to match your data distribution.\n",
    "\n",
    "#### What we want to do with it...\n",
    "Linear regression is analytically solvable. That means we try to use deep learning to solve this problem, so we can get started quickly and easily check the validity of our training data. For this we use our preparted Laptop Dataset. For creating our training and test samples we used the most common split ratio: 80:20 (test_size=0.20) => which only means, that 80% of the dataset goes into the training set and 20% into the testing set. We use \" random_state=42\" , so that everytime we use 42, we wil always get the same ouput the first time we make the split. So we can make sure with it, hat the output in all rans will always be the same.\n",
    "Our goal is to predict the value of a dependent varialbe based on an independent variable. Which means we want to try to predict laptop prices"
   ]
  },
  {
   "cell_type": "markdown",
   "id": "f2ba09cd",
   "metadata": {},
   "source": [
    "### Create train and test samples (train = 80%, test = 20% of the data)"
   ]
  },
  {
   "cell_type": "code",
   "execution_count": 36,
   "id": "09391b9a",
   "metadata": {},
   "outputs": [
    {
     "name": "stdout",
     "output_type": "stream",
     "text": [
      "X_train:\n",
      "150     15.6\n",
      "712     15.6\n",
      "527     15.6\n",
      "1192    15.6\n",
      "869     15.6\n",
      "Name: size, dtype: float64 \n",
      "\n",
      "y_train:\n",
      "150     1249.26\n",
      "712      726.00\n",
      "527      459.00\n",
      "1192     485.00\n",
      "869     1778.00\n",
      "Name: price, dtype: float64\n"
     ]
    }
   ],
   "source": [
    "X_train, X_test, y_train, y_test = train_test_split(df['size'], \n",
    "                                                    df['price'], \n",
    "                                                    test_size=0.20, # 80:20 \n",
    "                                                    random_state=42)\n",
    "print('X_train:')\n",
    "print(X_train.head(), '\\n')\n",
    "print('y_train:')\n",
    "print(y_train.head())"
   ]
  },
  {
   "cell_type": "markdown",
   "id": "f32a7699",
   "metadata": {},
   "source": [
    "### Fit the simple linear regression model"
   ]
  },
  {
   "cell_type": "code",
   "execution_count": 37,
   "id": "a5b63ae2",
   "metadata": {
    "scrolled": true
   },
   "outputs": [
    {
     "name": "stdout",
     "output_type": "stream",
     "text": [
      "Linear regression result:\n",
      "Intercept with y-axis (alpha):            711.67\n",
      "Slope of regression line (beta):          27.574\n",
      "p-value:                                  0.0723\n",
      "R-squared (coefficient of determination): 0.0031\n"
     ]
    }
   ],
   "source": [
    "# Fit the regression model mit Linearer Einfach-Regression\n",
    "slope, intercept, r, p, std_err = stats.linregress(X_train, y_train)\n",
    "\n",
    "# Print results of the regression model (slope = Steigung der Regressionsgerade)\n",
    "print('Linear regression result:')\n",
    "print(f'Intercept with y-axis (alpha):            {intercept:.2f}') # intersection with y axis, if R=0\n",
    "print(f'Slope of regression line (beta):          {slope:.3f}') # m = 27.574 => with each unit my x increases, the price (y) increases by 27.574 (= marginal effect)\n",
    "print(f'p-value:                                  {p:.4f}')\n",
    "print(f'R-squared (coefficient of determination): {r**2:.4f}') # A value of 0.0031 means, that the explanatory variables explains only 0.31% of the variaton of our target variable (laptop prices) - which is bad, it could be improved."
   ]
  },
  {
   "cell_type": "markdown",
   "id": "473eaddb",
   "metadata": {},
   "source": [
    "### Plot regression line"
   ]
  },
  {
   "cell_type": "code",
   "execution_count": 38,
   "id": "3392fd64",
   "metadata": {},
   "outputs": [
    {
     "data": {
      "image/png": "[encoded data removed]",
      "text/plain": [
       "<Figure size 432x288 with 1 Axes>"
      ]
     },
     "metadata": {
      "needs_background": "light"
     },
     "output_type": "display_data"
    }
   ],
   "source": [
    "# Function to calculate model predictions\n",
    "def myfunc(x):\n",
    "    return slope * x + intercept\n",
    "\n",
    "# Apply myfunc() to x, i.e. make predictions \n",
    "mymodel = pd.Series(map(myfunc, X_train))\n",
    "\n",
    "# Scatterplot with regression line\n",
    "plt.figure(figsize=(6,4))\n",
    "plt.scatter(X_train, y_train, s=60, color='lightgreen')\n",
    "plt.plot(X_train, mymodel, color='red', linestyle='dashed')\n",
    "plt.title('Simple Linear Regression')\n",
    "plt.xlabel('Display size')\n",
    "plt.ylabel('Price (Euro)')\n",
    "\n",
    "plt.show()"
   ]
  },
  {
   "cell_type": "markdown",
   "id": "c0573ba0",
   "metadata": {},
   "source": [
    "It is pretty much a horizontal line, which means the slope is very low y does not change a lot with the display sizes."
   ]
  },
  {
   "cell_type": "markdown",
   "id": "4168bf46",
   "metadata": {},
   "source": [
    "### Check model residuals (residuals = predicted values minus observed values)"
   ]
  },
  {
   "cell_type": "code",
   "execution_count": 39,
   "id": "d92eab3b",
   "metadata": {},
   "outputs": [
    {
     "name": "stdout",
     "output_type": "stream",
     "text": [
      "1st Predicted price in dataset: 1141.82\n",
      "1st Observed price in dataset: 1249.26\n",
      "1st Residual price in dataset: -197.87\n"
     ]
    }
   ],
   "source": [
    "# Calculate residuals (here: predicted prices minus observed prices)\n",
    "residuals = mymodel - y_train\n",
    "\n",
    "# Check the first residual value in our data set\n",
    "print(f'1st Predicted price in dataset: {mymodel[0]:.2f}')\n",
    "print(f'1st Observed price in dataset: {y_train.iloc[0]:.2f}')\n",
    "print(f'1st Residual price in dataset: {residuals[0]:.2f}')"
   ]
  },
  {
   "cell_type": "markdown",
   "id": "a61ae5ac",
   "metadata": {},
   "source": [
    "### Plot histogram of residuals"
   ]
  },
  {
   "cell_type": "code",
   "execution_count": 40,
   "id": "5f2ca4d4",
   "metadata": {},
   "outputs": [
    {
     "data": {
      "image/png": "[encoded data removed]",
      "text/plain": [
       "<Figure size 576x288 with 1 Axes>"
      ]
     },
     "metadata": {
      "needs_background": "light"
     },
     "output_type": "display_data"
    }
   ],
   "source": [
    "# Plot histogram of residuals\n",
    "fig = plt.figure( figsize=(8,4))\n",
    "n, bins, patches = plt.hist(x=residuals, \n",
    "                            bins=90, \n",
    "                            color='lightgreen',\n",
    "                            alpha=0.5,\n",
    "                           rwidth=0.95)\n",
    "\n",
    "# Set title and labels\n",
    "plt.xlabel('price', fontsize=10, labelpad=10)\n",
    "plt.ylabel('size', fontsize=10, labelpad=10)\n",
    "plt.title('Histogram of Residuals', fontsize=12, pad=10)\n",
    "\n",
    "# Add text annotation\n",
    "plt.text(-4500, 20, s=\"Unfortunately, we got a left skewed histogramm.\", \n",
    "         fontsize=11, \n",
    "         color=\"green\")\n",
    "\n",
    "# Show plot (ein Residuenplot sollte eigentlich normalverteilt sein)\n",
    "plt.show()"
   ]
  },
  {
   "cell_type": "markdown",
   "id": "4586c6d9",
   "metadata": {},
   "source": [
    "#### Histogram evaluation part 1\n",
    "Unfortunately, our asymmetric distribution is *left-skewed*. This means that it rises more slowly on the left of the *mode* than it falls on the right.  However, a *residual plot* should normally be normally distributed."
   ]
  },
  {
   "cell_type": "markdown",
   "id": "b3108ba5",
   "metadata": {},
   "source": [
    "### Compare the predicted prices with the observed prices in our test sample"
   ]
  },
  {
   "cell_type": "code",
   "execution_count": 41,
   "id": "36cdf7b0",
   "metadata": {},
   "outputs": [
    {
     "name": "stdout",
     "output_type": "stream",
     "text": [
      "Predicted price: 1141.8, Observed price: 590.0\n",
      "Predicted price: 1188.7, Observed price: 1199.0\n",
      "Predicted price: 1097.7, Observed price: 1870.0\n",
      "Predicted price: 1056.3, Observed price: 1895.0\n",
      "Predicted price: 1078.4, Observed price: 1195.0\n",
      "Predicted price: 1078.4, Observed price: 1399.0\n",
      "Predicted price: 1141.8, Observed price: 1262.0\n",
      "Predicted price: 1141.8, Observed price: 750.0\n",
      "Predicted price: 1188.7, Observed price: 2649.0\n",
      "Predicted price: 1141.8, Observed price: 530.0\n"
     ]
    }
   ],
   "source": [
    "# Create model predictions for test data\n",
    "predicted = myfunc(X_test)\n",
    "predicted.round(1)\n",
    "\n",
    "# Compare predicted with observed price based on first 10 test samples\n",
    "for i in range(0,10):\n",
    "    print(f'Predicted price: {predicted.iloc[i]:.1f}, Observed price: {y_test.iloc[i]:.1f}')"
   ]
  },
  {
   "cell_type": "markdown",
   "id": "c1038377",
   "metadata": {},
   "source": [
    "#### Evaluation of predicted prices part 1\n",
    "No systematic over- or underestimation of the price -But it is missing that the same price is estimated again and again. This evaluation is still unusable, because additionally the estimates are still wildly off."
   ]
  },
  {
   "cell_type": "markdown",
   "id": "81bc9dab",
   "metadata": {},
   "source": [
    "# 3) Multiple linear regression (more than one explanatory variable in the model)\n",
    "<a id='section_3'></a>\n",
    "\n",
    "We use Multiple linear regression to estimate the relationship between independent variables (size, Ram, Memory, Weight) and one dependent variable (price)."
   ]
  },
  {
   "cell_type": "markdown",
   "id": "bb1bfdc9",
   "metadata": {},
   "source": [
    "### Create train and test samples (train = 80%, test = 20% of the data)"
   ]
  },
  {
   "cell_type": "code",
   "execution_count": 42,
   "id": "d27cff58",
   "metadata": {},
   "outputs": [
    {
     "name": "stdout",
     "output_type": "stream",
     "text": [
      "X2_train:\n",
      "     size  Ram  Memory  Weight\n",
      "34   13.3  8.0     1.0    1.35\n",
      "159  15.6  4.0   256.0    2.10\n",
      "734  13.3  8.0   256.0    1.44\n",
      "984  14.0  4.0   128.0    1.75\n",
      "283  15.6  6.0   256.0    2.20 \n",
      "\n",
      "y2_train:\n",
      "34     998.0\n",
      "159    447.0\n",
      "734    960.0\n",
      "984    915.0\n",
      "283    579.0\n",
      "Name: price, dtype: float64\n"
     ]
    }
   ],
   "source": [
    "# Before we need to look for missing values\n",
    "df.isnull().sum().sort_values(ascending = False)\n",
    "#we see, there is no data missing, but just to be sure:\n",
    "df = df.dropna()\n",
    "\n",
    "# Create train and test samples (we name it X2_ and y_2 because we already used X_ and y_ above)\n",
    "X2_train, X2_test, y2_train, y2_test = train_test_split(df[['size',\n",
    "                                                            'Ram','Memory','Weight']], \n",
    "                                                        df['price'], \n",
    "                                                        test_size=0.20, \n",
    "                                                        random_state=42)\n",
    "\n",
    "# Show X2_train\n",
    "print('X2_train:')\n",
    "print(X2_train.head(), '\\n')\n",
    "\n",
    "# Show y2_train\n",
    "print('y2_train:')\n",
    "print(y2_train.head())"
   ]
  },
  {
   "cell_type": "markdown",
   "id": "417e57cc",
   "metadata": {},
   "source": [
    "### Fit the multiple regression model "
   ]
  },
  {
   "cell_type": "code",
   "execution_count": 43,
   "id": "14c5fbc6",
   "metadata": {},
   "outputs": [
    {
     "name": "stdout",
     "output_type": "stream",
     "text": [
      "                            OLS Regression Results                            \n",
      "==============================================================================\n",
      "Dep. Variable:                  price   R-squared:                       0.545\n",
      "Model:                            OLS   Adj. R-squared:                  0.544\n",
      "Method:                 Least Squares   F-statistic:                     302.6\n",
      "Date:                Fri, 23 Dec 2022   Prob (F-statistic):          5.53e-171\n",
      "Time:                        10:38:17   Log-Likelihood:                -7561.1\n",
      "No. Observations:                1014   AIC:                         1.513e+04\n",
      "Df Residuals:                    1009   BIC:                         1.516e+04\n",
      "Df Model:                           4                                         \n",
      "Covariance Type:            nonrobust                                         \n",
      "==============================================================================\n",
      "                 coef    std err          t      P>|t|      [0.025      0.975]\n",
      "------------------------------------------------------------------------------\n",
      "const       1202.5626    197.256      6.096      0.000     815.484    1589.642\n",
      "size         -72.6341     16.794     -4.325      0.000    -105.590     -39.679\n",
      "Ram          107.6923      3.222     33.427      0.000     101.370     114.014\n",
      "Memory         0.1278      0.076      1.682      0.093      -0.021       0.277\n",
      "Weight        32.5445     38.120      0.854      0.393     -42.260     107.349\n",
      "==============================================================================\n",
      "Omnibus:                      137.209   Durbin-Watson:                   2.024\n",
      "Prob(Omnibus):                  0.000   Jarque-Bera (JB):              241.130\n",
      "Skew:                           0.857   Prob(JB):                     4.36e-53\n",
      "Kurtosis:                       4.663   Cond. No.                     4.35e+03\n",
      "==============================================================================\n",
      "\n",
      "Notes:\n",
      "[1] Standard Errors assume that the covariance matrix of the errors is correctly specified.\n",
      "[2] The condition number is large, 4.35e+03. This might indicate that there are\n",
      "strong multicollinearity or other numerical problems.\n"
     ]
    }
   ],
   "source": [
    "# Add constant to the model\n",
    "X2_train_const = sm.add_constant(X2_train)\n",
    "\n",
    "# Create the multiple regression model\n",
    "olsmod = sm.OLS(y2_train, X2_train_const)\n",
    "olsres = olsmod.fit()\n",
    "\n",
    "# Print full model output\n",
    "print(olsres.summary())"
   ]
  },
  {
   "cell_type": "markdown",
   "id": "1be50d1d",
   "metadata": {},
   "source": [
    "**R-squared** : It signifies the percentage variation in dependent that is explained by independent variables”. Here, 54.5% variation in y is explained by size, Ram, Memory and Weight. This statistic has a drawback, it increases with the number of predictors(dependent variables) increase. Therefore, it becomes inconclusive in case when it is to be decided whether additional variable is adding to the predictability power of the regression.\n",
    "\n",
    "**Adj. R-squared** : This is the modified version of R-squared which is adjusted for the number of variables in the regression. It increases only when an additional variable adds to the explanatory power to the regression.\n",
    "\n",
    "**AIC/BIC**: It stands for Akaike’s Information Criteria and is used for model selection. It penalizes the errors mode in case a new variable is added to the regression equation. It is calculated as number of parameters minus the likelihood of the overall model. A lower AIC implies a better model. Whereas, BIC stands for Bayesian information criteria and is a variant of AIC where penalties are made more severe.\n",
    "\n",
    "**Prob(F-Statistic)**: This tells the overall significance of the regression. This is to assess the significance level of all the variables together unlike the t-statistic that measures it for individual variables. The null hypothesis under this is “all the regression coefficients are equal to zero”. Prob(F-statistics) depicts the probability of null hypothesis being true. As per the above results, probability is close to zero. This implies that overall the regressions is meaningful.\n",
    "\n",
    "**Durbin-watson**: Another assumption of OLS is of homoscedasticity. This implies that the variance of errors is constant. A value between 1 to 2 is preferred. Here, it is ~1.8 implying that the regression results are reliable from the interpretation side of this metric => 2.024 is okey."
   ]
  },
  {
   "cell_type": "markdown",
   "id": "af205a62",
   "metadata": {},
   "source": [
    "### Plot histogram of residuals"
   ]
  },
  {
   "cell_type": "code",
   "execution_count": 44,
   "id": "9e5c80af",
   "metadata": {},
   "outputs": [
    {
     "data": {
      "text/plain": [
       "Text(0.5, 1.0, 'Histogram of model residuals')"
      ]
     },
     "execution_count": 44,
     "metadata": {},
     "output_type": "execute_result"
    },
    {
     "data": {
      "image/png": "[encoded data removed]",
      "text/plain": [
       "<Figure size 576x288 with 1 Axes>"
      ]
     },
     "metadata": {
      "needs_background": "light"
     },
     "output_type": "display_data"
    }
   ],
   "source": [
    "# Plot histogram of residuals\n",
    "fig = plt.figure( figsize=(8,4))\n",
    "n, bins, patches = plt.hist(x=olsres.resid, \n",
    "                            bins=90, \n",
    "                            color='blue',\n",
    "                            alpha=0.5,\n",
    "                            rwidth=0.95)\n",
    "\n",
    "# Set labels\n",
    "plt.xlabel('Price', fontsize=10, labelpad=10)\n",
    "plt.ylabel('size', fontsize=10, labelpad=10)\n",
    "plt.title('Histogram of model residuals', fontsize=12, pad=10)"
   ]
  },
  {
   "cell_type": "markdown",
   "id": "6b98ed4e",
   "metadata": {},
   "source": [
    "#### Histogram evaluation part 2\n",
    "\n",
    "It is significantly higher compared to the original model with price as the target variable and display size as the explanatory variable. The residuals are also almost normally distributed - comes closer to a normal distribution."
   ]
  },
  {
   "cell_type": "markdown",
   "id": "60bf754f",
   "metadata": {},
   "source": [
    "### Compare the predicted prices with the observed prices in the test sample"
   ]
  },
  {
   "cell_type": "code",
   "execution_count": 45,
   "id": "e1f7610a",
   "metadata": {},
   "outputs": [
    {
     "name": "stdout",
     "output_type": "stream",
     "text": [
      "Predicted price: 2037.9, Observed price: 590.0\n",
      "Predicted price: 896.2, Observed price: 1199.0\n",
      "Predicted price: 1380.0, Observed price: 1870.0\n",
      "Predicted price: 1218.2, Observed price: 1895.0\n",
      "Predicted price: 1013.2, Observed price: 1195.0\n",
      "Predicted price: 1132.1, Observed price: 1399.0\n",
      "Predicted price: 993.3, Observed price: 1262.0\n",
      "Predicted price: 1135.3, Observed price: 750.0\n",
      "Predicted price: 1175.4, Observed price: 2649.0\n",
      "Predicted price: 912.7, Observed price: 530.0\n"
     ]
    }
   ],
   "source": [
    "#Add constant to X2_test\n",
    "X2_test_const = sm.add_constant(X2_test)\n",
    "predicted_new = olsres.predict(X2_test_const)\n",
    "\n",
    "# Compare predicted with observed price based on first 10 test samples\n",
    "for i in range(0,10):\n",
    "    print(f'Predicted price: {predicted_new.iloc[i]:.1f}, Observed price: {y_test.iloc[i]:.1f}')"
   ]
  },
  {
   "cell_type": "markdown",
   "id": "17397f96",
   "metadata": {},
   "source": [
    "#### Evaluation of predicted prices part 2\n",
    "\n",
    "No systematic over- or underestimation of the price - the predictions estimate equally too high, but also too low. However, the estimates are still wildly off."
   ]
  },
  {
   "cell_type": "markdown",
   "id": "f11b692f",
   "metadata": {},
   "source": [
    "# 4) Barchart display size & prozessor status\n",
    "<a id='section_4'></a>"
   ]
  },
  {
   "cell_type": "markdown",
   "id": "86278912",
   "metadata": {},
   "source": [
    "### Prozessor"
   ]
  },
  {
   "cell_type": "code",
   "execution_count": 46,
   "id": "9ec05196",
   "metadata": {},
   "outputs": [
    {
     "data": {
      "image/png": "[encoded data removed]",
      "text/plain": [
       "<Figure size 1080x720 with 1 Axes>"
      ]
     },
     "metadata": {
      "needs_background": "light"
     },
     "output_type": "display_data"
    }
   ],
   "source": [
    "# Restricting processors to brand\n",
    "df['Cpu'].value_counts()\n",
    "df['Cpu Name'] = df['Cpu'].apply(lambda x:\" \".join(x.split()[0:3]))\n",
    "def fetch_processor(text):\n",
    "    if text == 'Intel Core i7' or text == 'Intel Core i5' or text == 'Intel Core i3':\n",
    "        return text\n",
    "    else:\n",
    "        if text.split()[0] == 'Intel':\n",
    "            return 'Other Intel Processor'\n",
    "        else:\n",
    "            return 'AMD Processor'\n",
    "df['Cpu brand'] = df['Cpu Name'].apply(fetch_processor)\n",
    "\n",
    "# Create a pivot table\n",
    "table = df[['Cpu brand', 'brand']].pivot_table(index='Cpu brand', \n",
    "                                        columns=['brand'], \n",
    "                                        aggfunc=len)\n",
    "\n",
    "# Plot a stacked bar chart\n",
    "table.plot(kind='bar', \n",
    "           stacked=True, \n",
    "           ylabel='Counts', \n",
    "           xlabel='Status',\n",
    "           title='Status Count by prozessor', \n",
    "           rot=90,\n",
    "           figsize=(15,10))\n",
    "\n",
    "plt.show()\n",
    "\n",
    "# Intel Core i5 and Intel Core i7 have been used significantly more in all brands (in this dataset) than other processors."
   ]
  },
  {
   "cell_type": "markdown",
   "id": "3f5e4d4f",
   "metadata": {},
   "source": [
    "### Size"
   ]
  },
  {
   "cell_type": "code",
   "execution_count": 47,
   "id": "1a84c1f7",
   "metadata": {},
   "outputs": [
    {
     "data": {
      "text/plain": [
       "<function matplotlib.pyplot.show(close=None, block=None)>"
      ]
     },
     "execution_count": 47,
     "metadata": {},
     "output_type": "execute_result"
    },
    {
     "data": {
      "image/png": "[encoded data removed]",
      "text/plain": [
       "<Figure size 1080x720 with 1 Axes>"
      ]
     },
     "metadata": {
      "needs_background": "light"
     },
     "output_type": "display_data"
    }
   ],
   "source": [
    "# Create a pivot table\n",
    "table = df[['size', 'brand']].pivot_table(index='size', \n",
    "                                        columns=['brand'], \n",
    "                                        aggfunc=len)\n",
    "\n",
    "# Plot a stacked bar chart\n",
    "table.plot(kind='bar', \n",
    "           stacked=True, \n",
    "           ylabel='Counts', \n",
    "           xlabel='Status',\n",
    "           title='Status Count by displaysize', \n",
    "           rot=90,\n",
    "           figsize=(15,10))\n",
    "\n",
    "plt.show\n",
    "# The 15.6 inch display size is the most common."
   ]
  },
  {
   "cell_type": "markdown",
   "id": "fd135353",
   "metadata": {},
   "source": [
    "# 5) Classication Tree\n",
    "<a id='section_5'></a>"
   ]
  },
  {
   "cell_type": "markdown",
   "id": "39319c55",
   "metadata": {},
   "source": [
    "The most significant difference between regression vs classification is that while regression helps predict a continuous quantity, classification predicts discrete class labels (of course there are some overlaps). But this is the main reason, why we decided to try both. "
   ]
  },
  {
   "cell_type": "code",
   "execution_count": 48,
   "id": "e8f1a689",
   "metadata": {},
   "outputs": [
    {
     "name": "stdout",
     "output_type": "stream",
     "text": [
      "X_train:\n",
      "     Weight  Ram  Memory  size    price\n",
      "803    2.06  8.0   512.0  15.6  1749.00\n",
      "660    1.56  8.0   128.0  14.0  1229.00\n",
      "136    1.90  4.0   256.0  15.6   252.36\n",
      "890    1.95  4.0   256.0  14.0  1265.00\n",
      "414    1.27  8.0   256.0  13.3   928.00 \n",
      "\n",
      "y_train:\n",
      "803      Dell\n",
      "660      Dell\n",
      "136    Lenovo\n",
      "890        HP\n",
      "414      Asus\n",
      "Name: brand, dtype: object\n"
     ]
    }
   ],
   "source": [
    "# Create train and test samples\n",
    "X_train, X_test, y_train, y_test = train_test_split(df[['Weight', \n",
    "                                                        'Ram',\n",
    "                                                        'Memory',\n",
    "                                                        'size',\n",
    "                                                        'price']], \n",
    "                                                        df['brand'], \n",
    "                                                        test_size=0.50, \n",
    "                                                        random_state=42)\n",
    "\n",
    "# Show X_train\n",
    "print('X_train:')\n",
    "print(X_train.head(), '\\n')\n",
    "\n",
    "# Show y_train\n",
    "print('y_train:')\n",
    "print(y_train.head())"
   ]
  },
  {
   "cell_type": "markdown",
   "id": "9fb3fa43",
   "metadata": {},
   "source": [
    "### Fit the classification tree model and make predictions"
   ]
  },
  {
   "cell_type": "code",
   "execution_count": 49,
   "id": "e7991863",
   "metadata": {},
   "outputs": [
    {
     "name": "stdout",
     "output_type": "stream",
     "text": [
      "[ 3  3  9  6  2  3 17  6  0  6  6  0  1  3  3  3  3  3  3  6  3  3  3 11\n",
      "  6  3  9 17  9  9  6  3  6  6  2  2  6  0  2  3  2  9  2  3  3  3  6  6\n",
      "  6  3  3  9  9  9  0  9  2  9  9  2  9  9  6  9  3 10  6  8  3 10  0  0\n",
      "  9  3 15 15 10  0  3  9  2  3  3  9  3  3  2  3  3  9  3  0  1  6  2  6\n",
      "  2  9  6  3  6  3  3  2 10  2  9  0  0 15  9  3 15  6  3  6  0  6  2  6\n",
      " 15  6  6  2  9  3  3  2  0  3  9  3  9 10  6  0  6  9  3  2  0  3  2  6\n",
      "  0  9  2  9  6  6  6  6  9  9  9  3  7  6  3  9 15  9  3  3  3  9  6  6\n",
      "  6  3  3  3  3  9  6  3  3 10 15  3 10  6  2  2  9  6  3  3  3  6  3  9\n",
      "  0  6  0  6  3  6  5  6 15  3  3  6  3  3 12  6  0  0  2  9  6  9  3  2\n",
      "  3  9  6  2 16  0  2  2  6  4  0  0  6 13  2  2  9  3 10  9  6  6  6  2\n",
      " 15  9  2  2  3  2  2  9  3  6  0 10  0  6 15 15  3  9  6  3  3  9  9  9\n",
      "  6  6  1  2  3  0  9  3 12  9  3  2  9  9  9  3  3  0  9  2  9  6  9  6\n",
      "  6  9  3  3  6  3  6  2  3  3  6  2  6  2  0  2 15  3  2  3  3  6 10  0\n",
      "  3  9  9  6 14  1  6  2  9  2 15  6  3  6  3  3  9  2 13 15  9  9  9  3\n",
      "  2  9  0  6  9  9  6 14  6  9  3  6  9  2  3  9  0  9  9  2  6 15  2 15\n",
      " 15  9 15 13  6  6  9  3  3  2  2  6  2  6  6  1  6  9  3  6  3 15  6  3\n",
      "  6  3  2  0  9  3 14  2  3  9 10  0  6  5  3 10  6  2 15 16  9  9  9  9\n",
      "  9 15  9 10  6  6  3  6  6  9  9  6  3  6  9  6  2  2  6  6 12  9  0  9\n",
      "  6  3  9  6  9  6 10  3  9  2  9  6  3  9  9  0  9  2  0  0  9  3  6  6\n",
      "  3  6  9  3  0  2  9 15  6  3  3  2  9  9  2  9  3  2  1  6  9 10  3  6\n",
      "  3  9  9  6  3  6  9  3  6  0  6  6  6 10  2  9 10  2  2  9  6  3  9 15\n",
      "  2  9  6  9  6  9  3  2  3  9  2  0  2  2  9  0  9  3  6  9  6  3  6  9\n",
      "  6  9  9  9  9  2  6  2 15  3  2  9  3  9  6  3  2  3  9  9  6  1  3  9\n",
      "  9  9  9  9  9 15  2 15  9  0  2  6  0  9  3 15  3  0  3  3  3  3  9 16\n",
      "  6  6  0  0  3  2  3  2  9  6  2  2  3  9  9 10  6  6  9 15 10  6  6  3\n",
      "  9  2 17  2  6  2  3  3  9  9 10  6  2  2  9  6  0  2  9  3  9  0  0  3\n",
      "  2  3  9  5  0 10 15  3 17  9]\n"
     ]
    },
    {
     "data": {
      "text/plain": [
       "array([6, 2, 2, 6, 2, 6, 6, 6, 6, 2, 3, 2, 9, 9, 6, 6, 6, 6, 2, 3, 6, 9,\n",
       "       6, 2, 6, 6, 2, 6, 3, 9, 9, 9, 6, 3, 6, 3, 6, 6, 2, 6, 6, 9, 9, 6,\n",
       "       6, 6, 6, 6, 3, 6, 6, 3, 3, 6, 2, 6, 3, 6, 6, 3, 9, 3, 6, 6, 3, 3,\n",
       "       0, 3, 6, 9, 6, 2, 2, 3, 3, 9, 2, 6, 3, 3, 9, 3, 3, 6, 6, 6, 2, 2,\n",
       "       3, 6, 6, 6, 0, 6, 6, 9, 9, 6, 2, 2, 9, 6, 3, 6, 9, 9, 6, 3, 6, 3,\n",
       "       6, 3, 2, 6, 2, 3, 3, 2, 2, 9, 6, 9, 3, 2, 9, 6, 6, 3, 6, 2, 6, 6,\n",
       "       0, 6, 9, 6, 6, 6, 6, 6, 3, 0, 9, 6, 2, 6, 3, 2, 2, 6, 3, 6, 3, 2,\n",
       "       9, 6, 6, 6, 9, 3, 2, 6, 6, 6, 6, 9, 3, 6, 3, 6, 3, 6, 3, 6, 6, 9,\n",
       "       2, 6, 2, 3, 6, 3, 6, 2, 2, 6, 3, 6, 6, 3, 6, 2, 3, 2, 6, 6, 6, 6,\n",
       "       3, 0, 3, 2, 6, 2, 9, 6, 3, 6, 6, 6, 3, 3, 3, 9, 6, 6, 6, 6, 6, 2,\n",
       "       3, 6, 9, 6, 6, 2, 9, 6, 6, 9, 6, 6, 3, 2, 6, 9, 2, 6, 6, 6, 6, 9,\n",
       "       9, 3, 2, 2, 9, 6, 6, 0, 9, 9, 9, 6, 6, 0, 6, 6, 3, 6, 3, 9, 0, 3,\n",
       "       2, 3, 9, 6, 2, 3, 3, 6, 6, 3, 9, 9, 2, 2, 3, 3, 9, 3, 2, 3, 0, 6,\n",
       "       2, 6, 3, 3, 6, 2, 2, 6, 3, 6, 6, 2, 3, 9, 6, 9, 6, 6, 6, 2, 6, 6,\n",
       "       3, 9, 6, 3, 6, 3, 6, 3, 9, 6, 2, 9, 6, 3, 6, 3, 6, 3, 3, 6, 9, 9,\n",
       "       6, 2, 2, 6, 6, 9, 2, 3, 6, 6, 6, 6, 3, 6, 6, 6, 2, 2, 6, 6, 2, 3,\n",
       "       6, 2, 6, 6, 2, 2, 3, 3, 6, 6, 6, 3, 2, 3, 6, 6, 2, 3, 6, 6, 3, 6,\n",
       "       6, 6, 0, 6, 6, 9, 9, 6, 6, 6, 3, 2, 2, 2, 3, 3, 6, 6, 3, 3, 3, 6,\n",
       "       9, 3, 3, 6, 6, 6, 9, 3, 3, 2, 2, 0, 9, 6, 3, 3, 3, 2, 3, 9, 3, 2,\n",
       "       6, 6, 6, 6, 9, 0, 3, 9, 3, 9, 6, 6, 3, 6, 3, 3, 2, 6, 6, 6, 6, 6,\n",
       "       6, 6, 2, 6, 6, 9, 3, 3, 6, 3, 6, 6, 6, 2, 6, 6, 2, 0, 6, 6, 6, 3,\n",
       "       6, 6, 6, 2, 6, 2, 6, 6, 6, 2, 6, 6, 6, 6, 6, 6, 6, 3, 6, 6, 6, 6,\n",
       "       2, 6, 9, 3, 3, 2, 6, 6, 6, 6, 3, 6, 6, 6, 2, 3, 9, 2, 6, 2, 6, 6,\n",
       "       2, 3, 6, 3, 6, 3, 6, 6, 6, 6, 3, 3, 6, 3, 2, 3, 3, 9, 6, 9, 9, 9,\n",
       "       2, 9, 3, 6, 3, 3, 2, 9, 2, 6, 3, 9, 9, 3, 6, 6, 2, 3, 9, 2, 6, 6,\n",
       "       9, 3, 6, 6, 3, 3, 9, 2, 2, 3, 3, 6, 2, 2, 6, 6, 2, 6, 2, 9, 2, 3,\n",
       "       3, 6, 6, 3, 9, 6, 6, 6, 6, 3, 2, 9, 3, 6, 2, 6, 3, 6, 6, 3, 6, 6,\n",
       "       6, 3, 3, 3, 6, 6, 6, 3, 6, 9, 2, 2, 2, 6, 6, 6, 6, 6, 2, 3, 9, 9,\n",
       "       6, 6, 9, 2, 2, 3, 6, 6, 3, 3, 6, 0, 6, 6, 6, 6, 3, 2])"
      ]
     },
     "execution_count": 49,
     "metadata": {},
     "output_type": "execute_result"
    }
   ],
   "source": [
    "from sklearn import preprocessing\n",
    "from sklearn import utils\n",
    "\n",
    "# Initialize the classification tree model \n",
    "# DectionTreeClassifier => macht prediction auf Basis der x-Tests\n",
    "clf = DecisionTreeClassifier(random_state=20, \n",
    "                             max_depth=4)\n",
    "\n",
    "\n",
    "#convert y values to categorical values\n",
    "lab = preprocessing.LabelEncoder()\n",
    "y_transformed = lab.fit_transform(y_train)\n",
    "\n",
    "#view transformed values\n",
    "print(y_transformed)\n",
    "\n",
    "# Train the classification tree model \n",
    "clf = clf.fit(X_train, y_transformed)\n",
    "\n",
    "# Make model predictions\n",
    "y_pred = clf.predict(X_test)\n",
    "y_pred\n",
    "\n",
    "# we made more nodes in the binary tree, so we see more and accurate data "
   ]
  },
  {
   "cell_type": "code",
   "execution_count": 50,
   "id": "8b4fabe7",
   "metadata": {},
   "outputs": [
    {
     "data": {
      "text/plain": [
       "array(['HP', 'Asus', 'Asus', 'HP', 'Asus', 'HP', 'HP', 'HP', 'HP', 'Asus',\n",
       "       'Dell', 'Asus', 'Lenovo', 'Lenovo', 'HP', 'HP', 'HP', 'HP', 'Asus',\n",
       "       'Dell', 'HP', 'Lenovo', 'HP', 'Asus', 'HP', 'HP', 'Asus', 'HP',\n",
       "       'Dell', 'Lenovo', 'Lenovo', 'Lenovo', 'HP', 'Dell', 'HP', 'Dell',\n",
       "       'HP', 'HP', 'Asus', 'HP', 'HP', 'Lenovo', 'Lenovo', 'HP', 'HP',\n",
       "       'HP', 'HP', 'HP', 'Dell', 'HP', 'HP', 'Dell', 'Dell', 'HP', 'Asus',\n",
       "       'HP', 'Dell', 'HP', 'HP', 'Dell', 'Lenovo', 'Dell', 'HP', 'HP',\n",
       "       'Dell', 'Dell', 'Acer', 'Dell', 'HP', 'Lenovo', 'HP', 'Asus',\n",
       "       'Asus', 'Dell', 'Dell', 'Lenovo', 'Asus', 'HP', 'Dell', 'Dell',\n",
       "       'Lenovo', 'Dell', 'Dell', 'HP', 'HP', 'HP', 'Asus', 'Asus', 'Dell',\n",
       "       'HP', 'HP', 'HP', 'Acer', 'HP', 'HP', 'Lenovo', 'Lenovo', 'HP',\n",
       "       'Asus', 'Asus', 'Lenovo', 'HP', 'Dell', 'HP', 'Lenovo', 'Lenovo',\n",
       "       'HP', 'Dell', 'HP', 'Dell', 'HP', 'Dell', 'Asus', 'HP', 'Asus',\n",
       "       'Dell', 'Dell', 'Asus', 'Asus', 'Lenovo', 'HP', 'Lenovo', 'Dell',\n",
       "       'Asus', 'Lenovo', 'HP', 'HP', 'Dell', 'HP', 'Asus', 'HP', 'HP',\n",
       "       'Acer', 'HP', 'Lenovo', 'HP', 'HP', 'HP', 'HP', 'HP', 'Dell',\n",
       "       'Acer', 'Lenovo', 'HP', 'Asus', 'HP', 'Dell', 'Asus', 'Asus', 'HP',\n",
       "       'Dell', 'HP', 'Dell', 'Asus', 'Lenovo', 'HP', 'HP', 'HP', 'Lenovo',\n",
       "       'Dell', 'Asus', 'HP', 'HP', 'HP', 'HP', 'Lenovo', 'Dell', 'HP',\n",
       "       'Dell', 'HP', 'Dell', 'HP', 'Dell', 'HP', 'HP', 'Lenovo', 'Asus',\n",
       "       'HP', 'Asus', 'Dell', 'HP', 'Dell', 'HP', 'Asus', 'Asus', 'HP',\n",
       "       'Dell', 'HP', 'HP', 'Dell', 'HP', 'Asus', 'Dell', 'Asus', 'HP',\n",
       "       'HP', 'HP', 'HP', 'Dell', 'Acer', 'Dell', 'Asus', 'HP', 'Asus',\n",
       "       'Lenovo', 'HP', 'Dell', 'HP', 'HP', 'HP', 'Dell', 'Dell', 'Dell',\n",
       "       'Lenovo', 'HP', 'HP', 'HP', 'HP', 'HP', 'Asus', 'Dell', 'HP',\n",
       "       'Lenovo', 'HP', 'HP', 'Asus', 'Lenovo', 'HP', 'HP', 'Lenovo', 'HP',\n",
       "       'HP', 'Dell', 'Asus', 'HP', 'Lenovo', 'Asus', 'HP', 'HP', 'HP',\n",
       "       'HP', 'Lenovo', 'Lenovo', 'Dell', 'Asus', 'Asus', 'Lenovo', 'HP',\n",
       "       'HP', 'Acer', 'Lenovo', 'Lenovo', 'Lenovo', 'HP', 'HP', 'Acer',\n",
       "       'HP', 'HP', 'Dell', 'HP', 'Dell', 'Lenovo', 'Acer', 'Dell', 'Asus',\n",
       "       'Dell', 'Lenovo', 'HP', 'Asus', 'Dell', 'Dell', 'HP', 'HP', 'Dell',\n",
       "       'Lenovo', 'Lenovo', 'Asus', 'Asus', 'Dell', 'Dell', 'Lenovo',\n",
       "       'Dell', 'Asus', 'Dell', 'Acer', 'HP', 'Asus', 'HP', 'Dell', 'Dell',\n",
       "       'HP', 'Asus', 'Asus', 'HP', 'Dell', 'HP', 'HP', 'Asus', 'Dell',\n",
       "       'Lenovo', 'HP', 'Lenovo', 'HP', 'HP', 'HP', 'Asus', 'HP', 'HP',\n",
       "       'Dell', 'Lenovo', 'HP', 'Dell', 'HP', 'Dell', 'HP', 'Dell',\n",
       "       'Lenovo', 'HP', 'Asus', 'Lenovo', 'HP', 'Dell', 'HP', 'Dell', 'HP',\n",
       "       'Dell', 'Dell', 'HP', 'Lenovo', 'Lenovo', 'HP', 'Asus', 'Asus',\n",
       "       'HP', 'HP', 'Lenovo', 'Asus', 'Dell', 'HP', 'HP', 'HP', 'HP',\n",
       "       'Dell', 'HP', 'HP', 'HP', 'Asus', 'Asus', 'HP', 'HP', 'Asus',\n",
       "       'Dell', 'HP', 'Asus', 'HP', 'HP', 'Asus', 'Asus', 'Dell', 'Dell',\n",
       "       'HP', 'HP', 'HP', 'Dell', 'Asus', 'Dell', 'HP', 'HP', 'Asus',\n",
       "       'Dell', 'HP', 'HP', 'Dell', 'HP', 'HP', 'HP', 'Acer', 'HP', 'HP',\n",
       "       'Lenovo', 'Lenovo', 'HP', 'HP', 'HP', 'Dell', 'Asus', 'Asus',\n",
       "       'Asus', 'Dell', 'Dell', 'HP', 'HP', 'Dell', 'Dell', 'Dell', 'HP',\n",
       "       'Lenovo', 'Dell', 'Dell', 'HP', 'HP', 'HP', 'Lenovo', 'Dell',\n",
       "       'Dell', 'Asus', 'Asus', 'Acer', 'Lenovo', 'HP', 'Dell', 'Dell',\n",
       "       'Dell', 'Asus', 'Dell', 'Lenovo', 'Dell', 'Asus', 'HP', 'HP', 'HP',\n",
       "       'HP', 'Lenovo', 'Acer', 'Dell', 'Lenovo', 'Dell', 'Lenovo', 'HP',\n",
       "       'HP', 'Dell', 'HP', 'Dell', 'Dell', 'Asus', 'HP', 'HP', 'HP', 'HP',\n",
       "       'HP', 'HP', 'HP', 'Asus', 'HP', 'HP', 'Lenovo', 'Dell', 'Dell',\n",
       "       'HP', 'Dell', 'HP', 'HP', 'HP', 'Asus', 'HP', 'HP', 'Asus', 'Acer',\n",
       "       'HP', 'HP', 'HP', 'Dell', 'HP', 'HP', 'HP', 'Asus', 'HP', 'Asus',\n",
       "       'HP', 'HP', 'HP', 'Asus', 'HP', 'HP', 'HP', 'HP', 'HP', 'HP', 'HP',\n",
       "       'Dell', 'HP', 'HP', 'HP', 'HP', 'Asus', 'HP', 'Lenovo', 'Dell',\n",
       "       'Dell', 'Asus', 'HP', 'HP', 'HP', 'HP', 'Dell', 'HP', 'HP', 'HP',\n",
       "       'Asus', 'Dell', 'Lenovo', 'Asus', 'HP', 'Asus', 'HP', 'HP', 'Asus',\n",
       "       'Dell', 'HP', 'Dell', 'HP', 'Dell', 'HP', 'HP', 'HP', 'HP', 'Dell',\n",
       "       'Dell', 'HP', 'Dell', 'Asus', 'Dell', 'Dell', 'Lenovo', 'HP',\n",
       "       'Lenovo', 'Lenovo', 'Lenovo', 'Asus', 'Lenovo', 'Dell', 'HP',\n",
       "       'Dell', 'Dell', 'Asus', 'Lenovo', 'Asus', 'HP', 'Dell', 'Lenovo',\n",
       "       'Lenovo', 'Dell', 'HP', 'HP', 'Asus', 'Dell', 'Lenovo', 'Asus',\n",
       "       'HP', 'HP', 'Lenovo', 'Dell', 'HP', 'HP', 'Dell', 'Dell', 'Lenovo',\n",
       "       'Asus', 'Asus', 'Dell', 'Dell', 'HP', 'Asus', 'Asus', 'HP', 'HP',\n",
       "       'Asus', 'HP', 'Asus', 'Lenovo', 'Asus', 'Dell', 'Dell', 'HP', 'HP',\n",
       "       'Dell', 'Lenovo', 'HP', 'HP', 'HP', 'HP', 'Dell', 'Asus', 'Lenovo',\n",
       "       'Dell', 'HP', 'Asus', 'HP', 'Dell', 'HP', 'HP', 'Dell', 'HP', 'HP',\n",
       "       'HP', 'Dell', 'Dell', 'Dell', 'HP', 'HP', 'HP', 'Dell', 'HP',\n",
       "       'Lenovo', 'Asus', 'Asus', 'Asus', 'HP', 'HP', 'HP', 'HP', 'HP',\n",
       "       'Asus', 'Dell', 'Lenovo', 'Lenovo', 'HP', 'HP', 'Lenovo', 'Asus',\n",
       "       'Asus', 'Dell', 'HP', 'HP', 'Dell', 'Dell', 'HP', 'Acer', 'HP',\n",
       "       'HP', 'HP', 'HP', 'Dell', 'Asus'], dtype=object)"
      ]
     },
     "execution_count": 50,
     "metadata": {},
     "output_type": "execute_result"
    }
   ],
   "source": [
    "# Initialize the classification tree model \n",
    "clf = DecisionTreeClassifier(random_state=20, \n",
    "                             max_depth=4)\n",
    "\n",
    "# Train the classification tree model \n",
    "clf = clf.fit(X_train, y_train)\n",
    "\n",
    "# Make model predictions\n",
    "y_pred = clf.predict(X_test)\n",
    "y_pred"
   ]
  },
  {
   "cell_type": "markdown",
   "id": "f94ce6a4",
   "metadata": {},
   "source": [
    "### Print text representation of the classification tree"
   ]
  },
  {
   "cell_type": "code",
   "execution_count": 51,
   "id": "f5d1bc2a",
   "metadata": {},
   "outputs": [
    {
     "name": "stdout",
     "output_type": "stream",
     "text": [
      "|--- Weight <= 2.12\n",
      "|   |--- Weight <= 1.26\n",
      "|   |   |--- Weight <= 1.20\n",
      "|   |   |   |--- Weight <= 0.75\n",
      "|   |   |   |   |--- class: Lenovo\n",
      "|   |   |   |--- Weight >  0.75\n",
      "|   |   |   |   |--- class: Lenovo\n",
      "|   |   |--- Weight >  1.20\n",
      "|   |   |   |--- price <= 1177.00\n",
      "|   |   |   |   |--- class: Asus\n",
      "|   |   |   |--- price >  1177.00\n",
      "|   |   |   |   |--- class: Dell\n",
      "|   |--- Weight >  1.26\n",
      "|   |   |--- price <= 480.49\n",
      "|   |   |   |--- Weight <= 2.06\n",
      "|   |   |   |   |--- class: HP\n",
      "|   |   |   |--- Weight >  2.06\n",
      "|   |   |   |   |--- class: Acer\n",
      "|   |   |--- price >  480.49\n",
      "|   |   |   |--- Weight <= 1.28\n",
      "|   |   |   |   |--- class: HP\n",
      "|   |   |   |--- Weight >  1.28\n",
      "|   |   |   |   |--- class: HP\n",
      "|--- Weight >  2.12\n",
      "|   |--- Weight <= 2.19\n",
      "|   |   |--- Ram <= 10.00\n",
      "|   |   |   |--- price <= 867.45\n",
      "|   |   |   |   |--- class: Dell\n",
      "|   |   |   |--- price >  867.45\n",
      "|   |   |   |   |--- class: Dell\n",
      "|   |   |--- Ram >  10.00\n",
      "|   |   |   |--- Weight <= 2.17\n",
      "|   |   |   |   |--- class: Acer\n",
      "|   |   |   |--- Weight >  2.17\n",
      "|   |   |   |   |--- class: Lenovo\n",
      "|   |--- Weight >  2.19\n",
      "|   |   |--- price <= 1163.50\n",
      "|   |   |   |--- Memory <= 48.00\n",
      "|   |   |   |   |--- class: Lenovo\n",
      "|   |   |   |--- Memory >  48.00\n",
      "|   |   |   |   |--- class: Dell\n",
      "|   |   |--- price >  1163.50\n",
      "|   |   |   |--- Weight <= 4.38\n",
      "|   |   |   |   |--- class: Asus\n",
      "|   |   |   |--- Weight >  4.38\n",
      "|   |   |   |   |--- class: Dell\n",
      "\n"
     ]
    }
   ],
   "source": [
    "# Text representation of the classification tree\n",
    "text_rep = tree.export_text(clf, \n",
    "                            feature_names=list(X_train.columns))\n",
    "\n",
    "# Print text_representation\n",
    "print(text_rep)"
   ]
  },
  {
   "cell_type": "code",
   "execution_count": null,
   "id": "c8c07595",
   "metadata": {},
   "outputs": [],
   "source": [
    "from sklearn import tree\n",
    "# Visualize the Decision Tree\n",
    "clf_2 = tree.DecisionTreeClassifier(max_depth=2)\n",
    "clf_3 = tree.DecisionTreeClassifier(max_depth=3)\n",
    "clf_full = tree.DecisionTreeClassifier()\n",
    "\n",
    "fig, ax = plt.subplots(1, 1, figsize=(12, 12))\n",
    "tree.plot_tree(clf_full.fit(df[['Weight','size']], df['brand']),filled=True,rounded=True);"
   ]
  },
  {
   "cell_type": "code",
   "execution_count": null,
   "id": "ca604f0d",
   "metadata": {},
   "outputs": [],
   "source": [
    "fig, ax = plt.subplots(1, 1, figsize=(20, 8))\n",
    "tree.plot_tree(clf_2.fit(df[['Weight','size']], df['brand']),filled=True,rounded=True);\n",
    "# samples => number of observations\n",
    "# gini = Gini impurity is used to split the data into different branches\n",
    "# value => epresents the number of items in each class"
   ]
  },
  {
   "cell_type": "markdown",
   "id": "9ce49e51",
   "metadata": {},
   "source": [
    "### Show confusion matrix and classification report"
   ]
  },
  {
   "cell_type": "code",
   "execution_count": null,
   "id": "e96b4668",
   "metadata": {},
   "outputs": [],
   "source": [
    "# Confusion matrix\n",
    "print('Confusion matrix')\n",
    "print(confusion_matrix(y_test, y_pred), '\\n')\n",
    "\n",
    "# Classification report\n",
    "print('Classification report')\n",
    "print(classification_report(y_test, y_pred))\n",
    "\n",
    "#Confusion-Matrix (oben observed 0,1, auf der Seite predicted 0,1) ist sehr klein, da man nur zwei Klassen hat\n",
    "# für 0 = yes\n",
    "# abgeleitet aus der matrix gibt es ein Classification report\n",
    "# classenimbalance = accuracy - 0.75 (zuerst anschauen)"
   ]
  },
  {
   "cell_type": "markdown",
   "id": "6114ee11",
   "metadata": {},
   "source": [
    "**Precision**: It is calculated with respect to the predicted values. For class-A, out of total predictions how many were really belong to class-A in actual dataset, is defined as the precision => he precision is intuitively the ability of the classifier not to label a negative sample as positive.\n",
    "\n",
    "**Recall**: It is calculated with respect to the actual values in dataset. For class-A, out of total entries in dataset, how many were actually classified in class-A by the ML model, is defined as the recall => which means the recall is intuitively the ability of the classifier to find all the positive samples.\n",
    "\n",
    "**F1-score**: It is the harmonic mean of precision and recall. The F-beta score weights recall more than precision by a factor of beta. beta == 1.0 means recall and precision are equally important.\n",
    "\n",
    "**Support**: It is the total entries of each class in the actual dataset. It is simply the sum of rows for every class-i. The support is the number of occurrences of each class in y_true.\n",
    "\n",
    "This function returns the average precision, recall and F-measure if average is one of 'micro', 'macro' or 'weighted'."
   ]
  },
  {
   "cell_type": "markdown",
   "id": "4556d3c8",
   "metadata": {},
   "source": [
    "### Fit the Random Forest Classifier"
   ]
  },
  {
   "cell_type": "code",
   "execution_count": null,
   "id": "9fad6a5f",
   "metadata": {},
   "outputs": [],
   "source": [
    "# Initialize the random forest classifier\n",
    "rfc = RandomForestClassifier(random_state=20, max_depth=10)\n",
    "\n",
    "# Train the classification tree model\n",
    "rfc = rfc.fit(X_train, y_train)\n",
    "\n",
    "# Predict the target variable \n",
    "y_pred_rf = rfc.predict(X_test)\n",
    "\n",
    "# Crosstab\n",
    "print('Brand versus predicted brand:', '\\n')\n",
    "df_pred = pd.DataFrame(data={'brand': y_test, \n",
    "                             'brand_predicted': y_pred_rf}).reset_index(drop=True)\n",
    "df_pred"
   ]
  },
  {
   "cell_type": "markdown",
   "id": "27d0fef9",
   "metadata": {},
   "source": [
    "### Show feature importance"
   ]
  },
  {
   "cell_type": "code",
   "execution_count": null,
   "id": "5dc91e47",
   "metadata": {},
   "outputs": [],
   "source": [
    "# Initialize the random forest classifier\n",
    "rfc = RandomForestClassifier(random_state=20, max_depth=10)\n",
    "\n",
    "# Train the random forest classifier\n",
    "rfc = rfc.fit(X_train, y_train)\n",
    "\n",
    "# Predict the target variable (0 = not survived, 1 = survived)\n",
    "y_pred_rf = rfc.predict(X_test)\n",
    "\n",
    "\n",
    "cols = X_train.columns\n",
    "\n",
    "# Derive feature importance from random forest\n",
    "importances = rfc.feature_importances_\n",
    "std = np.std([tree.feature_importances_ for tree in rfc.estimators_], axis=0)\n",
    "indices = np.argsort(importances)[::-1]\n",
    "\n",
    "# Print col-names and importances-values\n",
    "print( cols[indices] )\n",
    "print( importances[indices] )\n",
    "\n",
    "# Barplot with feature importance\n",
    "df_fi = pd.DataFrame({'features':cols,'importances': importances})\n",
    "df_fi.sort_values('importances', inplace=True)\n",
    "df_fi.plot(kind='barh', \n",
    "           y='importances', \n",
    "           x='features', \n",
    "           color='darkred', \n",
    "           figsize=(6,3))\n"
   ]
  },
  {
   "cell_type": "markdown",
   "id": "5737117b",
   "metadata": {},
   "source": [
    "Feature importance is calculated as the decrease in node impurity weighted by the probability of reaching that node. The node probability can be calculated by the number of samples that reach the node, divided by the total number of samples. The higher the value the more important the feature. Which means, that hze weight contains a lot of data that is also contained in other columns in the data set and is therefore most important."
   ]
  },
  {
   "cell_type": "markdown",
   "id": "830c0e4e",
   "metadata": {},
   "source": [
    "# 6) Pivot tables\n",
    "<a id='section_6'></a>\n",
    "A *pivot table* is an interactive way to quickly summarize large amounts of data. You can use a *pivot talbe* to analyze numerical data in detail, and answer unanticipated questions about your data. In our example we use them to calculate the *means*."
   ]
  },
  {
   "cell_type": "markdown",
   "id": "55b18a8d",
   "metadata": {},
   "source": [
    "### Create pivot table of mean size per brand"
   ]
  },
  {
   "cell_type": "code",
   "execution_count": null,
   "id": "0df9bd51",
   "metadata": {},
   "outputs": [],
   "source": [
    "# Create pivot table\n",
    "table = pd.pivot_table(df, \n",
    "                       values='size',\n",
    "                       columns=['brand'], \n",
    "                       aggfunc=np.mean,\n",
    "                       fill_value=0)\n",
    "print(table)"
   ]
  },
  {
   "cell_type": "markdown",
   "id": "4ee434f1",
   "metadata": {},
   "source": [
    "### Create pivot table of mean price per brand"
   ]
  },
  {
   "cell_type": "code",
   "execution_count": null,
   "id": "bffeee21",
   "metadata": {},
   "outputs": [],
   "source": [
    "# Create pivot table\n",
    "table = pd.pivot_table(df, \n",
    "                       values='price',\n",
    "                       columns=['brand'], \n",
    "                       aggfunc=np.mean,\n",
    "                       fill_value=0)\n",
    "print(table)"
   ]
  },
  {
   "cell_type": "markdown",
   "id": "fc4fb747",
   "metadata": {},
   "source": [
    "### Create extended pivot table with mean price/size per brand"
   ]
  },
  {
   "cell_type": "code",
   "execution_count": null,
   "id": "5a2edbb2",
   "metadata": {},
   "outputs": [],
   "source": [
    "# Using pivot_table to reshape the data and calculate means \n",
    "pd.pivot_table(df[['brand', 'price','size']],\n",
    "               index=['brand'],\n",
    "               values=['price','size'],\n",
    "               aggfunc=[np.mean, 'count'])"
   ]
  },
  {
   "cell_type": "markdown",
   "id": "02c29f87",
   "metadata": {},
   "source": [
    "# 7) Unpaired two-sample t-test\n",
    "<a id='section_7'></a>\n",
    "- The unpaired two-samples t-test is mostly used to compare the mean of two independent groups. In our case we also use it to calculate the *p-value* and the *test statistic*.\n",
    "- The *p-value* is the probability that the difference between the sample means is at least as large as what has been observed, under the assumption that the population means are equal."
   ]
  },
  {
   "cell_type": "code",
   "execution_count": null,
   "id": "803267e5",
   "metadata": {},
   "outputs": [],
   "source": [
    "# Show categories of 'brand' and check the laptop count => for this we only use some brands which we think, could have a difference and have a high number (for relevance)\n",
    "print(df['brand'].value_counts())"
   ]
  },
  {
   "cell_type": "code",
   "execution_count": null,
   "id": "d1d80d60",
   "metadata": {},
   "outputs": [],
   "source": [
    "# Create subsets (groups) with laptops which are the most recorded \n",
    "dell = df.loc[df['brand'] == 'Dell']\n",
    "lenovo = df.loc[df['brand'] == 'Lenovo']\n",
    "\n",
    "# Create t-test\n",
    "result = stats.ttest_ind(dell['price'], lenovo['price'])\n",
    "\n",
    "# Print result\n",
    "print('Test-statistic:', result[0], 'p-value',  result[1])"
   ]
  },
  {
   "cell_type": "markdown",
   "id": "863c6e2c",
   "metadata": {},
   "source": [
    "<p> Because the p-value is higher than 0.05, the null hypothesis can not be rejected, i.e. there is evidence that the prices are similar between those brands. That is because there is no statistically significant (5% significance level) difference between the prices of those brands.</p>"
   ]
  },
  {
   "cell_type": "code",
   "execution_count": null,
   "id": "a3e24f78",
   "metadata": {},
   "outputs": [],
   "source": [
    "# Create subsets (groups) with laptops which are the most recorded \n",
    "msi = df.loc[df['brand'] == 'MSI']\n",
    "apple = df.loc[df['brand'] == 'Apple']\n",
    "\n",
    "# Create t-test\n",
    "result = stats.ttest_ind(msi['price'], apple['price'])\n",
    "\n",
    "# Print result\n",
    "print('Test-statistic:', result[0], 'p-value',  result[1])"
   ]
  },
  {
   "cell_type": "markdown",
   "id": "8ef86fd3",
   "metadata": {},
   "source": [
    "<p> Because the p-value is higher than 0.05, the null hypothesis can not be rejected, i.e. there is evidence that the prices are similar between those brands. That is because there is no statistically significant (5% significance level) difference between the prices of those brands.</p>"
   ]
  },
  {
   "cell_type": "code",
   "execution_count": null,
   "id": "d059b6e4",
   "metadata": {},
   "outputs": [],
   "source": [
    "# Create subsets (groups) with laptops which are the most recorded \n",
    "hp = df.loc[df['brand'] == 'Apple']\n",
    "lenovo = df.loc[df['brand'] == 'HP']\n",
    "\n",
    "# Create t-test\n",
    "result = stats.ttest_ind(hp['price'], lenovo['price'])\n",
    "\n",
    "# Print result\n",
    "print('Test-statistic:', result[0], 'p-value',  result[1])"
   ]
  },
  {
   "cell_type": "markdown",
   "id": "fb976600",
   "metadata": {},
   "source": [
    "<p> Because the p-value is higher than 0.05, the null hypothesis can not be rejected, i.e. there is evidence that the prices are similar between those brands.But we must bear in mind, that from the t-test above, it is not clear which group of brands show lower or higher prices. It only shows that there is a statistically significant (5% significance level) difference between prices.</p>"
   ]
  },
  {
   "cell_type": "markdown",
   "id": "e38c93e8",
   "metadata": {},
   "source": [
    "# 8) Regression Trees & Random Forest Regression\n",
    "<a id='section_8'></a>"
   ]
  },
  {
   "cell_type": "markdown",
   "id": "91a6971a",
   "metadata": {},
   "source": [
    "#### Create train and test samples for the regression tree (train = 80%, test = 20% of the data)"
   ]
  },
  {
   "cell_type": "code",
   "execution_count": null,
   "id": "2ea41ee0",
   "metadata": {},
   "outputs": [],
   "source": [
    "# Create train and test samples\n",
    "X_train, X_test, y_train, y_test = train_test_split(df[['size',\n",
    "                                                        'Ram',\n",
    "                                                        'Memory',\n",
    "                                                        'Weight']], \n",
    "                                                        df['price'], \n",
    "                                                        test_size=0.20, \n",
    "                                                        random_state=42)\n",
    "\n",
    "# Show X_train\n",
    "print('X_train:')\n",
    "print(X_train.head(), '\\n')\n",
    "\n",
    "# Show y_train\n",
    "print('y_train:')\n",
    "print(y_train.head())"
   ]
  },
  {
   "cell_type": "markdown",
   "id": "8e8bec23",
   "metadata": {},
   "source": [
    "#### Fit the regression tree model"
   ]
  },
  {
   "cell_type": "code",
   "execution_count": null,
   "id": "2cc2cc5f",
   "metadata": {},
   "outputs": [],
   "source": [
    "# Create decision tree regressor object \n",
    "# Random state => fixes random numbers\n",
    "# max_depth = how deep is the longest path from the root to the last child node?\n",
    "reg = DecisionTreeRegressor(random_state=20, max_depth=5)\n",
    "\n",
    "# Train decision tree regressor\n",
    "reg = reg.fit(X_train, y_train)\n",
    "\n",
    "# Predict the response for test dataset\n",
    "y_pred = reg.predict(X_test)"
   ]
  },
  {
   "cell_type": "markdown",
   "id": "028fa4cb",
   "metadata": {},
   "source": [
    "#### Calculate coefficient of determination (R-squared)"
   ]
  },
  {
   "cell_type": "code",
   "execution_count": null,
   "id": "b5416a96",
   "metadata": {},
   "outputs": [],
   "source": [
    "# Calculate coefficient of determination\n",
    "print('R-squared:', r2_score(y_test, y_pred).round(4))"
   ]
  },
  {
   "cell_type": "markdown",
   "id": "1bd0b77c",
   "metadata": {},
   "source": [
    "### Print text representation of the regression tree"
   ]
  },
  {
   "cell_type": "code",
   "execution_count": null,
   "id": "127ec51c",
   "metadata": {},
   "outputs": [],
   "source": [
    "# Text representation of the regression tree\n",
    "text_representation = tree.export_text(reg, \n",
    "                                       feature_names=list(X_train.columns))\n",
    "\n",
    "# Print text_representation\n",
    "print(text_representation)\n"
   ]
  },
  {
   "cell_type": "markdown",
   "id": "d80afa52",
   "metadata": {},
   "source": [
    "#### Vizualizing the regression tree"
   ]
  },
  {
   "cell_type": "code",
   "execution_count": null,
   "id": "6e804bdc",
   "metadata": {},
   "outputs": [],
   "source": [
    "fig = plt.figure(figsize=(20,8))\n",
    "_ = tree.plot_tree(reg, \n",
    "                   feature_names=list(X_train.columns),  \n",
    "                   class_names=['price'],\n",
    "                   filled=True,\n",
    "                   fontsize=8,\n",
    "                   label = 'root',\n",
    "                   rounded=True)"
   ]
  },
  {
   "cell_type": "markdown",
   "id": "0edf774d",
   "metadata": {},
   "source": [
    "## Random Forest Regression"
   ]
  },
  {
   "cell_type": "code",
   "execution_count": null,
   "id": "4bb5e904",
   "metadata": {},
   "outputs": [],
   "source": [
    "# Create train and test samples (the names X2_ and y2_ were used because X_ and y_ were already used above)\n",
    "X2_train, X2_test, y2_train, y2_test = train_test_split(df[['size',\n",
    "                                                            'Ram',\n",
    "                                                            'Memory',\n",
    "                                                            'Weight']], \n",
    "                                                            df['price'], \n",
    "                                                            test_size=0.20, \n",
    "                                                            random_state=42)\n",
    "\n",
    "# Show X2_train\n",
    "print('X2_train:')\n",
    "print(X2_train.head(), '\\n')\n",
    "\n",
    "# Show y2_train\n",
    "print('y2_train:')\n",
    "print(y2_train.head())"
   ]
  },
  {
   "cell_type": "markdown",
   "id": "2b8d28f6",
   "metadata": {},
   "source": [
    "### Fit the Random Forest Regression"
   ]
  },
  {
   "cell_type": "code",
   "execution_count": null,
   "id": "97b06a0c",
   "metadata": {},
   "outputs": [],
   "source": [
    "X, y = make_regression(n_features=4, n_informative=2,\n",
    "                       random_state=5, shuffle=False)\n",
    "\n",
    "\n",
    "reg_rf = RandomForestRegressor(n_estimators=500, #500 trees definiert\n",
    "                               max_depth=10,    #tiefe sind 10 \n",
    "                               random_state=5)  #fixiert random numbers\n",
    "reg_rf.fit(X2_train, y2_train)\n",
    "\n",
    "# Calculate coefficient of determination (R-squared)\n",
    "print('R-squared:', reg_rf.score(X2_test, y2_test).round(4))  #r-quadrat kann benutzt werden zum score berechnen"
   ]
  },
  {
   "cell_type": "markdown",
   "id": "cb1f378b",
   "metadata": {},
   "source": [
    "### Show feature(explanatory variables) importance"
   ]
  },
  {
   "cell_type": "code",
   "execution_count": null,
   "id": "f597a296",
   "metadata": {},
   "outputs": [],
   "source": [
    "cols = X2_train.columns\n",
    "\n",
    "# Derive feature importance from random forest\n",
    "importances = reg_rf.feature_importances_\n",
    "std         = np.std([tree.feature_importances_ for tree in reg_rf.estimators_], axis=0)\n",
    "indices     = np.argsort(importances)[::-1]\n",
    "\n",
    "# Print col-names and importances-values\n",
    "print( cols[indices] )\n",
    "print( importances[indices] )\n",
    "\n",
    "# Barplot with feature importance\n",
    "df_fi = pd.DataFrame({'features':cols,'importances': importances})\n",
    "df_fi.sort_values('importances', inplace=True)\n",
    "df_fi.plot(kind='barh', \n",
    "           y='importances', \n",
    "           x='features', \n",
    "           color='darkred', \n",
    "           figsize=(6,3))\n",
    "\n",
    "# Interpretation : Area ist die wichtigste Variable und populution density die zweitwichtigste (ist vlt auch von Multikollinearität abhängig)\n",
    "# binary trees haben kein p-Wert und sind deshalb nicht von der Multikollinearität betroffen (nur bei linearer Regression der Fall)"
   ]
  },
  {
   "attachments": {
    "image.png": {
     "image/png": "[encoded data removed]"
    }
   },
   "cell_type": "markdown",
   "id": "9bc8d603",
   "metadata": {},
   "source": [
    "##### Interpretation  \n",
    "If we compare it with the bar chart before, we see that we took out the variable \"price\". This was the bar chart before:\n",
    "![image.png](attachment:image.png)\n",
    "What is interesting about it, is how the importance has now changed. Like a correlation matrix, feature importance allows us to understand the relationship between the features and the target variable. It also helped us to understand what features are irrelevant for the model. But now the relevalce changed drastically\n",
    "This can be explained by multicollinearity. The variable \"Ram\", which is now considered the most important variable, seems to contain the most of the data. => However, since it is all numerical laptop data, the example makes little sense."
   ]
  },
  {
   "cell_type": "markdown",
   "id": "c3e77138",
   "metadata": {},
   "source": [
    "# 9) k-means Clustering\n",
    "<a id='section_9'></a>\n",
    "K-means clustering tries to group similar kinds of items in form of clusters. It finds the similarity between the items and groups them into the clusters, which is usefull for our laptop-data-interpretation. The number of groups is represented by K."
   ]
  },
  {
   "cell_type": "markdown",
   "id": "851b5ccf",
   "metadata": {},
   "source": [
    "### Subset of the apartment data frame for k-means clustering"
   ]
  },
  {
   "cell_type": "code",
   "execution_count": null,
   "id": "3b6d878d",
   "metadata": {},
   "outputs": [],
   "source": [
    "# Define a subset of the data frame for k-means clustering (auf Basis von Räumen, Fläche und m2 als Parameter)\n",
    "X3 = df[['size',\n",
    "        'Ram',                                               \n",
    "        'Memory',\n",
    "        'Weight',\n",
    "        'price']]\n",
    "#das ist alles in x3:\n",
    "X3"
   ]
  },
  {
   "cell_type": "markdown",
   "id": "91a94418",
   "metadata": {},
   "source": [
    "### Elbow method showing the optimal k"
   ]
  },
  {
   "cell_type": "markdown",
   "id": "7209deb7",
   "metadata": {},
   "source": [
    "Elbow is one of the most famous methods by which you can select the right value of k and boost your model performance. It is an empirical method to find out the best value of k. it picks up the range of values and takes the best among them. It calculates the sum of the square of the points and calculates the average distance.\n",
    "When the value of k is 1, the within-cluster sum of the square will be high. As the value of k increases, the within-cluster sum of square value will decrease. Finally, we will plot a graph between k-values and the within-cluster sum of the square to get the k value. we will examine the graph carefully. At some point, our graph will decrease abruptly. That point will be considered as a value of k."
   ]
  },
  {
   "cell_type": "code",
   "execution_count": null,
   "id": "669f364a",
   "metadata": {},
   "outputs": [],
   "source": [
    "# Sum of squared distances of samples to their closest cluster center\n",
    "distortions = []\n",
    "\n",
    "# Range of k's\n",
    "K = range(1,15)\n",
    "\n",
    "# Loop to find the optimal k\n",
    "for k in K:\n",
    "    kmeanModel = KMeans(n_clusters=k)\n",
    "    kmeanModel.fit(X3)\n",
    "    distortions.append(kmeanModel.inertia_)\n",
    "    \n",
    "# Elbow plot\n",
    "plt.figure(figsize=(5,3))\n",
    "plt.plot(K, distortions, 'bx-')\n",
    "plt.xlabel('k')\n",
    "plt.ylabel('Distortion')\n",
    "plt.title('The Elbow Method showing the optimal k')\n",
    "\n",
    "plt.show()\n",
    "#Elbow-method ab 5-7 sinnvoll"
   ]
  },
  {
   "cell_type": "markdown",
   "id": "703b3c93",
   "metadata": {},
   "source": [
    "We should read out the point at which almost no more improvement is possible. In this case => approximately from 4 (k = 4)"
   ]
  },
  {
   "cell_type": "markdown",
   "id": "189aead4",
   "metadata": {},
   "source": [
    "### Perform k-means clustering on the apartment data"
   ]
  },
  {
   "cell_type": "code",
   "execution_count": null,
   "id": "38e9ff44",
   "metadata": {},
   "outputs": [],
   "source": [
    "# Number of cluters\n",
    "k = 4\n",
    "\n",
    "# Perform k-means clustering\n",
    "kmeans_apmts = KMeans(n_clusters=k, random_state=42).fit(X3)\n",
    "\n",
    "# Add the clusters to data frame\n",
    "X3['cluster'] = kmeans_apmts.predict(X3)\n",
    "\n",
    "# Show number of apartments per cluster\n",
    "X3['cluster'].value_counts().sort_values(ascending=False)\n",
    "\n",
    "\n",
    "kmeans_apmts.inertia_\n",
    "#Wert basisert auf allen Daten "
   ]
  },
  {
   "cell_type": "code",
   "execution_count": null,
   "id": "db1db00b",
   "metadata": {},
   "outputs": [],
   "source": [
    "print(kmeans_apmts.labels_, '\\n')\n",
    "print(kmeans_apmts.inertia_, '\\n')\n",
    "print(kmeans_apmts.cluster_centers_, '\\n')\n",
    "print(kmeans_apmts.feature_names_in_)"
   ]
  },
  {
   "cell_type": "markdown",
   "id": "80964b6a",
   "metadata": {},
   "source": [
    "### Create the dataset"
   ]
  },
  {
   "cell_type": "code",
   "execution_count": null,
   "id": "0ceb967b",
   "metadata": {},
   "outputs": [],
   "source": [
    "# Create data\n",
    "centers = [[2,1], [-2,2], [-2,-2], [-4,-5], [5,7]]\n",
    "X, y = make_blobs(n_samples=300, \n",
    "                  centers=centers, \n",
    "                  cluster_std=0.8,\n",
    "                  random_state=42)\n",
    "\n",
    "# Normalization of the values\n",
    "X = StandardScaler().fit_transform(X)\n",
    "\n",
    "# Plot the data\n",
    "plt.figure(figsize=(6,4))\n",
    "plt.scatter(X[:,0], X[:,1], s=10, color='darkred')\n",
    "plt.show()"
   ]
  },
  {
   "cell_type": "markdown",
   "id": "ea322a57",
   "metadata": {},
   "source": [
    "### Perform k-means clustering"
   ]
  },
  {
   "cell_type": "code",
   "execution_count": null,
   "id": "d71a4696",
   "metadata": {},
   "outputs": [],
   "source": [
    "# Number of clusters\n",
    "k = 2\n",
    "\n",
    "# k-means clustering\n",
    "kmeans = KMeans(n_clusters=k, random_state=42).fit(X) #kmeans => Name des Modells\n",
    "\n",
    "# Predict the values\n",
    "y2 = kmeans.predict(X)\n",
    "\n",
    "# Plot the clusters\n",
    "plt.figure(figsize=(6,4))\n",
    "plt.scatter(X[:, 0], X[:, 1], c=y2, s=10)\n",
    "plt.show()\n",
    "\n",
    "#Durchnummerierung der einzelnen Cluster (Pyhton fängt immer bei 0 an...) - aus dieser Matrix werden die Info/Vektoren genommen und als Farbe definnert\n",
    "y2"
   ]
  },
  {
   "cell_type": "markdown",
   "id": "568b03da",
   "metadata": {},
   "source": [
    "### Get and check the converged cluster centroids"
   ]
  },
  {
   "cell_type": "code",
   "execution_count": null,
   "id": "add0684b",
   "metadata": {},
   "outputs": [],
   "source": [
    "# Print centroids\n",
    "centroids = kmeans.cluster_centers_ #kmeans = Name des Models , cluster_centers = zentrierte Cluster\n",
    "print('Cluster centroids:')\n",
    "print(centroids, '\\n')\n",
    "\n",
    "# Check the 1st cluster's centroid 'by hand' (Nachrechnen, siehe unten array)\n",
    "clust_00 = X[y2 == 0]\n",
    "print('The 1st cluster\\'s centroid:')\n",
    "print(f'x = {sum(clust_00[:,0]/len(clust_00[:,0])):.8f}')\n",
    "print(f'y = {sum(clust_00[:,1]/len(clust_00[:,1])):.8f}')\n",
    "\n",
    "# array mit allen Punkten mit den entsprechenden Daten => hier kann man den die Summe ausrechnen und geteilt durch Zeilenazahl als Überprüfung des Zentroids\n",
    "clust_00"
   ]
  },
  {
   "cell_type": "markdown",
   "id": "d9703094",
   "metadata": {},
   "source": [
    "### Get the inertia or 'within-cluster sum-of-squares (WCSS)' of the k-means model"
   ]
  },
  {
   "cell_type": "markdown",
   "id": "8d4ff773",
   "metadata": {},
   "source": [
    "An ideal way to figure out the right number of clusters would be to calculate the Within-Cluster-Sum-of-Squares (WCSS). WCSS is the sum of squares of the distances of each data point in all clusters to their respective centroids. The idea is to minimise the sum."
   ]
  },
  {
   "cell_type": "code",
   "execution_count": null,
   "id": "5e4e6163",
   "metadata": {},
   "outputs": [],
   "source": [
    "print(f'Within-cluster sum-of-squares: {kmeans.inertia_:.4f}')"
   ]
  },
  {
   "cell_type": "markdown",
   "id": "ab68b2cd",
   "metadata": {},
   "source": [
    "### Calculate the Silhouette Score"
   ]
  },
  {
   "cell_type": "markdown",
   "id": "9cdc6fa6",
   "metadata": {},
   "source": [
    "Now, we can calculate the silhouette coefficient of all the points in the clusters and plot the silhouette graph. This plot will also helpful in detecting the outliers. The plot of the silhouette is between -1 to 1. For silhouette coeficient equal to -1 is the worst case scenario. Our silhouette score is with 0.4249 okey. "
   ]
  },
  {
   "cell_type": "code",
   "execution_count": null,
   "id": "d9398732",
   "metadata": {},
   "outputs": [],
   "source": [
    "print(f'Silhouette Score: {silhouette_score(X3, kmeans_apmts.labels_):.4f}')"
   ]
  },
  {
   "cell_type": "markdown",
   "id": "15e641b4",
   "metadata": {},
   "source": [
    "Interpretation: Quite close (maybe k=5 would have been better than k=4)"
   ]
  },
  {
   "cell_type": "markdown",
   "id": "a370d20e",
   "metadata": {},
   "source": [
    "### Jupyter notebook --footer info-- (please always provide this at the end of each submitted notebook)"
   ]
  },
  {
   "cell_type": "code",
   "execution_count": null,
   "id": "4e5e4165",
   "metadata": {},
   "outputs": [],
   "source": [
    "import os\n",
    "import platform\n",
    "import socket\n",
    "from platform import python_version\n",
    "from datetime import datetime\n",
    "\n",
    "print('-----------------------------------')\n",
    "print(os.name.upper())\n",
    "print(platform.system(), '|', platform.release())\n",
    "print('Datetime:', datetime.now().strftime(\"%Y-%m-%d %H:%M:%S\"))\n",
    "print('Python Version:', python_version())\n",
    "print('-----------------------------------')"
   ]
  }
 ],
 "metadata": {
  "kernelspec": {
   "display_name": "Python 3 (ipykernel)",
   "language": "python",
   "name": "python3"
  },
  "language_info": {
   "codemirror_mode": {
    "name": "ipython",
    "version": 3
   },
   "file_extension": ".py",
   "mimetype": "text/x-python",
   "name": "python",
   "nbconvert_exporter": "python",
   "pygments_lexer": "ipython3",
   "version": "3.9.7"
  }
 },
 "nbformat": 4,
 "nbformat_minor": 5
}
