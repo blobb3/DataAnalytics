{
 "cells": [
  {
   "cell_type": "markdown",
   "id": "1e84aff8",
   "metadata": {},
   "source": [
    "# Linear regression"
   ]
  },
  {
   "cell_type": "markdown",
   "id": "d9ca506b",
   "metadata": {},
   "source": [
    "## Libraries and settings"
   ]
  },
  {
   "cell_type": "code",
   "execution_count": 1,
   "id": "3cc498a3",
   "metadata": {},
   "outputs": [
    {
     "name": "stdout",
     "output_type": "stream",
     "text": [
      "C:\\Workspacezhaw\\data analytics\\Woche 8\n"
     ]
    }
   ],
   "source": [
    "# SCIKIT-LEARN (Wenn sklearn nicht funktioniert)\n",
    "# Libraries\n",
    "import os\n",
    "import numpy as np\n",
    "import pandas as pd\n",
    "import scipy.stats as stats\n",
    "import statsmodels.api as sm\n",
    "import matplotlib.pyplot as plt\n",
    "from sklearn import linear_model\n",
    "from sklearn.model_selection import train_test_split\n",
    "\n",
    "# Ignore warnings\n",
    "import warnings\n",
    "warnings.filterwarnings('ignore')\n",
    "\n",
    "# Show current working directory\n",
    "print(os.getcwd())"
   ]
  },
  {
   "cell_type": "markdown",
   "id": "514d3419",
   "metadata": {},
   "source": [
    "## Import the apartment data"
   ]
  },
  {
   "cell_type": "code",
   "execution_count": 2,
   "id": "fc8846ed",
   "metadata": {},
   "outputs": [
    {
     "name": "stdout",
     "output_type": "stream",
     "text": [
      "(804, 17)\n"
     ]
    },
    {
     "data": {
      "text/html": [
       "<div>\n",
       "<style scoped>\n",
       "    .dataframe tbody tr th:only-of-type {\n",
       "        vertical-align: middle;\n",
       "    }\n",
       "\n",
       "    .dataframe tbody tr th {\n",
       "        vertical-align: top;\n",
       "    }\n",
       "\n",
       "    .dataframe thead th {\n",
       "        text-align: right;\n",
       "    }\n",
       "</style>\n",
       "<table border=\"1\" class=\"dataframe\">\n",
       "  <thead>\n",
       "    <tr style=\"text-align: right;\">\n",
       "      <th></th>\n",
       "      <th>id</th>\n",
       "      <th>address_raw</th>\n",
       "      <th>rooms</th>\n",
       "      <th>area</th>\n",
       "      <th>luxurious</th>\n",
       "      <th>price</th>\n",
       "      <th>price_per_m2</th>\n",
       "      <th>lat</th>\n",
       "      <th>lon</th>\n",
       "      <th>bfs_number</th>\n",
       "      <th>bfs_name</th>\n",
       "      <th>pop</th>\n",
       "      <th>pop_dens</th>\n",
       "      <th>frg_pct</th>\n",
       "      <th>emp</th>\n",
       "      <th>tax_income</th>\n",
       "      <th>dist_supermarket</th>\n",
       "    </tr>\n",
       "  </thead>\n",
       "  <tbody>\n",
       "    <tr>\n",
       "      <th>0</th>\n",
       "      <td>1662023695-433</td>\n",
       "      <td>Sunnenbergstrasse 15, 8633 Wolfhausen, ZH</td>\n",
       "      <td>3.5</td>\n",
       "      <td>122</td>\n",
       "      <td>1</td>\n",
       "      <td>3180</td>\n",
       "      <td>26.07</td>\n",
       "      <td>47.255714</td>\n",
       "      <td>8.804976</td>\n",
       "      <td>112</td>\n",
       "      <td>Bubikon</td>\n",
       "      <td>7344</td>\n",
       "      <td>632.558140</td>\n",
       "      <td>11.410675</td>\n",
       "      <td>3617.0</td>\n",
       "      <td>79385.90434</td>\n",
       "      <td>317.117916</td>\n",
       "    </tr>\n",
       "    <tr>\n",
       "      <th>1</th>\n",
       "      <td>1662023720-634</td>\n",
       "      <td>Blumenbergstrasse 7, 8633 Wolfhausen, ZH</td>\n",
       "      <td>4.0</td>\n",
       "      <td>87</td>\n",
       "      <td>0</td>\n",
       "      <td>1690</td>\n",
       "      <td>19.43</td>\n",
       "      <td>47.254879</td>\n",
       "      <td>8.793746</td>\n",
       "      <td>112</td>\n",
       "      <td>Bubikon</td>\n",
       "      <td>7344</td>\n",
       "      <td>632.558140</td>\n",
       "      <td>11.410675</td>\n",
       "      <td>3617.0</td>\n",
       "      <td>79385.90434</td>\n",
       "      <td>612.612674</td>\n",
       "    </tr>\n",
       "    <tr>\n",
       "      <th>2</th>\n",
       "      <td>1662023745-834</td>\n",
       "      <td>8608 Bubikon, ZH</td>\n",
       "      <td>3.5</td>\n",
       "      <td>92</td>\n",
       "      <td>0</td>\n",
       "      <td>2350</td>\n",
       "      <td>25.54</td>\n",
       "      <td>47.277386</td>\n",
       "      <td>8.800306</td>\n",
       "      <td>112</td>\n",
       "      <td>Bubikon</td>\n",
       "      <td>7344</td>\n",
       "      <td>632.558140</td>\n",
       "      <td>11.410675</td>\n",
       "      <td>3617.0</td>\n",
       "      <td>79385.90434</td>\n",
       "      <td>2269.090923</td>\n",
       "    </tr>\n",
       "    <tr>\n",
       "      <th>3</th>\n",
       "      <td>1662023701-503</td>\n",
       "      <td>8608 Bubikon, ZH</td>\n",
       "      <td>3.5</td>\n",
       "      <td>130</td>\n",
       "      <td>0</td>\n",
       "      <td>2500</td>\n",
       "      <td>19.23</td>\n",
       "      <td>47.277386</td>\n",
       "      <td>8.800306</td>\n",
       "      <td>112</td>\n",
       "      <td>Bubikon</td>\n",
       "      <td>7344</td>\n",
       "      <td>632.558140</td>\n",
       "      <td>11.410675</td>\n",
       "      <td>3617.0</td>\n",
       "      <td>79385.90434</td>\n",
       "      <td>2269.090923</td>\n",
       "    </tr>\n",
       "    <tr>\n",
       "      <th>4</th>\n",
       "      <td>1662023745-820</td>\n",
       "      <td>Lavaterstr. 63, 8002 Zürich, ZH</td>\n",
       "      <td>2.5</td>\n",
       "      <td>78</td>\n",
       "      <td>0</td>\n",
       "      <td>3760</td>\n",
       "      <td>48.21</td>\n",
       "      <td>47.361378</td>\n",
       "      <td>8.533339</td>\n",
       "      <td>261</td>\n",
       "      <td>Zürich</td>\n",
       "      <td>420217</td>\n",
       "      <td>4778.994655</td>\n",
       "      <td>32.458468</td>\n",
       "      <td>491193.0</td>\n",
       "      <td>82932.73770</td>\n",
       "      <td>349.937421</td>\n",
       "    </tr>\n",
       "  </tbody>\n",
       "</table>\n",
       "</div>"
      ],
      "text/plain": [
       "               id                                address_raw  rooms  area  \\\n",
       "0  1662023695-433  Sunnenbergstrasse 15, 8633 Wolfhausen, ZH    3.5   122   \n",
       "1  1662023720-634   Blumenbergstrasse 7, 8633 Wolfhausen, ZH    4.0    87   \n",
       "2  1662023745-834                           8608 Bubikon, ZH    3.5    92   \n",
       "3  1662023701-503                           8608 Bubikon, ZH    3.5   130   \n",
       "4  1662023745-820            Lavaterstr. 63, 8002 Zürich, ZH    2.5    78   \n",
       "\n",
       "   luxurious  price  price_per_m2        lat       lon  bfs_number bfs_name  \\\n",
       "0          1   3180         26.07  47.255714  8.804976         112  Bubikon   \n",
       "1          0   1690         19.43  47.254879  8.793746         112  Bubikon   \n",
       "2          0   2350         25.54  47.277386  8.800306         112  Bubikon   \n",
       "3          0   2500         19.23  47.277386  8.800306         112  Bubikon   \n",
       "4          0   3760         48.21  47.361378  8.533339         261   Zürich   \n",
       "\n",
       "      pop     pop_dens    frg_pct       emp   tax_income  dist_supermarket  \n",
       "0    7344   632.558140  11.410675    3617.0  79385.90434        317.117916  \n",
       "1    7344   632.558140  11.410675    3617.0  79385.90434        612.612674  \n",
       "2    7344   632.558140  11.410675    3617.0  79385.90434       2269.090923  \n",
       "3    7344   632.558140  11.410675    3617.0  79385.90434       2269.090923  \n",
       "4  420217  4778.994655  32.458468  491193.0  82932.73770        349.937421  "
      ]
     },
     "execution_count": 2,
     "metadata": {},
     "output_type": "execute_result"
    }
   ],
   "source": [
    "# Define columns for import\n",
    "# Alle daten der vergangenen Übungen sind jetzt in diesem Datensatz vereint und angewendet\n",
    "columns = [ 'web-scraper-order',\n",
    "            'address_raw',\n",
    "            'rooms',\n",
    "            'area',\n",
    "            'luxurious',\n",
    "            'price',\n",
    "            'price_per_m2',\n",
    "            'lat',\n",
    "            'lon',\n",
    "            'bfs_number', #\n",
    "            'bfs_name',\n",
    "            'pop',  #bevölkerung\n",
    "            'pop_dens', #bevölkerungsdidche pro quadratmeter\n",
    "            'frg_pct', #foreign percent\n",
    "            'emp',\n",
    "            'tax_income',\n",
    "            'dist_supermarket']\n",
    "\n",
    "# Read and select variables\n",
    "df_orig = pd.read_csv(\"apartments_data_enriched.csv\", sep=\";\", encoding='utf-8')[columns]\n",
    "\n",
    "# Rename variable 'web-scraper-order' to 'apmt_id'\n",
    "df_orig = df_orig.rename(columns={'web-scraper-order': 'id'})\n",
    "\n",
    "# Remove missing values\n",
    "df = df_orig.dropna()\n",
    "df.head(5)\n",
    "\n",
    "# Remove duplicates\n",
    "df = df.drop_duplicates()\n",
    "\n",
    "# Remove some 'extreme' values\n",
    "# Extermwerte herausschmeissen,indem man Ränder festlegt (grösser als 5000 sind zum Bsp. spezieller)\n",
    "df = df.loc[(df['price'] >= 1000) & \n",
    "            (df['price'] <= 5000)]\n",
    "\n",
    "print(df.shape) #nach der Filterung haben wir dann ca noch 800 Datensätze und mit denen arbeiten wir heute \n",
    "df.head(5)"
   ]
  },
  {
   "cell_type": "markdown",
   "id": "9e9edbf3",
   "metadata": {},
   "source": [
    "# Aufgabe 1b: Lineare Regression (mit price_per_m2 & area)"
   ]
  },
  {
   "cell_type": "code",
   "execution_count": 19,
   "id": "09391b9a",
   "metadata": {},
   "outputs": [
    {
     "name": "stdout",
     "output_type": "stream",
     "text": [
      "X_train:\n",
      "362     75\n",
      "369     90\n",
      "496    100\n",
      "349     94\n",
      "308     94\n",
      "Name: area, dtype: int64 \n",
      "\n",
      "y_train:\n",
      "362    24.53\n",
      "369    17.44\n",
      "496    19.41\n",
      "349    26.38\n",
      "308    29.79\n",
      "Name: price_per_m2, dtype: float64\n"
     ]
    }
   ],
   "source": [
    "X_train, X_test, y_train, y_test = train_test_split(df['area'], \n",
    "                                                    df['price_per_m2'], \n",
    "                                                    test_size=0.20, #man muss nicht unbedingt 80:20 (bei vielen Daten kann man auch mit viel weniger Daten samplen vlt 50:50 - leave-on-out wenn wenig Daten)\n",
    "                                                    random_state=42)\n",
    "print('X_train:')\n",
    "print(X_train.head(), '\\n')\n",
    "print('y_train:')\n",
    "print(y_train.head())"
   ]
  },
  {
   "cell_type": "code",
   "execution_count": 4,
   "id": "a5b63ae2",
   "metadata": {},
   "outputs": [
    {
     "name": "stdout",
     "output_type": "stream",
     "text": [
      "Linear regression result:\n",
      "Intercept with y-axis (alpha):            48.05\n",
      "Slope of regression line (beta):          -0.227\n",
      "p-value:                                  0.0000\n",
      "R-squared (coefficient of determination): 0.2978\n"
     ]
    }
   ],
   "source": [
    "# Fit the regression model mit Linearer Einfach-Regression\n",
    "slope, intercept, r, p, std_err = stats.linregress(X_train, y_train)\n",
    "\n",
    "# Print results of the regression model (slope = Steigung der Regressionsgerade)\n",
    "print('Linear regression result:')\n",
    "print(f'Intercept with y-axis (alpha):            {intercept:.2f}') \n",
    "print(f'Slope of regression line (beta):          {slope:.3f}') \n",
    "print(f'p-value:                                  {p:.4f}')\n",
    "print(f'R-squared (coefficient of determination): {r**2:.4f}')"
   ]
  },
  {
   "cell_type": "code",
   "execution_count": 26,
   "id": "3392fd64",
   "metadata": {},
   "outputs": [
    {
     "data": {
      "image/png": "[encoded data removed]",
      "text/plain": [
       "<Figure size 432x288 with 1 Axes>"
      ]
     },
     "metadata": {
      "needs_background": "light"
     },
     "output_type": "display_data"
    }
   ],
   "source": [
    "# Function to calculate model predictions\n",
    "def myfunc(x):\n",
    "    return slope * x + intercept\n",
    "\n",
    "# Apply myfunc() to x, i.e. make predictions \n",
    "mymodel = pd.Series(map(myfunc, X_train))\n",
    "\n",
    "# Scatterplot with regression line\n",
    "plt.figure(figsize=(6,4))\n",
    "plt.scatter(X_train, y_train, s=10, color='lightgreen')\n",
    "plt.plot(X_train, mymodel, color='red', linestyle='dashed')\n",
    "plt.title('Simple Linear Regression')\n",
    "plt.xlabel('area (m2)')\n",
    "plt.ylabel('price_per_m2 (CHF)')\n",
    "\n",
    "plt.show()"
   ]
  },
  {
   "cell_type": "code",
   "execution_count": 27,
   "id": "d92eab3b",
   "metadata": {},
   "outputs": [
    {
     "name": "stdout",
     "output_type": "stream",
     "text": [
      "1st Predicted price_per_m2 in dataset: 31.03\n",
      "1st Observed price_per_m2 in dataset: 26.07\n",
      "1st Residual price_per_m2 in dataset: 4.96\n"
     ]
    }
   ],
   "source": [
    "# Calculate residuals (here: predicted prices minus observed prices)\n",
    "residuals = mymodel - y_train\n",
    "\n",
    "# Check the first residual value in our data set\n",
    "print(f'1st Predicted price_per_m2 in dataset: {mymodel[0]:.2f}')\n",
    "print(f'1st Observed price_per_m2 in dataset: {y_train[0]:.2f}')\n",
    "print(f'1st Residual price_per_m2 in dataset: {residuals[0]:.2f}')\n"
   ]
  },
  {
   "cell_type": "code",
   "execution_count": 28,
   "id": "5f2ca4d4",
   "metadata": {},
   "outputs": [
    {
     "data": {
      "image/png": "[encoded data removed]",
      "text/plain": [
       "<Figure size 576x288 with 1 Axes>"
      ]
     },
     "metadata": {
      "needs_background": "light"
     },
     "output_type": "display_data"
    }
   ],
   "source": [
    "# Plot histogram of residuals\n",
    "fig = plt.figure( figsize=(8,4))\n",
    "n, bins, patches = plt.hist(x=residuals, \n",
    "                            bins=20, \n",
    "                            color='lightgreen',\n",
    "                            alpha=0.5,\n",
    "                           rwidth=0.95)\n",
    "\n",
    "# Set title and labels\n",
    "plt.xlabel('price_per_m2', fontsize=10, labelpad=10)\n",
    "plt.ylabel('area', fontsize=10, labelpad=10)\n",
    "plt.title('Histogram of prices', fontsize=12, pad=10)\n",
    "\n",
    "# Add text annotation\n",
    "plt.text(-3100, 70, s=\"Oh no, still left skewed!!!\", \n",
    "         fontsize=11, \n",
    "         color=\"black\")\n",
    "\n",
    "# Show plot (ein Residuenplot sollte eigentlich normalverteilt sein)\n",
    "plt.show()"
   ]
  },
  {
   "cell_type": "markdown",
   "id": "4586c6d9",
   "metadata": {},
   "source": [
    "#### Aufgabe b\n",
    "The R^2 is higher and the histogram is even more left skewed."
   ]
  },
  {
   "cell_type": "markdown",
   "id": "4e117d0f",
   "metadata": {},
   "source": [
    "# Aufgabe 1c: Lineare Regression (mit price_per_m2 & rooms)"
   ]
  },
  {
   "cell_type": "code",
   "execution_count": 18,
   "id": "2d9b0e08",
   "metadata": {},
   "outputs": [
    {
     "name": "stdout",
     "output_type": "stream",
     "text": [
      "X_train:\n",
      "362    3.5\n",
      "369    3.5\n",
      "496    3.5\n",
      "349    3.5\n",
      "308    3.5\n",
      "Name: rooms, dtype: float64 \n",
      "\n",
      "y_train:\n",
      "362    24.53\n",
      "369    17.44\n",
      "496    19.41\n",
      "349    26.38\n",
      "308    29.79\n",
      "Name: price_per_m2, dtype: float64\n"
     ]
    }
   ],
   "source": [
    "X_train, X_test, y_train, y_test = train_test_split(df['rooms'], \n",
    "                                                    df['price_per_m2'], \n",
    "                                                    test_size=0.20, #man muss nicht unbedingt 80:20 (bei vielen Daten kann man auch mit viel weniger Daten samplen vlt 50:50 - leave-on-out wenn wenig Daten)\n",
    "                                                    random_state=42)\n",
    "print('X_train:')\n",
    "print(X_train.head(), '\\n')\n",
    "\n",
    "print('y_train:')\n",
    "print(y_train.head())"
   ]
  },
  {
   "cell_type": "code",
   "execution_count": 23,
   "id": "c55bb4e5",
   "metadata": {},
   "outputs": [
    {
     "name": "stdout",
     "output_type": "stream",
     "text": [
      "Linear regression result:\n",
      "Intercept with y-axis (alpha):            48.05\n",
      "Slope of regression line (beta):          -0.227\n",
      "p-value:                                  0.0000\n",
      "R-squared (coefficient of determination): 0.2978\n"
     ]
    }
   ],
   "source": [
    "slope, intercept, r, p, std_err = stats.linregress(X_train, y_train)\n",
    "print('Linear regression result:')\n",
    "print(f'Intercept with y-axis (alpha):            {intercept:.2f}') #Schnittpunkt mit y-Achse (braucht es)\n",
    "print(f'Slope of regression line (beta):          {slope:.3f}') #steigung\n",
    "print(f'p-value:                                  {p:.4f}')\n",
    "print(f'R-squared (coefficient of determination): {r**2:.4f}')"
   ]
  },
  {
   "cell_type": "code",
   "execution_count": 29,
   "id": "6498332c",
   "metadata": {},
   "outputs": [
    {
     "data": {
      "image/png": "[encoded data removed]",
      "text/plain": [
       "<Figure size 432x288 with 1 Axes>"
      ]
     },
     "metadata": {
      "needs_background": "light"
     },
     "output_type": "display_data"
    }
   ],
   "source": [
    "def myfunc(x):\n",
    "    return slope * x + intercept\n",
    "\n",
    "mymodel = pd.Series(map(myfunc, X_train))\n",
    "plt.figure(figsize=(6,4))\n",
    "plt.scatter(X_train, y_train, s=10, color='grey')\n",
    "plt.plot(X_train, mymodel, color='red', linestyle='dashed')\n",
    "plt.title('Simple Linear Regression')\n",
    "plt.xlabel('rooms')\n",
    "plt.ylabel('price_per_m2 (CHF)')\n",
    "\n",
    "plt.show()"
   ]
  },
  {
   "cell_type": "code",
   "execution_count": 30,
   "id": "2ae2fccb",
   "metadata": {},
   "outputs": [
    {
     "name": "stdout",
     "output_type": "stream",
     "text": [
      "1st Predicted price_per_m2 in dataset: 31.03\n",
      "1st Observed price_per_m2 in dataset: 26.07\n",
      "1st Residual price_per_m2 in dataset: 4.96\n"
     ]
    }
   ],
   "source": [
    "\n",
    "residuals = mymodel - y_train\n",
    "print(f'1st Predicted price_per_m2 in dataset: {mymodel[0]:.2f}')\n",
    "print(f'1st Observed price_per_m2 in dataset: {y_train[0]:.2f}')\n",
    "print(f'1st Residual price_per_m2 in dataset: {residuals[0]:.2f}')"
   ]
  },
  {
   "cell_type": "code",
   "execution_count": 33,
   "id": "09983beb",
   "metadata": {},
   "outputs": [
    {
     "name": "stdout",
     "output_type": "stream",
     "text": [
      "1st Predicted price_per_m2 in dataset: 31.03\n",
      "1st Observed price_per_m2 in dataset: 26.07\n",
      "1st Residual price_per_m2 in dataset: 4.96\n"
     ]
    },
    {
     "data": {
      "image/png": "[encoded data removed]",
      "text/plain": [
       "<Figure size 576x288 with 1 Axes>"
      ]
     },
     "metadata": {
      "needs_background": "light"
     },
     "output_type": "display_data"
    }
   ],
   "source": [
    "residuals = mymodel - y_train\n",
    "\n",
    "print(f'1st Predicted price_per_m2 in dataset: {mymodel[0]:.2f}')\n",
    "print(f'1st Observed price_per_m2 in dataset: {y_train[0]:.2f}')\n",
    "print(f'1st Residual price_per_m2 in dataset: {residuals[0]:.2f}')\n",
    "\n",
    "fig = plt.figure( figsize=(8,4))\n",
    "n, bins, patches = plt.hist(x=residuals, \n",
    "                            bins=20, \n",
    "                            color='grey',\n",
    "                            alpha=0.5, \n",
    "                            rwidth=0.95\n",
    "                   )\n",
    "\n",
    "plt.xlabel('residuals', fontsize=10, labelpad=10)\n",
    "plt.ylabel('frequency', fontsize=10, labelpad=10)\n",
    "plt.title('Histogram of model residuals', fontsize=12, pad=10)\n",
    "\n",
    "plt.text(-3100, 70, s=\"Left skewed! \", \n",
    "         fontsize=11, \n",
    "         color=\"black\")\n",
    "plt.show()"
   ]
  },
  {
   "cell_type": "markdown",
   "id": "d9052dbd",
   "metadata": {},
   "source": [
    "#### Aufgabe c\n",
    "The R^2 and the histogram stayed the same."
   ]
  },
  {
   "cell_type": "markdown",
   "id": "e43dabac",
   "metadata": {},
   "source": [
    "# Simple linear regression (only one explanatory variable in the model)\n",
    "For details see: https://docs.scipy.org/doc/scipy/reference/generated/scipy.stats.linregress.html"
   ]
  },
  {
   "cell_type": "markdown",
   "id": "f2ba09cd",
   "metadata": {},
   "source": [
    "### Create train and test samples (train = 80%, test = 20% of the data)"
   ]
  },
  {
   "cell_type": "code",
   "execution_count": 8,
   "id": "ebba6b44",
   "metadata": {},
   "outputs": [
    {
     "name": "stdout",
     "output_type": "stream",
     "text": [
      "X_train:\n",
      "362     75\n",
      "369     90\n",
      "496    100\n",
      "349     94\n",
      "308     94\n",
      "Name: area, dtype: int64 \n",
      "\n",
      "y_train:\n",
      "362    1840\n",
      "369    1570\n",
      "496    1941\n",
      "349    2480\n",
      "308    2800\n",
      "Name: price, dtype: int64\n"
     ]
    }
   ],
   "source": [
    "# Egal welches Verfahren man verwenedet (Decision tree etc.) Man macht zuerst einmal ein train-sample\n",
    "# Create train and test samples\n",
    "# Wir erstellen ienmal ein Split 80:20 der data (die 20% sind dann unabhänging => ähnlich wie ein externer Datensatz)\n",
    "X_train, X_test, y_train, y_test = train_test_split(df['area'], \n",
    "                                                    df['price'], \n",
    "                                                    test_size=0.20, #man muss nicht unbedingt 80:20 (bei vielen Daten kann man auch mit viel weniger Daten samplen vlt 50:50 - leave-on-out wenn wenig Daten)\n",
    "                                                    random_state=42)\n",
    "# Show X_train\n",
    "# X ist normalerweise unsere Matrix darum gross\n",
    "print('X_train:')\n",
    "print(X_train.head(), '\\n')\n",
    "\n",
    "# Show y_train\n",
    "# y beschreibt die Notation, mathematische Schreibweise von Vektor\n",
    "print('y_train:')\n",
    "print(y_train.head())"
   ]
  },
  {
   "cell_type": "markdown",
   "id": "c3655a99",
   "metadata": {},
   "source": [
    "Ist er höher im Vergleich zu dem ursprünglichen Modell mit dem Preis als Zielvariable und der Fläche als erklärender Variable? Überprüfen Sie auch das Histogramm der Modellresiduen. Sind die Residuen normal verteilt? \n"
   ]
  },
  {
   "cell_type": "markdown",
   "id": "f32a7699",
   "metadata": {},
   "source": [
    "### Fit the simple linear regression model"
   ]
  },
  {
   "cell_type": "markdown",
   "id": "181ff53a",
   "metadata": {},
   "source": [
    "##### Intercepter\n",
    "<p>Intercepter ist der Schnittpunkt mit Y-Gerade (dort \"startet\" Gerade vom Scatterplot) => drückt aus, was der Preis wäre, wenn R = 0 wäre (wenn alle Variablen 0 wären). wenn man dies nicht machen würde und die Gerade durch den Nullpunkt zwingen würde, dann wäre der Graph nicht mehr so schön den Datensätzen angepasst (würde Steigung verfälschen). => mit Intercepter, kann man Gerade den Datenpunkten auslegen.<\\p>\n",
    "Slope = Steigung\n",
    "\n",
    "mit y = 1191 + (12.326*100) könnte man Vorhersagen berechnen.\n",
    "##### Error\n",
    "E für Erro (bezieht sich immer auf Grundgesamtheit), hier kann man aber sagen, es sind die Residuen. Der Error berücksichtigt den Abstand zu den einzelnen Datenpunkten noch. \n",
    "    \n",
    "Alpha + Beta*X (von hand berechnen - könnte an Prüfung kommen)\n",
    "\n",
    "    \n",
    "##### Was sagt Steigung genau aus?\n",
    "    Mit jeder Einheit mit der mein x steigt, steigt der Preis (y) um 12.326 (= marginal Effekt)"
   ]
  },
  {
   "cell_type": "code",
   "execution_count": 9,
   "id": "8b2fc4ac",
   "metadata": {},
   "outputs": [
    {
     "name": "stdout",
     "output_type": "stream",
     "text": [
      "Linear regression result:\n",
      "Intercept with y-axis (alpha):            1191.96\n",
      "Slope of regression line (beta):          12.326\n",
      "p-value:                                  0.0000\n",
      "R-squared (coefficient of determination): 0.2711\n"
     ]
    }
   ],
   "source": [
    "# Fit the regression model mit Linearer Einfach-Regression\n",
    "slope, intercept, r, p, std_err = stats.linregress(X_train, y_train)\n",
    "\n",
    "# Print results of the regression model (slope = Steigung der Regressionsgerade)\n",
    "print('Linear regression result:')\n",
    "print(f'Intercept with y-axis (alpha):            {intercept:.2f}') #Schnittpunkt mit y-Achse (braucht es)\n",
    "print(f'Slope of regression line (beta):          {slope:.3f}') #steigung\n",
    "print(f'p-value:                                  {p:.4f}')\n",
    "print(f'R-squared (coefficient of determination): {r**2:.4f}')"
   ]
  },
  {
   "cell_type": "markdown",
   "id": "473eaddb",
   "metadata": {},
   "source": [
    "### Plot regression line"
   ]
  },
  {
   "cell_type": "code",
   "execution_count": 10,
   "id": "944adc0b",
   "metadata": {},
   "outputs": [
    {
     "data": {
      "image/png": "[encoded data removed]",
      "text/plain": [
       "<Figure size 432x288 with 1 Axes>"
      ]
     },
     "metadata": {
      "needs_background": "light"
     },
     "output_type": "display_data"
    }
   ],
   "source": [
    "# Function to calculate model predictions\n",
    "def myfunc(x):\n",
    "    return slope * x + intercept\n",
    "\n",
    "# Apply myfunc() to x, i.e. make predictions \n",
    "mymodel = pd.Series(map(myfunc, X_train))\n",
    "\n",
    "# Scatterplot with regression line\n",
    "plt.figure(figsize=(6,4))\n",
    "plt.scatter(X_train, y_train, s=10, color='green')\n",
    "plt.plot(X_train, mymodel, color='darkred', linestyle='dashed')\n",
    "plt.title('Simple Linear Regression')\n",
    "plt.xlabel('area (m2)')\n",
    "plt.ylabel('price (CHF)')\n",
    "\n",
    "plt.show()"
   ]
  },
  {
   "cell_type": "markdown",
   "id": "4168bf46",
   "metadata": {},
   "source": [
    "### Check model residuals (residuals = predicted values minus observed values)"
   ]
  },
  {
   "cell_type": "code",
   "execution_count": 11,
   "id": "c706dc0f",
   "metadata": {},
   "outputs": [
    {
     "name": "stdout",
     "output_type": "stream",
     "text": [
      "1st Predicted price in dataset: 2116.38\n",
      "1st Observed price in dataset: 3180.00\n",
      "1st Residual price in dataset: -1063.62\n"
     ]
    }
   ],
   "source": [
    "# Calculate residuals (here: predicted prices minus observed prices)\n",
    "residuals = mymodel - y_train\n",
    "\n",
    "# Check the first residual value in our data set\n",
    "print(f'1st Predicted price in dataset: {mymodel[0]:.2f}')\n",
    "print(f'1st Observed price in dataset: {y_train[0]:.2f}')\n",
    "print(f'1st Residual price in dataset: {residuals[0]:.2f}')"
   ]
  },
  {
   "cell_type": "markdown",
   "id": "a61ae5ac",
   "metadata": {},
   "source": [
    "### Plot histogram of residuals"
   ]
  },
  {
   "cell_type": "code",
   "execution_count": 12,
   "id": "74906286",
   "metadata": {},
   "outputs": [
    {
     "name": "stdout",
     "output_type": "stream",
     "text": [
      "1st Predicted price in dataset: 2116.38\n",
      "1st Observed price in dataset: 3180.00\n",
      "1st Residual price in dataset: -1063.62\n"
     ]
    },
    {
     "data": {
      "image/png": "[encoded data removed]",
      "text/plain": [
       "<Figure size 576x288 with 1 Axes>"
      ]
     },
     "metadata": {
      "needs_background": "light"
     },
     "output_type": "display_data"
    }
   ],
   "source": [
    "# Calculate residuals (here: predicted prices minus observed prices)\n",
    "residuals = mymodel - y_train\n",
    "\n",
    "# Check the first residual value in our data set\n",
    "print(f'1st Predicted price in dataset: {mymodel[0]:.2f}')\n",
    "print(f'1st Observed price in dataset: {y_train[0]:.2f}')\n",
    "print(f'1st Residual price in dataset: {residuals[0]:.2f}')\n",
    "\n",
    "# Plot histogram of residuals\n",
    "fig = plt.figure( figsize=(8,4))\n",
    "n, bins, patches = plt.hist(x=residuals, \n",
    "                            bins=20, \n",
    "                            color='blue',\n",
    "                            alpha=0.5, \n",
    "                            rwidth=0.95\n",
    "                   )\n",
    "\n",
    "# Set title and labels\n",
    "plt.xlabel('residuals', fontsize=10, labelpad=10)\n",
    "plt.ylabel('frequency', fontsize=10, labelpad=10)\n",
    "plt.title('Histogram of model residuals', fontsize=12, pad=10)\n",
    "\n",
    "# Add text annotation\n",
    "plt.text(-3100, 70, s=\"Oh no, left skewed!!! Could be better :-) \", \n",
    "         fontsize=11, \n",
    "         color=\"black\")\n",
    "\n",
    "# Show plot (ein Residuenplot sollte eigentlich normalverteilt sein)\n",
    "plt.show()\n",
    "# Wie kann man das besser machen? 1. Komplexeres Modlel nehmen (für Variablen Transformation mit log) oder wir bauen wie in Ln [8] mehr Variablen ein"
   ]
  },
  {
   "cell_type": "markdown",
   "id": "b3108ba5",
   "metadata": {},
   "source": [
    "### Compare the predicted prices with the observed prices in our test sample"
   ]
  },
  {
   "cell_type": "code",
   "execution_count": 13,
   "id": "36cdf7b0",
   "metadata": {},
   "outputs": [
    {
     "name": "stdout",
     "output_type": "stream",
     "text": [
      "Predicted price: 1980.8, Observed price: 2370.0\n",
      "Predicted price: 2424.5, Observed price: 2300.0\n",
      "Predicted price: 2843.6, Observed price: 4290.0\n",
      "Predicted price: 2880.6, Observed price: 2480.0\n",
      "Predicted price: 2116.4, Observed price: 2032.0\n",
      "Predicted price: 2005.5, Observed price: 2090.0\n",
      "Predicted price: 2350.6, Observed price: 1790.0\n",
      "Predicted price: 2535.5, Observed price: 2280.0\n",
      "Predicted price: 2671.0, Observed price: 2350.0\n",
      "Predicted price: 2375.2, Observed price: 1600.0\n"
     ]
    }
   ],
   "source": [
    "# Create model predictions for test data\n",
    "predicted = myfunc(X_test)\n",
    "predicted.round(1)\n",
    "\n",
    "# Compare predicted with observed price based on first 10 test samples\n",
    "for i in range(0,10):\n",
    "    print(f'Predicted price: {predicted.iloc[i]:.1f}, Observed price: {y_test.iloc[i]:.1f}')"
   ]
  },
  {
   "cell_type": "markdown",
   "id": "0bf7656b",
   "metadata": {},
   "source": [
    "# Multiple linear regression (more than one explanatory variable in the model)\n",
    "For details see: https://www.statsmodels.org/dev/examples/notebooks/generated/predict.html"
   ]
  },
  {
   "cell_type": "markdown",
   "id": "9268293c",
   "metadata": {},
   "source": [
    "### Create train and test samples (train = 80%, test = 20% of the data)"
   ]
  },
  {
   "cell_type": "code",
   "execution_count": 34,
   "id": "26c6c61e",
   "metadata": {},
   "outputs": [
    {
     "name": "stdout",
     "output_type": "stream",
     "text": [
      "X2_train:\n",
      "     area     pop_dens   tax_income  dist_supermarket\n",
      "362    75  1662.597326  70118.99692        595.010106\n",
      "369    90  1662.597326  70118.99692        157.537439\n",
      "496   100  1327.635328  80595.52826        147.967057\n",
      "349    94  1662.597326  70118.99692         52.959836\n",
      "308    94  1662.597326  70118.99692         65.909235 \n",
      "\n",
      "y2_train:\n",
      "362    1840\n",
      "369    1570\n",
      "496    1941\n",
      "349    2480\n",
      "308    2800\n",
      "Name: price, dtype: int64\n"
     ]
    }
   ],
   "source": [
    "# Create train and test samples (we name it X2_ and y_2 because we already used X_ and y_ above)\n",
    "X2_train, X2_test, y2_train, y2_test = train_test_split(df[['area',\n",
    "                                                            'pop_dens','tax_income','dist_supermarket']], \n",
    "                                                        df['price'], \n",
    "                                                        test_size=0.20, \n",
    "                                                        random_state=42)\n",
    "\n",
    "# Show X2_train\n",
    "print('X2_train:')\n",
    "print(X2_train.head(), '\\n')\n",
    "\n",
    "# Show y2_train\n",
    "print('y2_train:')\n",
    "print(y2_train.head())"
   ]
  },
  {
   "cell_type": "markdown",
   "id": "493cef96",
   "metadata": {},
   "source": [
    "### Fit the multiple regression model (yes, the output is rich :-), but we need only part of it for interpretation!)"
   ]
  },
  {
   "cell_type": "code",
   "execution_count": 35,
   "id": "41939144",
   "metadata": {},
   "outputs": [
    {
     "name": "stdout",
     "output_type": "stream",
     "text": [
      "                            OLS Regression Results                            \n",
      "==============================================================================\n",
      "Dep. Variable:           price_per_m2   R-squared:                       0.517\n",
      "Model:                            OLS   Adj. R-squared:                  0.514\n",
      "Method:                 Least Squares   F-statistic:                     170.4\n",
      "Date:                Sat, 12 Nov 2022   Prob (F-statistic):           3.34e-99\n",
      "Time:                        18:12:09   Log-Likelihood:                -2310.6\n",
      "No. Observations:                 643   AIC:                             4631.\n",
      "Df Residuals:                     638   BIC:                             4653.\n",
      "Df Model:                           4                                         \n",
      "Covariance Type:            nonrobust                                         \n",
      "====================================================================================\n",
      "                       coef    std err          t      P>|t|      [0.025      0.975]\n",
      "------------------------------------------------------------------------------------\n",
      "const               29.2234      2.322     12.585      0.000      24.664      33.783\n",
      "area                -0.1886      0.012    -15.989      0.000      -0.212      -0.165\n",
      "pop_dens             0.0035      0.000     15.465      0.000       0.003       0.004\n",
      "tax_income           0.0001   2.58e-05      3.953      0.000    5.13e-05       0.000\n",
      "dist_supermarket  8.387e-05      0.001      0.105      0.916      -0.001       0.002\n",
      "==============================================================================\n",
      "Omnibus:                      391.705   Durbin-Watson:                   2.001\n",
      "Prob(Omnibus):                  0.000   Jarque-Bera (JB):             5696.786\n",
      "Skew:                           2.440   Prob(JB):                         0.00\n",
      "Kurtosis:                      16.741   Cond. No.                     5.40e+05\n",
      "==============================================================================\n",
      "\n",
      "Notes:\n",
      "[1] Standard Errors assume that the covariance matrix of the errors is correctly specified.\n",
      "[2] The condition number is large, 5.4e+05. This might indicate that there are\n",
      "strong multicollinearity or other numerical problems.\n"
     ]
    },
    {
     "data": {
      "text/plain": [
       "1947.0591000000002"
      ]
     },
     "execution_count": 35,
     "metadata": {},
     "output_type": "execute_result"
    }
   ],
   "source": [
    "# Add constant to the model\n",
    "X2_train_const = sm.add_constant(X2_train)\n",
    "\n",
    "# Create the multiple regression model\n",
    "olsmod = sm.OLS(y_train, X2_train_const)\n",
    "olsres = olsmod.fit()\n",
    "\n",
    "# Print full model output\n",
    "print(olsres.summary())\n",
    "\n",
    "# was wir brauchen sind die geschätzten coefficienten, der p-Wert und der R-squared (0.55) und Adj. R-squared (0.553)\n",
    "# const = intercepter  | area = steigungskoeffizient \"wenn Fläche um eine Eineheit steigt, steigt Preis um 15.0355\"\n",
    "# pop density von Zürich = 0.2381\n",
    "# 458 + (15.0333* 80(Fläche die wir predicten wollen.. vlt 120)) + (0.2381 * 4200(Bevölkungsdichte der G)) = Vorhersage für Wohnungspreis die in einer sehr dichten Bevölkerung liegt \n",
    "# df = Freiheitsgrade\n",
    "\n",
    "#Manuelles Berechnen von Zürich Wohnpreisen = 3262.7791\n",
    "(458.4991 + (15.0355*120) + (0.2381 * 4200))\n",
    "\n",
    "#Manuelles Berechnen von Ländlichen Wohnpreisen = 1947.0591000000002\n",
    "(458.4991 + (15.0355*80) + (0.2381 *1200)) "
   ]
  },
  {
   "cell_type": "markdown",
   "id": "ae3fa689",
   "metadata": {},
   "source": [
    "#### Aufgabe d\n",
    "The variables tax_income, const, area and pop_dens are statistically significant. The variable dist_supermarket is not in the 5% significance level and not statistically significant."
   ]
  },
  {
   "cell_type": "markdown",
   "id": "6bfc2964",
   "metadata": {},
   "source": [
    "### Interpretation of the relevant (in this course) statistics in the table above"
   ]
  },
  {
   "cell_type": "markdown",
   "id": "4e62547e",
   "metadata": {},
   "source": [
    "<b>R-squared:</b> This is the coefficient of determination (see slides of lessons). A value of 0.522 means, that the explanatory variables explain 52% of the variaton of our target variable (rental prices) - not bad, but could be improved.\n",
    "\n",
    "<b>coef:</b> These are the estimated coefficients of the explanatory variables ('slopes of the regression line' of each variable). These are nedded for the price predictions in our model.\n",
    "\n",
    "<b>P>|t|:</b> These are the p-values. If < 0.05, the explanatory variables shows a statistically siginificant (5% significance level) contribution in explaining the target variable. Except for the distiance to the nearest supermarkt, all variables are significant here."
   ]
  },
  {
   "cell_type": "markdown",
   "id": "1cb8a8c5",
   "metadata": {},
   "source": [
    "### Plot histogram of residuals"
   ]
  },
  {
   "cell_type": "markdown",
   "id": "dc6d0030",
   "metadata": {},
   "source": [
    "Adj. R-squared ==> generalisiert den Wert (Abschlag über R'2)\n",
    "F-Statistic ==> Gesamtstatistic\n",
    "AIC = Acaide information cirterium ==> WErt der Modelle sollte möglichst klein sein, wenn man MOdelle miteinander vergleicht\n",
    "Skew => bezieht sich auf Residuen\n",
    "\n",
    "std err => Standardfehler von Koeffizienten = wenn man unendlich lang Samples zieht, bekommt man unterschiedliche Schätzungen\n",
    "\n",
    "t Wert in t-Tabellen mit Freiheitsgeraden\n",
    "\n",
    "über den P-wert kann man den t-wert ableiten (hier hochsignifikant, weil 0)\n",
    "\n",
    "und Konfidenzintervall von [0.025 ; 0.975]"
   ]
  },
  {
   "cell_type": "code",
   "execution_count": 16,
   "id": "c28ffef9",
   "metadata": {},
   "outputs": [
    {
     "data": {
      "image/png": "[encoded data removed]",
      "text/plain": [
       "<Figure size 576x288 with 1 Axes>"
      ]
     },
     "metadata": {
      "needs_background": "light"
     },
     "output_type": "display_data"
    }
   ],
   "source": [
    "# Plot histogram of residuals\n",
    "fig = plt.figure( figsize=(8,4))\n",
    "n, bins, patches = plt.hist(x=olsres.resid, \n",
    "                            bins=20, \n",
    "                            color='blue',\n",
    "                            alpha=0.5,\n",
    "                            rwidth=0.95\n",
    "                   )\n",
    "\n",
    "# Set labels\n",
    "plt.xlabel('residuals', fontsize=10, labelpad=10)\n",
    "plt.ylabel('frequency', fontsize=10, labelpad=10)\n",
    "plt.title('Histogram of model residuals', fontsize=12, pad=10)\n",
    "\n",
    "# Add text annotation\n",
    "plt.text(-2000, 140, s=\"Much better with this model :-) \", fontsize=10, color=\"black\")\n",
    "\n",
    "plt.show()\n",
    "#wenn wir Residuen nicht transformieren, dann bleiben sie in der Einheit von Schweizer Franken\n",
    "# Wenn wir C-Variable transformieren, dann haben wir eine transformierte Einheit\n",
    "# sieht gut aus, keine systematische Abweichung (Unter- oder Überschätzung)"
   ]
  },
  {
   "cell_type": "markdown",
   "id": "5dd244d9",
   "metadata": {},
   "source": [
    "### Compare the predicted prices with the observed prices in the test sample"
   ]
  },
  {
   "cell_type": "code",
   "execution_count": 17,
   "id": "798fac9c",
   "metadata": {},
   "outputs": [
    {
     "name": "stdout",
     "output_type": "stream",
     "text": [
      "Predicted price: 2558.8, Observed price: 2370.0\n",
      "Predicted price: 2210.8, Observed price: 2300.0\n",
      "Predicted price: 3611.3, Observed price: 4290.0\n",
      "Predicted price: 2834.7, Observed price: 2480.0\n",
      "Predicted price: 1888.1, Observed price: 2032.0\n",
      "Predicted price: 1619.6, Observed price: 2090.0\n",
      "Predicted price: 1975.8, Observed price: 1790.0\n",
      "Predicted price: 2493.3, Observed price: 2280.0\n",
      "Predicted price: 2504.8, Observed price: 2350.0\n",
      "Predicted price: 2213.7, Observed price: 1600.0\n"
     ]
    }
   ],
   "source": [
    "# Add constant to X2_test\n",
    "X2_test_const = sm.add_constant(X2_test)\n",
    "predicted_new = olsres.predict(X2_test_const)\n",
    "\n",
    "# Compare predicted with observed price based on first 10 test samples\n",
    "for i in range(0,10):\n",
    "    print(f'Predicted price: {predicted_new.iloc[i]:.1f}, Observed price: {y_test.iloc[i]:.1f}')\n",
    "\n",
    "# keine systematische Über- oder Unterschätzung"
   ]
  }
 ],
 "metadata": {
  "kernelspec": {
   "display_name": "Python 3 (ipykernel)",
   "language": "python",
   "name": "python3"
  },
  "language_info": {
   "codemirror_mode": {
    "name": "ipython",
    "version": 3
   },
   "file_extension": ".py",
   "mimetype": "text/x-python",
   "name": "python",
   "nbconvert_exporter": "python",
   "pygments_lexer": "ipython3",
   "version": "3.9.7"
  }
 },
 "nbformat": 4,
 "nbformat_minor": 5
}
